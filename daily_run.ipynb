{
 "cells": [
  {
   "cell_type": "markdown",
   "metadata": {},
   "source": [
    "daily_run estimates strikes and number of contracts for a put selling strategy on equity indices such as S&P 500. \n",
    "\n",
    "Algorithm is drawn from  JUREK, J. W. and STAFFORD, E. (2015), The Cost of Capital for Alternative Investments. The Journal of Finance, 70: 2185-2226. doi:10.1111/jofi.12269- \n",
    "\n",
    "Requires an open session of either IB Gateway or TWS from Interactive Brokers"
   ]
  },
  {
   "cell_type": "code",
   "execution_count": 1,
   "metadata": {},
   "outputs": [
    {
     "data": {
      "text/plain": [
       "531500.0"
      ]
     },
     "execution_count": 1,
     "metadata": {},
     "output_type": "execute_result"
    }
   ],
   "source": [
    "from option_daily_prod import OptionMarket, SpxOptionAsset, RSL2OptionAsset\n",
    "from spx_data_update import UpdateSP500Data\n",
    "import numpy as np\n",
    "import pandas as pd\n",
    "import nest_asyncio\n",
    "from time import time\n",
    "import plistlib\n",
    "file_name = UpdateSP500Data.DATA_BASE_PATH / 'config.plist'\n",
    "f = open(str(file_name), 'rb')\n",
    "pl = plistlib.load(f)\n",
    "illiquid_dict = pl['illiquid_equity']\n",
    "illiquid_equity = sum(illiquid_dict.values()) * 0.5\n",
    "illiquid_equity"
   ]
  },
  {
   "cell_type": "code",
   "execution_count": 2,
   "metadata": {},
   "outputs": [
    {
     "name": "stdout",
     "output_type": "stream",
     "text": [
      "Warning: RSL2 Using Fixed Dividend yield\n"
     ]
    }
   ],
   "source": [
    "before = time()\n",
    "nest_asyncio.apply()\n",
    "\n",
    "spx_trades = OptionMarket(SpxOptionAsset())\n",
    "rsl_trades = OptionMarket(RSL2OptionAsset())"
   ]
  },
  {
   "cell_type": "code",
   "execution_count": 3,
   "metadata": {},
   "outputs": [
    {
     "name": "stdout",
     "output_type": "stream",
     "text": [
      "elapsed: 4.2\n",
      "elapsed: 17.2\n",
      "2777.59\n",
      "16.78\n",
      "[AccountValue(account='U2463043', tag='NetLiquidationByCurrency', value='2767160.0114', currency='BASE', modelCode='')]\n"
     ]
    }
   ],
   "source": [
    "z_score = np.array([-1, -1.5, -2])\n",
    "leverage = np.array(range(1, 4, 1))\n",
    "num_expiries = 3\n",
    "\n",
    "after = time()\n",
    "spx = True\n",
    "if spx:\n",
    "    trd_choice = spx_trades.form_trade_choice(z_score, num_expiries, 'P')\n",
    "else:\n",
    "    trd_choice = rsl_trades.form_trade_choice(z_score, num_expiries, 'P')\n",
    "    \n",
    "last_price = trd_choice.spot\n",
    "after_2 = time()\n",
    "print('elapsed:', np.round(after - before, 1))\n",
    "print('elapsed:', np.round(after_2 - before, 1))\n",
    "print(last_price)\n",
    "print(trd_choice.sigma)\n",
    "print(trd_choice.account_value)"
   ]
  },
  {
   "cell_type": "code",
   "execution_count": 4,
   "metadata": {},
   "outputs": [
    {
     "data": {
      "text/html": [
       "<style>\n",
       ".output {\n",
       "    flex-direction:row;\n",
       "}\n",
       "</style>"
      ],
      "text/plain": [
       "<IPython.core.display.HTML object>"
      ]
     },
     "execution_count": 4,
     "metadata": {},
     "output_type": "execute_result"
    }
   ],
   "source": [
    "from IPython.display import display, HTML\n",
    "\n",
    "CSS = \"\"\"\n",
    ".output {\n",
    "    flex-direction:row;\n",
    "}\n",
    "\"\"\"\n",
    "HTML('<style>{}</style>'.format(CSS))\n"
   ]
  },
  {
   "cell_type": "code",
   "execution_count": 5,
   "metadata": {},
   "outputs": [
    {
     "data": {
      "text/html": [
       "<div>\n",
       "<style scoped>\n",
       "    .dataframe tbody tr th:only-of-type {\n",
       "        vertical-align: middle;\n",
       "    }\n",
       "\n",
       "    .dataframe tbody tr th {\n",
       "        vertical-align: top;\n",
       "    }\n",
       "\n",
       "    .dataframe thead th {\n",
       "        text-align: right;\n",
       "    }\n",
       "</style>\n",
       "<table border=\"1\" class=\"dataframe\">\n",
       "  <thead>\n",
       "    <tr style=\"text-align: right;\">\n",
       "      <th></th>\n",
       "      <th>-1.0</th>\n",
       "      <th>-1.5</th>\n",
       "      <th>-2.0</th>\n",
       "    </tr>\n",
       "  </thead>\n",
       "  <tbody>\n",
       "    <tr>\n",
       "      <th>2018.12.21</th>\n",
       "      <td>2675</td>\n",
       "      <td>2615</td>\n",
       "      <td>2575</td>\n",
       "    </tr>\n",
       "    <tr>\n",
       "      <th>2019.01.18</th>\n",
       "      <td>2625</td>\n",
       "      <td>2540</td>\n",
       "      <td>2480</td>\n",
       "    </tr>\n",
       "    <tr>\n",
       "      <th>2019.02.15</th>\n",
       "      <td>2580</td>\n",
       "      <td>2465</td>\n",
       "      <td>2385</td>\n",
       "    </tr>\n",
       "  </tbody>\n",
       "</table>\n",
       "</div>"
      ],
      "text/plain": [
       "            -1.0  -1.5  -2.0\n",
       "2018.12.21  2675  2615  2575\n",
       "2019.01.18  2625  2540  2480\n",
       "2019.02.15  2580  2465  2385"
      ]
     },
     "metadata": {},
     "output_type": "display_data"
    },
    {
     "data": {
      "text/html": [
       "<div>\n",
       "<style scoped>\n",
       "    .dataframe tbody tr th:only-of-type {\n",
       "        vertical-align: middle;\n",
       "    }\n",
       "\n",
       "    .dataframe tbody tr th {\n",
       "        vertical-align: top;\n",
       "    }\n",
       "\n",
       "    .dataframe thead th {\n",
       "        text-align: right;\n",
       "    }\n",
       "</style>\n",
       "<table border=\"1\" class=\"dataframe\">\n",
       "  <thead>\n",
       "    <tr style=\"text-align: right;\">\n",
       "      <th></th>\n",
       "      <th>-1.0</th>\n",
       "      <th>-1.5</th>\n",
       "      <th>-2.0</th>\n",
       "    </tr>\n",
       "  </thead>\n",
       "  <tbody>\n",
       "    <tr>\n",
       "      <th>2018.12.21</th>\n",
       "      <td>11.65</td>\n",
       "      <td>6.05</td>\n",
       "      <td>4.10</td>\n",
       "    </tr>\n",
       "    <tr>\n",
       "      <th>2019.01.18</th>\n",
       "      <td>19.70</td>\n",
       "      <td>11.30</td>\n",
       "      <td>7.80</td>\n",
       "    </tr>\n",
       "    <tr>\n",
       "      <th>2019.02.15</th>\n",
       "      <td>27.15</td>\n",
       "      <td>15.40</td>\n",
       "      <td>10.45</td>\n",
       "    </tr>\n",
       "  </tbody>\n",
       "</table>\n",
       "</div>"
      ],
      "text/plain": [
       "             -1.0   -1.5   -2.0\n",
       "2018.12.21  11.65   6.05   4.10\n",
       "2019.01.18  19.70  11.30   7.80\n",
       "2019.02.15  27.15  15.40  10.45"
      ]
     },
     "metadata": {},
     "output_type": "display_data"
    },
    {
     "data": {
      "text/html": [
       "<div>\n",
       "<style scoped>\n",
       "    .dataframe tbody tr th:only-of-type {\n",
       "        vertical-align: middle;\n",
       "    }\n",
       "\n",
       "    .dataframe tbody tr th {\n",
       "        vertical-align: top;\n",
       "    }\n",
       "\n",
       "    .dataframe thead th {\n",
       "        text-align: right;\n",
       "    }\n",
       "</style>\n",
       "<table border=\"1\" class=\"dataframe\">\n",
       "  <thead>\n",
       "    <tr style=\"text-align: right;\">\n",
       "      <th></th>\n",
       "      <th>-1.0</th>\n",
       "      <th>-1.5</th>\n",
       "      <th>-2.0</th>\n",
       "    </tr>\n",
       "  </thead>\n",
       "  <tbody>\n",
       "    <tr>\n",
       "      <th>2018.12.21</th>\n",
       "      <td>11.5/11.8</td>\n",
       "      <td>5.9/6.2</td>\n",
       "      <td>3.9/4.1</td>\n",
       "    </tr>\n",
       "    <tr>\n",
       "      <th>2019.01.18</th>\n",
       "      <td>19.5/19.9</td>\n",
       "      <td>11.1/11.5</td>\n",
       "      <td>7.6/7.9</td>\n",
       "    </tr>\n",
       "    <tr>\n",
       "      <th>2019.02.15</th>\n",
       "      <td>26.9/27.4</td>\n",
       "      <td>15.2/15.6</td>\n",
       "      <td>10.3/10.6</td>\n",
       "    </tr>\n",
       "  </tbody>\n",
       "</table>\n",
       "</div>"
      ],
      "text/plain": [
       "                 -1.0       -1.5       -2.0\n",
       "2018.12.21  11.5/11.8    5.9/6.2    3.9/4.1\n",
       "2019.01.18  19.5/19.9  11.1/11.5    7.6/7.9\n",
       "2019.02.15  26.9/27.4  15.2/15.6  10.3/10.6"
      ]
     },
     "metadata": {},
     "output_type": "display_data"
    }
   ],
   "source": [
    "_=[display(df) for df in [trd_choice.strike_grid(), trd_choice.premium_grid(), trd_choice.prices_grid()]]"
   ]
  },
  {
   "cell_type": "code",
   "execution_count": 6,
   "metadata": {},
   "outputs": [
    {
     "data": {
      "text/html": [
       "<style  type=\"text/css\" >\n",
       "</style>  \n",
       "<table id=\"T_ebf34cca_f71d_11e8_a2d0_685b35921c60\" > \n",
       "<thead>    <tr> \n",
       "        <th class=\"blank level0\" ></th> \n",
       "        <th class=\"col_heading level0 col0\" >-1.0</th> \n",
       "        <th class=\"col_heading level0 col1\" >-1.5</th> \n",
       "        <th class=\"col_heading level0 col2\" >-2.0</th> \n",
       "    </tr></thead> \n",
       "<tbody>    <tr> \n",
       "        <th id=\"T_ebf34cca_f71d_11e8_a2d0_685b35921c60level0_row0\" class=\"row_heading level0 row0\" >2018.12.21</th> \n",
       "        <td id=\"T_ebf34cca_f71d_11e8_a2d0_685b35921c60row0_col0\" class=\"data row0 col0\" >-3.69%</td> \n",
       "        <td id=\"T_ebf34cca_f71d_11e8_a2d0_685b35921c60row0_col1\" class=\"data row0 col1\" >-5.85%</td> \n",
       "        <td id=\"T_ebf34cca_f71d_11e8_a2d0_685b35921c60row0_col2\" class=\"data row0 col2\" >-7.29%</td> \n",
       "    </tr>    <tr> \n",
       "        <th id=\"T_ebf34cca_f71d_11e8_a2d0_685b35921c60level0_row1\" class=\"row_heading level0 row1\" >2019.01.18</th> \n",
       "        <td id=\"T_ebf34cca_f71d_11e8_a2d0_685b35921c60row1_col0\" class=\"data row1 col0\" >-5.49%</td> \n",
       "        <td id=\"T_ebf34cca_f71d_11e8_a2d0_685b35921c60row1_col1\" class=\"data row1 col1\" >-8.55%</td> \n",
       "        <td id=\"T_ebf34cca_f71d_11e8_a2d0_685b35921c60row1_col2\" class=\"data row1 col2\" >-10.71%</td> \n",
       "    </tr>    <tr> \n",
       "        <th id=\"T_ebf34cca_f71d_11e8_a2d0_685b35921c60level0_row2\" class=\"row_heading level0 row2\" >2019.02.15</th> \n",
       "        <td id=\"T_ebf34cca_f71d_11e8_a2d0_685b35921c60row2_col0\" class=\"data row2 col0\" >-7.11%</td> \n",
       "        <td id=\"T_ebf34cca_f71d_11e8_a2d0_685b35921c60row2_col1\" class=\"data row2 col1\" >-11.25%</td> \n",
       "        <td id=\"T_ebf34cca_f71d_11e8_a2d0_685b35921c60row2_col2\" class=\"data row2 col2\" >-14.13%</td> \n",
       "    </tr></tbody> \n",
       "</table> "
      ],
      "text/plain": [
       "<pandas.io.formats.style.Styler at 0x1208bd550>"
      ]
     },
     "metadata": {},
     "output_type": "display_data"
    }
   ],
   "source": [
    "\n",
    "prct_decline = trd_choice.pct_otm_grid(last_price)\n",
    "format_dict = {x: '{:.2%}' for x in prct_decline.to_dict()}\n",
    "display(prct_decline.style.format(format_dict))"
   ]
  },
  {
   "cell_type": "code",
   "execution_count": 7,
   "metadata": {
    "scrolled": false
   },
   "outputs": [
    {
     "data": {
      "text/html": [
       "<style  type=\"text/css\" >\n",
       "</style>  \n",
       "<table id=\"T_ecafc012_f71d_11e8_a2d0_685b35921c60\" > \n",
       "<thead>    <tr> \n",
       "        <th class=\"blank level0\" ></th> \n",
       "        <th class=\"col_heading level0 col0\" >-1.0</th> \n",
       "        <th class=\"col_heading level0 col1\" >-1.5</th> \n",
       "        <th class=\"col_heading level0 col2\" >-2.0</th> \n",
       "    </tr></thead> \n",
       "<tbody>    <tr> \n",
       "        <th id=\"T_ecafc012_f71d_11e8_a2d0_685b35921c60level0_row0\" class=\"row_heading level0 row0\" >2018.12.21</th> \n",
       "        <td id=\"T_ecafc012_f71d_11e8_a2d0_685b35921c60row0_col0\" class=\"data row0 col0\" >$13,980</td> \n",
       "        <td id=\"T_ecafc012_f71d_11e8_a2d0_685b35921c60row0_col1\" class=\"data row0 col1\" >$7,865</td> \n",
       "        <td id=\"T_ecafc012_f71d_11e8_a2d0_685b35921c60row0_col2\" class=\"data row0 col2\" >$5,330</td> \n",
       "    </tr>    <tr> \n",
       "        <th id=\"T_ecafc012_f71d_11e8_a2d0_685b35921c60level0_row1\" class=\"row_heading level0 row1\" >2019.01.18</th> \n",
       "        <td id=\"T_ecafc012_f71d_11e8_a2d0_685b35921c60row1_col0\" class=\"data row1 col0\" >$25,610</td> \n",
       "        <td id=\"T_ecafc012_f71d_11e8_a2d0_685b35921c60row1_col1\" class=\"data row1 col1\" >$14,690</td> \n",
       "        <td id=\"T_ecafc012_f71d_11e8_a2d0_685b35921c60row1_col2\" class=\"data row1 col2\" >$10,140</td> \n",
       "    </tr>    <tr> \n",
       "        <th id=\"T_ecafc012_f71d_11e8_a2d0_685b35921c60level0_row2\" class=\"row_heading level0 row2\" >2019.02.15</th> \n",
       "        <td id=\"T_ecafc012_f71d_11e8_a2d0_685b35921c60row2_col0\" class=\"data row2 col0\" >$35,295</td> \n",
       "        <td id=\"T_ecafc012_f71d_11e8_a2d0_685b35921c60row2_col1\" class=\"data row2 col1\" >$21,560</td> \n",
       "        <td id=\"T_ecafc012_f71d_11e8_a2d0_685b35921c60row2_col2\" class=\"data row2 col2\" >$14,630</td> \n",
       "    </tr></tbody> \n",
       "</table> "
      ],
      "text/plain": [
       "<pandas.io.formats.style.Styler at 0xb241bfc88>"
      ]
     },
     "metadata": {},
     "output_type": "display_data"
    },
    {
     "data": {
      "text/html": [
       "<style  type=\"text/css\" >\n",
       "</style>  \n",
       "<table id=\"T_ecb03b5a_f71d_11e8_a2d0_685b35921c60\" > \n",
       "<thead>    <tr> \n",
       "        <th class=\"blank level0\" ></th> \n",
       "        <th class=\"col_heading level0 col0\" >-1.0</th> \n",
       "        <th class=\"col_heading level0 col1\" >-1.5</th> \n",
       "        <th class=\"col_heading level0 col2\" >-2.0</th> \n",
       "    </tr></thead> \n",
       "<tbody>    <tr> \n",
       "        <th id=\"T_ecb03b5a_f71d_11e8_a2d0_685b35921c60level0_row0\" class=\"row_heading level0 row0\" >2018.12.21</th> \n",
       "        <td id=\"T_ecb03b5a_f71d_11e8_a2d0_685b35921c60row0_col0\" class=\"data row0 col0\" >$29,125</td> \n",
       "        <td id=\"T_ecb03b5a_f71d_11e8_a2d0_685b35921c60row0_col1\" class=\"data row0 col1\" >$15,125</td> \n",
       "        <td id=\"T_ecb03b5a_f71d_11e8_a2d0_685b35921c60row0_col2\" class=\"data row0 col2\" >$10,660</td> \n",
       "    </tr>    <tr> \n",
       "        <th id=\"T_ecb03b5a_f71d_11e8_a2d0_685b35921c60level0_row1\" class=\"row_heading level0 row1\" >2019.01.18</th> \n",
       "        <td id=\"T_ecb03b5a_f71d_11e8_a2d0_685b35921c60row1_col0\" class=\"data row1 col0\" >$49,250</td> \n",
       "        <td id=\"T_ecb03b5a_f71d_11e8_a2d0_685b35921c60row1_col1\" class=\"data row1 col1\" >$29,380</td> \n",
       "        <td id=\"T_ecb03b5a_f71d_11e8_a2d0_685b35921c60row1_col2\" class=\"data row1 col2\" >$21,060</td> \n",
       "    </tr>    <tr> \n",
       "        <th id=\"T_ecb03b5a_f71d_11e8_a2d0_685b35921c60level0_row2\" class=\"row_heading level0 row2\" >2019.02.15</th> \n",
       "        <td id=\"T_ecb03b5a_f71d_11e8_a2d0_685b35921c60row2_col0\" class=\"data row2 col0\" >$70,590</td> \n",
       "        <td id=\"T_ecb03b5a_f71d_11e8_a2d0_685b35921c60row2_col1\" class=\"data row2 col1\" >$41,580</td> \n",
       "        <td id=\"T_ecb03b5a_f71d_11e8_a2d0_685b35921c60row2_col2\" class=\"data row2 col2\" >$29,260</td> \n",
       "    </tr></tbody> \n",
       "</table> "
      ],
      "text/plain": [
       "<pandas.io.formats.style.Styler at 0xb241bf940>"
      ]
     },
     "metadata": {},
     "output_type": "display_data"
    },
    {
     "data": {
      "text/html": [
       "<style  type=\"text/css\" >\n",
       "</style>  \n",
       "<table id=\"T_ecb0a48c_f71d_11e8_a2d0_685b35921c60\" > \n",
       "<thead>    <tr> \n",
       "        <th class=\"blank level0\" ></th> \n",
       "        <th class=\"col_heading level0 col0\" >-1.0</th> \n",
       "        <th class=\"col_heading level0 col1\" >-1.5</th> \n",
       "        <th class=\"col_heading level0 col2\" >-2.0</th> \n",
       "    </tr></thead> \n",
       "<tbody>    <tr> \n",
       "        <th id=\"T_ecb0a48c_f71d_11e8_a2d0_685b35921c60level0_row0\" class=\"row_heading level0 row0\" >2018.12.21</th> \n",
       "        <td id=\"T_ecb0a48c_f71d_11e8_a2d0_685b35921c60row0_col0\" class=\"data row0 col0\" >$43,105</td> \n",
       "        <td id=\"T_ecb0a48c_f71d_11e8_a2d0_685b35921c60row0_col1\" class=\"data row0 col1\" >$22,990</td> \n",
       "        <td id=\"T_ecb0a48c_f71d_11e8_a2d0_685b35921c60row0_col2\" class=\"data row0 col2\" >$15,990</td> \n",
       "    </tr>    <tr> \n",
       "        <th id=\"T_ecb0a48c_f71d_11e8_a2d0_685b35921c60level0_row1\" class=\"row_heading level0 row1\" >2019.01.18</th> \n",
       "        <td id=\"T_ecb0a48c_f71d_11e8_a2d0_685b35921c60row1_col0\" class=\"data row1 col0\" >$74,860</td> \n",
       "        <td id=\"T_ecb0a48c_f71d_11e8_a2d0_685b35921c60row1_col1\" class=\"data row1 col1\" >$44,070</td> \n",
       "        <td id=\"T_ecb0a48c_f71d_11e8_a2d0_685b35921c60row1_col2\" class=\"data row1 col2\" >$31,200</td> \n",
       "    </tr>    <tr> \n",
       "        <th id=\"T_ecb0a48c_f71d_11e8_a2d0_685b35921c60level0_row2\" class=\"row_heading level0 row2\" >2019.02.15</th> \n",
       "        <td id=\"T_ecb0a48c_f71d_11e8_a2d0_685b35921c60row2_col0\" class=\"data row2 col0\" >$105,885</td> \n",
       "        <td id=\"T_ecb0a48c_f71d_11e8_a2d0_685b35921c60row2_col1\" class=\"data row2 col1\" >$63,140</td> \n",
       "        <td id=\"T_ecb0a48c_f71d_11e8_a2d0_685b35921c60row2_col2\" class=\"data row2 col2\" >$43,890</td> \n",
       "    </tr></tbody> \n",
       "</table> "
      ],
      "text/plain": [
       "<pandas.io.formats.style.Styler at 0xb241bfda0>"
      ]
     },
     "metadata": {},
     "output_type": "display_data"
    }
   ],
   "source": [
    "capital_at_risk = float(trd_choice.account_value[0].value) + illiquid_equity\n",
    "premium_list = []\n",
    "premium_list =  [(trd_choice.premium_grid() * contractTable.round() * 100) \\\n",
    "                 for contractTable in trd_choice.option_lots(leverage, capital_at_risk)]\n",
    "\n",
    "_ = [display(df.style.format('${:,.0f}')) for df in premium_list]  "
   ]
  },
  {
   "cell_type": "code",
   "execution_count": 8,
   "metadata": {},
   "outputs": [
    {
     "data": {
      "text/html": [
       "<style  type=\"text/css\" >\n",
       "</style>  \n",
       "<table id=\"T_edfc4e22_f71d_11e8_a2d0_685b35921c60\" > \n",
       "<thead>    <tr> \n",
       "        <th class=\"blank level0\" ></th> \n",
       "        <th class=\"col_heading level0 col0\" >-1.0</th> \n",
       "        <th class=\"col_heading level0 col1\" >-1.5</th> \n",
       "        <th class=\"col_heading level0 col2\" >-2.0</th> \n",
       "    </tr></thead> \n",
       "<tbody>    <tr> \n",
       "        <th id=\"T_edfc4e22_f71d_11e8_a2d0_685b35921c60level0_row0\" class=\"row_heading level0 row0\" >2018.12.21</th> \n",
       "        <td id=\"T_edfc4e22_f71d_11e8_a2d0_685b35921c60row0_col0\" class=\"data row0 col0\" >0.42%</td> \n",
       "        <td id=\"T_edfc4e22_f71d_11e8_a2d0_685b35921c60row0_col1\" class=\"data row0 col1\" >0.22%</td> \n",
       "        <td id=\"T_edfc4e22_f71d_11e8_a2d0_685b35921c60row0_col2\" class=\"data row0 col2\" >0.15%</td> \n",
       "    </tr>    <tr> \n",
       "        <th id=\"T_edfc4e22_f71d_11e8_a2d0_685b35921c60level0_row1\" class=\"row_heading level0 row1\" >2019.01.18</th> \n",
       "        <td id=\"T_edfc4e22_f71d_11e8_a2d0_685b35921c60row1_col0\" class=\"data row1 col0\" >0.71%</td> \n",
       "        <td id=\"T_edfc4e22_f71d_11e8_a2d0_685b35921c60row1_col1\" class=\"data row1 col1\" >0.41%</td> \n",
       "        <td id=\"T_edfc4e22_f71d_11e8_a2d0_685b35921c60row1_col2\" class=\"data row1 col2\" >0.28%</td> \n",
       "    </tr>    <tr> \n",
       "        <th id=\"T_edfc4e22_f71d_11e8_a2d0_685b35921c60level0_row2\" class=\"row_heading level0 row2\" >2019.02.15</th> \n",
       "        <td id=\"T_edfc4e22_f71d_11e8_a2d0_685b35921c60row2_col0\" class=\"data row2 col0\" >0.98%</td> \n",
       "        <td id=\"T_edfc4e22_f71d_11e8_a2d0_685b35921c60row2_col1\" class=\"data row2 col1\" >0.55%</td> \n",
       "        <td id=\"T_edfc4e22_f71d_11e8_a2d0_685b35921c60row2_col2\" class=\"data row2 col2\" >0.38%</td> \n",
       "    </tr></tbody> \n",
       "</table> "
      ],
      "text/plain": [
       "<pandas.io.formats.style.Styler at 0x10dd53160>"
      ]
     },
     "metadata": {},
     "output_type": "display_data"
    },
    {
     "data": {
      "text/html": [
       "<style  type=\"text/css\" >\n",
       "</style>  \n",
       "<table id=\"T_edfccbea_f71d_11e8_a2d0_685b35921c60\" > \n",
       "<thead>    <tr> \n",
       "        <th class=\"blank level0\" ></th> \n",
       "        <th class=\"col_heading level0 col0\" >-1.0</th> \n",
       "        <th class=\"col_heading level0 col1\" >-1.5</th> \n",
       "        <th class=\"col_heading level0 col2\" >-2.0</th> \n",
       "    </tr></thead> \n",
       "<tbody>    <tr> \n",
       "        <th id=\"T_edfccbea_f71d_11e8_a2d0_685b35921c60level0_row0\" class=\"row_heading level0 row0\" >2018.12.21</th> \n",
       "        <td id=\"T_edfccbea_f71d_11e8_a2d0_685b35921c60row0_col0\" class=\"data row0 col0\" >0.84%</td> \n",
       "        <td id=\"T_edfccbea_f71d_11e8_a2d0_685b35921c60row0_col1\" class=\"data row0 col1\" >0.44%</td> \n",
       "        <td id=\"T_edfccbea_f71d_11e8_a2d0_685b35921c60row0_col2\" class=\"data row0 col2\" >0.30%</td> \n",
       "    </tr>    <tr> \n",
       "        <th id=\"T_edfccbea_f71d_11e8_a2d0_685b35921c60level0_row1\" class=\"row_heading level0 row1\" >2019.01.18</th> \n",
       "        <td id=\"T_edfccbea_f71d_11e8_a2d0_685b35921c60row1_col0\" class=\"data row1 col0\" >1.42%</td> \n",
       "        <td id=\"T_edfccbea_f71d_11e8_a2d0_685b35921c60row1_col1\" class=\"data row1 col1\" >0.81%</td> \n",
       "        <td id=\"T_edfccbea_f71d_11e8_a2d0_685b35921c60row1_col2\" class=\"data row1 col2\" >0.56%</td> \n",
       "    </tr>    <tr> \n",
       "        <th id=\"T_edfccbea_f71d_11e8_a2d0_685b35921c60level0_row2\" class=\"row_heading level0 row2\" >2019.02.15</th> \n",
       "        <td id=\"T_edfccbea_f71d_11e8_a2d0_685b35921c60row2_col0\" class=\"data row2 col0\" >1.95%</td> \n",
       "        <td id=\"T_edfccbea_f71d_11e8_a2d0_685b35921c60row2_col1\" class=\"data row2 col1\" >1.11%</td> \n",
       "        <td id=\"T_edfccbea_f71d_11e8_a2d0_685b35921c60row2_col2\" class=\"data row2 col2\" >0.75%</td> \n",
       "    </tr></tbody> \n",
       "</table> "
      ],
      "text/plain": [
       "<pandas.io.formats.style.Styler at 0xb241bfb00>"
      ]
     },
     "metadata": {},
     "output_type": "display_data"
    },
    {
     "data": {
      "text/html": [
       "<style  type=\"text/css\" >\n",
       "</style>  \n",
       "<table id=\"T_edfd3ec2_f71d_11e8_a2d0_685b35921c60\" > \n",
       "<thead>    <tr> \n",
       "        <th class=\"blank level0\" ></th> \n",
       "        <th class=\"col_heading level0 col0\" >-1.0</th> \n",
       "        <th class=\"col_heading level0 col1\" >-1.5</th> \n",
       "        <th class=\"col_heading level0 col2\" >-2.0</th> \n",
       "    </tr></thead> \n",
       "<tbody>    <tr> \n",
       "        <th id=\"T_edfd3ec2_f71d_11e8_a2d0_685b35921c60level0_row0\" class=\"row_heading level0 row0\" >2018.12.21</th> \n",
       "        <td id=\"T_edfd3ec2_f71d_11e8_a2d0_685b35921c60row0_col0\" class=\"data row0 col0\" >1.26%</td> \n",
       "        <td id=\"T_edfd3ec2_f71d_11e8_a2d0_685b35921c60row0_col1\" class=\"data row0 col1\" >0.65%</td> \n",
       "        <td id=\"T_edfd3ec2_f71d_11e8_a2d0_685b35921c60row0_col2\" class=\"data row0 col2\" >0.44%</td> \n",
       "    </tr>    <tr> \n",
       "        <th id=\"T_edfd3ec2_f71d_11e8_a2d0_685b35921c60level0_row1\" class=\"row_heading level0 row1\" >2019.01.18</th> \n",
       "        <td id=\"T_edfd3ec2_f71d_11e8_a2d0_685b35921c60row1_col0\" class=\"data row1 col0\" >2.13%</td> \n",
       "        <td id=\"T_edfd3ec2_f71d_11e8_a2d0_685b35921c60row1_col1\" class=\"data row1 col1\" >1.22%</td> \n",
       "        <td id=\"T_edfd3ec2_f71d_11e8_a2d0_685b35921c60row1_col2\" class=\"data row1 col2\" >0.84%</td> \n",
       "    </tr>    <tr> \n",
       "        <th id=\"T_edfd3ec2_f71d_11e8_a2d0_685b35921c60level0_row2\" class=\"row_heading level0 row2\" >2019.02.15</th> \n",
       "        <td id=\"T_edfd3ec2_f71d_11e8_a2d0_685b35921c60row2_col0\" class=\"data row2 col0\" >2.93%</td> \n",
       "        <td id=\"T_edfd3ec2_f71d_11e8_a2d0_685b35921c60row2_col1\" class=\"data row2 col1\" >1.66%</td> \n",
       "        <td id=\"T_edfd3ec2_f71d_11e8_a2d0_685b35921c60row2_col2\" class=\"data row2 col2\" >1.13%</td> \n",
       "    </tr></tbody> \n",
       "</table> "
      ],
      "text/plain": [
       "<pandas.io.formats.style.Styler at 0xb241bfe80>"
      ]
     },
     "metadata": {},
     "output_type": "display_data"
    }
   ],
   "source": [
    "premium_list_pct = []\n",
    "premium_list_pct = [(trd_choice.premium_grid() * lev) / last_price for lev in leverage]\n",
    "_ = [display(df.style.format('{:.2%}')) for df in premium_list_pct]  "
   ]
  },
  {
   "cell_type": "code",
   "execution_count": 9,
   "metadata": {},
   "outputs": [
    {
     "data": {
      "text/html": [
       "<style  type=\"text/css\" >\n",
       "</style>  \n",
       "<table id=\"T_ee6f6600_f71d_11e8_a2d0_685b35921c60\" > \n",
       "<thead>    <tr> \n",
       "        <th class=\"blank level0\" ></th> \n",
       "        <th class=\"col_heading level0 col0\" >-1.0</th> \n",
       "        <th class=\"col_heading level0 col1\" >-1.5</th> \n",
       "        <th class=\"col_heading level0 col2\" >-2.0</th> \n",
       "    </tr>    <tr> \n",
       "        <th class=\"index_name level0\" >Lev 1</th> \n",
       "        <th class=\"blank\" ></th> \n",
       "        <th class=\"blank\" ></th> \n",
       "        <th class=\"blank\" ></th> \n",
       "    </tr></thead> \n",
       "<tbody>    <tr> \n",
       "        <th id=\"T_ee6f6600_f71d_11e8_a2d0_685b35921c60level0_row0\" class=\"row_heading level0 row0\" >2018.12.21</th> \n",
       "        <td id=\"T_ee6f6600_f71d_11e8_a2d0_685b35921c60row0_col0\" class=\"data row0 col0\" >12</td> \n",
       "        <td id=\"T_ee6f6600_f71d_11e8_a2d0_685b35921c60row0_col1\" class=\"data row0 col1\" >13</td> \n",
       "        <td id=\"T_ee6f6600_f71d_11e8_a2d0_685b35921c60row0_col2\" class=\"data row0 col2\" >13</td> \n",
       "    </tr>    <tr> \n",
       "        <th id=\"T_ee6f6600_f71d_11e8_a2d0_685b35921c60level0_row1\" class=\"row_heading level0 row1\" >2019.01.18</th> \n",
       "        <td id=\"T_ee6f6600_f71d_11e8_a2d0_685b35921c60row1_col0\" class=\"data row1 col0\" >13</td> \n",
       "        <td id=\"T_ee6f6600_f71d_11e8_a2d0_685b35921c60row1_col1\" class=\"data row1 col1\" >13</td> \n",
       "        <td id=\"T_ee6f6600_f71d_11e8_a2d0_685b35921c60row1_col2\" class=\"data row1 col2\" >13</td> \n",
       "    </tr>    <tr> \n",
       "        <th id=\"T_ee6f6600_f71d_11e8_a2d0_685b35921c60level0_row2\" class=\"row_heading level0 row2\" >2019.02.15</th> \n",
       "        <td id=\"T_ee6f6600_f71d_11e8_a2d0_685b35921c60row2_col0\" class=\"data row2 col0\" >13</td> \n",
       "        <td id=\"T_ee6f6600_f71d_11e8_a2d0_685b35921c60row2_col1\" class=\"data row2 col1\" >14</td> \n",
       "        <td id=\"T_ee6f6600_f71d_11e8_a2d0_685b35921c60row2_col2\" class=\"data row2 col2\" >14</td> \n",
       "    </tr></tbody> \n",
       "</table> "
      ],
      "text/plain": [
       "<pandas.io.formats.style.Styler at 0x10dd53240>"
      ]
     },
     "metadata": {},
     "output_type": "display_data"
    },
    {
     "data": {
      "text/html": [
       "<style  type=\"text/css\" >\n",
       "</style>  \n",
       "<table id=\"T_ee71375a_f71d_11e8_a2d0_685b35921c60\" > \n",
       "<thead>    <tr> \n",
       "        <th class=\"blank level0\" ></th> \n",
       "        <th class=\"col_heading level0 col0\" >-1.0</th> \n",
       "        <th class=\"col_heading level0 col1\" >-1.5</th> \n",
       "        <th class=\"col_heading level0 col2\" >-2.0</th> \n",
       "    </tr>    <tr> \n",
       "        <th class=\"index_name level0\" >Lev 2</th> \n",
       "        <th class=\"blank\" ></th> \n",
       "        <th class=\"blank\" ></th> \n",
       "        <th class=\"blank\" ></th> \n",
       "    </tr></thead> \n",
       "<tbody>    <tr> \n",
       "        <th id=\"T_ee71375a_f71d_11e8_a2d0_685b35921c60level0_row0\" class=\"row_heading level0 row0\" >2018.12.21</th> \n",
       "        <td id=\"T_ee71375a_f71d_11e8_a2d0_685b35921c60row0_col0\" class=\"data row0 col0\" >25</td> \n",
       "        <td id=\"T_ee71375a_f71d_11e8_a2d0_685b35921c60row0_col1\" class=\"data row0 col1\" >25</td> \n",
       "        <td id=\"T_ee71375a_f71d_11e8_a2d0_685b35921c60row0_col2\" class=\"data row0 col2\" >26</td> \n",
       "    </tr>    <tr> \n",
       "        <th id=\"T_ee71375a_f71d_11e8_a2d0_685b35921c60level0_row1\" class=\"row_heading level0 row1\" >2019.01.18</th> \n",
       "        <td id=\"T_ee71375a_f71d_11e8_a2d0_685b35921c60row1_col0\" class=\"data row1 col0\" >25</td> \n",
       "        <td id=\"T_ee71375a_f71d_11e8_a2d0_685b35921c60row1_col1\" class=\"data row1 col1\" >26</td> \n",
       "        <td id=\"T_ee71375a_f71d_11e8_a2d0_685b35921c60row1_col2\" class=\"data row1 col2\" >27</td> \n",
       "    </tr>    <tr> \n",
       "        <th id=\"T_ee71375a_f71d_11e8_a2d0_685b35921c60level0_row2\" class=\"row_heading level0 row2\" >2019.02.15</th> \n",
       "        <td id=\"T_ee71375a_f71d_11e8_a2d0_685b35921c60row2_col0\" class=\"data row2 col0\" >26</td> \n",
       "        <td id=\"T_ee71375a_f71d_11e8_a2d0_685b35921c60row2_col1\" class=\"data row2 col1\" >27</td> \n",
       "        <td id=\"T_ee71375a_f71d_11e8_a2d0_685b35921c60row2_col2\" class=\"data row2 col2\" >28</td> \n",
       "    </tr></tbody> \n",
       "</table> "
      ],
      "text/plain": [
       "<pandas.io.formats.style.Styler at 0x10dd53208>"
      ]
     },
     "metadata": {},
     "output_type": "display_data"
    },
    {
     "data": {
      "text/html": [
       "<style  type=\"text/css\" >\n",
       "</style>  \n",
       "<table id=\"T_ee71b7d4_f71d_11e8_a2d0_685b35921c60\" > \n",
       "<thead>    <tr> \n",
       "        <th class=\"blank level0\" ></th> \n",
       "        <th class=\"col_heading level0 col0\" >-1.0</th> \n",
       "        <th class=\"col_heading level0 col1\" >-1.5</th> \n",
       "        <th class=\"col_heading level0 col2\" >-2.0</th> \n",
       "    </tr>    <tr> \n",
       "        <th class=\"index_name level0\" >Lev 3</th> \n",
       "        <th class=\"blank\" ></th> \n",
       "        <th class=\"blank\" ></th> \n",
       "        <th class=\"blank\" ></th> \n",
       "    </tr></thead> \n",
       "<tbody>    <tr> \n",
       "        <th id=\"T_ee71b7d4_f71d_11e8_a2d0_685b35921c60level0_row0\" class=\"row_heading level0 row0\" >2018.12.21</th> \n",
       "        <td id=\"T_ee71b7d4_f71d_11e8_a2d0_685b35921c60row0_col0\" class=\"data row0 col0\" >37</td> \n",
       "        <td id=\"T_ee71b7d4_f71d_11e8_a2d0_685b35921c60row0_col1\" class=\"data row0 col1\" >38</td> \n",
       "        <td id=\"T_ee71b7d4_f71d_11e8_a2d0_685b35921c60row0_col2\" class=\"data row0 col2\" >39</td> \n",
       "    </tr>    <tr> \n",
       "        <th id=\"T_ee71b7d4_f71d_11e8_a2d0_685b35921c60level0_row1\" class=\"row_heading level0 row1\" >2019.01.18</th> \n",
       "        <td id=\"T_ee71b7d4_f71d_11e8_a2d0_685b35921c60row1_col0\" class=\"data row1 col0\" >38</td> \n",
       "        <td id=\"T_ee71b7d4_f71d_11e8_a2d0_685b35921c60row1_col1\" class=\"data row1 col1\" >39</td> \n",
       "        <td id=\"T_ee71b7d4_f71d_11e8_a2d0_685b35921c60row1_col2\" class=\"data row1 col2\" >40</td> \n",
       "    </tr>    <tr> \n",
       "        <th id=\"T_ee71b7d4_f71d_11e8_a2d0_685b35921c60level0_row2\" class=\"row_heading level0 row2\" >2019.02.15</th> \n",
       "        <td id=\"T_ee71b7d4_f71d_11e8_a2d0_685b35921c60row2_col0\" class=\"data row2 col0\" >39</td> \n",
       "        <td id=\"T_ee71b7d4_f71d_11e8_a2d0_685b35921c60row2_col1\" class=\"data row2 col1\" >41</td> \n",
       "        <td id=\"T_ee71b7d4_f71d_11e8_a2d0_685b35921c60row2_col2\" class=\"data row2 col2\" >42</td> \n",
       "    </tr></tbody> \n",
       "</table> "
      ],
      "text/plain": [
       "<pandas.io.formats.style.Styler at 0xb241bfda0>"
      ]
     },
     "metadata": {},
     "output_type": "display_data"
    }
   ],
   "source": [
    "\n",
    "_ = [display(contractTable.round().style.format('{:.0f}')) for \\\n",
    "     contractTable in trd_choice.option_lots(leverage, capital_at_risk)]\n",
    "    "
   ]
  },
  {
   "cell_type": "code",
   "execution_count": 10,
   "metadata": {},
   "outputs": [
    {
     "data": {
      "text/html": [
       "<style  type=\"text/css\" >\n",
       "</style>  \n",
       "<table id=\"T_eec4b074_f71d_11e8_a2d0_685b35921c60\" > \n",
       "<thead>    <tr> \n",
       "        <th class=\"blank level0\" ></th> \n",
       "        <th class=\"col_heading level0 col0\" >-1.0</th> \n",
       "        <th class=\"col_heading level0 col1\" >-1.5</th> \n",
       "        <th class=\"col_heading level0 col2\" >-2.0</th> \n",
       "    </tr></thead> \n",
       "<tbody>    <tr> \n",
       "        <th id=\"T_eec4b074_f71d_11e8_a2d0_685b35921c60level0_row0\" class=\"row_heading level0 row0\" >2018.12.21</th> \n",
       "        <td id=\"T_eec4b074_f71d_11e8_a2d0_685b35921c60row0_col0\" class=\"data row0 col0\" >$557,494</td> \n",
       "        <td id=\"T_eec4b074_f71d_11e8_a2d0_685b35921c60row0_col1\" class=\"data row0 col1\" >$518,671</td> \n",
       "        <td id=\"T_eec4b074_f71d_11e8_a2d0_685b35921c60row0_col2\" class=\"data row0 col2\" >$464,136</td> \n",
       "    </tr>    <tr> \n",
       "        <th id=\"T_eec4b074_f71d_11e8_a2d0_685b35921c60level0_row1\" class=\"row_heading level0 row1\" >2019.01.18</th> \n",
       "        <td id=\"T_eec4b074_f71d_11e8_a2d0_685b35921c60row1_col0\" class=\"data row1 col0\" >$549,416</td> \n",
       "        <td id=\"T_eec4b074_f71d_11e8_a2d0_685b35921c60row1_col1\" class=\"data row1 col1\" >$427,996</td> \n",
       "        <td id=\"T_eec4b074_f71d_11e8_a2d0_685b35921c60row1_col2\" class=\"data row1 col2\" >$345,446</td> \n",
       "    </tr>    <tr> \n",
       "        <th id=\"T_eec4b074_f71d_11e8_a2d0_685b35921c60level0_row2\" class=\"row_heading level0 row2\" >2019.02.15</th> \n",
       "        <td id=\"T_eec4b074_f71d_11e8_a2d0_685b35921c60row2_col0\" class=\"data row2 col0\" >$500,601</td> \n",
       "        <td id=\"T_eec4b074_f71d_11e8_a2d0_685b35921c60row2_col1\" class=\"data row2 col1\" >$366,660</td> \n",
       "        <td id=\"T_eec4b074_f71d_11e8_a2d0_685b35921c60row2_col2\" class=\"data row2 col2\" >$348,530</td> \n",
       "    </tr></tbody> \n",
       "</table> "
      ],
      "text/plain": [
       "<pandas.io.formats.style.Styler at 0x10dd53160>"
      ]
     },
     "metadata": {},
     "output_type": "display_data"
    },
    {
     "data": {
      "text/html": [
       "<style  type=\"text/css\" >\n",
       "</style>  \n",
       "<table id=\"T_eec525ae_f71d_11e8_a2d0_685b35921c60\" > \n",
       "<thead>    <tr> \n",
       "        <th class=\"blank level0\" ></th> \n",
       "        <th class=\"col_heading level0 col0\" >-1.0</th> \n",
       "        <th class=\"col_heading level0 col1\" >-1.5</th> \n",
       "        <th class=\"col_heading level0 col2\" >-2.0</th> \n",
       "    </tr></thead> \n",
       "<tbody>    <tr> \n",
       "        <th id=\"T_eec525ae_f71d_11e8_a2d0_685b35921c60level0_row0\" class=\"row_heading level0 row0\" >2018.12.21</th> \n",
       "        <td id=\"T_eec525ae_f71d_11e8_a2d0_685b35921c60row0_col0\" class=\"data row0 col0\" >$1,161,445</td> \n",
       "        <td id=\"T_eec525ae_f71d_11e8_a2d0_685b35921c60row0_col1\" class=\"data row0 col1\" >$997,445</td> \n",
       "        <td id=\"T_eec525ae_f71d_11e8_a2d0_685b35921c60row0_col2\" class=\"data row0 col2\" >$928,273</td> \n",
       "    </tr>    <tr> \n",
       "        <th id=\"T_eec525ae_f71d_11e8_a2d0_685b35921c60level0_row1\" class=\"row_heading level0 row1\" >2019.01.18</th> \n",
       "        <td id=\"T_eec525ae_f71d_11e8_a2d0_685b35921c60row1_col0\" class=\"data row1 col0\" >$1,056,570</td> \n",
       "        <td id=\"T_eec525ae_f71d_11e8_a2d0_685b35921c60row1_col1\" class=\"data row1 col1\" >$855,993</td> \n",
       "        <td id=\"T_eec525ae_f71d_11e8_a2d0_685b35921c60row1_col2\" class=\"data row1 col2\" >$717,466</td> \n",
       "    </tr>    <tr> \n",
       "        <th id=\"T_eec525ae_f71d_11e8_a2d0_685b35921c60level0_row2\" class=\"row_heading level0 row2\" >2019.02.15</th> \n",
       "        <td id=\"T_eec525ae_f71d_11e8_a2d0_685b35921c60row2_col0\" class=\"data row2 col0\" >$1,001,203</td> \n",
       "        <td id=\"T_eec525ae_f71d_11e8_a2d0_685b35921c60row2_col1\" class=\"data row2 col1\" >$707,130</td> \n",
       "        <td id=\"T_eec525ae_f71d_11e8_a2d0_685b35921c60row2_col2\" class=\"data row2 col2\" >$697,060</td> \n",
       "    </tr></tbody> \n",
       "</table> "
      ],
      "text/plain": [
       "<pandas.io.formats.style.Styler at 0xb2425acf8>"
      ]
     },
     "metadata": {},
     "output_type": "display_data"
    },
    {
     "data": {
      "text/html": [
       "<style  type=\"text/css\" >\n",
       "</style>  \n",
       "<table id=\"T_eec59b6a_f71d_11e8_a2d0_685b35921c60\" > \n",
       "<thead>    <tr> \n",
       "        <th class=\"blank level0\" ></th> \n",
       "        <th class=\"col_heading level0 col0\" >-1.0</th> \n",
       "        <th class=\"col_heading level0 col1\" >-1.5</th> \n",
       "        <th class=\"col_heading level0 col2\" >-2.0</th> \n",
       "    </tr></thead> \n",
       "<tbody>    <tr> \n",
       "        <th id=\"T_eec59b6a_f71d_11e8_a2d0_685b35921c60level0_row0\" class=\"row_heading level0 row0\" >2018.12.21</th> \n",
       "        <td id=\"T_eec59b6a_f71d_11e8_a2d0_685b35921c60row0_col0\" class=\"data row0 col0\" >$1,718,939</td> \n",
       "        <td id=\"T_eec59b6a_f71d_11e8_a2d0_685b35921c60row0_col1\" class=\"data row0 col1\" >$1,516,116</td> \n",
       "        <td id=\"T_eec59b6a_f71d_11e8_a2d0_685b35921c60row0_col2\" class=\"data row0 col2\" >$1,392,409</td> \n",
       "    </tr>    <tr> \n",
       "        <th id=\"T_eec59b6a_f71d_11e8_a2d0_685b35921c60level0_row1\" class=\"row_heading level0 row1\" >2019.01.18</th> \n",
       "        <td id=\"T_eec59b6a_f71d_11e8_a2d0_685b35921c60row1_col0\" class=\"data row1 col0\" >$1,605,986</td> \n",
       "        <td id=\"T_eec59b6a_f71d_11e8_a2d0_685b35921c60row1_col1\" class=\"data row1 col1\" >$1,283,989</td> \n",
       "        <td id=\"T_eec59b6a_f71d_11e8_a2d0_685b35921c60row1_col2\" class=\"data row1 col2\" >$1,062,912</td> \n",
       "    </tr>    <tr> \n",
       "        <th id=\"T_eec59b6a_f71d_11e8_a2d0_685b35921c60level0_row2\" class=\"row_heading level0 row2\" >2019.02.15</th> \n",
       "        <td id=\"T_eec59b6a_f71d_11e8_a2d0_685b35921c60row2_col0\" class=\"data row2 col0\" >$1,501,804</td> \n",
       "        <td id=\"T_eec59b6a_f71d_11e8_a2d0_685b35921c60row2_col1\" class=\"data row2 col1\" >$1,073,790</td> \n",
       "        <td id=\"T_eec59b6a_f71d_11e8_a2d0_685b35921c60row2_col2\" class=\"data row2 col2\" >$1,045,590</td> \n",
       "    </tr></tbody> \n",
       "</table> "
      ],
      "text/plain": [
       "<pandas.io.formats.style.Styler at 0xb242adc18>"
      ]
     },
     "metadata": {},
     "output_type": "display_data"
    }
   ],
   "source": [
    "margin_dlr = [trd_choice.margin(last_price) * df for df in trd_choice.option_lots(leverage, capital_at_risk)]\n",
    "_ = [display(df.style.format('${:,.0f}')) for df in margin_dlr]  "
   ]
  },
  {
   "cell_type": "code",
   "execution_count": 11,
   "metadata": {},
   "outputs": [
    {
     "data": {
      "text/html": [
       "<style  type=\"text/css\" >\n",
       "</style>  \n",
       "<table id=\"T_ef1dd1c2_f71d_11e8_a2d0_685b35921c60\" > \n",
       "<thead>    <tr> \n",
       "        <th class=\"blank level0\" ></th> \n",
       "        <th class=\"col_heading level0 col0\" >-1.0</th> \n",
       "        <th class=\"col_heading level0 col1\" >-1.5</th> \n",
       "        <th class=\"col_heading level0 col2\" >-2.0</th> \n",
       "    </tr>    <tr> \n",
       "        <th class=\"index_name level0\" >Lev 2</th> \n",
       "        <th class=\"blank\" ></th> \n",
       "        <th class=\"blank\" ></th> \n",
       "        <th class=\"blank\" ></th> \n",
       "    </tr></thead> \n",
       "<tbody>    <tr> \n",
       "        <th id=\"T_ef1dd1c2_f71d_11e8_a2d0_685b35921c60level0_row0\" class=\"row_heading level0 row0\" >2018.12.21</th> \n",
       "        <td id=\"T_ef1dd1c2_f71d_11e8_a2d0_685b35921c60row0_col0\" class=\"data row0 col0\" >$1,161,445</td> \n",
       "        <td id=\"T_ef1dd1c2_f71d_11e8_a2d0_685b35921c60row0_col1\" class=\"data row0 col1\" >$997,445</td> \n",
       "        <td id=\"T_ef1dd1c2_f71d_11e8_a2d0_685b35921c60row0_col2\" class=\"data row0 col2\" >$928,273</td> \n",
       "    </tr>    <tr> \n",
       "        <th id=\"T_ef1dd1c2_f71d_11e8_a2d0_685b35921c60level0_row1\" class=\"row_heading level0 row1\" >2019.01.18</th> \n",
       "        <td id=\"T_ef1dd1c2_f71d_11e8_a2d0_685b35921c60row1_col0\" class=\"data row1 col0\" >$1,056,570</td> \n",
       "        <td id=\"T_ef1dd1c2_f71d_11e8_a2d0_685b35921c60row1_col1\" class=\"data row1 col1\" >$855,993</td> \n",
       "        <td id=\"T_ef1dd1c2_f71d_11e8_a2d0_685b35921c60row1_col2\" class=\"data row1 col2\" >$717,466</td> \n",
       "    </tr>    <tr> \n",
       "        <th id=\"T_ef1dd1c2_f71d_11e8_a2d0_685b35921c60level0_row2\" class=\"row_heading level0 row2\" >2019.02.15</th> \n",
       "        <td id=\"T_ef1dd1c2_f71d_11e8_a2d0_685b35921c60row2_col0\" class=\"data row2 col0\" >$1,001,203</td> \n",
       "        <td id=\"T_ef1dd1c2_f71d_11e8_a2d0_685b35921c60row2_col1\" class=\"data row2 col1\" >$707,130</td> \n",
       "        <td id=\"T_ef1dd1c2_f71d_11e8_a2d0_685b35921c60row2_col2\" class=\"data row2 col2\" >$697,060</td> \n",
       "    </tr></tbody> \n",
       "</table> "
      ],
      "text/plain": [
       "<pandas.io.formats.style.Styler at 0xb242adeb8>"
      ]
     },
     "metadata": {},
     "output_type": "display_data"
    }
   ],
   "source": [
    "marge = trd_choice.margin(trd_choice.spot)\n",
    "lots = trd_choice.option_lots([2], capital_at_risk)\n",
    "margin = lots[0] * marge\n",
    "display(margin.style.format('${:,.0f}'))"
   ]
  },
  {
   "cell_type": "code",
   "execution_count": 12,
   "metadata": {},
   "outputs": [
    {
     "data": {
      "text/html": [
       "<style  type=\"text/css\" >\n",
       "</style>  \n",
       "<table id=\"T_ef851436_f71d_11e8_a2d0_685b35921c60\" > \n",
       "<thead>    <tr> \n",
       "        <th class=\"blank level0\" ></th> \n",
       "        <th class=\"col_heading level0 col0\" >-1.0</th> \n",
       "        <th class=\"col_heading level0 col1\" >-1.5</th> \n",
       "        <th class=\"col_heading level0 col2\" >-2.0</th> \n",
       "    </tr>    <tr> \n",
       "        <th class=\"index_name level0\" >Lev 1</th> \n",
       "        <th class=\"blank\" ></th> \n",
       "        <th class=\"blank\" ></th> \n",
       "        <th class=\"blank\" ></th> \n",
       "    </tr></thead> \n",
       "<tbody>    <tr> \n",
       "        <th id=\"T_ef851436_f71d_11e8_a2d0_685b35921c60level0_row0\" class=\"row_heading level0 row0\" >2018.12.21</th> \n",
       "        <td id=\"T_ef851436_f71d_11e8_a2d0_685b35921c60row0_col0\" class=\"data row0 col0\" >$3,210,000</td> \n",
       "        <td id=\"T_ef851436_f71d_11e8_a2d0_685b35921c60row0_col1\" class=\"data row0 col1\" >$3,399,500</td> \n",
       "        <td id=\"T_ef851436_f71d_11e8_a2d0_685b35921c60row0_col2\" class=\"data row0 col2\" >$3,347,500</td> \n",
       "    </tr>    <tr> \n",
       "        <th id=\"T_ef851436_f71d_11e8_a2d0_685b35921c60level0_row1\" class=\"row_heading level0 row1\" >2019.01.18</th> \n",
       "        <td id=\"T_ef851436_f71d_11e8_a2d0_685b35921c60row1_col0\" class=\"data row1 col0\" >$3,412,500</td> \n",
       "        <td id=\"T_ef851436_f71d_11e8_a2d0_685b35921c60row1_col1\" class=\"data row1 col1\" >$3,302,000</td> \n",
       "        <td id=\"T_ef851436_f71d_11e8_a2d0_685b35921c60row1_col2\" class=\"data row1 col2\" >$3,224,000</td> \n",
       "    </tr>    <tr> \n",
       "        <th id=\"T_ef851436_f71d_11e8_a2d0_685b35921c60level0_row2\" class=\"row_heading level0 row2\" >2019.02.15</th> \n",
       "        <td id=\"T_ef851436_f71d_11e8_a2d0_685b35921c60row2_col0\" class=\"data row2 col0\" >$3,354,000</td> \n",
       "        <td id=\"T_ef851436_f71d_11e8_a2d0_685b35921c60row2_col1\" class=\"data row2 col1\" >$3,451,000</td> \n",
       "        <td id=\"T_ef851436_f71d_11e8_a2d0_685b35921c60row2_col2\" class=\"data row2 col2\" >$3,339,000</td> \n",
       "    </tr></tbody> \n",
       "</table> "
      ],
      "text/plain": [
       "<pandas.io.formats.style.Styler at 0xb242adba8>"
      ]
     },
     "metadata": {},
     "output_type": "display_data"
    },
    {
     "data": {
      "text/html": [
       "<style  type=\"text/css\" >\n",
       "</style>  \n",
       "<table id=\"T_ef857f84_f71d_11e8_a2d0_685b35921c60\" > \n",
       "<thead>    <tr> \n",
       "        <th class=\"blank level0\" ></th> \n",
       "        <th class=\"col_heading level0 col0\" >-1.0</th> \n",
       "        <th class=\"col_heading level0 col1\" >-1.5</th> \n",
       "        <th class=\"col_heading level0 col2\" >-2.0</th> \n",
       "    </tr>    <tr> \n",
       "        <th class=\"index_name level0\" >Lev 2</th> \n",
       "        <th class=\"blank\" ></th> \n",
       "        <th class=\"blank\" ></th> \n",
       "        <th class=\"blank\" ></th> \n",
       "    </tr></thead> \n",
       "<tbody>    <tr> \n",
       "        <th id=\"T_ef857f84_f71d_11e8_a2d0_685b35921c60level0_row0\" class=\"row_heading level0 row0\" >2018.12.21</th> \n",
       "        <td id=\"T_ef857f84_f71d_11e8_a2d0_685b35921c60row0_col0\" class=\"data row0 col0\" >$6,687,500</td> \n",
       "        <td id=\"T_ef857f84_f71d_11e8_a2d0_685b35921c60row0_col1\" class=\"data row0 col1\" >$6,537,500</td> \n",
       "        <td id=\"T_ef857f84_f71d_11e8_a2d0_685b35921c60row0_col2\" class=\"data row0 col2\" >$6,695,000</td> \n",
       "    </tr>    <tr> \n",
       "        <th id=\"T_ef857f84_f71d_11e8_a2d0_685b35921c60level0_row1\" class=\"row_heading level0 row1\" >2019.01.18</th> \n",
       "        <td id=\"T_ef857f84_f71d_11e8_a2d0_685b35921c60row1_col0\" class=\"data row1 col0\" >$6,562,500</td> \n",
       "        <td id=\"T_ef857f84_f71d_11e8_a2d0_685b35921c60row1_col1\" class=\"data row1 col1\" >$6,604,000</td> \n",
       "        <td id=\"T_ef857f84_f71d_11e8_a2d0_685b35921c60row1_col2\" class=\"data row1 col2\" >$6,696,000</td> \n",
       "    </tr>    <tr> \n",
       "        <th id=\"T_ef857f84_f71d_11e8_a2d0_685b35921c60level0_row2\" class=\"row_heading level0 row2\" >2019.02.15</th> \n",
       "        <td id=\"T_ef857f84_f71d_11e8_a2d0_685b35921c60row2_col0\" class=\"data row2 col0\" >$6,708,000</td> \n",
       "        <td id=\"T_ef857f84_f71d_11e8_a2d0_685b35921c60row2_col1\" class=\"data row2 col1\" >$6,655,500</td> \n",
       "        <td id=\"T_ef857f84_f71d_11e8_a2d0_685b35921c60row2_col2\" class=\"data row2 col2\" >$6,678,000</td> \n",
       "    </tr></tbody> \n",
       "</table> "
      ],
      "text/plain": [
       "<pandas.io.formats.style.Styler at 0xb242ad518>"
      ]
     },
     "metadata": {},
     "output_type": "display_data"
    },
    {
     "data": {
      "text/html": [
       "<style  type=\"text/css\" >\n",
       "</style>  \n",
       "<table id=\"T_ef85e56e_f71d_11e8_a2d0_685b35921c60\" > \n",
       "<thead>    <tr> \n",
       "        <th class=\"blank level0\" ></th> \n",
       "        <th class=\"col_heading level0 col0\" >-1.0</th> \n",
       "        <th class=\"col_heading level0 col1\" >-1.5</th> \n",
       "        <th class=\"col_heading level0 col2\" >-2.0</th> \n",
       "    </tr>    <tr> \n",
       "        <th class=\"index_name level0\" >Lev 3</th> \n",
       "        <th class=\"blank\" ></th> \n",
       "        <th class=\"blank\" ></th> \n",
       "        <th class=\"blank\" ></th> \n",
       "    </tr></thead> \n",
       "<tbody>    <tr> \n",
       "        <th id=\"T_ef85e56e_f71d_11e8_a2d0_685b35921c60level0_row0\" class=\"row_heading level0 row0\" >2018.12.21</th> \n",
       "        <td id=\"T_ef85e56e_f71d_11e8_a2d0_685b35921c60row0_col0\" class=\"data row0 col0\" >$9,897,500</td> \n",
       "        <td id=\"T_ef85e56e_f71d_11e8_a2d0_685b35921c60row0_col1\" class=\"data row0 col1\" >$9,937,000</td> \n",
       "        <td id=\"T_ef85e56e_f71d_11e8_a2d0_685b35921c60row0_col2\" class=\"data row0 col2\" >$10,042,500</td> \n",
       "    </tr>    <tr> \n",
       "        <th id=\"T_ef85e56e_f71d_11e8_a2d0_685b35921c60level0_row1\" class=\"row_heading level0 row1\" >2019.01.18</th> \n",
       "        <td id=\"T_ef85e56e_f71d_11e8_a2d0_685b35921c60row1_col0\" class=\"data row1 col0\" >$9,975,000</td> \n",
       "        <td id=\"T_ef85e56e_f71d_11e8_a2d0_685b35921c60row1_col1\" class=\"data row1 col1\" >$9,906,000</td> \n",
       "        <td id=\"T_ef85e56e_f71d_11e8_a2d0_685b35921c60row1_col2\" class=\"data row1 col2\" >$9,920,000</td> \n",
       "    </tr>    <tr> \n",
       "        <th id=\"T_ef85e56e_f71d_11e8_a2d0_685b35921c60level0_row2\" class=\"row_heading level0 row2\" >2019.02.15</th> \n",
       "        <td id=\"T_ef85e56e_f71d_11e8_a2d0_685b35921c60row2_col0\" class=\"data row2 col0\" >$10,062,000</td> \n",
       "        <td id=\"T_ef85e56e_f71d_11e8_a2d0_685b35921c60row2_col1\" class=\"data row2 col1\" >$10,106,500</td> \n",
       "        <td id=\"T_ef85e56e_f71d_11e8_a2d0_685b35921c60row2_col2\" class=\"data row2 col2\" >$10,017,000</td> \n",
       "    </tr></tbody> \n",
       "</table> "
      ],
      "text/plain": [
       "<pandas.io.formats.style.Styler at 0xb242add30>"
      ]
     },
     "metadata": {},
     "output_type": "display_data"
    }
   ],
   "source": [
    "notional_dlr=[df * trd_choice.strike_grid() * 100 for df in trd_choice.option_lots(leverage, capital_at_risk)]\n",
    "_ = [display(df.style.format('${:,.0f}')) for df in notional_dlr]  "
   ]
  },
  {
   "cell_type": "code",
   "execution_count": 13,
   "metadata": {},
   "outputs": [
    {
     "data": {
      "text/plain": [
       "3298660.0114"
      ]
     },
     "execution_count": 13,
     "metadata": {},
     "output_type": "execute_result"
    }
   ],
   "source": [
    "capital_at_risk"
   ]
  },
  {
   "cell_type": "code",
   "execution_count": null,
   "metadata": {},
   "outputs": [],
   "source": []
  }
 ],
 "metadata": {
  "kernelspec": {
   "display_name": "Python 3",
   "language": "python",
   "name": "python3"
  },
  "language_info": {
   "codemirror_mode": {
    "name": "ipython",
    "version": 3
   },
   "file_extension": ".py",
   "mimetype": "text/x-python",
   "name": "python",
   "nbconvert_exporter": "python",
   "pygments_lexer": "ipython3",
   "version": "3.7.0"
  }
 },
 "nbformat": 4,
 "nbformat_minor": 2
}
