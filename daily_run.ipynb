{
 "cells": [
  {
   "cell_type": "markdown",
   "metadata": {},
   "source": [
    "daily_run estimates strikes and number of contracts for a put selling strategy on equity indices such as S&P 500. \n",
    "\n",
    "Algorithm is drawn from  JUREK, J. W. and STAFFORD, E. (2015), The Cost of Capital for Alternative Investments. The Journal of Finance, 70: 2185-2226. doi:10.1111/jofi.12269- \n",
    "\n",
    "Requires an open session of either IB Gateway or TWS from Interactive Brokers"
   ]
  },
  {
   "cell_type": "code",
   "execution_count": 1,
   "metadata": {},
   "outputs": [
    {
     "name": "stdout",
     "output_type": "stream",
     "text": [
      "Warning: RSL2 Using Fixed Dividend yield\n"
     ]
    }
   ],
   "source": [
    "from option_daily_prod import OptionMarket, SpxOptionAsset, RSL2OptionAsset\n",
    "import numpy as np\n",
    "import pandas as pd\n",
    "import nest_asyncio\n",
    "from time import time\n",
    "\n",
    "before = time()\n",
    "nest_asyncio.apply()\n",
    "\n",
    "spx_trades = OptionMarket(SpxOptionAsset())\n",
    "rsl_trades = OptionMarket(RSL2OptionAsset())"
   ]
  },
  {
   "cell_type": "code",
   "execution_count": 23,
   "metadata": {},
   "outputs": [
    {
     "name": "stdout",
     "output_type": "stream",
     "text": [
      "elapsed: 3035.5\n",
      "elapsed: 3047.7\n",
      "2724.66\n",
      "20.42\n",
      "[AccountValue(account='U2463043', tag='NetLiquidationByCurrency', value='2762750.8514', currency='BASE', modelCode='')]\n"
     ]
    }
   ],
   "source": [
    "z_score = np.array([-1, -1.5, -2])\n",
    "leverage = np.array(range(1, 4, 1))\n",
    "num_expiries = 3\n",
    "illiquid_equity = 500000\n",
    "after = time()\n",
    "spx = True\n",
    "if spx:\n",
    "    trd_choice = spx_trades.form_trade_choice(z_score, num_expiries, 'P')\n",
    "else:\n",
    "    trd_choice = rsl_trades.form_trade_choice(z_score, num_expiries, 'P')\n",
    "    \n",
    "last_price = trd_choice.spot\n",
    "after_2 = time()\n",
    "print('elapsed:', np.round(after - before, 1))\n",
    "print('elapsed:', np.round(after_2 - before, 1))\n",
    "print(last_price)\n",
    "print(trd_choice.sigma)\n",
    "print(trd_choice.account_value)"
   ]
  },
  {
   "cell_type": "code",
   "execution_count": 24,
   "metadata": {},
   "outputs": [
    {
     "data": {
      "text/html": [
       "<style>\n",
       ".output {\n",
       "    flex-direction:row;\n",
       "}\n",
       "</style>"
      ],
      "text/plain": [
       "<IPython.core.display.HTML object>"
      ]
     },
     "execution_count": 24,
     "metadata": {},
     "output_type": "execute_result"
    }
   ],
   "source": [
    "from IPython.display import display, HTML\n",
    "\n",
    "CSS = \"\"\"\n",
    ".output {\n",
    "    flex-direction:row;\n",
    "}\n",
    "\"\"\"\n",
    "HTML('<style>{}</style>'.format(CSS))\n"
   ]
  },
  {
   "cell_type": "code",
   "execution_count": 25,
   "metadata": {},
   "outputs": [
    {
     "data": {
      "text/html": [
       "<div>\n",
       "<style scoped>\n",
       "    .dataframe tbody tr th:only-of-type {\n",
       "        vertical-align: middle;\n",
       "    }\n",
       "\n",
       "    .dataframe tbody tr th {\n",
       "        vertical-align: top;\n",
       "    }\n",
       "\n",
       "    .dataframe thead th {\n",
       "        text-align: right;\n",
       "    }\n",
       "</style>\n",
       "<table border=\"1\" class=\"dataframe\">\n",
       "  <thead>\n",
       "    <tr style=\"text-align: right;\">\n",
       "      <th></th>\n",
       "      <th>-1.0</th>\n",
       "      <th>-1.5</th>\n",
       "      <th>-2.0</th>\n",
       "    </tr>\n",
       "  </thead>\n",
       "  <tbody>\n",
       "    <tr>\n",
       "      <th>2018.12.21</th>\n",
       "      <td>2590</td>\n",
       "      <td>2525</td>\n",
       "      <td>2480</td>\n",
       "    </tr>\n",
       "    <tr>\n",
       "      <th>2019.01.18</th>\n",
       "      <td>2530</td>\n",
       "      <td>2435</td>\n",
       "      <td>2365</td>\n",
       "    </tr>\n",
       "    <tr>\n",
       "      <th>2019.02.15</th>\n",
       "      <td>2465</td>\n",
       "      <td>2345</td>\n",
       "      <td>2255</td>\n",
       "    </tr>\n",
       "  </tbody>\n",
       "</table>\n",
       "</div>"
      ],
      "text/plain": [
       "            -1.0  -1.5  -2.0\n",
       "2018.12.21  2590  2525  2480\n",
       "2019.01.18  2530  2435  2365\n",
       "2019.02.15  2465  2345  2255"
      ]
     },
     "metadata": {},
     "output_type": "display_data"
    },
    {
     "data": {
      "text/html": [
       "<div>\n",
       "<style scoped>\n",
       "    .dataframe tbody tr th:only-of-type {\n",
       "        vertical-align: middle;\n",
       "    }\n",
       "\n",
       "    .dataframe tbody tr th {\n",
       "        vertical-align: top;\n",
       "    }\n",
       "\n",
       "    .dataframe thead th {\n",
       "        text-align: right;\n",
       "    }\n",
       "</style>\n",
       "<table border=\"1\" class=\"dataframe\">\n",
       "  <thead>\n",
       "    <tr style=\"text-align: right;\">\n",
       "      <th></th>\n",
       "      <th>-1.0</th>\n",
       "      <th>-1.5</th>\n",
       "      <th>-2.0</th>\n",
       "    </tr>\n",
       "  </thead>\n",
       "  <tbody>\n",
       "    <tr>\n",
       "      <th>2018.12.21</th>\n",
       "      <td>15.05</td>\n",
       "      <td>8.20</td>\n",
       "      <td>5.50</td>\n",
       "    </tr>\n",
       "    <tr>\n",
       "      <th>2019.01.18</th>\n",
       "      <td>21.35</td>\n",
       "      <td>12.05</td>\n",
       "      <td>8.05</td>\n",
       "    </tr>\n",
       "    <tr>\n",
       "      <th>2019.02.15</th>\n",
       "      <td>25.85</td>\n",
       "      <td>14.75</td>\n",
       "      <td>9.80</td>\n",
       "    </tr>\n",
       "  </tbody>\n",
       "</table>\n",
       "</div>"
      ],
      "text/plain": [
       "             -1.0   -1.5  -2.0\n",
       "2018.12.21  15.05   8.20  5.50\n",
       "2019.01.18  21.35  12.05  8.05\n",
       "2019.02.15  25.85  14.75  9.80"
      ]
     },
     "metadata": {},
     "output_type": "display_data"
    },
    {
     "data": {
      "text/html": [
       "<div>\n",
       "<style scoped>\n",
       "    .dataframe tbody tr th:only-of-type {\n",
       "        vertical-align: middle;\n",
       "    }\n",
       "\n",
       "    .dataframe tbody tr th {\n",
       "        vertical-align: top;\n",
       "    }\n",
       "\n",
       "    .dataframe thead th {\n",
       "        text-align: right;\n",
       "    }\n",
       "</style>\n",
       "<table border=\"1\" class=\"dataframe\">\n",
       "  <thead>\n",
       "    <tr style=\"text-align: right;\">\n",
       "      <th></th>\n",
       "      <th>-1.0</th>\n",
       "      <th>-1.5</th>\n",
       "      <th>-2.0</th>\n",
       "    </tr>\n",
       "  </thead>\n",
       "  <tbody>\n",
       "    <tr>\n",
       "      <th>2018.12.21</th>\n",
       "      <td>14.9/15.2</td>\n",
       "      <td>8.1/8.3</td>\n",
       "      <td>5.4/5.6</td>\n",
       "    </tr>\n",
       "    <tr>\n",
       "      <th>2019.01.18</th>\n",
       "      <td>21.1/21.6</td>\n",
       "      <td>11.9/12.2</td>\n",
       "      <td>7.9/8.2</td>\n",
       "    </tr>\n",
       "    <tr>\n",
       "      <th>2019.02.15</th>\n",
       "      <td>25.5/26.2</td>\n",
       "      <td>14.5/15.0</td>\n",
       "      <td>9.6/10.0</td>\n",
       "    </tr>\n",
       "  </tbody>\n",
       "</table>\n",
       "</div>"
      ],
      "text/plain": [
       "                 -1.0       -1.5      -2.0\n",
       "2018.12.21  14.9/15.2    8.1/8.3   5.4/5.6\n",
       "2019.01.18  21.1/21.6  11.9/12.2   7.9/8.2\n",
       "2019.02.15  25.5/26.2  14.5/15.0  9.6/10.0"
      ]
     },
     "metadata": {},
     "output_type": "display_data"
    }
   ],
   "source": [
    "_=[display(df) for df in [trd_choice.strike_grid(), trd_choice.premium_grid(), trd_choice.prices_grid()]]"
   ]
  },
  {
   "cell_type": "code",
   "execution_count": 16,
   "metadata": {},
   "outputs": [
    {
     "data": {
      "text/html": [
       "<style  type=\"text/css\" >\n",
       "</style>  \n",
       "<table id=\"T_78bba9f4_f3ec_11e8_9ef4_542696cdec3f\" > \n",
       "<thead>    <tr> \n",
       "        <th class=\"blank level0\" ></th> \n",
       "        <th class=\"col_heading level0 col0\" >-1.0</th> \n",
       "        <th class=\"col_heading level0 col1\" >-1.5</th> \n",
       "        <th class=\"col_heading level0 col2\" >-2.0</th> \n",
       "    </tr></thead> \n",
       "<tbody>    <tr> \n",
       "        <th id=\"T_78bba9f4_f3ec_11e8_9ef4_542696cdec3flevel0_row0\" class=\"row_heading level0 row0\" >2018.12.21</th> \n",
       "        <td id=\"T_78bba9f4_f3ec_11e8_9ef4_542696cdec3frow0_col0\" class=\"data row0 col0\" >-4.88%</td> \n",
       "        <td id=\"T_78bba9f4_f3ec_11e8_9ef4_542696cdec3frow0_col1\" class=\"data row0 col1\" >-7.08%</td> \n",
       "        <td id=\"T_78bba9f4_f3ec_11e8_9ef4_542696cdec3frow0_col2\" class=\"data row0 col2\" >-8.91%</td> \n",
       "    </tr>    <tr> \n",
       "        <th id=\"T_78bba9f4_f3ec_11e8_9ef4_542696cdec3flevel0_row1\" class=\"row_heading level0 row1\" >2019.01.18</th> \n",
       "        <td id=\"T_78bba9f4_f3ec_11e8_9ef4_542696cdec3frow1_col0\" class=\"data row1 col0\" >-7.08%</td> \n",
       "        <td id=\"T_78bba9f4_f3ec_11e8_9ef4_542696cdec3frow1_col1\" class=\"data row1 col1\" >-10.55%</td> \n",
       "        <td id=\"T_78bba9f4_f3ec_11e8_9ef4_542696cdec3frow1_col2\" class=\"data row1 col2\" >-12.93%</td> \n",
       "    </tr>    <tr> \n",
       "        <th id=\"T_78bba9f4_f3ec_11e8_9ef4_542696cdec3flevel0_row2\" class=\"row_heading level0 row2\" >2019.02.15</th> \n",
       "        <td id=\"T_78bba9f4_f3ec_11e8_9ef4_542696cdec3frow2_col0\" class=\"data row2 col0\" >-9.45%</td> \n",
       "        <td id=\"T_78bba9f4_f3ec_11e8_9ef4_542696cdec3frow2_col1\" class=\"data row2 col1\" >-13.84%</td> \n",
       "        <td id=\"T_78bba9f4_f3ec_11e8_9ef4_542696cdec3frow2_col2\" class=\"data row2 col2\" >-16.95%</td> \n",
       "    </tr></tbody> \n",
       "</table> "
      ],
      "text/plain": [
       "<pandas.io.formats.style.Styler at 0xb189ca7f0>"
      ]
     },
     "metadata": {},
     "output_type": "display_data"
    }
   ],
   "source": [
    "\n",
    "prct_decline = trd_choice.pct_otm_grid(last_price)\n",
    "format_dict = {x: '{:.2%}' for x in prct_decline.to_dict()}\n",
    "display(prct_decline.style.format(format_dict))"
   ]
  },
  {
   "cell_type": "code",
   "execution_count": 17,
   "metadata": {
    "scrolled": false
   },
   "outputs": [
    {
     "data": {
      "text/html": [
       "<style  type=\"text/css\" >\n",
       "</style>  \n",
       "<table id=\"T_7962d600_f3ec_11e8_b55a_542696cdec3f\" > \n",
       "<thead>    <tr> \n",
       "        <th class=\"blank level0\" ></th> \n",
       "        <th class=\"col_heading level0 col0\" >-1.0</th> \n",
       "        <th class=\"col_heading level0 col1\" >-1.5</th> \n",
       "        <th class=\"col_heading level0 col2\" >-2.0</th> \n",
       "    </tr></thead> \n",
       "<tbody>    <tr> \n",
       "        <th id=\"T_7962d600_f3ec_11e8_b55a_542696cdec3flevel0_row0\" class=\"row_heading level0 row0\" >2018.12.21</th> \n",
       "        <td id=\"T_7962d600_f3ec_11e8_b55a_542696cdec3frow0_col0\" class=\"data row0 col0\" >$19,435</td> \n",
       "        <td id=\"T_7962d600_f3ec_11e8_b55a_542696cdec3frow0_col1\" class=\"data row0 col1\" >$11,115</td> \n",
       "        <td id=\"T_7962d600_f3ec_11e8_b55a_542696cdec3frow0_col2\" class=\"data row0 col2\" >$7,215</td> \n",
       "    </tr>    <tr> \n",
       "        <th id=\"T_7962d600_f3ec_11e8_b55a_542696cdec3flevel0_row1\" class=\"row_heading level0 row1\" >2019.01.18</th> \n",
       "        <td id=\"T_7962d600_f3ec_11e8_b55a_542696cdec3frow1_col0\" class=\"data row1 col0\" >$27,430</td> \n",
       "        <td id=\"T_7962d600_f3ec_11e8_b55a_542696cdec3frow1_col1\" class=\"data row1 col1\" >$15,470</td> \n",
       "        <td id=\"T_7962d600_f3ec_11e8_b55a_542696cdec3frow1_col2\" class=\"data row1 col2\" >$11,410</td> \n",
       "    </tr>    <tr> \n",
       "        <th id=\"T_7962d600_f3ec_11e8_b55a_542696cdec3flevel0_row2\" class=\"row_heading level0 row2\" >2019.02.15</th> \n",
       "        <td id=\"T_7962d600_f3ec_11e8_b55a_542696cdec3frow2_col0\" class=\"data row2 col0\" >$33,020</td> \n",
       "        <td id=\"T_7962d600_f3ec_11e8_b55a_542696cdec3frow2_col1\" class=\"data row2 col1\" >$20,230</td> \n",
       "        <td id=\"T_7962d600_f3ec_11e8_b55a_542696cdec3frow2_col2\" class=\"data row2 col2\" >$14,700</td> \n",
       "    </tr></tbody> \n",
       "</table> "
      ],
      "text/plain": [
       "<pandas.io.formats.style.Styler at 0xb18a47128>"
      ]
     },
     "metadata": {},
     "output_type": "display_data"
    },
    {
     "data": {
      "text/html": [
       "<style  type=\"text/css\" >\n",
       "</style>  \n",
       "<table id=\"T_796383a2_f3ec_11e8_bba9_542696cdec3f\" > \n",
       "<thead>    <tr> \n",
       "        <th class=\"blank level0\" ></th> \n",
       "        <th class=\"col_heading level0 col0\" >-1.0</th> \n",
       "        <th class=\"col_heading level0 col1\" >-1.5</th> \n",
       "        <th class=\"col_heading level0 col2\" >-2.0</th> \n",
       "    </tr></thead> \n",
       "<tbody>    <tr> \n",
       "        <th id=\"T_796383a2_f3ec_11e8_bba9_542696cdec3flevel0_row0\" class=\"row_heading level0 row0\" >2018.12.21</th> \n",
       "        <td id=\"T_796383a2_f3ec_11e8_bba9_542696cdec3frow0_col0\" class=\"data row0 col0\" >$37,375</td> \n",
       "        <td id=\"T_796383a2_f3ec_11e8_bba9_542696cdec3frow0_col1\" class=\"data row0 col1\" >$22,230</td> \n",
       "        <td id=\"T_796383a2_f3ec_11e8_bba9_542696cdec3frow0_col2\" class=\"data row0 col2\" >$14,430</td> \n",
       "    </tr>    <tr> \n",
       "        <th id=\"T_796383a2_f3ec_11e8_bba9_542696cdec3flevel0_row1\" class=\"row_heading level0 row1\" >2019.01.18</th> \n",
       "        <td id=\"T_796383a2_f3ec_11e8_bba9_542696cdec3frow1_col0\" class=\"data row1 col0\" >$54,860</td> \n",
       "        <td id=\"T_796383a2_f3ec_11e8_bba9_542696cdec3frow1_col1\" class=\"data row1 col1\" >$32,130</td> \n",
       "        <td id=\"T_796383a2_f3ec_11e8_bba9_542696cdec3frow1_col2\" class=\"data row1 col2\" >$22,820</td> \n",
       "    </tr>    <tr> \n",
       "        <th id=\"T_796383a2_f3ec_11e8_bba9_542696cdec3flevel0_row2\" class=\"row_heading level0 row2\" >2019.02.15</th> \n",
       "        <td id=\"T_796383a2_f3ec_11e8_bba9_542696cdec3frow2_col0\" class=\"data row2 col0\" >$68,580</td> \n",
       "        <td id=\"T_796383a2_f3ec_11e8_bba9_542696cdec3frow2_col1\" class=\"data row2 col1\" >$40,460</td> \n",
       "        <td id=\"T_796383a2_f3ec_11e8_bba9_542696cdec3frow2_col2\" class=\"data row2 col2\" >$28,420</td> \n",
       "    </tr></tbody> \n",
       "</table> "
      ],
      "text/plain": [
       "<pandas.io.formats.style.Styler at 0x116ae6e10>"
      ]
     },
     "metadata": {},
     "output_type": "display_data"
    },
    {
     "data": {
      "text/html": [
       "<style  type=\"text/css\" >\n",
       "</style>  \n",
       "<table id=\"T_79642c12_f3ec_11e8_bb1d_542696cdec3f\" > \n",
       "<thead>    <tr> \n",
       "        <th class=\"blank level0\" ></th> \n",
       "        <th class=\"col_heading level0 col0\" >-1.0</th> \n",
       "        <th class=\"col_heading level0 col1\" >-1.5</th> \n",
       "        <th class=\"col_heading level0 col2\" >-2.0</th> \n",
       "    </tr></thead> \n",
       "<tbody>    <tr> \n",
       "        <th id=\"T_79642c12_f3ec_11e8_bb1d_542696cdec3flevel0_row0\" class=\"row_heading level0 row0\" >2018.12.21</th> \n",
       "        <td id=\"T_79642c12_f3ec_11e8_bb1d_542696cdec3frow0_col0\" class=\"data row0 col0\" >$56,810</td> \n",
       "        <td id=\"T_79642c12_f3ec_11e8_bb1d_542696cdec3frow0_col1\" class=\"data row0 col1\" >$33,345</td> \n",
       "        <td id=\"T_79642c12_f3ec_11e8_bb1d_542696cdec3frow0_col2\" class=\"data row0 col2\" >$21,645</td> \n",
       "    </tr>    <tr> \n",
       "        <th id=\"T_79642c12_f3ec_11e8_bb1d_542696cdec3flevel0_row1\" class=\"row_heading level0 row1\" >2019.01.18</th> \n",
       "        <td id=\"T_79642c12_f3ec_11e8_bb1d_542696cdec3frow1_col0\" class=\"data row1 col0\" >$82,290</td> \n",
       "        <td id=\"T_79642c12_f3ec_11e8_bb1d_542696cdec3frow1_col1\" class=\"data row1 col1\" >$47,600</td> \n",
       "        <td id=\"T_79642c12_f3ec_11e8_bb1d_542696cdec3frow1_col2\" class=\"data row1 col2\" >$33,415</td> \n",
       "    </tr>    <tr> \n",
       "        <th id=\"T_79642c12_f3ec_11e8_bb1d_542696cdec3flevel0_row2\" class=\"row_heading level0 row2\" >2019.02.15</th> \n",
       "        <td id=\"T_79642c12_f3ec_11e8_bb1d_542696cdec3frow2_col0\" class=\"data row2 col0\" >$101,600</td> \n",
       "        <td id=\"T_79642c12_f3ec_11e8_bb1d_542696cdec3frow2_col1\" class=\"data row2 col1\" >$60,690</td> \n",
       "        <td id=\"T_79642c12_f3ec_11e8_bb1d_542696cdec3frow2_col2\" class=\"data row2 col2\" >$43,120</td> \n",
       "    </tr></tbody> \n",
       "</table> "
      ],
      "text/plain": [
       "<pandas.io.formats.style.Styler at 0xb18e2b128>"
      ]
     },
     "metadata": {},
     "output_type": "display_data"
    }
   ],
   "source": [
    "capital_at_risk = float(trd_choice.account_value[0].value) + illiquid_equity\n",
    "premium_list = []\n",
    "premium_list =  [(trd_choice.premium_grid() * contractTable.round() * 100) \\\n",
    "                 for contractTable in trd_choice.option_lots(leverage, capital_at_risk)]\n",
    "\n",
    "_ = [display(df.style.format('${:,.0f}')) for df in premium_list]  "
   ]
  },
  {
   "cell_type": "code",
   "execution_count": 18,
   "metadata": {},
   "outputs": [
    {
     "data": {
      "text/html": [
       "<style  type=\"text/css\" >\n",
       "</style>  \n",
       "<table id=\"T_7a69739c_f3ec_11e8_b46d_542696cdec3f\" > \n",
       "<thead>    <tr> \n",
       "        <th class=\"blank level0\" ></th> \n",
       "        <th class=\"col_heading level0 col0\" >-1.0</th> \n",
       "        <th class=\"col_heading level0 col1\" >-1.5</th> \n",
       "        <th class=\"col_heading level0 col2\" >-2.0</th> \n",
       "    </tr></thead> \n",
       "<tbody>    <tr> \n",
       "        <th id=\"T_7a69739c_f3ec_11e8_b46d_542696cdec3flevel0_row0\" class=\"row_heading level0 row0\" >2018.12.21</th> \n",
       "        <td id=\"T_7a69739c_f3ec_11e8_b46d_542696cdec3frow0_col0\" class=\"data row0 col0\" >0.55%</td> \n",
       "        <td id=\"T_7a69739c_f3ec_11e8_b46d_542696cdec3frow0_col1\" class=\"data row0 col1\" >0.31%</td> \n",
       "        <td id=\"T_7a69739c_f3ec_11e8_b46d_542696cdec3frow0_col2\" class=\"data row0 col2\" >0.20%</td> \n",
       "    </tr>    <tr> \n",
       "        <th id=\"T_7a69739c_f3ec_11e8_b46d_542696cdec3flevel0_row1\" class=\"row_heading level0 row1\" >2019.01.18</th> \n",
       "        <td id=\"T_7a69739c_f3ec_11e8_b46d_542696cdec3frow1_col0\" class=\"data row1 col0\" >0.77%</td> \n",
       "        <td id=\"T_7a69739c_f3ec_11e8_b46d_542696cdec3frow1_col1\" class=\"data row1 col1\" >0.44%</td> \n",
       "        <td id=\"T_7a69739c_f3ec_11e8_b46d_542696cdec3frow1_col2\" class=\"data row1 col2\" >0.30%</td> \n",
       "    </tr>    <tr> \n",
       "        <th id=\"T_7a69739c_f3ec_11e8_b46d_542696cdec3flevel0_row2\" class=\"row_heading level0 row2\" >2019.02.15</th> \n",
       "        <td id=\"T_7a69739c_f3ec_11e8_b46d_542696cdec3frow2_col0\" class=\"data row2 col0\" >0.93%</td> \n",
       "        <td id=\"T_7a69739c_f3ec_11e8_b46d_542696cdec3frow2_col1\" class=\"data row2 col1\" >0.53%</td> \n",
       "        <td id=\"T_7a69739c_f3ec_11e8_b46d_542696cdec3frow2_col2\" class=\"data row2 col2\" >0.36%</td> \n",
       "    </tr></tbody> \n",
       "</table> "
      ],
      "text/plain": [
       "<pandas.io.formats.style.Styler at 0xb19313400>"
      ]
     },
     "metadata": {},
     "output_type": "display_data"
    },
    {
     "data": {
      "text/html": [
       "<style  type=\"text/css\" >\n",
       "</style>  \n",
       "<table id=\"T_7a6a3f52_f3ec_11e8_93a8_542696cdec3f\" > \n",
       "<thead>    <tr> \n",
       "        <th class=\"blank level0\" ></th> \n",
       "        <th class=\"col_heading level0 col0\" >-1.0</th> \n",
       "        <th class=\"col_heading level0 col1\" >-1.5</th> \n",
       "        <th class=\"col_heading level0 col2\" >-2.0</th> \n",
       "    </tr></thead> \n",
       "<tbody>    <tr> \n",
       "        <th id=\"T_7a6a3f52_f3ec_11e8_93a8_542696cdec3flevel0_row0\" class=\"row_heading level0 row0\" >2018.12.21</th> \n",
       "        <td id=\"T_7a6a3f52_f3ec_11e8_93a8_542696cdec3frow0_col0\" class=\"data row0 col0\" >1.09%</td> \n",
       "        <td id=\"T_7a6a3f52_f3ec_11e8_93a8_542696cdec3frow0_col1\" class=\"data row0 col1\" >0.63%</td> \n",
       "        <td id=\"T_7a6a3f52_f3ec_11e8_93a8_542696cdec3frow0_col2\" class=\"data row0 col2\" >0.41%</td> \n",
       "    </tr>    <tr> \n",
       "        <th id=\"T_7a6a3f52_f3ec_11e8_93a8_542696cdec3flevel0_row1\" class=\"row_heading level0 row1\" >2019.01.18</th> \n",
       "        <td id=\"T_7a6a3f52_f3ec_11e8_93a8_542696cdec3frow1_col0\" class=\"data row1 col0\" >1.54%</td> \n",
       "        <td id=\"T_7a6a3f52_f3ec_11e8_93a8_542696cdec3frow1_col1\" class=\"data row1 col1\" >0.87%</td> \n",
       "        <td id=\"T_7a6a3f52_f3ec_11e8_93a8_542696cdec3frow1_col2\" class=\"data row1 col2\" >0.60%</td> \n",
       "    </tr>    <tr> \n",
       "        <th id=\"T_7a6a3f52_f3ec_11e8_93a8_542696cdec3flevel0_row2\" class=\"row_heading level0 row2\" >2019.02.15</th> \n",
       "        <td id=\"T_7a6a3f52_f3ec_11e8_93a8_542696cdec3frow2_col0\" class=\"data row2 col0\" >1.86%</td> \n",
       "        <td id=\"T_7a6a3f52_f3ec_11e8_93a8_542696cdec3frow2_col1\" class=\"data row2 col1\" >1.06%</td> \n",
       "        <td id=\"T_7a6a3f52_f3ec_11e8_93a8_542696cdec3frow2_col2\" class=\"data row2 col2\" >0.72%</td> \n",
       "    </tr></tbody> \n",
       "</table> "
      ],
      "text/plain": [
       "<pandas.io.formats.style.Styler at 0xb19313470>"
      ]
     },
     "metadata": {},
     "output_type": "display_data"
    },
    {
     "data": {
      "text/html": [
       "<style  type=\"text/css\" >\n",
       "</style>  \n",
       "<table id=\"T_7a6b0180_f3ec_11e8_8899_542696cdec3f\" > \n",
       "<thead>    <tr> \n",
       "        <th class=\"blank level0\" ></th> \n",
       "        <th class=\"col_heading level0 col0\" >-1.0</th> \n",
       "        <th class=\"col_heading level0 col1\" >-1.5</th> \n",
       "        <th class=\"col_heading level0 col2\" >-2.0</th> \n",
       "    </tr></thead> \n",
       "<tbody>    <tr> \n",
       "        <th id=\"T_7a6b0180_f3ec_11e8_8899_542696cdec3flevel0_row0\" class=\"row_heading level0 row0\" >2018.12.21</th> \n",
       "        <td id=\"T_7a6b0180_f3ec_11e8_8899_542696cdec3frow0_col0\" class=\"data row0 col0\" >1.64%</td> \n",
       "        <td id=\"T_7a6b0180_f3ec_11e8_8899_542696cdec3frow0_col1\" class=\"data row0 col1\" >0.94%</td> \n",
       "        <td id=\"T_7a6b0180_f3ec_11e8_8899_542696cdec3frow0_col2\" class=\"data row0 col2\" >0.61%</td> \n",
       "    </tr>    <tr> \n",
       "        <th id=\"T_7a6b0180_f3ec_11e8_8899_542696cdec3flevel0_row1\" class=\"row_heading level0 row1\" >2019.01.18</th> \n",
       "        <td id=\"T_7a6b0180_f3ec_11e8_8899_542696cdec3frow1_col0\" class=\"data row1 col0\" >2.32%</td> \n",
       "        <td id=\"T_7a6b0180_f3ec_11e8_8899_542696cdec3frow1_col1\" class=\"data row1 col1\" >1.31%</td> \n",
       "        <td id=\"T_7a6b0180_f3ec_11e8_8899_542696cdec3frow1_col2\" class=\"data row1 col2\" >0.89%</td> \n",
       "    </tr>    <tr> \n",
       "        <th id=\"T_7a6b0180_f3ec_11e8_8899_542696cdec3flevel0_row2\" class=\"row_heading level0 row2\" >2019.02.15</th> \n",
       "        <td id=\"T_7a6b0180_f3ec_11e8_8899_542696cdec3frow2_col0\" class=\"data row2 col0\" >2.79%</td> \n",
       "        <td id=\"T_7a6b0180_f3ec_11e8_8899_542696cdec3frow2_col1\" class=\"data row2 col1\" >1.59%</td> \n",
       "        <td id=\"T_7a6b0180_f3ec_11e8_8899_542696cdec3frow2_col2\" class=\"data row2 col2\" >1.08%</td> \n",
       "    </tr></tbody> \n",
       "</table> "
      ],
      "text/plain": [
       "<pandas.io.formats.style.Styler at 0xb19313860>"
      ]
     },
     "metadata": {},
     "output_type": "display_data"
    }
   ],
   "source": [
    "premium_list_pct = []\n",
    "premium_list_pct = [(trd_choice.premium_grid() * lev) / last_price for lev in leverage]\n",
    "_ = [display(df.style.format('{:.2%}')) for df in premium_list_pct]  "
   ]
  },
  {
   "cell_type": "code",
   "execution_count": 19,
   "metadata": {},
   "outputs": [
    {
     "data": {
      "text/html": [
       "<style  type=\"text/css\" >\n",
       "</style>  \n",
       "<table id=\"T_7b9b97f4_f3ec_11e8_8ac4_542696cdec3f\" > \n",
       "<thead>    <tr> \n",
       "        <th class=\"blank level0\" ></th> \n",
       "        <th class=\"col_heading level0 col0\" >-1.0</th> \n",
       "        <th class=\"col_heading level0 col1\" >-1.5</th> \n",
       "        <th class=\"col_heading level0 col2\" >-2.0</th> \n",
       "    </tr>    <tr> \n",
       "        <th class=\"index_name level0\" >Lev 1</th> \n",
       "        <th class=\"blank\" ></th> \n",
       "        <th class=\"blank\" ></th> \n",
       "        <th class=\"blank\" ></th> \n",
       "    </tr></thead> \n",
       "<tbody>    <tr> \n",
       "        <th id=\"T_7b9b97f4_f3ec_11e8_8ac4_542696cdec3flevel0_row0\" class=\"row_heading level0 row0\" >2018.12.21</th> \n",
       "        <td id=\"T_7b9b97f4_f3ec_11e8_8ac4_542696cdec3frow0_col0\" class=\"data row0 col0\" >13</td> \n",
       "        <td id=\"T_7b9b97f4_f3ec_11e8_8ac4_542696cdec3frow0_col1\" class=\"data row0 col1\" >13</td> \n",
       "        <td id=\"T_7b9b97f4_f3ec_11e8_8ac4_542696cdec3frow0_col2\" class=\"data row0 col2\" >13</td> \n",
       "    </tr>    <tr> \n",
       "        <th id=\"T_7b9b97f4_f3ec_11e8_8ac4_542696cdec3flevel0_row1\" class=\"row_heading level0 row1\" >2019.01.18</th> \n",
       "        <td id=\"T_7b9b97f4_f3ec_11e8_8ac4_542696cdec3frow1_col0\" class=\"data row1 col0\" >13</td> \n",
       "        <td id=\"T_7b9b97f4_f3ec_11e8_8ac4_542696cdec3frow1_col1\" class=\"data row1 col1\" >13</td> \n",
       "        <td id=\"T_7b9b97f4_f3ec_11e8_8ac4_542696cdec3frow1_col2\" class=\"data row1 col2\" >14</td> \n",
       "    </tr>    <tr> \n",
       "        <th id=\"T_7b9b97f4_f3ec_11e8_8ac4_542696cdec3flevel0_row2\" class=\"row_heading level0 row2\" >2019.02.15</th> \n",
       "        <td id=\"T_7b9b97f4_f3ec_11e8_8ac4_542696cdec3frow2_col0\" class=\"data row2 col0\" >13</td> \n",
       "        <td id=\"T_7b9b97f4_f3ec_11e8_8ac4_542696cdec3frow2_col1\" class=\"data row2 col1\" >14</td> \n",
       "        <td id=\"T_7b9b97f4_f3ec_11e8_8ac4_542696cdec3frow2_col2\" class=\"data row2 col2\" >15</td> \n",
       "    </tr></tbody> \n",
       "</table> "
      ],
      "text/plain": [
       "<pandas.io.formats.style.Styler at 0xb19313198>"
      ]
     },
     "metadata": {},
     "output_type": "display_data"
    },
    {
     "data": {
      "text/html": [
       "<style  type=\"text/css\" >\n",
       "</style>  \n",
       "<table id=\"T_7b9c95b4_f3ec_11e8_ba83_542696cdec3f\" > \n",
       "<thead>    <tr> \n",
       "        <th class=\"blank level0\" ></th> \n",
       "        <th class=\"col_heading level0 col0\" >-1.0</th> \n",
       "        <th class=\"col_heading level0 col1\" >-1.5</th> \n",
       "        <th class=\"col_heading level0 col2\" >-2.0</th> \n",
       "    </tr>    <tr> \n",
       "        <th class=\"index_name level0\" >Lev 2</th> \n",
       "        <th class=\"blank\" ></th> \n",
       "        <th class=\"blank\" ></th> \n",
       "        <th class=\"blank\" ></th> \n",
       "    </tr></thead> \n",
       "<tbody>    <tr> \n",
       "        <th id=\"T_7b9c95b4_f3ec_11e8_ba83_542696cdec3flevel0_row0\" class=\"row_heading level0 row0\" >2018.12.21</th> \n",
       "        <td id=\"T_7b9c95b4_f3ec_11e8_ba83_542696cdec3frow0_col0\" class=\"data row0 col0\" >25</td> \n",
       "        <td id=\"T_7b9c95b4_f3ec_11e8_ba83_542696cdec3frow0_col1\" class=\"data row0 col1\" >26</td> \n",
       "        <td id=\"T_7b9c95b4_f3ec_11e8_ba83_542696cdec3frow0_col2\" class=\"data row0 col2\" >26</td> \n",
       "    </tr>    <tr> \n",
       "        <th id=\"T_7b9c95b4_f3ec_11e8_ba83_542696cdec3flevel0_row1\" class=\"row_heading level0 row1\" >2019.01.18</th> \n",
       "        <td id=\"T_7b9c95b4_f3ec_11e8_ba83_542696cdec3frow1_col0\" class=\"data row1 col0\" >26</td> \n",
       "        <td id=\"T_7b9c95b4_f3ec_11e8_ba83_542696cdec3frow1_col1\" class=\"data row1 col1\" >27</td> \n",
       "        <td id=\"T_7b9c95b4_f3ec_11e8_ba83_542696cdec3frow1_col2\" class=\"data row1 col2\" >28</td> \n",
       "    </tr>    <tr> \n",
       "        <th id=\"T_7b9c95b4_f3ec_11e8_ba83_542696cdec3flevel0_row2\" class=\"row_heading level0 row2\" >2019.02.15</th> \n",
       "        <td id=\"T_7b9c95b4_f3ec_11e8_ba83_542696cdec3frow2_col0\" class=\"data row2 col0\" >27</td> \n",
       "        <td id=\"T_7b9c95b4_f3ec_11e8_ba83_542696cdec3frow2_col1\" class=\"data row2 col1\" >28</td> \n",
       "        <td id=\"T_7b9c95b4_f3ec_11e8_ba83_542696cdec3frow2_col2\" class=\"data row2 col2\" >29</td> \n",
       "    </tr></tbody> \n",
       "</table> "
      ],
      "text/plain": [
       "<pandas.io.formats.style.Styler at 0xb18e2bd68>"
      ]
     },
     "metadata": {},
     "output_type": "display_data"
    },
    {
     "data": {
      "text/html": [
       "<style  type=\"text/css\" >\n",
       "</style>  \n",
       "<table id=\"T_7b9dc880_f3ec_11e8_94a8_542696cdec3f\" > \n",
       "<thead>    <tr> \n",
       "        <th class=\"blank level0\" ></th> \n",
       "        <th class=\"col_heading level0 col0\" >-1.0</th> \n",
       "        <th class=\"col_heading level0 col1\" >-1.5</th> \n",
       "        <th class=\"col_heading level0 col2\" >-2.0</th> \n",
       "    </tr>    <tr> \n",
       "        <th class=\"index_name level0\" >Lev 3</th> \n",
       "        <th class=\"blank\" ></th> \n",
       "        <th class=\"blank\" ></th> \n",
       "        <th class=\"blank\" ></th> \n",
       "    </tr></thead> \n",
       "<tbody>    <tr> \n",
       "        <th id=\"T_7b9dc880_f3ec_11e8_94a8_542696cdec3flevel0_row0\" class=\"row_heading level0 row0\" >2018.12.21</th> \n",
       "        <td id=\"T_7b9dc880_f3ec_11e8_94a8_542696cdec3frow0_col0\" class=\"data row0 col0\" >38</td> \n",
       "        <td id=\"T_7b9dc880_f3ec_11e8_94a8_542696cdec3frow0_col1\" class=\"data row0 col1\" >39</td> \n",
       "        <td id=\"T_7b9dc880_f3ec_11e8_94a8_542696cdec3frow0_col2\" class=\"data row0 col2\" >39</td> \n",
       "    </tr>    <tr> \n",
       "        <th id=\"T_7b9dc880_f3ec_11e8_94a8_542696cdec3flevel0_row1\" class=\"row_heading level0 row1\" >2019.01.18</th> \n",
       "        <td id=\"T_7b9dc880_f3ec_11e8_94a8_542696cdec3frow1_col0\" class=\"data row1 col0\" >39</td> \n",
       "        <td id=\"T_7b9dc880_f3ec_11e8_94a8_542696cdec3frow1_col1\" class=\"data row1 col1\" >40</td> \n",
       "        <td id=\"T_7b9dc880_f3ec_11e8_94a8_542696cdec3frow1_col2\" class=\"data row1 col2\" >41</td> \n",
       "    </tr>    <tr> \n",
       "        <th id=\"T_7b9dc880_f3ec_11e8_94a8_542696cdec3flevel0_row2\" class=\"row_heading level0 row2\" >2019.02.15</th> \n",
       "        <td id=\"T_7b9dc880_f3ec_11e8_94a8_542696cdec3frow2_col0\" class=\"data row2 col0\" >40</td> \n",
       "        <td id=\"T_7b9dc880_f3ec_11e8_94a8_542696cdec3frow2_col1\" class=\"data row2 col1\" >42</td> \n",
       "        <td id=\"T_7b9dc880_f3ec_11e8_94a8_542696cdec3frow2_col2\" class=\"data row2 col2\" >44</td> \n",
       "    </tr></tbody> \n",
       "</table> "
      ],
      "text/plain": [
       "<pandas.io.formats.style.Styler at 0x1032a1208>"
      ]
     },
     "metadata": {},
     "output_type": "display_data"
    }
   ],
   "source": [
    "\n",
    "_ = [display(contractTable.round().style.format('{:.0f}')) for \\\n",
    "     contractTable in trd_choice.option_lots(leverage, capital_at_risk)]\n",
    "    "
   ]
  },
  {
   "cell_type": "code",
   "execution_count": 20,
   "metadata": {},
   "outputs": [
    {
     "data": {
      "text/html": [
       "<style  type=\"text/css\" >\n",
       "</style>  \n",
       "<table id=\"T_7c2733ae_f3ec_11e8_861e_542696cdec3f\" > \n",
       "<thead>    <tr> \n",
       "        <th class=\"blank level0\" ></th> \n",
       "        <th class=\"col_heading level0 col0\" >-1.0</th> \n",
       "        <th class=\"col_heading level0 col1\" >-1.5</th> \n",
       "        <th class=\"col_heading level0 col2\" >-2.0</th> \n",
       "    </tr></thead> \n",
       "<tbody>    <tr> \n",
       "        <th id=\"T_7c2733ae_f3ec_11e8_861e_542696cdec3flevel0_row0\" class=\"row_heading level0 row0\" >2018.12.21</th> \n",
       "        <td id=\"T_7c2733ae_f3ec_11e8_861e_542696cdec3frow0_col0\" class=\"data row0 col0\" >$556,678</td> \n",
       "        <td id=\"T_7c2733ae_f3ec_11e8_861e_542696cdec3frow0_col1\" class=\"data row0 col1\" >$470,358</td> \n",
       "        <td id=\"T_7c2733ae_f3ec_11e8_861e_542696cdec3frow0_col2\" class=\"data row0 col2\" >$401,458</td> \n",
       "    </tr>    <tr> \n",
       "        <th id=\"T_7c2733ae_f3ec_11e8_861e_542696cdec3flevel0_row1\" class=\"row_heading level0 row1\" >2019.01.18</th> \n",
       "        <td id=\"T_7c2733ae_f3ec_11e8_861e_542696cdec3frow1_col0\" class=\"data row1 col0\" >$486,673</td> \n",
       "        <td id=\"T_7c2733ae_f3ec_11e8_861e_542696cdec3frow1_col1\" class=\"data row1 col1\" >$351,213</td> \n",
       "        <td id=\"T_7c2733ae_f3ec_11e8_861e_542696cdec3frow1_col2\" class=\"data row1 col2\" >$344,610</td> \n",
       "    </tr>    <tr> \n",
       "        <th id=\"T_7c2733ae_f3ec_11e8_861e_542696cdec3flevel0_row2\" class=\"row_heading level0 row2\" >2019.02.15</th> \n",
       "        <td id=\"T_7c2733ae_f3ec_11e8_861e_542696cdec3frow2_col0\" class=\"data row2 col0\" >$407,763</td> \n",
       "        <td id=\"T_7c2733ae_f3ec_11e8_861e_542696cdec3frow2_col1\" class=\"data row2 col1\" >$349,930</td> \n",
       "        <td id=\"T_7c2733ae_f3ec_11e8_861e_542696cdec3frow2_col2\" class=\"data row2 col2\" >$355,200</td> \n",
       "    </tr></tbody> \n",
       "</table> "
      ],
      "text/plain": [
       "<pandas.io.formats.style.Styler at 0x101be5128>"
      ]
     },
     "metadata": {},
     "output_type": "display_data"
    },
    {
     "data": {
      "text/html": [
       "<style  type=\"text/css\" >\n",
       "</style>  \n",
       "<table id=\"T_7c27ebc8_f3ec_11e8_9333_542696cdec3f\" > \n",
       "<thead>    <tr> \n",
       "        <th class=\"blank level0\" ></th> \n",
       "        <th class=\"col_heading level0 col0\" >-1.0</th> \n",
       "        <th class=\"col_heading level0 col1\" >-1.5</th> \n",
       "        <th class=\"col_heading level0 col2\" >-2.0</th> \n",
       "    </tr></thead> \n",
       "<tbody>    <tr> \n",
       "        <th id=\"T_7c27ebc8_f3ec_11e8_9333_542696cdec3flevel0_row0\" class=\"row_heading level0 row0\" >2018.12.21</th> \n",
       "        <td id=\"T_7c27ebc8_f3ec_11e8_9333_542696cdec3frow0_col0\" class=\"data row0 col0\" >$1,070,535</td> \n",
       "        <td id=\"T_7c27ebc8_f3ec_11e8_9333_542696cdec3frow0_col1\" class=\"data row0 col1\" >$940,716</td> \n",
       "        <td id=\"T_7c27ebc8_f3ec_11e8_9333_542696cdec3frow0_col2\" class=\"data row0 col2\" >$802,916</td> \n",
       "    </tr>    <tr> \n",
       "        <th id=\"T_7c27ebc8_f3ec_11e8_9333_542696cdec3flevel0_row1\" class=\"row_heading level0 row1\" >2019.01.18</th> \n",
       "        <td id=\"T_7c27ebc8_f3ec_11e8_9333_542696cdec3frow1_col0\" class=\"data row1 col0\" >$973,346</td> \n",
       "        <td id=\"T_7c27ebc8_f3ec_11e8_9333_542696cdec3frow1_col1\" class=\"data row1 col1\" >$729,443</td> \n",
       "        <td id=\"T_7c27ebc8_f3ec_11e8_9333_542696cdec3frow1_col2\" class=\"data row1 col2\" >$689,220</td> \n",
       "    </tr>    <tr> \n",
       "        <th id=\"T_7c27ebc8_f3ec_11e8_9333_542696cdec3flevel0_row2\" class=\"row_heading level0 row2\" >2019.02.15</th> \n",
       "        <td id=\"T_7c27ebc8_f3ec_11e8_9333_542696cdec3frow2_col0\" class=\"data row2 col0\" >$846,893</td> \n",
       "        <td id=\"T_7c27ebc8_f3ec_11e8_9333_542696cdec3frow2_col1\" class=\"data row2 col1\" >$699,860</td> \n",
       "        <td id=\"T_7c27ebc8_f3ec_11e8_9333_542696cdec3frow2_col2\" class=\"data row2 col2\" >$686,720</td> \n",
       "    </tr></tbody> \n",
       "</table> "
      ],
      "text/plain": [
       "<pandas.io.formats.style.Styler at 0xb189ca7f0>"
      ]
     },
     "metadata": {},
     "output_type": "display_data"
    },
    {
     "data": {
      "text/html": [
       "<style  type=\"text/css\" >\n",
       "</style>  \n",
       "<table id=\"T_7c28ce12_f3ec_11e8_8a16_542696cdec3f\" > \n",
       "<thead>    <tr> \n",
       "        <th class=\"blank level0\" ></th> \n",
       "        <th class=\"col_heading level0 col0\" >-1.0</th> \n",
       "        <th class=\"col_heading level0 col1\" >-1.5</th> \n",
       "        <th class=\"col_heading level0 col2\" >-2.0</th> \n",
       "    </tr></thead> \n",
       "<tbody>    <tr> \n",
       "        <th id=\"T_7c28ce12_f3ec_11e8_8a16_542696cdec3flevel0_row0\" class=\"row_heading level0 row0\" >2018.12.21</th> \n",
       "        <td id=\"T_7c28ce12_f3ec_11e8_8a16_542696cdec3frow0_col0\" class=\"data row0 col0\" >$1,627,213</td> \n",
       "        <td id=\"T_7c28ce12_f3ec_11e8_8a16_542696cdec3frow0_col1\" class=\"data row0 col1\" >$1,411,075</td> \n",
       "        <td id=\"T_7c28ce12_f3ec_11e8_8a16_542696cdec3frow0_col2\" class=\"data row0 col2\" >$1,204,375</td> \n",
       "    </tr>    <tr> \n",
       "        <th id=\"T_7c28ce12_f3ec_11e8_8a16_542696cdec3flevel0_row1\" class=\"row_heading level0 row1\" >2019.01.18</th> \n",
       "        <td id=\"T_7c28ce12_f3ec_11e8_8a16_542696cdec3frow1_col0\" class=\"data row1 col0\" >$1,460,020</td> \n",
       "        <td id=\"T_7c28ce12_f3ec_11e8_8a16_542696cdec3frow1_col1\" class=\"data row1 col1\" >$1,080,656</td> \n",
       "        <td id=\"T_7c28ce12_f3ec_11e8_8a16_542696cdec3frow1_col2\" class=\"data row1 col2\" >$1,009,215</td> \n",
       "    </tr>    <tr> \n",
       "        <th id=\"T_7c28ce12_f3ec_11e8_8a16_542696cdec3flevel0_row2\" class=\"row_heading level0 row2\" >2019.02.15</th> \n",
       "        <td id=\"T_7c28ce12_f3ec_11e8_8a16_542696cdec3frow2_col0\" class=\"data row2 col0\" >$1,254,656</td> \n",
       "        <td id=\"T_7c28ce12_f3ec_11e8_8a16_542696cdec3frow2_col1\" class=\"data row2 col1\" >$1,049,790</td> \n",
       "        <td id=\"T_7c28ce12_f3ec_11e8_8a16_542696cdec3frow2_col2\" class=\"data row2 col2\" >$1,041,920</td> \n",
       "    </tr></tbody> \n",
       "</table> "
      ],
      "text/plain": [
       "<pandas.io.formats.style.Styler at 0x103285e80>"
      ]
     },
     "metadata": {},
     "output_type": "display_data"
    }
   ],
   "source": [
    "margin_dlr = [trd_choice.margin(last_price) * df for df in trd_choice.option_lots(leverage, capital_at_risk)]\n",
    "_ = [display(df.style.format('${:,.0f}')) for df in margin_dlr]  "
   ]
  },
  {
   "cell_type": "code",
   "execution_count": 10,
   "metadata": {},
   "outputs": [
    {
     "data": {
      "text/html": [
       "<style  type=\"text/css\" >\n",
       "</style>  \n",
       "<table id=\"T_3f244b30_f3e8_11e8_9264_542696cdec3f\" > \n",
       "<thead>    <tr> \n",
       "        <th class=\"blank level0\" ></th> \n",
       "        <th class=\"col_heading level0 col0\" >-1.0</th> \n",
       "        <th class=\"col_heading level0 col1\" >-1.5</th> \n",
       "        <th class=\"col_heading level0 col2\" >-2.0</th> \n",
       "    </tr>    <tr> \n",
       "        <th class=\"index_name level0\" >Lev 2</th> \n",
       "        <th class=\"blank\" ></th> \n",
       "        <th class=\"blank\" ></th> \n",
       "        <th class=\"blank\" ></th> \n",
       "    </tr></thead> \n",
       "<tbody>    <tr> \n",
       "        <th id=\"T_3f244b30_f3e8_11e8_9264_542696cdec3flevel0_row0\" class=\"row_heading level0 row0\" >2018.12.21</th> \n",
       "        <td id=\"T_3f244b30_f3e8_11e8_9264_542696cdec3frow0_col0\" class=\"data row0 col0\" >$1,080,395</td> \n",
       "        <td id=\"T_3f244b30_f3e8_11e8_9264_542696cdec3frow0_col1\" class=\"data row0 col1\" >$951,361</td> \n",
       "        <td id=\"T_3f244b30_f3e8_11e8_9264_542696cdec3frow0_col2\" class=\"data row0 col2\" >$827,471</td> \n",
       "    </tr>    <tr> \n",
       "        <th id=\"T_3f244b30_f3e8_11e8_9264_542696cdec3flevel0_row1\" class=\"row_heading level0 row1\" >2019.01.18</th> \n",
       "        <td id=\"T_3f244b30_f3e8_11e8_9264_542696cdec3frow1_col0\" class=\"data row1 col0\" >$983,861</td> \n",
       "        <td id=\"T_3f244b30_f3e8_11e8_9264_542696cdec3frow1_col1\" class=\"data row1 col1\" >$755,347</td> \n",
       "        <td id=\"T_3f244b30_f3e8_11e8_9264_542696cdec3frow1_col2\" class=\"data row1 col2\" >$692,020</td> \n",
       "    </tr>    <tr> \n",
       "        <th id=\"T_3f244b30_f3e8_11e8_9264_542696cdec3flevel0_row2\" class=\"row_heading level0 row2\" >2019.02.15</th> \n",
       "        <td id=\"T_3f244b30_f3e8_11e8_9264_542696cdec3frow2_col0\" class=\"data row2 col0\" >$873,337</td> \n",
       "        <td id=\"T_3f244b30_f3e8_11e8_9264_542696cdec3frow2_col1\" class=\"data row2 col1\" >$702,940</td> \n",
       "        <td id=\"T_3f244b30_f3e8_11e8_9264_542696cdec3frow2_col2\" class=\"data row2 col2\" >$691,940</td> \n",
       "    </tr></tbody> \n",
       "</table> "
      ],
      "text/plain": [
       "<pandas.io.formats.style.Styler at 0xb18d67780>"
      ]
     },
     "metadata": {},
     "output_type": "display_data"
    }
   ],
   "source": [
    "marge = trd_choice.margin(trd_choice.spot)\n",
    "lots = trd_choice.option_lots([2], capital_at_risk)\n",
    "margin = lots[0] * marge\n",
    "display(margin.style.format('${:,.0f}'))"
   ]
  },
  {
   "cell_type": "code",
   "execution_count": 11,
   "metadata": {},
   "outputs": [
    {
     "data": {
      "text/html": [
       "<style  type=\"text/css\" >\n",
       "</style>  \n",
       "<table id=\"T_3fb349ac_f3e8_11e8_88be_542696cdec3f\" > \n",
       "<thead>    <tr> \n",
       "        <th class=\"blank level0\" ></th> \n",
       "        <th class=\"col_heading level0 col0\" >-1.0</th> \n",
       "        <th class=\"col_heading level0 col1\" >-1.5</th> \n",
       "        <th class=\"col_heading level0 col2\" >-2.0</th> \n",
       "    </tr>    <tr> \n",
       "        <th class=\"index_name level0\" >Lev 1</th> \n",
       "        <th class=\"blank\" ></th> \n",
       "        <th class=\"blank\" ></th> \n",
       "        <th class=\"blank\" ></th> \n",
       "    </tr></thead> \n",
       "<tbody>    <tr> \n",
       "        <th id=\"T_3fb349ac_f3e8_11e8_88be_542696cdec3flevel0_row0\" class=\"row_heading level0 row0\" >2018.12.21</th> \n",
       "        <td id=\"T_3fb349ac_f3e8_11e8_88be_542696cdec3frow0_col0\" class=\"data row0 col0\" >$3,386,500</td> \n",
       "        <td id=\"T_3fb349ac_f3e8_11e8_88be_542696cdec3frow0_col1\" class=\"data row0 col1\" >$3,308,500</td> \n",
       "        <td id=\"T_3fb349ac_f3e8_11e8_88be_542696cdec3frow0_col2\" class=\"data row0 col2\" >$3,250,000</td> \n",
       "    </tr>    <tr> \n",
       "        <th id=\"T_3fb349ac_f3e8_11e8_88be_542696cdec3flevel0_row1\" class=\"row_heading level0 row1\" >2019.01.18</th> \n",
       "        <td id=\"T_3fb349ac_f3e8_11e8_88be_542696cdec3frow1_col0\" class=\"data row1 col0\" >$3,308,500</td> \n",
       "        <td id=\"T_3fb349ac_f3e8_11e8_88be_542696cdec3frow1_col1\" class=\"data row1 col1\" >$3,191,500</td> \n",
       "        <td id=\"T_3fb349ac_f3e8_11e8_88be_542696cdec3frow1_col2\" class=\"data row1 col2\" >$3,346,000</td> \n",
       "    </tr>    <tr> \n",
       "        <th id=\"T_3fb349ac_f3e8_11e8_88be_542696cdec3flevel0_row2\" class=\"row_heading level0 row2\" >2019.02.15</th> \n",
       "        <td id=\"T_3fb349ac_f3e8_11e8_88be_542696cdec3frow2_col0\" class=\"data row2 col0\" >$3,230,500</td> \n",
       "        <td id=\"T_3fb349ac_f3e8_11e8_88be_542696cdec3frow2_col1\" class=\"data row2 col1\" >$3,311,000</td> \n",
       "        <td id=\"T_3fb349ac_f3e8_11e8_88be_542696cdec3frow2_col2\" class=\"data row2 col2\" >$3,199,000</td> \n",
       "    </tr></tbody> \n",
       "</table> "
      ],
      "text/plain": [
       "<pandas.io.formats.style.Styler at 0xb18e09128>"
      ]
     },
     "metadata": {},
     "output_type": "display_data"
    },
    {
     "data": {
      "text/html": [
       "<style  type=\"text/css\" >\n",
       "</style>  \n",
       "<table id=\"T_3fb41b52_f3e8_11e8_b30b_542696cdec3f\" > \n",
       "<thead>    <tr> \n",
       "        <th class=\"blank level0\" ></th> \n",
       "        <th class=\"col_heading level0 col0\" >-1.0</th> \n",
       "        <th class=\"col_heading level0 col1\" >-1.5</th> \n",
       "        <th class=\"col_heading level0 col2\" >-2.0</th> \n",
       "    </tr>    <tr> \n",
       "        <th class=\"index_name level0\" >Lev 2</th> \n",
       "        <th class=\"blank\" ></th> \n",
       "        <th class=\"blank\" ></th> \n",
       "        <th class=\"blank\" ></th> \n",
       "    </tr></thead> \n",
       "<tbody>    <tr> \n",
       "        <th id=\"T_3fb41b52_f3e8_11e8_b30b_542696cdec3flevel0_row0\" class=\"row_heading level0 row0\" >2018.12.21</th> \n",
       "        <td id=\"T_3fb41b52_f3e8_11e8_b30b_542696cdec3frow0_col0\" class=\"data row0 col0\" >$6,512,500</td> \n",
       "        <td id=\"T_3fb41b52_f3e8_11e8_b30b_542696cdec3frow0_col1\" class=\"data row0 col1\" >$6,617,000</td> \n",
       "        <td id=\"T_3fb41b52_f3e8_11e8_b30b_542696cdec3frow0_col2\" class=\"data row0 col2\" >$6,500,000</td> \n",
       "    </tr>    <tr> \n",
       "        <th id=\"T_3fb41b52_f3e8_11e8_b30b_542696cdec3flevel0_row1\" class=\"row_heading level0 row1\" >2019.01.18</th> \n",
       "        <td id=\"T_3fb41b52_f3e8_11e8_b30b_542696cdec3frow1_col0\" class=\"data row1 col0\" >$6,617,000</td> \n",
       "        <td id=\"T_3fb41b52_f3e8_11e8_b30b_542696cdec3frow1_col1\" class=\"data row1 col1\" >$6,628,500</td> \n",
       "        <td id=\"T_3fb41b52_f3e8_11e8_b30b_542696cdec3frow1_col2\" class=\"data row1 col2\" >$6,692,000</td> \n",
       "    </tr>    <tr> \n",
       "        <th id=\"T_3fb41b52_f3e8_11e8_b30b_542696cdec3flevel0_row2\" class=\"row_heading level0 row2\" >2019.02.15</th> \n",
       "        <td id=\"T_3fb41b52_f3e8_11e8_b30b_542696cdec3frow2_col0\" class=\"data row2 col0\" >$6,709,500</td> \n",
       "        <td id=\"T_3fb41b52_f3e8_11e8_b30b_542696cdec3frow2_col1\" class=\"data row2 col1\" >$6,622,000</td> \n",
       "        <td id=\"T_3fb41b52_f3e8_11e8_b30b_542696cdec3frow2_col2\" class=\"data row2 col2\" >$6,626,500</td> \n",
       "    </tr></tbody> \n",
       "</table> "
      ],
      "text/plain": [
       "<pandas.io.formats.style.Styler at 0xb18e094a8>"
      ]
     },
     "metadata": {},
     "output_type": "display_data"
    },
    {
     "data": {
      "text/html": [
       "<style  type=\"text/css\" >\n",
       "</style>  \n",
       "<table id=\"T_3fb4dcf4_f3e8_11e8_bd2f_542696cdec3f\" > \n",
       "<thead>    <tr> \n",
       "        <th class=\"blank level0\" ></th> \n",
       "        <th class=\"col_heading level0 col0\" >-1.0</th> \n",
       "        <th class=\"col_heading level0 col1\" >-1.5</th> \n",
       "        <th class=\"col_heading level0 col2\" >-2.0</th> \n",
       "    </tr>    <tr> \n",
       "        <th class=\"index_name level0\" >Lev 3</th> \n",
       "        <th class=\"blank\" ></th> \n",
       "        <th class=\"blank\" ></th> \n",
       "        <th class=\"blank\" ></th> \n",
       "    </tr></thead> \n",
       "<tbody>    <tr> \n",
       "        <th id=\"T_3fb4dcf4_f3e8_11e8_bd2f_542696cdec3flevel0_row0\" class=\"row_heading level0 row0\" >2018.12.21</th> \n",
       "        <td id=\"T_3fb4dcf4_f3e8_11e8_bd2f_542696cdec3frow0_col0\" class=\"data row0 col0\" >$9,899,000</td> \n",
       "        <td id=\"T_3fb4dcf4_f3e8_11e8_bd2f_542696cdec3frow0_col1\" class=\"data row0 col1\" >$9,925,500</td> \n",
       "        <td id=\"T_3fb4dcf4_f3e8_11e8_bd2f_542696cdec3frow0_col2\" class=\"data row0 col2\" >$9,750,000</td> \n",
       "    </tr>    <tr> \n",
       "        <th id=\"T_3fb4dcf4_f3e8_11e8_bd2f_542696cdec3flevel0_row1\" class=\"row_heading level0 row1\" >2019.01.18</th> \n",
       "        <td id=\"T_3fb4dcf4_f3e8_11e8_bd2f_542696cdec3frow1_col0\" class=\"data row1 col0\" >$9,925,500</td> \n",
       "        <td id=\"T_3fb4dcf4_f3e8_11e8_bd2f_542696cdec3frow1_col1\" class=\"data row1 col1\" >$9,820,000</td> \n",
       "        <td id=\"T_3fb4dcf4_f3e8_11e8_bd2f_542696cdec3frow1_col2\" class=\"data row1 col2\" >$9,799,000</td> \n",
       "    </tr>    <tr> \n",
       "        <th id=\"T_3fb4dcf4_f3e8_11e8_bd2f_542696cdec3flevel0_row2\" class=\"row_heading level0 row2\" >2019.02.15</th> \n",
       "        <td id=\"T_3fb4dcf4_f3e8_11e8_bd2f_542696cdec3frow2_col0\" class=\"data row2 col0\" >$9,940,000</td> \n",
       "        <td id=\"T_3fb4dcf4_f3e8_11e8_bd2f_542696cdec3frow2_col1\" class=\"data row2 col1\" >$9,933,000</td> \n",
       "        <td id=\"T_3fb4dcf4_f3e8_11e8_bd2f_542696cdec3frow2_col2\" class=\"data row2 col2\" >$9,825,500</td> \n",
       "    </tr></tbody> \n",
       "</table> "
      ],
      "text/plain": [
       "<pandas.io.formats.style.Styler at 0xb18e09ac8>"
      ]
     },
     "metadata": {},
     "output_type": "display_data"
    }
   ],
   "source": [
    "notional_dlr=[df * trd_choice.strike_grid() * 100 for df in trd_choice.option_lots(leverage, capital_at_risk)]\n",
    "_ = [display(df.style.format('${:,.0f}')) for df in notional_dlr]  "
   ]
  },
  {
   "cell_type": "code",
   "execution_count": 12,
   "metadata": {},
   "outputs": [
    {
     "data": {
      "text/plain": [
       "3265240.1952"
      ]
     },
     "execution_count": 12,
     "metadata": {},
     "output_type": "execute_result"
    }
   ],
   "source": [
    "capital_at_risk"
   ]
  },
  {
   "cell_type": "code",
   "execution_count": null,
   "metadata": {},
   "outputs": [],
   "source": []
  }
 ],
 "metadata": {
  "kernelspec": {
   "display_name": "Python 3",
   "language": "python",
   "name": "python3"
  },
  "language_info": {
   "codemirror_mode": {
    "name": "ipython",
    "version": 3
   },
   "file_extension": ".py",
   "mimetype": "text/x-python",
   "name": "python",
   "nbconvert_exporter": "python",
   "pygments_lexer": "ipython3",
   "version": "3.6.6"
  }
 },
 "nbformat": 4,
 "nbformat_minor": 2
}
