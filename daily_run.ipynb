{
 "cells": [
  {
   "cell_type": "markdown",
   "metadata": {},
   "source": [
    "daily_run estimates strikes, number of contracts for a put selling strategy on S&P 500 based on \"Cost of Capital for Alternatives\" - Data requires either an open session of IB Gateway or TWS from Inter-active brokers"
   ]
  },
  {
   "cell_type": "code",
   "execution_count": 1,
   "metadata": {},
   "outputs": [
    {
     "name": "stdout",
     "output_type": "stream",
     "text": [
      "Warning: RSL2 Using Fixed Dividend yield\n"
     ]
    }
   ],
   "source": [
    "from option_daily_prod import OptionMarket, SpxOptionAsset, RSL2OptionAsset\n",
    "import numpy as np\n",
    "import pandas as pd\n",
    "import nest_asyncio\n",
    "from time import time\n",
    "\n",
    "before = time()\n",
    "nest_asyncio.apply()\n",
    "\n",
    "spx_trades = OptionMarket(SpxOptionAsset())\n",
    "rsl_trades = OptionMarket(RSL2OptionAsset())"
   ]
  },
  {
   "cell_type": "code",
   "execution_count": 5,
   "metadata": {},
   "outputs": [
    {
     "name": "stdout",
     "output_type": "stream",
     "text": [
      "elapsed: 51.9\n",
      "elapsed: 64.0\n",
      "2670.72\n",
      "19.21\n",
      "[AccountValue(account='U2463043', tag='NetLiquidationByCurrency', value='2774291.3424', currency='BASE', modelCode='')]\n"
     ]
    }
   ],
   "source": [
    "z_score = np.array([-1, -1.5, -2])\n",
    "leverage = np.array(range(1, 4, 1))\n",
    "num_expiries = 3\n",
    "illiquid_equity = 500000\n",
    "after = time()\n",
    "spx = True\n",
    "if spx:\n",
    "    trd_choice = spx_trades.form_trade_choice(z_score, num_expiries, 'P')\n",
    "else:\n",
    "    trd_choice = rsl_trades.form_trade_choice(z_score, num_expiries, 'P')\n",
    "    \n",
    "last_price = trd_choice.spot\n",
    "after_2 = time()\n",
    "print('elapsed:', np.round(after - before, 1))\n",
    "print('elapsed:', np.round(after_2 - before, 1))\n",
    "print(last_price)\n",
    "print(trd_choice.sigma)\n",
    "print(trd_choice.account_value)"
   ]
  },
  {
   "cell_type": "code",
   "execution_count": 6,
   "metadata": {},
   "outputs": [
    {
     "data": {
      "text/html": [
       "<style>\n",
       ".output {\n",
       "    flex-direction:row;\n",
       "}\n",
       "</style>"
      ],
      "text/plain": [
       "<IPython.core.display.HTML object>"
      ]
     },
     "execution_count": 6,
     "metadata": {},
     "output_type": "execute_result"
    }
   ],
   "source": [
    "from IPython.display import display, HTML\n",
    "\n",
    "CSS = \"\"\"\n",
    ".output {\n",
    "    flex-direction:row;\n",
    "}\n",
    "\"\"\"\n",
    "HTML('<style>{}</style>'.format(CSS))\n"
   ]
  },
  {
   "cell_type": "code",
   "execution_count": 7,
   "metadata": {},
   "outputs": [
    {
     "data": {
      "text/html": [
       "<div>\n",
       "<style scoped>\n",
       "    .dataframe tbody tr th:only-of-type {\n",
       "        vertical-align: middle;\n",
       "    }\n",
       "\n",
       "    .dataframe tbody tr th {\n",
       "        vertical-align: top;\n",
       "    }\n",
       "\n",
       "    .dataframe thead th {\n",
       "        text-align: right;\n",
       "    }\n",
       "</style>\n",
       "<table border=\"1\" class=\"dataframe\">\n",
       "  <thead>\n",
       "    <tr style=\"text-align: right;\">\n",
       "      <th></th>\n",
       "      <th>-1.0</th>\n",
       "      <th>-1.5</th>\n",
       "      <th>-2.0</th>\n",
       "    </tr>\n",
       "  </thead>\n",
       "  <tbody>\n",
       "    <tr>\n",
       "      <th>2018.12.21</th>\n",
       "      <td>2540</td>\n",
       "      <td>2480</td>\n",
       "      <td>2440</td>\n",
       "    </tr>\n",
       "    <tr>\n",
       "      <th>2019.01.18</th>\n",
       "      <td>2475</td>\n",
       "      <td>2395</td>\n",
       "      <td>2330</td>\n",
       "    </tr>\n",
       "    <tr>\n",
       "      <th>2019.02.15</th>\n",
       "      <td>2415</td>\n",
       "      <td>2305</td>\n",
       "      <td>2230</td>\n",
       "    </tr>\n",
       "  </tbody>\n",
       "</table>\n",
       "</div>"
      ],
      "text/plain": [
       "            -1.0  -1.5  -2.0\n",
       "2018.12.21  2540  2480  2440\n",
       "2019.01.18  2475  2395  2330\n",
       "2019.02.15  2415  2305  2230"
      ]
     },
     "metadata": {},
     "output_type": "display_data"
    },
    {
     "data": {
      "text/html": [
       "<div>\n",
       "<style scoped>\n",
       "    .dataframe tbody tr th:only-of-type {\n",
       "        vertical-align: middle;\n",
       "    }\n",
       "\n",
       "    .dataframe tbody tr th {\n",
       "        vertical-align: top;\n",
       "    }\n",
       "\n",
       "    .dataframe thead th {\n",
       "        text-align: right;\n",
       "    }\n",
       "</style>\n",
       "<table border=\"1\" class=\"dataframe\">\n",
       "  <thead>\n",
       "    <tr style=\"text-align: right;\">\n",
       "      <th></th>\n",
       "      <th>-1.0</th>\n",
       "      <th>-1.5</th>\n",
       "      <th>-2.0</th>\n",
       "    </tr>\n",
       "  </thead>\n",
       "  <tbody>\n",
       "    <tr>\n",
       "      <th>2018.12.21</th>\n",
       "      <td>14.30</td>\n",
       "      <td>8.00</td>\n",
       "      <td>5.60</td>\n",
       "    </tr>\n",
       "    <tr>\n",
       "      <th>2019.01.18</th>\n",
       "      <td>20.75</td>\n",
       "      <td>12.75</td>\n",
       "      <td>8.65</td>\n",
       "    </tr>\n",
       "    <tr>\n",
       "      <th>2019.02.15</th>\n",
       "      <td>25.95</td>\n",
       "      <td>15.40</td>\n",
       "      <td>10.80</td>\n",
       "    </tr>\n",
       "  </tbody>\n",
       "</table>\n",
       "</div>"
      ],
      "text/plain": [
       "             -1.0   -1.5   -2.0\n",
       "2018.12.21  14.30   8.00   5.60\n",
       "2019.01.18  20.75  12.75   8.65\n",
       "2019.02.15  25.95  15.40  10.80"
      ]
     },
     "metadata": {},
     "output_type": "display_data"
    },
    {
     "data": {
      "text/html": [
       "<div>\n",
       "<style scoped>\n",
       "    .dataframe tbody tr th:only-of-type {\n",
       "        vertical-align: middle;\n",
       "    }\n",
       "\n",
       "    .dataframe tbody tr th {\n",
       "        vertical-align: top;\n",
       "    }\n",
       "\n",
       "    .dataframe thead th {\n",
       "        text-align: right;\n",
       "    }\n",
       "</style>\n",
       "<table border=\"1\" class=\"dataframe\">\n",
       "  <thead>\n",
       "    <tr style=\"text-align: right;\">\n",
       "      <th></th>\n",
       "      <th>-1.0</th>\n",
       "      <th>-1.5</th>\n",
       "      <th>-2.0</th>\n",
       "    </tr>\n",
       "  </thead>\n",
       "  <tbody>\n",
       "    <tr>\n",
       "      <th>2018.12.21</th>\n",
       "      <td>14.2/14.4</td>\n",
       "      <td>7.9/8.1</td>\n",
       "      <td>5.5/5.7</td>\n",
       "    </tr>\n",
       "    <tr>\n",
       "      <th>2019.01.18</th>\n",
       "      <td>20.5/21.0</td>\n",
       "      <td>12.6/12.9</td>\n",
       "      <td>8.5/8.8</td>\n",
       "    </tr>\n",
       "    <tr>\n",
       "      <th>2019.02.15</th>\n",
       "      <td>25.6/26.3</td>\n",
       "      <td>15.2/15.6</td>\n",
       "      <td>10.6/11.0</td>\n",
       "    </tr>\n",
       "  </tbody>\n",
       "</table>\n",
       "</div>"
      ],
      "text/plain": [
       "                 -1.0       -1.5       -2.0\n",
       "2018.12.21  14.2/14.4    7.9/8.1    5.5/5.7\n",
       "2019.01.18  20.5/21.0  12.6/12.9    8.5/8.8\n",
       "2019.02.15  25.6/26.3  15.2/15.6  10.6/11.0"
      ]
     },
     "metadata": {},
     "output_type": "display_data"
    }
   ],
   "source": [
    "_=[display(df) for df in [trd_choice.strike_grid(), trd_choice.premium_grid(), trd_choice.prices_grid()]]"
   ]
  },
  {
   "cell_type": "code",
   "execution_count": 8,
   "metadata": {},
   "outputs": [
    {
     "data": {
      "text/html": [
       "<style  type=\"text/css\" >\n",
       "</style>  \n",
       "<table id=\"T_185539e8_f1b7_11e8_93e5_685b35921c60\" > \n",
       "<thead>    <tr> \n",
       "        <th class=\"blank level0\" ></th> \n",
       "        <th class=\"col_heading level0 col0\" >-1.0</th> \n",
       "        <th class=\"col_heading level0 col1\" >-1.5</th> \n",
       "        <th class=\"col_heading level0 col2\" >-2.0</th> \n",
       "    </tr></thead> \n",
       "<tbody>    <tr> \n",
       "        <th id=\"T_185539e8_f1b7_11e8_93e5_685b35921c60level0_row0\" class=\"row_heading level0 row0\" >2018.12.21</th> \n",
       "        <td id=\"T_185539e8_f1b7_11e8_93e5_685b35921c60row0_col0\" class=\"data row0 col0\" >-4.89%</td> \n",
       "        <td id=\"T_185539e8_f1b7_11e8_93e5_685b35921c60row0_col1\" class=\"data row0 col1\" >-7.14%</td> \n",
       "        <td id=\"T_185539e8_f1b7_11e8_93e5_685b35921c60row0_col2\" class=\"data row0 col2\" >-8.64%</td> \n",
       "    </tr>    <tr> \n",
       "        <th id=\"T_185539e8_f1b7_11e8_93e5_685b35921c60level0_row1\" class=\"row_heading level0 row1\" >2019.01.18</th> \n",
       "        <td id=\"T_185539e8_f1b7_11e8_93e5_685b35921c60row1_col0\" class=\"data row1 col0\" >-7.33%</td> \n",
       "        <td id=\"T_185539e8_f1b7_11e8_93e5_685b35921c60row1_col1\" class=\"data row1 col1\" >-10.32%</td> \n",
       "        <td id=\"T_185539e8_f1b7_11e8_93e5_685b35921c60row1_col2\" class=\"data row1 col2\" >-12.76%</td> \n",
       "    </tr>    <tr> \n",
       "        <th id=\"T_185539e8_f1b7_11e8_93e5_685b35921c60level0_row2\" class=\"row_heading level0 row2\" >2019.02.15</th> \n",
       "        <td id=\"T_185539e8_f1b7_11e8_93e5_685b35921c60row2_col0\" class=\"data row2 col0\" >-9.57%</td> \n",
       "        <td id=\"T_185539e8_f1b7_11e8_93e5_685b35921c60row2_col1\" class=\"data row2 col1\" >-13.69%</td> \n",
       "        <td id=\"T_185539e8_f1b7_11e8_93e5_685b35921c60row2_col2\" class=\"data row2 col2\" >-16.50%</td> \n",
       "    </tr></tbody> \n",
       "</table> "
      ],
      "text/plain": [
       "<pandas.io.formats.style.Styler at 0xb210aa0b8>"
      ]
     },
     "metadata": {},
     "output_type": "display_data"
    }
   ],
   "source": [
    "\n",
    "prct_decline = trd_choice.pct_otm_grid(last_price)\n",
    "format_dict = {x: '{:.2%}' for x in prct_decline.to_dict()}\n",
    "display(prct_decline.style.format(format_dict))"
   ]
  },
  {
   "cell_type": "code",
   "execution_count": 9,
   "metadata": {
    "scrolled": false
   },
   "outputs": [
    {
     "data": {
      "text/html": [
       "<style  type=\"text/css\" >\n",
       "</style>  \n",
       "<table id=\"T_191f82a2_f1b7_11e8_93e5_685b35921c60\" > \n",
       "<thead>    <tr> \n",
       "        <th class=\"blank level0\" ></th> \n",
       "        <th class=\"col_heading level0 col0\" >-1.0</th> \n",
       "        <th class=\"col_heading level0 col1\" >-1.5</th> \n",
       "        <th class=\"col_heading level0 col2\" >-2.0</th> \n",
       "    </tr></thead> \n",
       "<tbody>    <tr> \n",
       "        <th id=\"T_191f82a2_f1b7_11e8_93e5_685b35921c60level0_row0\" class=\"row_heading level0 row0\" >2018.12.21</th> \n",
       "        <td id=\"T_191f82a2_f1b7_11e8_93e5_685b35921c60row0_col0\" class=\"data row0 col0\" >$18,590</td> \n",
       "        <td id=\"T_191f82a2_f1b7_11e8_93e5_685b35921c60row0_col1\" class=\"data row0 col1\" >$10,400</td> \n",
       "        <td id=\"T_191f82a2_f1b7_11e8_93e5_685b35921c60row0_col2\" class=\"data row0 col2\" >$7,280</td> \n",
       "    </tr>    <tr> \n",
       "        <th id=\"T_191f82a2_f1b7_11e8_93e5_685b35921c60level0_row1\" class=\"row_heading level0 row1\" >2019.01.18</th> \n",
       "        <td id=\"T_191f82a2_f1b7_11e8_93e5_685b35921c60row1_col0\" class=\"data row1 col0\" >$26,975</td> \n",
       "        <td id=\"T_191f82a2_f1b7_11e8_93e5_685b35921c60row1_col1\" class=\"data row1 col1\" >$17,850</td> \n",
       "        <td id=\"T_191f82a2_f1b7_11e8_93e5_685b35921c60row1_col2\" class=\"data row1 col2\" >$12,110</td> \n",
       "    </tr>    <tr> \n",
       "        <th id=\"T_191f82a2_f1b7_11e8_93e5_685b35921c60level0_row2\" class=\"row_heading level0 row2\" >2019.02.15</th> \n",
       "        <td id=\"T_191f82a2_f1b7_11e8_93e5_685b35921c60row2_col0\" class=\"data row2 col0\" >$36,330</td> \n",
       "        <td id=\"T_191f82a2_f1b7_11e8_93e5_685b35921c60row2_col1\" class=\"data row2 col1\" >$21,560</td> \n",
       "        <td id=\"T_191f82a2_f1b7_11e8_93e5_685b35921c60row2_col2\" class=\"data row2 col2\" >$16,200</td> \n",
       "    </tr></tbody> \n",
       "</table> "
      ],
      "text/plain": [
       "<pandas.io.formats.style.Styler at 0xb20ac0be0>"
      ]
     },
     "metadata": {},
     "output_type": "display_data"
    },
    {
     "data": {
      "text/html": [
       "<style  type=\"text/css\" >\n",
       "</style>  \n",
       "<table id=\"T_191fddce_f1b7_11e8_93e5_685b35921c60\" > \n",
       "<thead>    <tr> \n",
       "        <th class=\"blank level0\" ></th> \n",
       "        <th class=\"col_heading level0 col0\" >-1.0</th> \n",
       "        <th class=\"col_heading level0 col1\" >-1.5</th> \n",
       "        <th class=\"col_heading level0 col2\" >-2.0</th> \n",
       "    </tr></thead> \n",
       "<tbody>    <tr> \n",
       "        <th id=\"T_191fddce_f1b7_11e8_93e5_685b35921c60level0_row0\" class=\"row_heading level0 row0\" >2018.12.21</th> \n",
       "        <td id=\"T_191fddce_f1b7_11e8_93e5_685b35921c60row0_col0\" class=\"data row0 col0\" >$37,180</td> \n",
       "        <td id=\"T_191fddce_f1b7_11e8_93e5_685b35921c60row0_col1\" class=\"data row0 col1\" >$21,600</td> \n",
       "        <td id=\"T_191fddce_f1b7_11e8_93e5_685b35921c60row0_col2\" class=\"data row0 col2\" >$15,120</td> \n",
       "    </tr>    <tr> \n",
       "        <th id=\"T_191fddce_f1b7_11e8_93e5_685b35921c60level0_row1\" class=\"row_heading level0 row1\" >2019.01.18</th> \n",
       "        <td id=\"T_191fddce_f1b7_11e8_93e5_685b35921c60row1_col0\" class=\"data row1 col0\" >$56,025</td> \n",
       "        <td id=\"T_191fddce_f1b7_11e8_93e5_685b35921c60row1_col1\" class=\"data row1 col1\" >$35,700</td> \n",
       "        <td id=\"T_191fddce_f1b7_11e8_93e5_685b35921c60row1_col2\" class=\"data row1 col2\" >$24,220</td> \n",
       "    </tr>    <tr> \n",
       "        <th id=\"T_191fddce_f1b7_11e8_93e5_685b35921c60level0_row2\" class=\"row_heading level0 row2\" >2019.02.15</th> \n",
       "        <td id=\"T_191fddce_f1b7_11e8_93e5_685b35921c60row2_col0\" class=\"data row2 col0\" >$72,660</td> \n",
       "        <td id=\"T_191fddce_f1b7_11e8_93e5_685b35921c60row2_col1\" class=\"data row2 col1\" >$44,660</td> \n",
       "        <td id=\"T_191fddce_f1b7_11e8_93e5_685b35921c60row2_col2\" class=\"data row2 col2\" >$32,400</td> \n",
       "    </tr></tbody> \n",
       "</table> "
      ],
      "text/plain": [
       "<pandas.io.formats.style.Styler at 0xb20ac0a58>"
      ]
     },
     "metadata": {},
     "output_type": "display_data"
    },
    {
     "data": {
      "text/html": [
       "<style  type=\"text/css\" >\n",
       "</style>  \n",
       "<table id=\"T_19203ee0_f1b7_11e8_93e5_685b35921c60\" > \n",
       "<thead>    <tr> \n",
       "        <th class=\"blank level0\" ></th> \n",
       "        <th class=\"col_heading level0 col0\" >-1.0</th> \n",
       "        <th class=\"col_heading level0 col1\" >-1.5</th> \n",
       "        <th class=\"col_heading level0 col2\" >-2.0</th> \n",
       "    </tr></thead> \n",
       "<tbody>    <tr> \n",
       "        <th id=\"T_19203ee0_f1b7_11e8_93e5_685b35921c60level0_row0\" class=\"row_heading level0 row0\" >2018.12.21</th> \n",
       "        <td id=\"T_19203ee0_f1b7_11e8_93e5_685b35921c60row0_col0\" class=\"data row0 col0\" >$55,770</td> \n",
       "        <td id=\"T_19203ee0_f1b7_11e8_93e5_685b35921c60row0_col1\" class=\"data row0 col1\" >$32,000</td> \n",
       "        <td id=\"T_19203ee0_f1b7_11e8_93e5_685b35921c60row0_col2\" class=\"data row0 col2\" >$22,400</td> \n",
       "    </tr>    <tr> \n",
       "        <th id=\"T_19203ee0_f1b7_11e8_93e5_685b35921c60level0_row1\" class=\"row_heading level0 row1\" >2019.01.18</th> \n",
       "        <td id=\"T_19203ee0_f1b7_11e8_93e5_685b35921c60row1_col0\" class=\"data row1 col0\" >$83,000</td> \n",
       "        <td id=\"T_19203ee0_f1b7_11e8_93e5_685b35921c60row1_col1\" class=\"data row1 col1\" >$52,275</td> \n",
       "        <td id=\"T_19203ee0_f1b7_11e8_93e5_685b35921c60row1_col2\" class=\"data row1 col2\" >$36,330</td> \n",
       "    </tr>    <tr> \n",
       "        <th id=\"T_19203ee0_f1b7_11e8_93e5_685b35921c60level0_row2\" class=\"row_heading level0 row2\" >2019.02.15</th> \n",
       "        <td id=\"T_19203ee0_f1b7_11e8_93e5_685b35921c60row2_col0\" class=\"data row2 col0\" >$106,395</td> \n",
       "        <td id=\"T_19203ee0_f1b7_11e8_93e5_685b35921c60row2_col1\" class=\"data row2 col1\" >$66,220</td> \n",
       "        <td id=\"T_19203ee0_f1b7_11e8_93e5_685b35921c60row2_col2\" class=\"data row2 col2\" >$47,520</td> \n",
       "    </tr></tbody> \n",
       "</table> "
      ],
      "text/plain": [
       "<pandas.io.formats.style.Styler at 0x11f6f29e8>"
      ]
     },
     "metadata": {},
     "output_type": "display_data"
    }
   ],
   "source": [
    "capital_at_risk = float(trd_choice.account_value[0].value) + illiquid_equity\n",
    "premium_list = []\n",
    "premium_list =  [(trd_choice.premium_grid() * contractTable.round() * 100) \\\n",
    "                 for contractTable in trd_choice.option_lots(leverage, capital_at_risk)]\n",
    "\n",
    "_ = [display(df.style.format('${:,.0f}')) for df in premium_list]  "
   ]
  },
  {
   "cell_type": "code",
   "execution_count": 10,
   "metadata": {},
   "outputs": [
    {
     "data": {
      "text/html": [
       "<style  type=\"text/css\" >\n",
       "</style>  \n",
       "<table id=\"T_19ab7960_f1b7_11e8_93e5_685b35921c60\" > \n",
       "<thead>    <tr> \n",
       "        <th class=\"blank level0\" ></th> \n",
       "        <th class=\"col_heading level0 col0\" >-1.0</th> \n",
       "        <th class=\"col_heading level0 col1\" >-1.5</th> \n",
       "        <th class=\"col_heading level0 col2\" >-2.0</th> \n",
       "    </tr></thead> \n",
       "<tbody>    <tr> \n",
       "        <th id=\"T_19ab7960_f1b7_11e8_93e5_685b35921c60level0_row0\" class=\"row_heading level0 row0\" >2018.12.21</th> \n",
       "        <td id=\"T_19ab7960_f1b7_11e8_93e5_685b35921c60row0_col0\" class=\"data row0 col0\" >0.54%</td> \n",
       "        <td id=\"T_19ab7960_f1b7_11e8_93e5_685b35921c60row0_col1\" class=\"data row0 col1\" >0.30%</td> \n",
       "        <td id=\"T_19ab7960_f1b7_11e8_93e5_685b35921c60row0_col2\" class=\"data row0 col2\" >0.21%</td> \n",
       "    </tr>    <tr> \n",
       "        <th id=\"T_19ab7960_f1b7_11e8_93e5_685b35921c60level0_row1\" class=\"row_heading level0 row1\" >2019.01.18</th> \n",
       "        <td id=\"T_19ab7960_f1b7_11e8_93e5_685b35921c60row1_col0\" class=\"data row1 col0\" >0.78%</td> \n",
       "        <td id=\"T_19ab7960_f1b7_11e8_93e5_685b35921c60row1_col1\" class=\"data row1 col1\" >0.48%</td> \n",
       "        <td id=\"T_19ab7960_f1b7_11e8_93e5_685b35921c60row1_col2\" class=\"data row1 col2\" >0.32%</td> \n",
       "    </tr>    <tr> \n",
       "        <th id=\"T_19ab7960_f1b7_11e8_93e5_685b35921c60level0_row2\" class=\"row_heading level0 row2\" >2019.02.15</th> \n",
       "        <td id=\"T_19ab7960_f1b7_11e8_93e5_685b35921c60row2_col0\" class=\"data row2 col0\" >0.97%</td> \n",
       "        <td id=\"T_19ab7960_f1b7_11e8_93e5_685b35921c60row2_col1\" class=\"data row2 col1\" >0.58%</td> \n",
       "        <td id=\"T_19ab7960_f1b7_11e8_93e5_685b35921c60row2_col2\" class=\"data row2 col2\" >0.40%</td> \n",
       "    </tr></tbody> \n",
       "</table> "
      ],
      "text/plain": [
       "<pandas.io.formats.style.Styler at 0xb20ac0400>"
      ]
     },
     "metadata": {},
     "output_type": "display_data"
    },
    {
     "data": {
      "text/html": [
       "<style  type=\"text/css\" >\n",
       "</style>  \n",
       "<table id=\"T_19abfe44_f1b7_11e8_93e5_685b35921c60\" > \n",
       "<thead>    <tr> \n",
       "        <th class=\"blank level0\" ></th> \n",
       "        <th class=\"col_heading level0 col0\" >-1.0</th> \n",
       "        <th class=\"col_heading level0 col1\" >-1.5</th> \n",
       "        <th class=\"col_heading level0 col2\" >-2.0</th> \n",
       "    </tr></thead> \n",
       "<tbody>    <tr> \n",
       "        <th id=\"T_19abfe44_f1b7_11e8_93e5_685b35921c60level0_row0\" class=\"row_heading level0 row0\" >2018.12.21</th> \n",
       "        <td id=\"T_19abfe44_f1b7_11e8_93e5_685b35921c60row0_col0\" class=\"data row0 col0\" >1.07%</td> \n",
       "        <td id=\"T_19abfe44_f1b7_11e8_93e5_685b35921c60row0_col1\" class=\"data row0 col1\" >0.60%</td> \n",
       "        <td id=\"T_19abfe44_f1b7_11e8_93e5_685b35921c60row0_col2\" class=\"data row0 col2\" >0.42%</td> \n",
       "    </tr>    <tr> \n",
       "        <th id=\"T_19abfe44_f1b7_11e8_93e5_685b35921c60level0_row1\" class=\"row_heading level0 row1\" >2019.01.18</th> \n",
       "        <td id=\"T_19abfe44_f1b7_11e8_93e5_685b35921c60row1_col0\" class=\"data row1 col0\" >1.55%</td> \n",
       "        <td id=\"T_19abfe44_f1b7_11e8_93e5_685b35921c60row1_col1\" class=\"data row1 col1\" >0.95%</td> \n",
       "        <td id=\"T_19abfe44_f1b7_11e8_93e5_685b35921c60row1_col2\" class=\"data row1 col2\" >0.65%</td> \n",
       "    </tr>    <tr> \n",
       "        <th id=\"T_19abfe44_f1b7_11e8_93e5_685b35921c60level0_row2\" class=\"row_heading level0 row2\" >2019.02.15</th> \n",
       "        <td id=\"T_19abfe44_f1b7_11e8_93e5_685b35921c60row2_col0\" class=\"data row2 col0\" >1.94%</td> \n",
       "        <td id=\"T_19abfe44_f1b7_11e8_93e5_685b35921c60row2_col1\" class=\"data row2 col1\" >1.15%</td> \n",
       "        <td id=\"T_19abfe44_f1b7_11e8_93e5_685b35921c60row2_col2\" class=\"data row2 col2\" >0.81%</td> \n",
       "    </tr></tbody> \n",
       "</table> "
      ],
      "text/plain": [
       "<pandas.io.formats.style.Styler at 0xb20b060b8>"
      ]
     },
     "metadata": {},
     "output_type": "display_data"
    },
    {
     "data": {
      "text/html": [
       "<style  type=\"text/css\" >\n",
       "</style>  \n",
       "<table id=\"T_19ac72f2_f1b7_11e8_93e5_685b35921c60\" > \n",
       "<thead>    <tr> \n",
       "        <th class=\"blank level0\" ></th> \n",
       "        <th class=\"col_heading level0 col0\" >-1.0</th> \n",
       "        <th class=\"col_heading level0 col1\" >-1.5</th> \n",
       "        <th class=\"col_heading level0 col2\" >-2.0</th> \n",
       "    </tr></thead> \n",
       "<tbody>    <tr> \n",
       "        <th id=\"T_19ac72f2_f1b7_11e8_93e5_685b35921c60level0_row0\" class=\"row_heading level0 row0\" >2018.12.21</th> \n",
       "        <td id=\"T_19ac72f2_f1b7_11e8_93e5_685b35921c60row0_col0\" class=\"data row0 col0\" >1.61%</td> \n",
       "        <td id=\"T_19ac72f2_f1b7_11e8_93e5_685b35921c60row0_col1\" class=\"data row0 col1\" >0.90%</td> \n",
       "        <td id=\"T_19ac72f2_f1b7_11e8_93e5_685b35921c60row0_col2\" class=\"data row0 col2\" >0.63%</td> \n",
       "    </tr>    <tr> \n",
       "        <th id=\"T_19ac72f2_f1b7_11e8_93e5_685b35921c60level0_row1\" class=\"row_heading level0 row1\" >2019.01.18</th> \n",
       "        <td id=\"T_19ac72f2_f1b7_11e8_93e5_685b35921c60row1_col0\" class=\"data row1 col0\" >2.33%</td> \n",
       "        <td id=\"T_19ac72f2_f1b7_11e8_93e5_685b35921c60row1_col1\" class=\"data row1 col1\" >1.43%</td> \n",
       "        <td id=\"T_19ac72f2_f1b7_11e8_93e5_685b35921c60row1_col2\" class=\"data row1 col2\" >0.97%</td> \n",
       "    </tr>    <tr> \n",
       "        <th id=\"T_19ac72f2_f1b7_11e8_93e5_685b35921c60level0_row2\" class=\"row_heading level0 row2\" >2019.02.15</th> \n",
       "        <td id=\"T_19ac72f2_f1b7_11e8_93e5_685b35921c60row2_col0\" class=\"data row2 col0\" >2.91%</td> \n",
       "        <td id=\"T_19ac72f2_f1b7_11e8_93e5_685b35921c60row2_col1\" class=\"data row2 col1\" >1.73%</td> \n",
       "        <td id=\"T_19ac72f2_f1b7_11e8_93e5_685b35921c60row2_col2\" class=\"data row2 col2\" >1.21%</td> \n",
       "    </tr></tbody> \n",
       "</table> "
      ],
      "text/plain": [
       "<pandas.io.formats.style.Styler at 0xb20ac0828>"
      ]
     },
     "metadata": {},
     "output_type": "display_data"
    }
   ],
   "source": [
    "premium_list_pct = []\n",
    "premium_list_pct = [(trd_choice.premium_grid() * lev) / last_price for lev in leverage]\n",
    "_ = [display(df.style.format('{:.2%}')) for df in premium_list_pct]  "
   ]
  },
  {
   "cell_type": "code",
   "execution_count": 11,
   "metadata": {},
   "outputs": [
    {
     "data": {
      "text/html": [
       "<style  type=\"text/css\" >\n",
       "</style>  \n",
       "<table id=\"T_1a3f3b14_f1b7_11e8_93e5_685b35921c60\" > \n",
       "<thead>    <tr> \n",
       "        <th class=\"blank level0\" ></th> \n",
       "        <th class=\"col_heading level0 col0\" >-1.0</th> \n",
       "        <th class=\"col_heading level0 col1\" >-1.5</th> \n",
       "        <th class=\"col_heading level0 col2\" >-2.0</th> \n",
       "    </tr>    <tr> \n",
       "        <th class=\"index_name level0\" >Lev 1</th> \n",
       "        <th class=\"blank\" ></th> \n",
       "        <th class=\"blank\" ></th> \n",
       "        <th class=\"blank\" ></th> \n",
       "    </tr></thead> \n",
       "<tbody>    <tr> \n",
       "        <th id=\"T_1a3f3b14_f1b7_11e8_93e5_685b35921c60level0_row0\" class=\"row_heading level0 row0\" >2018.12.21</th> \n",
       "        <td id=\"T_1a3f3b14_f1b7_11e8_93e5_685b35921c60row0_col0\" class=\"data row0 col0\" >13</td> \n",
       "        <td id=\"T_1a3f3b14_f1b7_11e8_93e5_685b35921c60row0_col1\" class=\"data row0 col1\" >13</td> \n",
       "        <td id=\"T_1a3f3b14_f1b7_11e8_93e5_685b35921c60row0_col2\" class=\"data row0 col2\" >13</td> \n",
       "    </tr>    <tr> \n",
       "        <th id=\"T_1a3f3b14_f1b7_11e8_93e5_685b35921c60level0_row1\" class=\"row_heading level0 row1\" >2019.01.18</th> \n",
       "        <td id=\"T_1a3f3b14_f1b7_11e8_93e5_685b35921c60row1_col0\" class=\"data row1 col0\" >13</td> \n",
       "        <td id=\"T_1a3f3b14_f1b7_11e8_93e5_685b35921c60row1_col1\" class=\"data row1 col1\" >14</td> \n",
       "        <td id=\"T_1a3f3b14_f1b7_11e8_93e5_685b35921c60row1_col2\" class=\"data row1 col2\" >14</td> \n",
       "    </tr>    <tr> \n",
       "        <th id=\"T_1a3f3b14_f1b7_11e8_93e5_685b35921c60level0_row2\" class=\"row_heading level0 row2\" >2019.02.15</th> \n",
       "        <td id=\"T_1a3f3b14_f1b7_11e8_93e5_685b35921c60row2_col0\" class=\"data row2 col0\" >14</td> \n",
       "        <td id=\"T_1a3f3b14_f1b7_11e8_93e5_685b35921c60row2_col1\" class=\"data row2 col1\" >14</td> \n",
       "        <td id=\"T_1a3f3b14_f1b7_11e8_93e5_685b35921c60row2_col2\" class=\"data row2 col2\" >15</td> \n",
       "    </tr></tbody> \n",
       "</table> "
      ],
      "text/plain": [
       "<pandas.io.formats.style.Styler at 0xb20ac0668>"
      ]
     },
     "metadata": {},
     "output_type": "display_data"
    },
    {
     "data": {
      "text/html": [
       "<style  type=\"text/css\" >\n",
       "</style>  \n",
       "<table id=\"T_1a3fec62_f1b7_11e8_93e5_685b35921c60\" > \n",
       "<thead>    <tr> \n",
       "        <th class=\"blank level0\" ></th> \n",
       "        <th class=\"col_heading level0 col0\" >-1.0</th> \n",
       "        <th class=\"col_heading level0 col1\" >-1.5</th> \n",
       "        <th class=\"col_heading level0 col2\" >-2.0</th> \n",
       "    </tr>    <tr> \n",
       "        <th class=\"index_name level0\" >Lev 2</th> \n",
       "        <th class=\"blank\" ></th> \n",
       "        <th class=\"blank\" ></th> \n",
       "        <th class=\"blank\" ></th> \n",
       "    </tr></thead> \n",
       "<tbody>    <tr> \n",
       "        <th id=\"T_1a3fec62_f1b7_11e8_93e5_685b35921c60level0_row0\" class=\"row_heading level0 row0\" >2018.12.21</th> \n",
       "        <td id=\"T_1a3fec62_f1b7_11e8_93e5_685b35921c60row0_col0\" class=\"data row0 col0\" >26</td> \n",
       "        <td id=\"T_1a3fec62_f1b7_11e8_93e5_685b35921c60row0_col1\" class=\"data row0 col1\" >27</td> \n",
       "        <td id=\"T_1a3fec62_f1b7_11e8_93e5_685b35921c60row0_col2\" class=\"data row0 col2\" >27</td> \n",
       "    </tr>    <tr> \n",
       "        <th id=\"T_1a3fec62_f1b7_11e8_93e5_685b35921c60level0_row1\" class=\"row_heading level0 row1\" >2019.01.18</th> \n",
       "        <td id=\"T_1a3fec62_f1b7_11e8_93e5_685b35921c60row1_col0\" class=\"data row1 col0\" >27</td> \n",
       "        <td id=\"T_1a3fec62_f1b7_11e8_93e5_685b35921c60row1_col1\" class=\"data row1 col1\" >28</td> \n",
       "        <td id=\"T_1a3fec62_f1b7_11e8_93e5_685b35921c60row1_col2\" class=\"data row1 col2\" >28</td> \n",
       "    </tr>    <tr> \n",
       "        <th id=\"T_1a3fec62_f1b7_11e8_93e5_685b35921c60level0_row2\" class=\"row_heading level0 row2\" >2019.02.15</th> \n",
       "        <td id=\"T_1a3fec62_f1b7_11e8_93e5_685b35921c60row2_col0\" class=\"data row2 col0\" >28</td> \n",
       "        <td id=\"T_1a3fec62_f1b7_11e8_93e5_685b35921c60row2_col1\" class=\"data row2 col1\" >29</td> \n",
       "        <td id=\"T_1a3fec62_f1b7_11e8_93e5_685b35921c60row2_col2\" class=\"data row2 col2\" >30</td> \n",
       "    </tr></tbody> \n",
       "</table> "
      ],
      "text/plain": [
       "<pandas.io.formats.style.Styler at 0x11e542da0>"
      ]
     },
     "metadata": {},
     "output_type": "display_data"
    },
    {
     "data": {
      "text/html": [
       "<style  type=\"text/css\" >\n",
       "</style>  \n",
       "<table id=\"T_1a4086f4_f1b7_11e8_93e5_685b35921c60\" > \n",
       "<thead>    <tr> \n",
       "        <th class=\"blank level0\" ></th> \n",
       "        <th class=\"col_heading level0 col0\" >-1.0</th> \n",
       "        <th class=\"col_heading level0 col1\" >-1.5</th> \n",
       "        <th class=\"col_heading level0 col2\" >-2.0</th> \n",
       "    </tr>    <tr> \n",
       "        <th class=\"index_name level0\" >Lev 3</th> \n",
       "        <th class=\"blank\" ></th> \n",
       "        <th class=\"blank\" ></th> \n",
       "        <th class=\"blank\" ></th> \n",
       "    </tr></thead> \n",
       "<tbody>    <tr> \n",
       "        <th id=\"T_1a4086f4_f1b7_11e8_93e5_685b35921c60level0_row0\" class=\"row_heading level0 row0\" >2018.12.21</th> \n",
       "        <td id=\"T_1a4086f4_f1b7_11e8_93e5_685b35921c60row0_col0\" class=\"data row0 col0\" >39</td> \n",
       "        <td id=\"T_1a4086f4_f1b7_11e8_93e5_685b35921c60row0_col1\" class=\"data row0 col1\" >40</td> \n",
       "        <td id=\"T_1a4086f4_f1b7_11e8_93e5_685b35921c60row0_col2\" class=\"data row0 col2\" >40</td> \n",
       "    </tr>    <tr> \n",
       "        <th id=\"T_1a4086f4_f1b7_11e8_93e5_685b35921c60level0_row1\" class=\"row_heading level0 row1\" >2019.01.18</th> \n",
       "        <td id=\"T_1a4086f4_f1b7_11e8_93e5_685b35921c60row1_col0\" class=\"data row1 col0\" >40</td> \n",
       "        <td id=\"T_1a4086f4_f1b7_11e8_93e5_685b35921c60row1_col1\" class=\"data row1 col1\" >41</td> \n",
       "        <td id=\"T_1a4086f4_f1b7_11e8_93e5_685b35921c60row1_col2\" class=\"data row1 col2\" >42</td> \n",
       "    </tr>    <tr> \n",
       "        <th id=\"T_1a4086f4_f1b7_11e8_93e5_685b35921c60level0_row2\" class=\"row_heading level0 row2\" >2019.02.15</th> \n",
       "        <td id=\"T_1a4086f4_f1b7_11e8_93e5_685b35921c60row2_col0\" class=\"data row2 col0\" >41</td> \n",
       "        <td id=\"T_1a4086f4_f1b7_11e8_93e5_685b35921c60row2_col1\" class=\"data row2 col1\" >43</td> \n",
       "        <td id=\"T_1a4086f4_f1b7_11e8_93e5_685b35921c60row2_col2\" class=\"data row2 col2\" >44</td> \n",
       "    </tr></tbody> \n",
       "</table> "
      ],
      "text/plain": [
       "<pandas.io.formats.style.Styler at 0xb20af8588>"
      ]
     },
     "metadata": {},
     "output_type": "display_data"
    }
   ],
   "source": [
    "\n",
    "_ = [display(contractTable.round().style.format('{:.0f}')) for \\\n",
    "     contractTable in trd_choice.option_lots(leverage, capital_at_risk)]\n",
    "    "
   ]
  },
  {
   "cell_type": "code",
   "execution_count": 12,
   "metadata": {},
   "outputs": [
    {
     "data": {
      "text/html": [
       "<style  type=\"text/css\" >\n",
       "</style>  \n",
       "<table id=\"T_1abb19be_f1b7_11e8_93e5_685b35921c60\" > \n",
       "<thead>    <tr> \n",
       "        <th class=\"blank level0\" ></th> \n",
       "        <th class=\"col_heading level0 col0\" >-1.0</th> \n",
       "        <th class=\"col_heading level0 col1\" >-1.5</th> \n",
       "        <th class=\"col_heading level0 col2\" >-2.0</th> \n",
       "    </tr></thead> \n",
       "<tbody>    <tr> \n",
       "        <th id=\"T_1abb19be_f1b7_11e8_93e5_685b35921c60level0_row0\" class=\"row_heading level0 row0\" >2018.12.21</th> \n",
       "        <td id=\"T_1abb19be_f1b7_11e8_93e5_685b35921c60row0_col0\" class=\"data row0 col0\" >$543,041</td> \n",
       "        <td id=\"T_1abb19be_f1b7_11e8_93e5_685b35921c60row0_col1\" class=\"data row0 col1\" >$456,851</td> \n",
       "        <td id=\"T_1abb19be_f1b7_11e8_93e5_685b35921c60row0_col2\" class=\"data row0 col2\" >$401,731</td> \n",
       "    </tr>    <tr> \n",
       "        <th id=\"T_1abb19be_f1b7_11e8_93e5_685b35921c60level0_row1\" class=\"row_heading level0 row1\" >2019.01.18</th> \n",
       "        <td id=\"T_1abb19be_f1b7_11e8_93e5_685b35921c60row1_col0\" class=\"data row1 col0\" >$466,926</td> \n",
       "        <td id=\"T_1abb19be_f1b7_11e8_93e5_685b35921c60row1_col1\" class=\"data row1 col1\" >$379,644</td> \n",
       "        <td id=\"T_1abb19be_f1b7_11e8_93e5_685b35921c60row1_col2\" class=\"data row1 col2\" >$338,310</td> \n",
       "    </tr>    <tr> \n",
       "        <th id=\"T_1abb19be_f1b7_11e8_93e5_685b35921c60level0_row2\" class=\"row_heading level0 row2\" >2019.02.15</th> \n",
       "        <td id=\"T_1abb19be_f1b7_11e8_93e5_685b35921c60row2_col0\" class=\"data row2 col0\" >$426,124</td> \n",
       "        <td id=\"T_1abb19be_f1b7_11e8_93e5_685b35921c60row2_col1\" class=\"data row2 col1\" >$344,260</td> \n",
       "        <td id=\"T_1abb19be_f1b7_11e8_93e5_685b35921c60row2_col2\" class=\"data row2 col2\" >$350,700</td> \n",
       "    </tr></tbody> \n",
       "</table> "
      ],
      "text/plain": [
       "<pandas.io.formats.style.Styler at 0xb20af8160>"
      ]
     },
     "metadata": {},
     "output_type": "display_data"
    },
    {
     "data": {
      "text/html": [
       "<style  type=\"text/css\" >\n",
       "</style>  \n",
       "<table id=\"T_1abb6d9c_f1b7_11e8_93e5_685b35921c60\" > \n",
       "<thead>    <tr> \n",
       "        <th class=\"blank level0\" ></th> \n",
       "        <th class=\"col_heading level0 col0\" >-1.0</th> \n",
       "        <th class=\"col_heading level0 col1\" >-1.5</th> \n",
       "        <th class=\"col_heading level0 col2\" >-2.0</th> \n",
       "    </tr></thead> \n",
       "<tbody>    <tr> \n",
       "        <th id=\"T_1abb6d9c_f1b7_11e8_93e5_685b35921c60level0_row0\" class=\"row_heading level0 row0\" >2018.12.21</th> \n",
       "        <td id=\"T_1abb6d9c_f1b7_11e8_93e5_685b35921c60row0_col0\" class=\"data row0 col0\" >$1,086,082</td> \n",
       "        <td id=\"T_1abb6d9c_f1b7_11e8_93e5_685b35921c60row0_col1\" class=\"data row0 col1\" >$948,845</td> \n",
       "        <td id=\"T_1abb6d9c_f1b7_11e8_93e5_685b35921c60row0_col2\" class=\"data row0 col2\" >$834,365</td> \n",
       "    </tr>    <tr> \n",
       "        <th id=\"T_1abb6d9c_f1b7_11e8_93e5_685b35921c60level0_row1\" class=\"row_heading level0 row1\" >2019.01.18</th> \n",
       "        <td id=\"T_1abb6d9c_f1b7_11e8_93e5_685b35921c60row1_col0\" class=\"data row1 col0\" >$969,770</td> \n",
       "        <td id=\"T_1abb6d9c_f1b7_11e8_93e5_685b35921c60row1_col1\" class=\"data row1 col1\" >$759,287</td> \n",
       "        <td id=\"T_1abb6d9c_f1b7_11e8_93e5_685b35921c60row1_col2\" class=\"data row1 col2\" >$676,620</td> \n",
       "    </tr>    <tr> \n",
       "        <th id=\"T_1abb6d9c_f1b7_11e8_93e5_685b35921c60level0_row2\" class=\"row_heading level0 row2\" >2019.02.15</th> \n",
       "        <td id=\"T_1abb6d9c_f1b7_11e8_93e5_685b35921c60row2_col0\" class=\"data row2 col0\" >$852,247</td> \n",
       "        <td id=\"T_1abb6d9c_f1b7_11e8_93e5_685b35921c60row2_col1\" class=\"data row2 col1\" >$713,110</td> \n",
       "        <td id=\"T_1abb6d9c_f1b7_11e8_93e5_685b35921c60row2_col2\" class=\"data row2 col2\" >$701,400</td> \n",
       "    </tr></tbody> \n",
       "</table> "
      ],
      "text/plain": [
       "<pandas.io.formats.style.Styler at 0xb210aaf28>"
      ]
     },
     "metadata": {},
     "output_type": "display_data"
    },
    {
     "data": {
      "text/html": [
       "<style  type=\"text/css\" >\n",
       "</style>  \n",
       "<table id=\"T_1abbc896_f1b7_11e8_93e5_685b35921c60\" > \n",
       "<thead>    <tr> \n",
       "        <th class=\"blank level0\" ></th> \n",
       "        <th class=\"col_heading level0 col0\" >-1.0</th> \n",
       "        <th class=\"col_heading level0 col1\" >-1.5</th> \n",
       "        <th class=\"col_heading level0 col2\" >-2.0</th> \n",
       "    </tr></thead> \n",
       "<tbody>    <tr> \n",
       "        <th id=\"T_1abbc896_f1b7_11e8_93e5_685b35921c60level0_row0\" class=\"row_heading level0 row0\" >2018.12.21</th> \n",
       "        <td id=\"T_1abbc896_f1b7_11e8_93e5_685b35921c60row0_col0\" class=\"data row0 col0\" >$1,629,124</td> \n",
       "        <td id=\"T_1abbc896_f1b7_11e8_93e5_685b35921c60row0_col1\" class=\"data row0 col1\" >$1,405,696</td> \n",
       "        <td id=\"T_1abbc896_f1b7_11e8_93e5_685b35921c60row0_col2\" class=\"data row0 col2\" >$1,236,096</td> \n",
       "    </tr>    <tr> \n",
       "        <th id=\"T_1abbc896_f1b7_11e8_93e5_685b35921c60level0_row1\" class=\"row_heading level0 row1\" >2019.01.18</th> \n",
       "        <td id=\"T_1abbc896_f1b7_11e8_93e5_685b35921c60row1_col0\" class=\"data row1 col0\" >$1,436,696</td> \n",
       "        <td id=\"T_1abbc896_f1b7_11e8_93e5_685b35921c60row1_col1\" class=\"data row1 col1\" >$1,111,813</td> \n",
       "        <td id=\"T_1abbc896_f1b7_11e8_93e5_685b35921c60row1_col2\" class=\"data row1 col2\" >$1,014,930</td> \n",
       "    </tr>    <tr> \n",
       "        <th id=\"T_1abbc896_f1b7_11e8_93e5_685b35921c60level0_row2\" class=\"row_heading level0 row2\" >2019.02.15</th> \n",
       "        <td id=\"T_1abbc896_f1b7_11e8_93e5_685b35921c60row2_col0\" class=\"data row2 col0\" >$1,247,933</td> \n",
       "        <td id=\"T_1abbc896_f1b7_11e8_93e5_685b35921c60row2_col1\" class=\"data row2 col1\" >$1,057,370</td> \n",
       "        <td id=\"T_1abbc896_f1b7_11e8_93e5_685b35921c60row2_col2\" class=\"data row2 col2\" >$1,028,720</td> \n",
       "    </tr></tbody> \n",
       "</table> "
      ],
      "text/plain": [
       "<pandas.io.formats.style.Styler at 0xb20af8d68>"
      ]
     },
     "metadata": {},
     "output_type": "display_data"
    }
   ],
   "source": [
    "margin_dlr = [trd_choice.margin(last_price) * df for df in trd_choice.option_lots(leverage, capital_at_risk)]\n",
    "_ = [display(df.style.format('${:,.0f}')) for df in margin_dlr]  "
   ]
  },
  {
   "cell_type": "code",
   "execution_count": 22,
   "metadata": {},
   "outputs": [
    {
     "data": {
      "text/html": [
       "<style  type=\"text/css\" >\n",
       "</style>  \n",
       "<table id=\"T_b28963d6_f1b7_11e8_93e5_685b35921c60\" > \n",
       "<thead>    <tr> \n",
       "        <th class=\"blank level0\" ></th> \n",
       "        <th class=\"col_heading level0 col0\" >-1.0</th> \n",
       "        <th class=\"col_heading level0 col1\" >-1.5</th> \n",
       "        <th class=\"col_heading level0 col2\" >-2.0</th> \n",
       "    </tr>    <tr> \n",
       "        <th class=\"index_name level0\" >Lev 2</th> \n",
       "        <th class=\"blank\" ></th> \n",
       "        <th class=\"blank\" ></th> \n",
       "        <th class=\"blank\" ></th> \n",
       "    </tr></thead> \n",
       "<tbody>    <tr> \n",
       "        <th id=\"T_b28963d6_f1b7_11e8_93e5_685b35921c60level0_row0\" class=\"row_heading level0 row0\" >2018.12.21</th> \n",
       "        <td id=\"T_b28963d6_f1b7_11e8_93e5_685b35921c60row0_col0\" class=\"data row0 col0\" >$1,086,082</td> \n",
       "        <td id=\"T_b28963d6_f1b7_11e8_93e5_685b35921c60row0_col1\" class=\"data row0 col1\" >$948,845</td> \n",
       "        <td id=\"T_b28963d6_f1b7_11e8_93e5_685b35921c60row0_col2\" class=\"data row0 col2\" >$834,365</td> \n",
       "    </tr>    <tr> \n",
       "        <th id=\"T_b28963d6_f1b7_11e8_93e5_685b35921c60level0_row1\" class=\"row_heading level0 row1\" >2019.01.18</th> \n",
       "        <td id=\"T_b28963d6_f1b7_11e8_93e5_685b35921c60row1_col0\" class=\"data row1 col0\" >$969,770</td> \n",
       "        <td id=\"T_b28963d6_f1b7_11e8_93e5_685b35921c60row1_col1\" class=\"data row1 col1\" >$759,287</td> \n",
       "        <td id=\"T_b28963d6_f1b7_11e8_93e5_685b35921c60row1_col2\" class=\"data row1 col2\" >$676,620</td> \n",
       "    </tr>    <tr> \n",
       "        <th id=\"T_b28963d6_f1b7_11e8_93e5_685b35921c60level0_row2\" class=\"row_heading level0 row2\" >2019.02.15</th> \n",
       "        <td id=\"T_b28963d6_f1b7_11e8_93e5_685b35921c60row2_col0\" class=\"data row2 col0\" >$852,247</td> \n",
       "        <td id=\"T_b28963d6_f1b7_11e8_93e5_685b35921c60row2_col1\" class=\"data row2 col1\" >$713,110</td> \n",
       "        <td id=\"T_b28963d6_f1b7_11e8_93e5_685b35921c60row2_col2\" class=\"data row2 col2\" >$701,400</td> \n",
       "    </tr></tbody> \n",
       "</table> "
      ],
      "text/plain": [
       "<pandas.io.formats.style.Styler at 0xb20b76080>"
      ]
     },
     "metadata": {},
     "output_type": "display_data"
    }
   ],
   "source": [
    "marge = trd_choice.margin(trd_choice.spot)\n",
    "lots = trd_choice.option_lots([2], capital_at_risk)\n",
    "margin = lots[0] * marge\n",
    "display(margin.style.format('${:,.0f}'))"
   ]
  },
  {
   "cell_type": "code",
   "execution_count": 14,
   "metadata": {},
   "outputs": [
    {
     "data": {
      "text/html": [
       "<style  type=\"text/css\" >\n",
       "</style>  \n",
       "<table id=\"T_1c460276_f1b7_11e8_93e5_685b35921c60\" > \n",
       "<thead>    <tr> \n",
       "        <th class=\"blank level0\" ></th> \n",
       "        <th class=\"col_heading level0 col0\" >-1.0</th> \n",
       "        <th class=\"col_heading level0 col1\" >-1.5</th> \n",
       "        <th class=\"col_heading level0 col2\" >-2.0</th> \n",
       "    </tr>    <tr> \n",
       "        <th class=\"index_name level0\" >Lev 1</th> \n",
       "        <th class=\"blank\" ></th> \n",
       "        <th class=\"blank\" ></th> \n",
       "        <th class=\"blank\" ></th> \n",
       "    </tr></thead> \n",
       "<tbody>    <tr> \n",
       "        <th id=\"T_1c460276_f1b7_11e8_93e5_685b35921c60level0_row0\" class=\"row_heading level0 row0\" >2018.12.21</th> \n",
       "        <td id=\"T_1c460276_f1b7_11e8_93e5_685b35921c60row0_col0\" class=\"data row0 col0\" >$3,302,000</td> \n",
       "        <td id=\"T_1c460276_f1b7_11e8_93e5_685b35921c60row0_col1\" class=\"data row0 col1\" >$3,224,000</td> \n",
       "        <td id=\"T_1c460276_f1b7_11e8_93e5_685b35921c60row0_col2\" class=\"data row0 col2\" >$3,172,000</td> \n",
       "    </tr>    <tr> \n",
       "        <th id=\"T_1c460276_f1b7_11e8_93e5_685b35921c60level0_row1\" class=\"row_heading level0 row1\" >2019.01.18</th> \n",
       "        <td id=\"T_1c460276_f1b7_11e8_93e5_685b35921c60row1_col0\" class=\"data row1 col0\" >$3,217,500</td> \n",
       "        <td id=\"T_1c460276_f1b7_11e8_93e5_685b35921c60row1_col1\" class=\"data row1 col1\" >$3,353,000</td> \n",
       "        <td id=\"T_1c460276_f1b7_11e8_93e5_685b35921c60row1_col2\" class=\"data row1 col2\" >$3,262,000</td> \n",
       "    </tr>    <tr> \n",
       "        <th id=\"T_1c460276_f1b7_11e8_93e5_685b35921c60level0_row2\" class=\"row_heading level0 row2\" >2019.02.15</th> \n",
       "        <td id=\"T_1c460276_f1b7_11e8_93e5_685b35921c60row2_col0\" class=\"data row2 col0\" >$3,381,000</td> \n",
       "        <td id=\"T_1c460276_f1b7_11e8_93e5_685b35921c60row2_col1\" class=\"data row2 col1\" >$3,227,000</td> \n",
       "        <td id=\"T_1c460276_f1b7_11e8_93e5_685b35921c60row2_col2\" class=\"data row2 col2\" >$3,345,000</td> \n",
       "    </tr></tbody> \n",
       "</table> "
      ],
      "text/plain": [
       "<pandas.io.formats.style.Styler at 0xb20af8978>"
      ]
     },
     "metadata": {},
     "output_type": "display_data"
    },
    {
     "data": {
      "text/html": [
       "<style  type=\"text/css\" >\n",
       "</style>  \n",
       "<table id=\"T_1c467490_f1b7_11e8_93e5_685b35921c60\" > \n",
       "<thead>    <tr> \n",
       "        <th class=\"blank level0\" ></th> \n",
       "        <th class=\"col_heading level0 col0\" >-1.0</th> \n",
       "        <th class=\"col_heading level0 col1\" >-1.5</th> \n",
       "        <th class=\"col_heading level0 col2\" >-2.0</th> \n",
       "    </tr>    <tr> \n",
       "        <th class=\"index_name level0\" >Lev 2</th> \n",
       "        <th class=\"blank\" ></th> \n",
       "        <th class=\"blank\" ></th> \n",
       "        <th class=\"blank\" ></th> \n",
       "    </tr></thead> \n",
       "<tbody>    <tr> \n",
       "        <th id=\"T_1c467490_f1b7_11e8_93e5_685b35921c60level0_row0\" class=\"row_heading level0 row0\" >2018.12.21</th> \n",
       "        <td id=\"T_1c467490_f1b7_11e8_93e5_685b35921c60row0_col0\" class=\"data row0 col0\" >$6,604,000</td> \n",
       "        <td id=\"T_1c467490_f1b7_11e8_93e5_685b35921c60row0_col1\" class=\"data row0 col1\" >$6,696,000</td> \n",
       "        <td id=\"T_1c467490_f1b7_11e8_93e5_685b35921c60row0_col2\" class=\"data row0 col2\" >$6,588,000</td> \n",
       "    </tr>    <tr> \n",
       "        <th id=\"T_1c467490_f1b7_11e8_93e5_685b35921c60level0_row1\" class=\"row_heading level0 row1\" >2019.01.18</th> \n",
       "        <td id=\"T_1c467490_f1b7_11e8_93e5_685b35921c60row1_col0\" class=\"data row1 col0\" >$6,682,500</td> \n",
       "        <td id=\"T_1c467490_f1b7_11e8_93e5_685b35921c60row1_col1\" class=\"data row1 col1\" >$6,706,000</td> \n",
       "        <td id=\"T_1c467490_f1b7_11e8_93e5_685b35921c60row1_col2\" class=\"data row1 col2\" >$6,524,000</td> \n",
       "    </tr>    <tr> \n",
       "        <th id=\"T_1c467490_f1b7_11e8_93e5_685b35921c60level0_row2\" class=\"row_heading level0 row2\" >2019.02.15</th> \n",
       "        <td id=\"T_1c467490_f1b7_11e8_93e5_685b35921c60row2_col0\" class=\"data row2 col0\" >$6,762,000</td> \n",
       "        <td id=\"T_1c467490_f1b7_11e8_93e5_685b35921c60row2_col1\" class=\"data row2 col1\" >$6,684,500</td> \n",
       "        <td id=\"T_1c467490_f1b7_11e8_93e5_685b35921c60row2_col2\" class=\"data row2 col2\" >$6,690,000</td> \n",
       "    </tr></tbody> \n",
       "</table> "
      ],
      "text/plain": [
       "<pandas.io.formats.style.Styler at 0xb20afeef0>"
      ]
     },
     "metadata": {},
     "output_type": "display_data"
    },
    {
     "data": {
      "text/html": [
       "<style  type=\"text/css\" >\n",
       "</style>  \n",
       "<table id=\"T_1c46d976_f1b7_11e8_93e5_685b35921c60\" > \n",
       "<thead>    <tr> \n",
       "        <th class=\"blank level0\" ></th> \n",
       "        <th class=\"col_heading level0 col0\" >-1.0</th> \n",
       "        <th class=\"col_heading level0 col1\" >-1.5</th> \n",
       "        <th class=\"col_heading level0 col2\" >-2.0</th> \n",
       "    </tr>    <tr> \n",
       "        <th class=\"index_name level0\" >Lev 3</th> \n",
       "        <th class=\"blank\" ></th> \n",
       "        <th class=\"blank\" ></th> \n",
       "        <th class=\"blank\" ></th> \n",
       "    </tr></thead> \n",
       "<tbody>    <tr> \n",
       "        <th id=\"T_1c46d976_f1b7_11e8_93e5_685b35921c60level0_row0\" class=\"row_heading level0 row0\" >2018.12.21</th> \n",
       "        <td id=\"T_1c46d976_f1b7_11e8_93e5_685b35921c60row0_col0\" class=\"data row0 col0\" >$9,906,000</td> \n",
       "        <td id=\"T_1c46d976_f1b7_11e8_93e5_685b35921c60row0_col1\" class=\"data row0 col1\" >$9,920,000</td> \n",
       "        <td id=\"T_1c46d976_f1b7_11e8_93e5_685b35921c60row0_col2\" class=\"data row0 col2\" >$9,760,000</td> \n",
       "    </tr>    <tr> \n",
       "        <th id=\"T_1c46d976_f1b7_11e8_93e5_685b35921c60level0_row1\" class=\"row_heading level0 row1\" >2019.01.18</th> \n",
       "        <td id=\"T_1c46d976_f1b7_11e8_93e5_685b35921c60row1_col0\" class=\"data row1 col0\" >$9,900,000</td> \n",
       "        <td id=\"T_1c46d976_f1b7_11e8_93e5_685b35921c60row1_col1\" class=\"data row1 col1\" >$9,819,500</td> \n",
       "        <td id=\"T_1c46d976_f1b7_11e8_93e5_685b35921c60row1_col2\" class=\"data row1 col2\" >$9,786,000</td> \n",
       "    </tr>    <tr> \n",
       "        <th id=\"T_1c46d976_f1b7_11e8_93e5_685b35921c60level0_row2\" class=\"row_heading level0 row2\" >2019.02.15</th> \n",
       "        <td id=\"T_1c46d976_f1b7_11e8_93e5_685b35921c60row2_col0\" class=\"data row2 col0\" >$9,901,500</td> \n",
       "        <td id=\"T_1c46d976_f1b7_11e8_93e5_685b35921c60row2_col1\" class=\"data row2 col1\" >$9,911,500</td> \n",
       "        <td id=\"T_1c46d976_f1b7_11e8_93e5_685b35921c60row2_col2\" class=\"data row2 col2\" >$9,812,000</td> \n",
       "    </tr></tbody> \n",
       "</table> "
      ],
      "text/plain": [
       "<pandas.io.formats.style.Styler at 0xb20b060b8>"
      ]
     },
     "metadata": {},
     "output_type": "display_data"
    }
   ],
   "source": [
    "notional_dlr=[df * trd_choice.strike_grid() * 100 for df in trd_choice.option_lots(leverage, capital_at_risk)]\n",
    "_ = [display(df.style.format('${:,.0f}')) for df in notional_dlr]  "
   ]
  },
  {
   "cell_type": "code",
   "execution_count": null,
   "metadata": {},
   "outputs": [],
   "source": []
  },
  {
   "cell_type": "code",
   "execution_count": null,
   "metadata": {},
   "outputs": [],
   "source": []
  }
 ],
 "metadata": {
  "kernelspec": {
   "display_name": "Python 3",
   "language": "python",
   "name": "python3"
  },
  "language_info": {
   "codemirror_mode": {
    "name": "ipython",
    "version": 3
   },
   "file_extension": ".py",
   "mimetype": "text/x-python",
   "name": "python",
   "nbconvert_exporter": "python",
   "pygments_lexer": "ipython3",
   "version": "3.7.0"
  }
 },
 "nbformat": 4,
 "nbformat_minor": 2
}
