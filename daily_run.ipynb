{
 "cells": [
  {
   "cell_type": "markdown",
   "metadata": {},
   "source": [
    "daily_run estimates strikes and number of contracts for a put selling strategy on equity indices such as S&P 500. \n",
    "\n",
    "Algorithm is drawn from  JUREK, J. W. and STAFFORD, E. (2015), The Cost of Capital for Alternative Investments. The Journal of Finance, 70: 2185-2226. doi:10.1111/jofi.12269- \n",
    "\n",
    "Requires an open session of either IB Gateway or TWS from Interactive Brokers"
   ]
  },
  {
   "cell_type": "code",
   "execution_count": null,
   "metadata": {},
   "outputs": [],
   "source": [
    "from option_daily_prod import OptionMarket, SpxOptionAsset, RSL2OptionAsset\n",
    "from spx_data_update import UpdateSP500Data\n",
    "from option_simulation import OptionSimulation, OptionTrades\n",
    "import pyfolio as pf\n",
    "import numpy as np\n",
    "import pandas as pd\n",
    "import nest_asyncio\n",
    "from time import time\n",
    "import plistlib\n",
    "file_name = UpdateSP500Data.DATA_BASE_PATH / 'config.plist'\n",
    "f = open(str(file_name), 'rb')\n",
    "pl = plistlib.load(f)\n",
    "illiquid_dict = pl['illiquid_equity']\n",
    "illiquid_equity = sum(illiquid_dict.values()) * 0.5\n",
    "illiquid_equity"
   ]
  },
  {
   "cell_type": "code",
   "execution_count": null,
   "metadata": {},
   "outputs": [],
   "source": [
    "before = time()\n",
    "nest_asyncio.apply()\n",
    "\n",
    "spx_trades = OptionMarket(SpxOptionAsset())\n",
    "rsl_trades = OptionMarket(RSL2OptionAsset())"
   ]
  },
  {
   "cell_type": "code",
   "execution_count": null,
   "metadata": {},
   "outputs": [],
   "source": [
    "z_score = np.array([-0.5, -1, -1.5])\n",
    "leverage = np.array(range(1, 3, 1))\n",
    "num_expiries = 3\n",
    "\n",
    "after = time()\n",
    "spx = True\n",
    "if spx:\n",
    "    trd_choice = spx_trades.form_trade_choice(z_score, num_expiries, 'P')\n",
    "else:\n",
    "    trd_choice = rsl_trades.form_trade_choice(z_score, num_expiries, 'P')\n",
    "    \n",
    "last_price = trd_choice.spot\n",
    "after_2 = time()\n",
    "print('elapsed:', np.round(after - before, 1))\n",
    "print('elapsed:', np.round(after_2 - before, 1))\n",
    "print(last_price)\n",
    "print(trd_choice.sigma)\n",
    "print(trd_choice.account_value)"
   ]
  },
  {
   "cell_type": "code",
   "execution_count": null,
   "metadata": {},
   "outputs": [],
   "source": [
    "from IPython.display import display, HTML\n",
    "\n",
    "CSS = \"\"\"\n",
    ".output {\n",
    "    flex-direction:row;\n",
    "}\n",
    "\"\"\"\n",
    "HTML('<style>{}</style>'.format(CSS))\n"
   ]
  },
  {
   "cell_type": "code",
   "execution_count": null,
   "metadata": {},
   "outputs": [],
   "source": [
    "_=[display(df) for df in [trd_choice.strike_grid(), trd_choice.premium_grid(), trd_choice.prices_grid()]]"
   ]
  },
  {
   "cell_type": "code",
   "execution_count": null,
   "metadata": {},
   "outputs": [],
   "source": [
    "\n",
    "prct_decline = trd_choice.pct_otm_grid(last_price)\n",
    "format_dict = {x: '{:.2%}' for x in prct_decline.to_dict()}\n",
    "display(prct_decline.style.format(format_dict))"
   ]
  },
  {
   "cell_type": "code",
   "execution_count": null,
   "metadata": {
    "scrolled": false
   },
   "outputs": [],
   "source": [
    "capital_at_risk = float(trd_choice.account_value[0].value) + illiquid_equity\n",
    "premium_list = []\n",
    "premium_list =  [(trd_choice.premium_grid() * contractTable.round() * 100) \\\n",
    "                 for contractTable in trd_choice.option_lots(leverage, capital_at_risk)]\n",
    "\n",
    "_ = [display(df.style.format('${:,.0f}')) for df in premium_list]  "
   ]
  },
  {
   "cell_type": "code",
   "execution_count": null,
   "metadata": {},
   "outputs": [],
   "source": [
    "premium_list_pct = []\n",
    "premium_list_pct = [(trd_choice.premium_grid() * lev) / last_price for lev in leverage]\n",
    "_ = [display(df.style.format('{:.2%}')) for df in premium_list_pct]  "
   ]
  },
  {
   "cell_type": "code",
   "execution_count": null,
   "metadata": {},
   "outputs": [],
   "source": [
    "\n",
    "_ = [display(contractTable.round().style.format('{:.0f}')) for \\\n",
    "     contractTable in trd_choice.option_lots(leverage, capital_at_risk)]\n",
    "    "
   ]
  },
  {
   "cell_type": "code",
   "execution_count": null,
   "metadata": {},
   "outputs": [],
   "source": [
    "margin_dlr = [trd_choice.margin(last_price) * df for df in trd_choice.option_lots(leverage, capital_at_risk)]\n",
    "_ = [display(df.style.format('${:,.0f}')) for df in margin_dlr]  "
   ]
  },
  {
   "cell_type": "code",
   "execution_count": null,
   "metadata": {},
   "outputs": [],
   "source": [
    "notional_dlr=[df * trd_choice.strike_grid() * 100 for df in trd_choice.option_lots(leverage, capital_at_risk)]\n",
    "_ = [display(df.style.format('${:,.0f}')) for df in notional_dlr]  "
   ]
  },
  {
   "cell_type": "code",
   "execution_count": null,
   "metadata": {},
   "outputs": [],
   "source": [
    "updater = UpdateSP500Data()\n",
    "opt_sim = OptionSimulation()\n",
    "dtf_trades, zscore, sim_dates_live = opt_sim.trade_sim(-1, 1, trade_type='THU3')"
   ]
  },
  {
   "cell_type": "code",
   "execution_count": null,
   "metadata": {},
   "outputs": [],
   "source": [
    "opt_trade = OptionTrades(dtf_trades, zscore, sim_dates_live, 2)\n",
    "returns_geometric, returns_arithmetic = opt_trade.sell_option()\n",
    "pf.timeseries.aggregate_returns(returns_arithmetic, 'monthly')"
   ]
  },
  {
   "cell_type": "code",
   "execution_count": null,
   "metadata": {},
   "outputs": [],
   "source": [
    "dtf_trades[-1]"
   ]
  },
  {
   "cell_type": "code",
   "execution_count": null,
   "metadata": {},
   "outputs": [],
   "source": [
    "\n"
   ]
  },
  {
   "cell_type": "code",
   "execution_count": null,
   "metadata": {},
   "outputs": [],
   "source": []
  },
  {
   "cell_type": "code",
   "execution_count": null,
   "metadata": {},
   "outputs": [],
   "source": []
  }
 ],
 "metadata": {
  "kernelspec": {
   "display_name": "Python 3",
   "language": "python",
   "name": "python3"
  },
  "language_info": {
   "codemirror_mode": {
    "name": "ipython",
    "version": 3
   },
   "file_extension": ".py",
   "mimetype": "text/x-python",
   "name": "python",
   "nbconvert_exporter": "python",
   "pygments_lexer": "ipython3",
   "version": "3.7.0"
  }
 },
 "nbformat": 4,
 "nbformat_minor": 2
}
