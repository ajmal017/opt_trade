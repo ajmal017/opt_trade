{
 "cells": [
  {
   "cell_type": "markdown",
   "metadata": {},
   "source": [
    "daily_run estimates strikes and number of contracts for a put selling strategy on equity indices such as S&P 500. \n",
    "\n",
    "Algorithm is drawn from  JUREK, J. W. and STAFFORD, E. (2015), The Cost of Capital for Alternative Investments. The Journal of Finance, 70: 2185-2226. doi:10.1111/jofi.12269- \n",
    "\n",
    "Requires an open session of either IB Gateway or TWS from Interactive Brokers"
   ]
  },
  {
   "cell_type": "code",
   "execution_count": 1,
   "metadata": {},
   "outputs": [
    {
     "name": "stdout",
     "output_type": "stream",
     "text": [
      "Warning: RSL2 Using Fixed Dividend yield\n"
     ]
    }
   ],
   "source": [
    "from option_daily_prod import OptionMarket, SpxOptionAsset, RSL2OptionAsset\n",
    "import numpy as np\n",
    "import pandas as pd\n",
    "import nest_asyncio\n",
    "from time import time\n",
    "\n",
    "before = time()\n",
    "nest_asyncio.apply()\n",
    "\n",
    "spx_trades = OptionMarket(SpxOptionAsset())\n",
    "rsl_trades = OptionMarket(RSL2OptionAsset())"
   ]
  },
  {
   "cell_type": "code",
   "execution_count": 13,
   "metadata": {},
   "outputs": [
    {
     "name": "stdout",
     "output_type": "stream",
     "text": [
      "elapsed: 102.4\n",
      "elapsed: 129.4\n",
      "2657.74\n",
      "19.78\n",
      "[AccountValue(account='U2463043', tag='NetLiquidationByCurrency', value='2771571.8811', currency='BASE', modelCode='')]\n"
     ]
    }
   ],
   "source": [
    "z_score = np.array([-1, -1.5, -2])\n",
    "leverage = np.array(range(1, 4, 1))\n",
    "num_expiries = 3\n",
    "illiquid_equity = 500000\n",
    "after = time()\n",
    "spx = True\n",
    "if spx:\n",
    "    trd_choice = spx_trades.form_trade_choice(z_score, num_expiries, 'P')\n",
    "else:\n",
    "    trd_choice = rsl_trades.form_trade_choice(z_score, num_expiries, 'P')\n",
    "    \n",
    "last_price = trd_choice.spot\n",
    "after_2 = time()\n",
    "print('elapsed:', np.round(after - before, 1))\n",
    "print('elapsed:', np.round(after_2 - before, 1))\n",
    "print(last_price)\n",
    "print(trd_choice.sigma)\n",
    "print(trd_choice.account_value)"
   ]
  },
  {
   "cell_type": "code",
   "execution_count": 3,
   "metadata": {},
   "outputs": [
    {
     "data": {
      "text/html": [
       "<style>\n",
       ".output {\n",
       "    flex-direction:row;\n",
       "}\n",
       "</style>"
      ],
      "text/plain": [
       "<IPython.core.display.HTML object>"
      ]
     },
     "execution_count": 3,
     "metadata": {},
     "output_type": "execute_result"
    }
   ],
   "source": [
    "from IPython.display import display, HTML\n",
    "\n",
    "CSS = \"\"\"\n",
    ".output {\n",
    "    flex-direction:row;\n",
    "}\n",
    "\"\"\"\n",
    "HTML('<style>{}</style>'.format(CSS))\n"
   ]
  },
  {
   "cell_type": "code",
   "execution_count": 4,
   "metadata": {},
   "outputs": [
    {
     "data": {
      "text/html": [
       "<div>\n",
       "<style scoped>\n",
       "    .dataframe tbody tr th:only-of-type {\n",
       "        vertical-align: middle;\n",
       "    }\n",
       "\n",
       "    .dataframe tbody tr th {\n",
       "        vertical-align: top;\n",
       "    }\n",
       "\n",
       "    .dataframe thead th {\n",
       "        text-align: right;\n",
       "    }\n",
       "</style>\n",
       "<table border=\"1\" class=\"dataframe\">\n",
       "  <thead>\n",
       "    <tr style=\"text-align: right;\">\n",
       "      <th></th>\n",
       "      <th>-1.0</th>\n",
       "      <th>-1.5</th>\n",
       "      <th>-2.0</th>\n",
       "    </tr>\n",
       "  </thead>\n",
       "  <tbody>\n",
       "    <tr>\n",
       "      <th>2018.12.21</th>\n",
       "      <td>2530</td>\n",
       "      <td>2470</td>\n",
       "      <td>2430</td>\n",
       "    </tr>\n",
       "    <tr>\n",
       "      <th>2019.01.18</th>\n",
       "      <td>2470</td>\n",
       "      <td>2380</td>\n",
       "      <td>2320</td>\n",
       "    </tr>\n",
       "    <tr>\n",
       "      <th>2019.02.15</th>\n",
       "      <td>2405</td>\n",
       "      <td>2295</td>\n",
       "      <td>2215</td>\n",
       "    </tr>\n",
       "  </tbody>\n",
       "</table>\n",
       "</div>"
      ],
      "text/plain": [
       "            -1.0  -1.5  -2.0\n",
       "2018.12.21  2530  2470  2430\n",
       "2019.01.18  2470  2380  2320\n",
       "2019.02.15  2405  2295  2215"
      ]
     },
     "metadata": {},
     "output_type": "display_data"
    },
    {
     "data": {
      "text/html": [
       "<div>\n",
       "<style scoped>\n",
       "    .dataframe tbody tr th:only-of-type {\n",
       "        vertical-align: middle;\n",
       "    }\n",
       "\n",
       "    .dataframe tbody tr th {\n",
       "        vertical-align: top;\n",
       "    }\n",
       "\n",
       "    .dataframe thead th {\n",
       "        text-align: right;\n",
       "    }\n",
       "</style>\n",
       "<table border=\"1\" class=\"dataframe\">\n",
       "  <thead>\n",
       "    <tr style=\"text-align: right;\">\n",
       "      <th></th>\n",
       "      <th>-1.0</th>\n",
       "      <th>-1.5</th>\n",
       "      <th>-2.0</th>\n",
       "    </tr>\n",
       "  </thead>\n",
       "  <tbody>\n",
       "    <tr>\n",
       "      <th>2018.12.21</th>\n",
       "      <td>14.60</td>\n",
       "      <td>8.00</td>\n",
       "      <td>5.35</td>\n",
       "    </tr>\n",
       "    <tr>\n",
       "      <th>2019.01.18</th>\n",
       "      <td>21.35</td>\n",
       "      <td>12.25</td>\n",
       "      <td>8.45</td>\n",
       "    </tr>\n",
       "    <tr>\n",
       "      <th>2019.02.15</th>\n",
       "      <td>26.00</td>\n",
       "      <td>15.35</td>\n",
       "      <td>10.50</td>\n",
       "    </tr>\n",
       "  </tbody>\n",
       "</table>\n",
       "</div>"
      ],
      "text/plain": [
       "             -1.0   -1.5   -2.0\n",
       "2018.12.21  14.60   8.00   5.35\n",
       "2019.01.18  21.35  12.25   8.45\n",
       "2019.02.15  26.00  15.35  10.50"
      ]
     },
     "metadata": {},
     "output_type": "display_data"
    },
    {
     "data": {
      "text/html": [
       "<div>\n",
       "<style scoped>\n",
       "    .dataframe tbody tr th:only-of-type {\n",
       "        vertical-align: middle;\n",
       "    }\n",
       "\n",
       "    .dataframe tbody tr th {\n",
       "        vertical-align: top;\n",
       "    }\n",
       "\n",
       "    .dataframe thead th {\n",
       "        text-align: right;\n",
       "    }\n",
       "</style>\n",
       "<table border=\"1\" class=\"dataframe\">\n",
       "  <thead>\n",
       "    <tr style=\"text-align: right;\">\n",
       "      <th></th>\n",
       "      <th>-1.0</th>\n",
       "      <th>-1.5</th>\n",
       "      <th>-2.0</th>\n",
       "    </tr>\n",
       "  </thead>\n",
       "  <tbody>\n",
       "    <tr>\n",
       "      <th>2018.12.21</th>\n",
       "      <td>14.4/14.8</td>\n",
       "      <td>7.9/8.1</td>\n",
       "      <td>5.2/5.5</td>\n",
       "    </tr>\n",
       "    <tr>\n",
       "      <th>2019.01.18</th>\n",
       "      <td>21.1/21.6</td>\n",
       "      <td>12.1/12.4</td>\n",
       "      <td>8.3/8.6</td>\n",
       "    </tr>\n",
       "    <tr>\n",
       "      <th>2019.02.15</th>\n",
       "      <td>25.7/26.3</td>\n",
       "      <td>15.1/15.6</td>\n",
       "      <td>10.3/10.7</td>\n",
       "    </tr>\n",
       "  </tbody>\n",
       "</table>\n",
       "</div>"
      ],
      "text/plain": [
       "                 -1.0       -1.5       -2.0\n",
       "2018.12.21  14.4/14.8    7.9/8.1    5.2/5.5\n",
       "2019.01.18  21.1/21.6  12.1/12.4    8.3/8.6\n",
       "2019.02.15  25.7/26.3  15.1/15.6  10.3/10.7"
      ]
     },
     "metadata": {},
     "output_type": "display_data"
    }
   ],
   "source": [
    "_=[display(df) for df in [trd_choice.strike_grid(), trd_choice.premium_grid(), trd_choice.prices_grid()]]"
   ]
  },
  {
   "cell_type": "code",
   "execution_count": 5,
   "metadata": {},
   "outputs": [
    {
     "data": {
      "text/html": [
       "<style  type=\"text/css\" >\n",
       "</style>  \n",
       "<table id=\"T_60d9254c_f252_11e8_a8b4_542696cdec3f\" > \n",
       "<thead>    <tr> \n",
       "        <th class=\"blank level0\" ></th> \n",
       "        <th class=\"col_heading level0 col0\" >-1.0</th> \n",
       "        <th class=\"col_heading level0 col1\" >-1.5</th> \n",
       "        <th class=\"col_heading level0 col2\" >-2.0</th> \n",
       "    </tr></thead> \n",
       "<tbody>    <tr> \n",
       "        <th id=\"T_60d9254c_f252_11e8_a8b4_542696cdec3flevel0_row0\" class=\"row_heading level0 row0\" >2018.12.21</th> \n",
       "        <td id=\"T_60d9254c_f252_11e8_a8b4_542696cdec3frow0_col0\" class=\"data row0 col0\" >-4.94%</td> \n",
       "        <td id=\"T_60d9254c_f252_11e8_a8b4_542696cdec3frow0_col1\" class=\"data row0 col1\" >-7.19%</td> \n",
       "        <td id=\"T_60d9254c_f252_11e8_a8b4_542696cdec3frow0_col2\" class=\"data row0 col2\" >-8.69%</td> \n",
       "    </tr>    <tr> \n",
       "        <th id=\"T_60d9254c_f252_11e8_a8b4_542696cdec3flevel0_row1\" class=\"row_heading level0 row1\" >2019.01.18</th> \n",
       "        <td id=\"T_60d9254c_f252_11e8_a8b4_542696cdec3frow1_col0\" class=\"data row1 col0\" >-7.19%</td> \n",
       "        <td id=\"T_60d9254c_f252_11e8_a8b4_542696cdec3frow1_col1\" class=\"data row1 col1\" >-10.57%</td> \n",
       "        <td id=\"T_60d9254c_f252_11e8_a8b4_542696cdec3frow1_col2\" class=\"data row1 col2\" >-12.83%</td> \n",
       "    </tr>    <tr> \n",
       "        <th id=\"T_60d9254c_f252_11e8_a8b4_542696cdec3flevel0_row2\" class=\"row_heading level0 row2\" >2019.02.15</th> \n",
       "        <td id=\"T_60d9254c_f252_11e8_a8b4_542696cdec3frow2_col0\" class=\"data row2 col0\" >-9.63%</td> \n",
       "        <td id=\"T_60d9254c_f252_11e8_a8b4_542696cdec3frow2_col1\" class=\"data row2 col1\" >-13.77%</td> \n",
       "        <td id=\"T_60d9254c_f252_11e8_a8b4_542696cdec3frow2_col2\" class=\"data row2 col2\" >-16.77%</td> \n",
       "    </tr></tbody> \n",
       "</table> "
      ],
      "text/plain": [
       "<pandas.io.formats.style.Styler at 0xb2591a6d8>"
      ]
     },
     "metadata": {},
     "output_type": "display_data"
    }
   ],
   "source": [
    "\n",
    "prct_decline = trd_choice.pct_otm_grid(last_price)\n",
    "format_dict = {x: '{:.2%}' for x in prct_decline.to_dict()}\n",
    "display(prct_decline.style.format(format_dict))"
   ]
  },
  {
   "cell_type": "code",
   "execution_count": 6,
   "metadata": {
    "scrolled": false
   },
   "outputs": [
    {
     "data": {
      "text/html": [
       "<style  type=\"text/css\" >\n",
       "</style>  \n",
       "<table id=\"T_60eb1b78_f252_11e8_bcbd_542696cdec3f\" > \n",
       "<thead>    <tr> \n",
       "        <th class=\"blank level0\" ></th> \n",
       "        <th class=\"col_heading level0 col0\" >-1.0</th> \n",
       "        <th class=\"col_heading level0 col1\" >-1.5</th> \n",
       "        <th class=\"col_heading level0 col2\" >-2.0</th> \n",
       "    </tr></thead> \n",
       "<tbody>    <tr> \n",
       "        <th id=\"T_60eb1b78_f252_11e8_bcbd_542696cdec3flevel0_row0\" class=\"row_heading level0 row0\" >2018.12.21</th> \n",
       "        <td id=\"T_60eb1b78_f252_11e8_bcbd_542696cdec3frow0_col0\" class=\"data row0 col0\" >$18,980</td> \n",
       "        <td id=\"T_60eb1b78_f252_11e8_bcbd_542696cdec3frow0_col1\" class=\"data row0 col1\" >$10,400</td> \n",
       "        <td id=\"T_60eb1b78_f252_11e8_bcbd_542696cdec3frow0_col2\" class=\"data row0 col2\" >$7,490</td> \n",
       "    </tr>    <tr> \n",
       "        <th id=\"T_60eb1b78_f252_11e8_bcbd_542696cdec3flevel0_row1\" class=\"row_heading level0 row1\" >2019.01.18</th> \n",
       "        <td id=\"T_60eb1b78_f252_11e8_bcbd_542696cdec3frow1_col0\" class=\"data row1 col0\" >$27,755</td> \n",
       "        <td id=\"T_60eb1b78_f252_11e8_bcbd_542696cdec3frow1_col1\" class=\"data row1 col1\" >$17,150</td> \n",
       "        <td id=\"T_60eb1b78_f252_11e8_bcbd_542696cdec3frow1_col2\" class=\"data row1 col2\" >$11,830</td> \n",
       "    </tr>    <tr> \n",
       "        <th id=\"T_60eb1b78_f252_11e8_bcbd_542696cdec3flevel0_row2\" class=\"row_heading level0 row2\" >2019.02.15</th> \n",
       "        <td id=\"T_60eb1b78_f252_11e8_bcbd_542696cdec3frow2_col0\" class=\"data row2 col0\" >$36,400</td> \n",
       "        <td id=\"T_60eb1b78_f252_11e8_bcbd_542696cdec3frow2_col1\" class=\"data row2 col1\" >$21,490</td> \n",
       "        <td id=\"T_60eb1b78_f252_11e8_bcbd_542696cdec3frow2_col2\" class=\"data row2 col2\" >$15,750</td> \n",
       "    </tr></tbody> \n",
       "</table> "
      ],
      "text/plain": [
       "<pandas.io.formats.style.Styler at 0xb25fa2710>"
      ]
     },
     "metadata": {},
     "output_type": "display_data"
    },
    {
     "data": {
      "text/html": [
       "<style  type=\"text/css\" >\n",
       "</style>  \n",
       "<table id=\"T_60ebac1e_f252_11e8_a541_542696cdec3f\" > \n",
       "<thead>    <tr> \n",
       "        <th class=\"blank level0\" ></th> \n",
       "        <th class=\"col_heading level0 col0\" >-1.0</th> \n",
       "        <th class=\"col_heading level0 col1\" >-1.5</th> \n",
       "        <th class=\"col_heading level0 col2\" >-2.0</th> \n",
       "    </tr></thead> \n",
       "<tbody>    <tr> \n",
       "        <th id=\"T_60ebac1e_f252_11e8_a541_542696cdec3flevel0_row0\" class=\"row_heading level0 row0\" >2018.12.21</th> \n",
       "        <td id=\"T_60ebac1e_f252_11e8_a541_542696cdec3frow0_col0\" class=\"data row0 col0\" >$37,960</td> \n",
       "        <td id=\"T_60ebac1e_f252_11e8_a541_542696cdec3frow0_col1\" class=\"data row0 col1\" >$21,600</td> \n",
       "        <td id=\"T_60ebac1e_f252_11e8_a541_542696cdec3frow0_col2\" class=\"data row0 col2\" >$14,445</td> \n",
       "    </tr>    <tr> \n",
       "        <th id=\"T_60ebac1e_f252_11e8_a541_542696cdec3flevel0_row1\" class=\"row_heading level0 row1\" >2019.01.18</th> \n",
       "        <td id=\"T_60ebac1e_f252_11e8_a541_542696cdec3frow1_col0\" class=\"data row1 col0\" >$57,645</td> \n",
       "        <td id=\"T_60ebac1e_f252_11e8_a541_542696cdec3frow1_col1\" class=\"data row1 col1\" >$34,300</td> \n",
       "        <td id=\"T_60ebac1e_f252_11e8_a541_542696cdec3frow1_col2\" class=\"data row1 col2\" >$23,660</td> \n",
       "    </tr>    <tr> \n",
       "        <th id=\"T_60ebac1e_f252_11e8_a541_542696cdec3flevel0_row2\" class=\"row_heading level0 row2\" >2019.02.15</th> \n",
       "        <td id=\"T_60ebac1e_f252_11e8_a541_542696cdec3frow2_col0\" class=\"data row2 col0\" >$72,800</td> \n",
       "        <td id=\"T_60ebac1e_f252_11e8_a541_542696cdec3frow2_col1\" class=\"data row2 col1\" >$44,515</td> \n",
       "        <td id=\"T_60ebac1e_f252_11e8_a541_542696cdec3frow2_col2\" class=\"data row2 col2\" >$31,500</td> \n",
       "    </tr></tbody> \n",
       "</table> "
      ],
      "text/plain": [
       "<pandas.io.formats.style.Styler at 0x10f025080>"
      ]
     },
     "metadata": {},
     "output_type": "display_data"
    },
    {
     "data": {
      "text/html": [
       "<style  type=\"text/css\" >\n",
       "</style>  \n",
       "<table id=\"T_60ec5846_f252_11e8_8307_542696cdec3f\" > \n",
       "<thead>    <tr> \n",
       "        <th class=\"blank level0\" ></th> \n",
       "        <th class=\"col_heading level0 col0\" >-1.0</th> \n",
       "        <th class=\"col_heading level0 col1\" >-1.5</th> \n",
       "        <th class=\"col_heading level0 col2\" >-2.0</th> \n",
       "    </tr></thead> \n",
       "<tbody>    <tr> \n",
       "        <th id=\"T_60ec5846_f252_11e8_8307_542696cdec3flevel0_row0\" class=\"row_heading level0 row0\" >2018.12.21</th> \n",
       "        <td id=\"T_60ec5846_f252_11e8_8307_542696cdec3frow0_col0\" class=\"data row0 col0\" >$56,940</td> \n",
       "        <td id=\"T_60ec5846_f252_11e8_8307_542696cdec3frow0_col1\" class=\"data row0 col1\" >$32,000</td> \n",
       "        <td id=\"T_60ec5846_f252_11e8_8307_542696cdec3frow0_col2\" class=\"data row0 col2\" >$21,935</td> \n",
       "    </tr>    <tr> \n",
       "        <th id=\"T_60ec5846_f252_11e8_8307_542696cdec3flevel0_row1\" class=\"row_heading level0 row1\" >2019.01.18</th> \n",
       "        <td id=\"T_60ec5846_f252_11e8_8307_542696cdec3frow1_col0\" class=\"data row1 col0\" >$85,400</td> \n",
       "        <td id=\"T_60ec5846_f252_11e8_8307_542696cdec3frow1_col1\" class=\"data row1 col1\" >$51,450</td> \n",
       "        <td id=\"T_60ec5846_f252_11e8_8307_542696cdec3frow1_col2\" class=\"data row1 col2\" >$36,335</td> \n",
       "    </tr>    <tr> \n",
       "        <th id=\"T_60ec5846_f252_11e8_8307_542696cdec3flevel0_row2\" class=\"row_heading level0 row2\" >2019.02.15</th> \n",
       "        <td id=\"T_60ec5846_f252_11e8_8307_542696cdec3frow2_col0\" class=\"data row2 col0\" >$106,600</td> \n",
       "        <td id=\"T_60ec5846_f252_11e8_8307_542696cdec3frow2_col1\" class=\"data row2 col1\" >$66,005</td> \n",
       "        <td id=\"T_60ec5846_f252_11e8_8307_542696cdec3frow2_col2\" class=\"data row2 col2\" >$47,250</td> \n",
       "    </tr></tbody> \n",
       "</table> "
      ],
      "text/plain": [
       "<pandas.io.formats.style.Styler at 0xb261164a8>"
      ]
     },
     "metadata": {},
     "output_type": "display_data"
    }
   ],
   "source": [
    "capital_at_risk = float(trd_choice.account_value[0].value) + illiquid_equity\n",
    "premium_list = []\n",
    "premium_list =  [(trd_choice.premium_grid() * contractTable.round() * 100) \\\n",
    "                 for contractTable in trd_choice.option_lots(leverage, capital_at_risk)]\n",
    "\n",
    "_ = [display(df.style.format('${:,.0f}')) for df in premium_list]  "
   ]
  },
  {
   "cell_type": "code",
   "execution_count": 7,
   "metadata": {},
   "outputs": [
    {
     "data": {
      "text/html": [
       "<style  type=\"text/css\" >\n",
       "</style>  \n",
       "<table id=\"T_60eff40c_f252_11e8_ad26_542696cdec3f\" > \n",
       "<thead>    <tr> \n",
       "        <th class=\"blank level0\" ></th> \n",
       "        <th class=\"col_heading level0 col0\" >-1.0</th> \n",
       "        <th class=\"col_heading level0 col1\" >-1.5</th> \n",
       "        <th class=\"col_heading level0 col2\" >-2.0</th> \n",
       "    </tr></thead> \n",
       "<tbody>    <tr> \n",
       "        <th id=\"T_60eff40c_f252_11e8_ad26_542696cdec3flevel0_row0\" class=\"row_heading level0 row0\" >2018.12.21</th> \n",
       "        <td id=\"T_60eff40c_f252_11e8_ad26_542696cdec3frow0_col0\" class=\"data row0 col0\" >0.55%</td> \n",
       "        <td id=\"T_60eff40c_f252_11e8_ad26_542696cdec3frow0_col1\" class=\"data row0 col1\" >0.30%</td> \n",
       "        <td id=\"T_60eff40c_f252_11e8_ad26_542696cdec3frow0_col2\" class=\"data row0 col2\" >0.20%</td> \n",
       "    </tr>    <tr> \n",
       "        <th id=\"T_60eff40c_f252_11e8_ad26_542696cdec3flevel0_row1\" class=\"row_heading level0 row1\" >2019.01.18</th> \n",
       "        <td id=\"T_60eff40c_f252_11e8_ad26_542696cdec3frow1_col0\" class=\"data row1 col0\" >0.80%</td> \n",
       "        <td id=\"T_60eff40c_f252_11e8_ad26_542696cdec3frow1_col1\" class=\"data row1 col1\" >0.46%</td> \n",
       "        <td id=\"T_60eff40c_f252_11e8_ad26_542696cdec3frow1_col2\" class=\"data row1 col2\" >0.32%</td> \n",
       "    </tr>    <tr> \n",
       "        <th id=\"T_60eff40c_f252_11e8_ad26_542696cdec3flevel0_row2\" class=\"row_heading level0 row2\" >2019.02.15</th> \n",
       "        <td id=\"T_60eff40c_f252_11e8_ad26_542696cdec3frow2_col0\" class=\"data row2 col0\" >0.98%</td> \n",
       "        <td id=\"T_60eff40c_f252_11e8_ad26_542696cdec3frow2_col1\" class=\"data row2 col1\" >0.58%</td> \n",
       "        <td id=\"T_60eff40c_f252_11e8_ad26_542696cdec3frow2_col2\" class=\"data row2 col2\" >0.39%</td> \n",
       "    </tr></tbody> \n",
       "</table> "
      ],
      "text/plain": [
       "<pandas.io.formats.style.Styler at 0xb26018a20>"
      ]
     },
     "metadata": {},
     "output_type": "display_data"
    },
    {
     "data": {
      "text/html": [
       "<style  type=\"text/css\" >\n",
       "</style>  \n",
       "<table id=\"T_60f0bfba_f252_11e8_8d09_542696cdec3f\" > \n",
       "<thead>    <tr> \n",
       "        <th class=\"blank level0\" ></th> \n",
       "        <th class=\"col_heading level0 col0\" >-1.0</th> \n",
       "        <th class=\"col_heading level0 col1\" >-1.5</th> \n",
       "        <th class=\"col_heading level0 col2\" >-2.0</th> \n",
       "    </tr></thead> \n",
       "<tbody>    <tr> \n",
       "        <th id=\"T_60f0bfba_f252_11e8_8d09_542696cdec3flevel0_row0\" class=\"row_heading level0 row0\" >2018.12.21</th> \n",
       "        <td id=\"T_60f0bfba_f252_11e8_8d09_542696cdec3frow0_col0\" class=\"data row0 col0\" >1.10%</td> \n",
       "        <td id=\"T_60f0bfba_f252_11e8_8d09_542696cdec3frow0_col1\" class=\"data row0 col1\" >0.60%</td> \n",
       "        <td id=\"T_60f0bfba_f252_11e8_8d09_542696cdec3frow0_col2\" class=\"data row0 col2\" >0.40%</td> \n",
       "    </tr>    <tr> \n",
       "        <th id=\"T_60f0bfba_f252_11e8_8d09_542696cdec3flevel0_row1\" class=\"row_heading level0 row1\" >2019.01.18</th> \n",
       "        <td id=\"T_60f0bfba_f252_11e8_8d09_542696cdec3frow1_col0\" class=\"data row1 col0\" >1.60%</td> \n",
       "        <td id=\"T_60f0bfba_f252_11e8_8d09_542696cdec3frow1_col1\" class=\"data row1 col1\" >0.92%</td> \n",
       "        <td id=\"T_60f0bfba_f252_11e8_8d09_542696cdec3frow1_col2\" class=\"data row1 col2\" >0.64%</td> \n",
       "    </tr>    <tr> \n",
       "        <th id=\"T_60f0bfba_f252_11e8_8d09_542696cdec3flevel0_row2\" class=\"row_heading level0 row2\" >2019.02.15</th> \n",
       "        <td id=\"T_60f0bfba_f252_11e8_8d09_542696cdec3frow2_col0\" class=\"data row2 col0\" >1.95%</td> \n",
       "        <td id=\"T_60f0bfba_f252_11e8_8d09_542696cdec3frow2_col1\" class=\"data row2 col1\" >1.15%</td> \n",
       "        <td id=\"T_60f0bfba_f252_11e8_8d09_542696cdec3frow2_col2\" class=\"data row2 col2\" >0.79%</td> \n",
       "    </tr></tbody> \n",
       "</table> "
      ],
      "text/plain": [
       "<pandas.io.formats.style.Styler at 0xb26018fd0>"
      ]
     },
     "metadata": {},
     "output_type": "display_data"
    },
    {
     "data": {
      "text/html": [
       "<style  type=\"text/css\" >\n",
       "</style>  \n",
       "<table id=\"T_60f1ad08_f252_11e8_abc2_542696cdec3f\" > \n",
       "<thead>    <tr> \n",
       "        <th class=\"blank level0\" ></th> \n",
       "        <th class=\"col_heading level0 col0\" >-1.0</th> \n",
       "        <th class=\"col_heading level0 col1\" >-1.5</th> \n",
       "        <th class=\"col_heading level0 col2\" >-2.0</th> \n",
       "    </tr></thead> \n",
       "<tbody>    <tr> \n",
       "        <th id=\"T_60f1ad08_f252_11e8_abc2_542696cdec3flevel0_row0\" class=\"row_heading level0 row0\" >2018.12.21</th> \n",
       "        <td id=\"T_60f1ad08_f252_11e8_abc2_542696cdec3frow0_col0\" class=\"data row0 col0\" >1.65%</td> \n",
       "        <td id=\"T_60f1ad08_f252_11e8_abc2_542696cdec3frow0_col1\" class=\"data row0 col1\" >0.90%</td> \n",
       "        <td id=\"T_60f1ad08_f252_11e8_abc2_542696cdec3frow0_col2\" class=\"data row0 col2\" >0.60%</td> \n",
       "    </tr>    <tr> \n",
       "        <th id=\"T_60f1ad08_f252_11e8_abc2_542696cdec3flevel0_row1\" class=\"row_heading level0 row1\" >2019.01.18</th> \n",
       "        <td id=\"T_60f1ad08_f252_11e8_abc2_542696cdec3frow1_col0\" class=\"data row1 col0\" >2.41%</td> \n",
       "        <td id=\"T_60f1ad08_f252_11e8_abc2_542696cdec3frow1_col1\" class=\"data row1 col1\" >1.38%</td> \n",
       "        <td id=\"T_60f1ad08_f252_11e8_abc2_542696cdec3frow1_col2\" class=\"data row1 col2\" >0.95%</td> \n",
       "    </tr>    <tr> \n",
       "        <th id=\"T_60f1ad08_f252_11e8_abc2_542696cdec3flevel0_row2\" class=\"row_heading level0 row2\" >2019.02.15</th> \n",
       "        <td id=\"T_60f1ad08_f252_11e8_abc2_542696cdec3frow2_col0\" class=\"data row2 col0\" >2.93%</td> \n",
       "        <td id=\"T_60f1ad08_f252_11e8_abc2_542696cdec3frow2_col1\" class=\"data row2 col1\" >1.73%</td> \n",
       "        <td id=\"T_60f1ad08_f252_11e8_abc2_542696cdec3frow2_col2\" class=\"data row2 col2\" >1.18%</td> \n",
       "    </tr></tbody> \n",
       "</table> "
      ],
      "text/plain": [
       "<pandas.io.formats.style.Styler at 0x1251a0f60>"
      ]
     },
     "metadata": {},
     "output_type": "display_data"
    }
   ],
   "source": [
    "premium_list_pct = []\n",
    "premium_list_pct = [(trd_choice.premium_grid() * lev) / last_price for lev in leverage]\n",
    "_ = [display(df.style.format('{:.2%}')) for df in premium_list_pct]  "
   ]
  },
  {
   "cell_type": "code",
   "execution_count": 8,
   "metadata": {},
   "outputs": [
    {
     "data": {
      "text/html": [
       "<style  type=\"text/css\" >\n",
       "</style>  \n",
       "<table id=\"T_60fd1f62_f252_11e8_8431_542696cdec3f\" > \n",
       "<thead>    <tr> \n",
       "        <th class=\"blank level0\" ></th> \n",
       "        <th class=\"col_heading level0 col0\" >-1.0</th> \n",
       "        <th class=\"col_heading level0 col1\" >-1.5</th> \n",
       "        <th class=\"col_heading level0 col2\" >-2.0</th> \n",
       "    </tr>    <tr> \n",
       "        <th class=\"index_name level0\" >Lev 1</th> \n",
       "        <th class=\"blank\" ></th> \n",
       "        <th class=\"blank\" ></th> \n",
       "        <th class=\"blank\" ></th> \n",
       "    </tr></thead> \n",
       "<tbody>    <tr> \n",
       "        <th id=\"T_60fd1f62_f252_11e8_8431_542696cdec3flevel0_row0\" class=\"row_heading level0 row0\" >2018.12.21</th> \n",
       "        <td id=\"T_60fd1f62_f252_11e8_8431_542696cdec3frow0_col0\" class=\"data row0 col0\" >13</td> \n",
       "        <td id=\"T_60fd1f62_f252_11e8_8431_542696cdec3frow0_col1\" class=\"data row0 col1\" >13</td> \n",
       "        <td id=\"T_60fd1f62_f252_11e8_8431_542696cdec3frow0_col2\" class=\"data row0 col2\" >14</td> \n",
       "    </tr>    <tr> \n",
       "        <th id=\"T_60fd1f62_f252_11e8_8431_542696cdec3flevel0_row1\" class=\"row_heading level0 row1\" >2019.01.18</th> \n",
       "        <td id=\"T_60fd1f62_f252_11e8_8431_542696cdec3frow1_col0\" class=\"data row1 col0\" >13</td> \n",
       "        <td id=\"T_60fd1f62_f252_11e8_8431_542696cdec3frow1_col1\" class=\"data row1 col1\" >14</td> \n",
       "        <td id=\"T_60fd1f62_f252_11e8_8431_542696cdec3frow1_col2\" class=\"data row1 col2\" >14</td> \n",
       "    </tr>    <tr> \n",
       "        <th id=\"T_60fd1f62_f252_11e8_8431_542696cdec3flevel0_row2\" class=\"row_heading level0 row2\" >2019.02.15</th> \n",
       "        <td id=\"T_60fd1f62_f252_11e8_8431_542696cdec3frow2_col0\" class=\"data row2 col0\" >14</td> \n",
       "        <td id=\"T_60fd1f62_f252_11e8_8431_542696cdec3frow2_col1\" class=\"data row2 col1\" >14</td> \n",
       "        <td id=\"T_60fd1f62_f252_11e8_8431_542696cdec3frow2_col2\" class=\"data row2 col2\" >15</td> \n",
       "    </tr></tbody> \n",
       "</table> "
      ],
      "text/plain": [
       "<pandas.io.formats.style.Styler at 0xb2602f438>"
      ]
     },
     "metadata": {},
     "output_type": "display_data"
    },
    {
     "data": {
      "text/html": [
       "<style  type=\"text/css\" >\n",
       "</style>  \n",
       "<table id=\"T_6100781a_f252_11e8_8967_542696cdec3f\" > \n",
       "<thead>    <tr> \n",
       "        <th class=\"blank level0\" ></th> \n",
       "        <th class=\"col_heading level0 col0\" >-1.0</th> \n",
       "        <th class=\"col_heading level0 col1\" >-1.5</th> \n",
       "        <th class=\"col_heading level0 col2\" >-2.0</th> \n",
       "    </tr>    <tr> \n",
       "        <th class=\"index_name level0\" >Lev 2</th> \n",
       "        <th class=\"blank\" ></th> \n",
       "        <th class=\"blank\" ></th> \n",
       "        <th class=\"blank\" ></th> \n",
       "    </tr></thead> \n",
       "<tbody>    <tr> \n",
       "        <th id=\"T_6100781a_f252_11e8_8967_542696cdec3flevel0_row0\" class=\"row_heading level0 row0\" >2018.12.21</th> \n",
       "        <td id=\"T_6100781a_f252_11e8_8967_542696cdec3frow0_col0\" class=\"data row0 col0\" >26</td> \n",
       "        <td id=\"T_6100781a_f252_11e8_8967_542696cdec3frow0_col1\" class=\"data row0 col1\" >27</td> \n",
       "        <td id=\"T_6100781a_f252_11e8_8967_542696cdec3frow0_col2\" class=\"data row0 col2\" >27</td> \n",
       "    </tr>    <tr> \n",
       "        <th id=\"T_6100781a_f252_11e8_8967_542696cdec3flevel0_row1\" class=\"row_heading level0 row1\" >2019.01.18</th> \n",
       "        <td id=\"T_6100781a_f252_11e8_8967_542696cdec3frow1_col0\" class=\"data row1 col0\" >27</td> \n",
       "        <td id=\"T_6100781a_f252_11e8_8967_542696cdec3frow1_col1\" class=\"data row1 col1\" >28</td> \n",
       "        <td id=\"T_6100781a_f252_11e8_8967_542696cdec3frow1_col2\" class=\"data row1 col2\" >28</td> \n",
       "    </tr>    <tr> \n",
       "        <th id=\"T_6100781a_f252_11e8_8967_542696cdec3flevel0_row2\" class=\"row_heading level0 row2\" >2019.02.15</th> \n",
       "        <td id=\"T_6100781a_f252_11e8_8967_542696cdec3frow2_col0\" class=\"data row2 col0\" >28</td> \n",
       "        <td id=\"T_6100781a_f252_11e8_8967_542696cdec3frow2_col1\" class=\"data row2 col1\" >29</td> \n",
       "        <td id=\"T_6100781a_f252_11e8_8967_542696cdec3frow2_col2\" class=\"data row2 col2\" >30</td> \n",
       "    </tr></tbody> \n",
       "</table> "
      ],
      "text/plain": [
       "<pandas.io.formats.style.Styler at 0xb260b28d0>"
      ]
     },
     "metadata": {},
     "output_type": "display_data"
    },
    {
     "data": {
      "text/html": [
       "<style  type=\"text/css\" >\n",
       "</style>  \n",
       "<table id=\"T_61026768_f252_11e8_a4e2_542696cdec3f\" > \n",
       "<thead>    <tr> \n",
       "        <th class=\"blank level0\" ></th> \n",
       "        <th class=\"col_heading level0 col0\" >-1.0</th> \n",
       "        <th class=\"col_heading level0 col1\" >-1.5</th> \n",
       "        <th class=\"col_heading level0 col2\" >-2.0</th> \n",
       "    </tr>    <tr> \n",
       "        <th class=\"index_name level0\" >Lev 3</th> \n",
       "        <th class=\"blank\" ></th> \n",
       "        <th class=\"blank\" ></th> \n",
       "        <th class=\"blank\" ></th> \n",
       "    </tr></thead> \n",
       "<tbody>    <tr> \n",
       "        <th id=\"T_61026768_f252_11e8_a4e2_542696cdec3flevel0_row0\" class=\"row_heading level0 row0\" >2018.12.21</th> \n",
       "        <td id=\"T_61026768_f252_11e8_a4e2_542696cdec3frow0_col0\" class=\"data row0 col0\" >39</td> \n",
       "        <td id=\"T_61026768_f252_11e8_a4e2_542696cdec3frow0_col1\" class=\"data row0 col1\" >40</td> \n",
       "        <td id=\"T_61026768_f252_11e8_a4e2_542696cdec3frow0_col2\" class=\"data row0 col2\" >41</td> \n",
       "    </tr>    <tr> \n",
       "        <th id=\"T_61026768_f252_11e8_a4e2_542696cdec3flevel0_row1\" class=\"row_heading level0 row1\" >2019.01.18</th> \n",
       "        <td id=\"T_61026768_f252_11e8_a4e2_542696cdec3frow1_col0\" class=\"data row1 col0\" >40</td> \n",
       "        <td id=\"T_61026768_f252_11e8_a4e2_542696cdec3frow1_col1\" class=\"data row1 col1\" >42</td> \n",
       "        <td id=\"T_61026768_f252_11e8_a4e2_542696cdec3frow1_col2\" class=\"data row1 col2\" >43</td> \n",
       "    </tr>    <tr> \n",
       "        <th id=\"T_61026768_f252_11e8_a4e2_542696cdec3flevel0_row2\" class=\"row_heading level0 row2\" >2019.02.15</th> \n",
       "        <td id=\"T_61026768_f252_11e8_a4e2_542696cdec3frow2_col0\" class=\"data row2 col0\" >41</td> \n",
       "        <td id=\"T_61026768_f252_11e8_a4e2_542696cdec3frow2_col1\" class=\"data row2 col1\" >43</td> \n",
       "        <td id=\"T_61026768_f252_11e8_a4e2_542696cdec3frow2_col2\" class=\"data row2 col2\" >45</td> \n",
       "    </tr></tbody> \n",
       "</table> "
      ],
      "text/plain": [
       "<pandas.io.formats.style.Styler at 0xb260b2198>"
      ]
     },
     "metadata": {},
     "output_type": "display_data"
    }
   ],
   "source": [
    "\n",
    "_ = [display(contractTable.round().style.format('{:.0f}')) for \\\n",
    "     contractTable in trd_choice.option_lots(leverage, capital_at_risk)]\n",
    "    "
   ]
  },
  {
   "cell_type": "code",
   "execution_count": 9,
   "metadata": {},
   "outputs": [
    {
     "data": {
      "text/html": [
       "<style  type=\"text/css\" >\n",
       "</style>  \n",
       "<table id=\"T_61149f5c_f252_11e8_84f2_542696cdec3f\" > \n",
       "<thead>    <tr> \n",
       "        <th class=\"blank level0\" ></th> \n",
       "        <th class=\"col_heading level0 col0\" >-1.0</th> \n",
       "        <th class=\"col_heading level0 col1\" >-1.5</th> \n",
       "        <th class=\"col_heading level0 col2\" >-2.0</th> \n",
       "    </tr></thead> \n",
       "<tbody>    <tr> \n",
       "        <th id=\"T_61149f5c_f252_11e8_84f2_542696cdec3flevel0_row0\" class=\"row_heading level0 row0\" >2018.12.21</th> \n",
       "        <td id=\"T_61149f5c_f252_11e8_84f2_542696cdec3frow0_col0\" class=\"data row0 col0\" >$540,145</td> \n",
       "        <td id=\"T_61149f5c_f252_11e8_84f2_542696cdec3frow0_col1\" class=\"data row0 col1\" >$453,565</td> \n",
       "        <td id=\"T_61149f5c_f252_11e8_84f2_542696cdec3frow0_col2\" class=\"data row0 col2\" >$428,744</td> \n",
       "    </tr>    <tr> \n",
       "        <th id=\"T_61149f5c_f252_11e8_84f2_542696cdec3flevel0_row1\" class=\"row_heading level0 row1\" >2019.01.18</th> \n",
       "        <td id=\"T_61149f5c_f252_11e8_84f2_542696cdec3frow1_col0\" class=\"data row1 col0\" >$470,920</td> \n",
       "        <td id=\"T_61149f5c_f252_11e8_84f2_542696cdec3frow1_col1\" class=\"data row1 col1\" >$368,404</td> \n",
       "        <td id=\"T_61149f5c_f252_11e8_84f2_542696cdec3frow1_col2\" class=\"data row1 col2\" >$336,630</td> \n",
       "    </tr>    <tr> \n",
       "        <th id=\"T_61149f5c_f252_11e8_84f2_542696cdec3flevel0_row2\" class=\"row_heading level0 row2\" >2019.02.15</th> \n",
       "        <td id=\"T_61149f5c_f252_11e8_84f2_542696cdec3frow2_col0\" class=\"data row2 col0\" >$422,654</td> \n",
       "        <td id=\"T_61149f5c_f252_11e8_84f2_542696cdec3frow2_col1\" class=\"data row2 col1\" >$342,790</td> \n",
       "        <td id=\"T_61149f5c_f252_11e8_84f2_542696cdec3frow2_col2\" class=\"data row2 col2\" >$348,000</td> \n",
       "    </tr></tbody> \n",
       "</table> "
      ],
      "text/plain": [
       "<pandas.io.formats.style.Styler at 0xb261164a8>"
      ]
     },
     "metadata": {},
     "output_type": "display_data"
    },
    {
     "data": {
      "text/html": [
       "<style  type=\"text/css\" >\n",
       "</style>  \n",
       "<table id=\"T_61153d0c_f252_11e8_897f_542696cdec3f\" > \n",
       "<thead>    <tr> \n",
       "        <th class=\"blank level0\" ></th> \n",
       "        <th class=\"col_heading level0 col0\" >-1.0</th> \n",
       "        <th class=\"col_heading level0 col1\" >-1.5</th> \n",
       "        <th class=\"col_heading level0 col2\" >-2.0</th> \n",
       "    </tr></thead> \n",
       "<tbody>    <tr> \n",
       "        <th id=\"T_61153d0c_f252_11e8_897f_542696cdec3flevel0_row0\" class=\"row_heading level0 row0\" >2018.12.21</th> \n",
       "        <td id=\"T_61153d0c_f252_11e8_897f_542696cdec3frow0_col0\" class=\"data row0 col0\" >$1,080,290</td> \n",
       "        <td id=\"T_61153d0c_f252_11e8_897f_542696cdec3frow0_col1\" class=\"data row0 col1\" >$942,019</td> \n",
       "        <td id=\"T_61153d0c_f252_11e8_897f_542696cdec3frow0_col2\" class=\"data row0 col2\" >$826,864</td> \n",
       "    </tr>    <tr> \n",
       "        <th id=\"T_61153d0c_f252_11e8_897f_542696cdec3flevel0_row1\" class=\"row_heading level0 row1\" >2019.01.18</th> \n",
       "        <td id=\"T_61153d0c_f252_11e8_897f_542696cdec3frow1_col0\" class=\"data row1 col0\" >$978,064</td> \n",
       "        <td id=\"T_61153d0c_f252_11e8_897f_542696cdec3frow1_col1\" class=\"data row1 col1\" >$736,809</td> \n",
       "        <td id=\"T_61153d0c_f252_11e8_897f_542696cdec3frow1_col2\" class=\"data row1 col2\" >$673,260</td> \n",
       "    </tr>    <tr> \n",
       "        <th id=\"T_61153d0c_f252_11e8_897f_542696cdec3flevel0_row2\" class=\"row_heading level0 row2\" >2019.02.15</th> \n",
       "        <td id=\"T_61153d0c_f252_11e8_897f_542696cdec3frow2_col0\" class=\"data row2 col0\" >$845,309</td> \n",
       "        <td id=\"T_61153d0c_f252_11e8_897f_542696cdec3frow2_col1\" class=\"data row2 col1\" >$710,065</td> \n",
       "        <td id=\"T_61153d0c_f252_11e8_897f_542696cdec3frow2_col2\" class=\"data row2 col2\" >$696,000</td> \n",
       "    </tr></tbody> \n",
       "</table> "
      ],
      "text/plain": [
       "<pandas.io.formats.style.Styler at 0x1251a0d68>"
      ]
     },
     "metadata": {},
     "output_type": "display_data"
    },
    {
     "data": {
      "text/html": [
       "<style  type=\"text/css\" >\n",
       "</style>  \n",
       "<table id=\"T_6115e18c_f252_11e8_9f7a_542696cdec3f\" > \n",
       "<thead>    <tr> \n",
       "        <th class=\"blank level0\" ></th> \n",
       "        <th class=\"col_heading level0 col0\" >-1.0</th> \n",
       "        <th class=\"col_heading level0 col1\" >-1.5</th> \n",
       "        <th class=\"col_heading level0 col2\" >-2.0</th> \n",
       "    </tr></thead> \n",
       "<tbody>    <tr> \n",
       "        <th id=\"T_6115e18c_f252_11e8_9f7a_542696cdec3flevel0_row0\" class=\"row_heading level0 row0\" >2018.12.21</th> \n",
       "        <td id=\"T_6115e18c_f252_11e8_9f7a_542696cdec3frow0_col0\" class=\"data row0 col0\" >$1,620,434</td> \n",
       "        <td id=\"T_6115e18c_f252_11e8_9f7a_542696cdec3frow0_col1\" class=\"data row0 col1\" >$1,395,584</td> \n",
       "        <td id=\"T_6115e18c_f252_11e8_9f7a_542696cdec3frow0_col2\" class=\"data row0 col2\" >$1,255,609</td> \n",
       "    </tr>    <tr> \n",
       "        <th id=\"T_6115e18c_f252_11e8_9f7a_542696cdec3flevel0_row1\" class=\"row_heading level0 row1\" >2019.01.18</th> \n",
       "        <td id=\"T_6115e18c_f252_11e8_9f7a_542696cdec3frow1_col0\" class=\"data row1 col0\" >$1,448,984</td> \n",
       "        <td id=\"T_6115e18c_f252_11e8_9f7a_542696cdec3frow1_col1\" class=\"data row1 col1\" >$1,105,213</td> \n",
       "        <td id=\"T_6115e18c_f252_11e8_9f7a_542696cdec3frow1_col2\" class=\"data row1 col2\" >$1,033,935</td> \n",
       "    </tr>    <tr> \n",
       "        <th id=\"T_6115e18c_f252_11e8_9f7a_542696cdec3flevel0_row2\" class=\"row_heading level0 row2\" >2019.02.15</th> \n",
       "        <td id=\"T_6115e18c_f252_11e8_9f7a_542696cdec3frow2_col0\" class=\"data row2 col0\" >$1,237,774</td> \n",
       "        <td id=\"T_6115e18c_f252_11e8_9f7a_542696cdec3frow2_col1\" class=\"data row2 col1\" >$1,052,855</td> \n",
       "        <td id=\"T_6115e18c_f252_11e8_9f7a_542696cdec3frow2_col2\" class=\"data row2 col2\" >$1,044,000</td> \n",
       "    </tr></tbody> \n",
       "</table> "
      ],
      "text/plain": [
       "<pandas.io.formats.style.Styler at 0xb260b2e80>"
      ]
     },
     "metadata": {},
     "output_type": "display_data"
    }
   ],
   "source": [
    "margin_dlr = [trd_choice.margin(last_price) * df for df in trd_choice.option_lots(leverage, capital_at_risk)]\n",
    "_ = [display(df.style.format('${:,.0f}')) for df in margin_dlr]  "
   ]
  },
  {
   "cell_type": "code",
   "execution_count": 10,
   "metadata": {},
   "outputs": [
    {
     "data": {
      "text/html": [
       "<style  type=\"text/css\" >\n",
       "</style>  \n",
       "<table id=\"T_611c2c0c_f252_11e8_88af_542696cdec3f\" > \n",
       "<thead>    <tr> \n",
       "        <th class=\"blank level0\" ></th> \n",
       "        <th class=\"col_heading level0 col0\" >-1.0</th> \n",
       "        <th class=\"col_heading level0 col1\" >-1.5</th> \n",
       "        <th class=\"col_heading level0 col2\" >-2.0</th> \n",
       "    </tr>    <tr> \n",
       "        <th class=\"index_name level0\" >Lev 2</th> \n",
       "        <th class=\"blank\" ></th> \n",
       "        <th class=\"blank\" ></th> \n",
       "        <th class=\"blank\" ></th> \n",
       "    </tr></thead> \n",
       "<tbody>    <tr> \n",
       "        <th id=\"T_611c2c0c_f252_11e8_88af_542696cdec3flevel0_row0\" class=\"row_heading level0 row0\" >2018.12.21</th> \n",
       "        <td id=\"T_611c2c0c_f252_11e8_88af_542696cdec3frow0_col0\" class=\"data row0 col0\" >$1,080,290</td> \n",
       "        <td id=\"T_611c2c0c_f252_11e8_88af_542696cdec3frow0_col1\" class=\"data row0 col1\" >$942,019</td> \n",
       "        <td id=\"T_611c2c0c_f252_11e8_88af_542696cdec3frow0_col2\" class=\"data row0 col2\" >$826,864</td> \n",
       "    </tr>    <tr> \n",
       "        <th id=\"T_611c2c0c_f252_11e8_88af_542696cdec3flevel0_row1\" class=\"row_heading level0 row1\" >2019.01.18</th> \n",
       "        <td id=\"T_611c2c0c_f252_11e8_88af_542696cdec3frow1_col0\" class=\"data row1 col0\" >$978,064</td> \n",
       "        <td id=\"T_611c2c0c_f252_11e8_88af_542696cdec3frow1_col1\" class=\"data row1 col1\" >$736,809</td> \n",
       "        <td id=\"T_611c2c0c_f252_11e8_88af_542696cdec3frow1_col2\" class=\"data row1 col2\" >$673,260</td> \n",
       "    </tr>    <tr> \n",
       "        <th id=\"T_611c2c0c_f252_11e8_88af_542696cdec3flevel0_row2\" class=\"row_heading level0 row2\" >2019.02.15</th> \n",
       "        <td id=\"T_611c2c0c_f252_11e8_88af_542696cdec3frow2_col0\" class=\"data row2 col0\" >$845,309</td> \n",
       "        <td id=\"T_611c2c0c_f252_11e8_88af_542696cdec3frow2_col1\" class=\"data row2 col1\" >$710,065</td> \n",
       "        <td id=\"T_611c2c0c_f252_11e8_88af_542696cdec3frow2_col2\" class=\"data row2 col2\" >$696,000</td> \n",
       "    </tr></tbody> \n",
       "</table> "
      ],
      "text/plain": [
       "<pandas.io.formats.style.Styler at 0xb26018fd0>"
      ]
     },
     "metadata": {},
     "output_type": "display_data"
    }
   ],
   "source": [
    "marge = trd_choice.margin(trd_choice.spot)\n",
    "lots = trd_choice.option_lots([2], capital_at_risk)\n",
    "margin = lots[0] * marge\n",
    "display(margin.style.format('${:,.0f}'))"
   ]
  },
  {
   "cell_type": "code",
   "execution_count": 11,
   "metadata": {},
   "outputs": [
    {
     "data": {
      "text/html": [
       "<style  type=\"text/css\" >\n",
       "</style>  \n",
       "<table id=\"T_61291ac2_f252_11e8_9f00_542696cdec3f\" > \n",
       "<thead>    <tr> \n",
       "        <th class=\"blank level0\" ></th> \n",
       "        <th class=\"col_heading level0 col0\" >-1.0</th> \n",
       "        <th class=\"col_heading level0 col1\" >-1.5</th> \n",
       "        <th class=\"col_heading level0 col2\" >-2.0</th> \n",
       "    </tr>    <tr> \n",
       "        <th class=\"index_name level0\" >Lev 1</th> \n",
       "        <th class=\"blank\" ></th> \n",
       "        <th class=\"blank\" ></th> \n",
       "        <th class=\"blank\" ></th> \n",
       "    </tr></thead> \n",
       "<tbody>    <tr> \n",
       "        <th id=\"T_61291ac2_f252_11e8_9f00_542696cdec3flevel0_row0\" class=\"row_heading level0 row0\" >2018.12.21</th> \n",
       "        <td id=\"T_61291ac2_f252_11e8_9f00_542696cdec3frow0_col0\" class=\"data row0 col0\" >$3,289,000</td> \n",
       "        <td id=\"T_61291ac2_f252_11e8_9f00_542696cdec3frow0_col1\" class=\"data row0 col1\" >$3,211,000</td> \n",
       "        <td id=\"T_61291ac2_f252_11e8_9f00_542696cdec3frow0_col2\" class=\"data row0 col2\" >$3,402,000</td> \n",
       "    </tr>    <tr> \n",
       "        <th id=\"T_61291ac2_f252_11e8_9f00_542696cdec3flevel0_row1\" class=\"row_heading level0 row1\" >2019.01.18</th> \n",
       "        <td id=\"T_61291ac2_f252_11e8_9f00_542696cdec3frow1_col0\" class=\"data row1 col0\" >$3,211,000</td> \n",
       "        <td id=\"T_61291ac2_f252_11e8_9f00_542696cdec3frow1_col1\" class=\"data row1 col1\" >$3,332,000</td> \n",
       "        <td id=\"T_61291ac2_f252_11e8_9f00_542696cdec3frow1_col2\" class=\"data row1 col2\" >$3,248,000</td> \n",
       "    </tr>    <tr> \n",
       "        <th id=\"T_61291ac2_f252_11e8_9f00_542696cdec3flevel0_row2\" class=\"row_heading level0 row2\" >2019.02.15</th> \n",
       "        <td id=\"T_61291ac2_f252_11e8_9f00_542696cdec3frow2_col0\" class=\"data row2 col0\" >$3,367,000</td> \n",
       "        <td id=\"T_61291ac2_f252_11e8_9f00_542696cdec3frow2_col1\" class=\"data row2 col1\" >$3,213,000</td> \n",
       "        <td id=\"T_61291ac2_f252_11e8_9f00_542696cdec3frow2_col2\" class=\"data row2 col2\" >$3,322,500</td> \n",
       "    </tr></tbody> \n",
       "</table> "
      ],
      "text/plain": [
       "<pandas.io.formats.style.Styler at 0xb260c1f60>"
      ]
     },
     "metadata": {},
     "output_type": "display_data"
    },
    {
     "data": {
      "text/html": [
       "<style  type=\"text/css\" >\n",
       "</style>  \n",
       "<table id=\"T_612a39ca_f252_11e8_9233_542696cdec3f\" > \n",
       "<thead>    <tr> \n",
       "        <th class=\"blank level0\" ></th> \n",
       "        <th class=\"col_heading level0 col0\" >-1.0</th> \n",
       "        <th class=\"col_heading level0 col1\" >-1.5</th> \n",
       "        <th class=\"col_heading level0 col2\" >-2.0</th> \n",
       "    </tr>    <tr> \n",
       "        <th class=\"index_name level0\" >Lev 2</th> \n",
       "        <th class=\"blank\" ></th> \n",
       "        <th class=\"blank\" ></th> \n",
       "        <th class=\"blank\" ></th> \n",
       "    </tr></thead> \n",
       "<tbody>    <tr> \n",
       "        <th id=\"T_612a39ca_f252_11e8_9233_542696cdec3flevel0_row0\" class=\"row_heading level0 row0\" >2018.12.21</th> \n",
       "        <td id=\"T_612a39ca_f252_11e8_9233_542696cdec3frow0_col0\" class=\"data row0 col0\" >$6,578,000</td> \n",
       "        <td id=\"T_612a39ca_f252_11e8_9233_542696cdec3frow0_col1\" class=\"data row0 col1\" >$6,669,000</td> \n",
       "        <td id=\"T_612a39ca_f252_11e8_9233_542696cdec3frow0_col2\" class=\"data row0 col2\" >$6,561,000</td> \n",
       "    </tr>    <tr> \n",
       "        <th id=\"T_612a39ca_f252_11e8_9233_542696cdec3flevel0_row1\" class=\"row_heading level0 row1\" >2019.01.18</th> \n",
       "        <td id=\"T_612a39ca_f252_11e8_9233_542696cdec3frow1_col0\" class=\"data row1 col0\" >$6,669,000</td> \n",
       "        <td id=\"T_612a39ca_f252_11e8_9233_542696cdec3frow1_col1\" class=\"data row1 col1\" >$6,664,000</td> \n",
       "        <td id=\"T_612a39ca_f252_11e8_9233_542696cdec3frow1_col2\" class=\"data row1 col2\" >$6,496,000</td> \n",
       "    </tr>    <tr> \n",
       "        <th id=\"T_612a39ca_f252_11e8_9233_542696cdec3flevel0_row2\" class=\"row_heading level0 row2\" >2019.02.15</th> \n",
       "        <td id=\"T_612a39ca_f252_11e8_9233_542696cdec3frow2_col0\" class=\"data row2 col0\" >$6,734,000</td> \n",
       "        <td id=\"T_612a39ca_f252_11e8_9233_542696cdec3frow2_col1\" class=\"data row2 col1\" >$6,655,500</td> \n",
       "        <td id=\"T_612a39ca_f252_11e8_9233_542696cdec3frow2_col2\" class=\"data row2 col2\" >$6,645,000</td> \n",
       "    </tr></tbody> \n",
       "</table> "
      ],
      "text/plain": [
       "<pandas.io.formats.style.Styler at 0xb260c1fd0>"
      ]
     },
     "metadata": {},
     "output_type": "display_data"
    },
    {
     "data": {
      "text/html": [
       "<style  type=\"text/css\" >\n",
       "</style>  \n",
       "<table id=\"T_612b45b8_f252_11e8_9d61_542696cdec3f\" > \n",
       "<thead>    <tr> \n",
       "        <th class=\"blank level0\" ></th> \n",
       "        <th class=\"col_heading level0 col0\" >-1.0</th> \n",
       "        <th class=\"col_heading level0 col1\" >-1.5</th> \n",
       "        <th class=\"col_heading level0 col2\" >-2.0</th> \n",
       "    </tr>    <tr> \n",
       "        <th class=\"index_name level0\" >Lev 3</th> \n",
       "        <th class=\"blank\" ></th> \n",
       "        <th class=\"blank\" ></th> \n",
       "        <th class=\"blank\" ></th> \n",
       "    </tr></thead> \n",
       "<tbody>    <tr> \n",
       "        <th id=\"T_612b45b8_f252_11e8_9d61_542696cdec3flevel0_row0\" class=\"row_heading level0 row0\" >2018.12.21</th> \n",
       "        <td id=\"T_612b45b8_f252_11e8_9d61_542696cdec3frow0_col0\" class=\"data row0 col0\" >$9,867,000</td> \n",
       "        <td id=\"T_612b45b8_f252_11e8_9d61_542696cdec3frow0_col1\" class=\"data row0 col1\" >$9,880,000</td> \n",
       "        <td id=\"T_612b45b8_f252_11e8_9d61_542696cdec3frow0_col2\" class=\"data row0 col2\" >$9,963,000</td> \n",
       "    </tr>    <tr> \n",
       "        <th id=\"T_612b45b8_f252_11e8_9d61_542696cdec3flevel0_row1\" class=\"row_heading level0 row1\" >2019.01.18</th> \n",
       "        <td id=\"T_612b45b8_f252_11e8_9d61_542696cdec3frow1_col0\" class=\"data row1 col0\" >$9,880,000</td> \n",
       "        <td id=\"T_612b45b8_f252_11e8_9d61_542696cdec3frow1_col1\" class=\"data row1 col1\" >$9,996,000</td> \n",
       "        <td id=\"T_612b45b8_f252_11e8_9d61_542696cdec3frow1_col2\" class=\"data row1 col2\" >$9,976,000</td> \n",
       "    </tr>    <tr> \n",
       "        <th id=\"T_612b45b8_f252_11e8_9d61_542696cdec3flevel0_row2\" class=\"row_heading level0 row2\" >2019.02.15</th> \n",
       "        <td id=\"T_612b45b8_f252_11e8_9d61_542696cdec3frow2_col0\" class=\"data row2 col0\" >$9,860,500</td> \n",
       "        <td id=\"T_612b45b8_f252_11e8_9d61_542696cdec3frow2_col1\" class=\"data row2 col1\" >$9,868,500</td> \n",
       "        <td id=\"T_612b45b8_f252_11e8_9d61_542696cdec3frow2_col2\" class=\"data row2 col2\" >$9,967,500</td> \n",
       "    </tr></tbody> \n",
       "</table> "
      ],
      "text/plain": [
       "<pandas.io.formats.style.Styler at 0xb260c1e48>"
      ]
     },
     "metadata": {},
     "output_type": "display_data"
    }
   ],
   "source": [
    "notional_dlr=[df * trd_choice.strike_grid() * 100 for df in trd_choice.option_lots(leverage, capital_at_risk)]\n",
    "_ = [display(df.style.format('${:,.0f}')) for df in notional_dlr]  "
   ]
  },
  {
   "cell_type": "code",
   "execution_count": 12,
   "metadata": {},
   "outputs": [
    {
     "data": {
      "text/plain": [
       "3271571.8811"
      ]
     },
     "execution_count": 12,
     "metadata": {},
     "output_type": "execute_result"
    }
   ],
   "source": [
    "capital_at_risk"
   ]
  },
  {
   "cell_type": "code",
   "execution_count": null,
   "metadata": {},
   "outputs": [],
   "source": []
  }
 ],
 "metadata": {
  "kernelspec": {
   "display_name": "Python 3",
   "language": "python",
   "name": "python3"
  },
  "language_info": {
   "codemirror_mode": {
    "name": "ipython",
    "version": 3
   },
   "file_extension": ".py",
   "mimetype": "text/x-python",
   "name": "python",
   "nbconvert_exporter": "python",
   "pygments_lexer": "ipython3",
   "version": "3.6.6"
  }
 },
 "nbformat": 4,
 "nbformat_minor": 2
}
