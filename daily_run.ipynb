{
 "cells": [
  {
   "cell_type": "markdown",
   "metadata": {},
   "source": [
    "daily_run estimates strikes and number of contracts for a put selling strategy on equity indices such as S&P 500. \n",
    "\n",
    "Algorithm is drawn from  JUREK, J. W. and STAFFORD, E. (2015), The Cost of Capital for Alternative Investments. The Journal of Finance, 70: 2185-2226. doi:10.1111/jofi.12269- \n",
    "\n",
    "Requires an open session of either IB Gateway or TWS from Interactive Brokers"
   ]
  },
  {
   "cell_type": "code",
   "execution_count": 1,
   "metadata": {},
   "outputs": [
    {
     "data": {
      "text/plain": [
       "531500.0"
      ]
     },
     "execution_count": 1,
     "metadata": {},
     "output_type": "execute_result"
    }
   ],
   "source": [
    "from option_daily_prod import OptionMarket, SpxOptionAsset, RSL2OptionAsset\n",
    "from spx_data_update import UpdateSP500Data\n",
    "import numpy as np\n",
    "import pandas as pd\n",
    "import nest_asyncio\n",
    "from time import time\n",
    "import plistlib\n",
    "file_name = UpdateSP500Data.DATA_BASE_PATH / 'config.plist'\n",
    "f = open(str(file_name), 'rb')\n",
    "pl = plistlib.load(f)\n",
    "illiquid_dict = pl['illiquid_equity']\n",
    "illiquid_equity = sum(illiquid_dict.values()) * 0.5\n",
    "illiquid_equity"
   ]
  },
  {
   "cell_type": "code",
   "execution_count": 5,
   "metadata": {},
   "outputs": [
    {
     "name": "stdout",
     "output_type": "stream",
     "text": [
      "Warning: RSL2 Using Fixed Dividend yield\n"
     ]
    }
   ],
   "source": [
    "before = time()\n",
    "nest_asyncio.apply()\n",
    "\n",
    "spx_trades = OptionMarket(SpxOptionAsset())\n",
    "rsl_trades = OptionMarket(RSL2OptionAsset())"
   ]
  },
  {
   "cell_type": "code",
   "execution_count": 6,
   "metadata": {},
   "outputs": [
    {
     "name": "stdout",
     "output_type": "stream",
     "text": [
      "elapsed: 70.5\n",
      "elapsed: 84.7\n",
      "2666.46\n",
      "21.92\n",
      "[AccountValue(account='U2463043', tag='NetLiquidationByCurrency', value='2732593.1364', currency='BASE', modelCode='')]\n"
     ]
    }
   ],
   "source": [
    "z_score = np.array([-0.5, -1, -1.5])\n",
    "leverage = np.array(range(1, 3, 1))\n",
    "num_expiries = 3\n",
    "\n",
    "after = time()\n",
    "spx = True\n",
    "if spx:\n",
    "    trd_choice = spx_trades.form_trade_choice(z_score, num_expiries, 'P')\n",
    "else:\n",
    "    trd_choice = rsl_trades.form_trade_choice(z_score, num_expiries, 'P')\n",
    "    \n",
    "last_price = trd_choice.spot\n",
    "after_2 = time()\n",
    "print('elapsed:', np.round(after - before, 1))\n",
    "print('elapsed:', np.round(after_2 - before, 1))\n",
    "print(last_price)\n",
    "print(trd_choice.sigma)\n",
    "print(trd_choice.account_value)"
   ]
  },
  {
   "cell_type": "code",
   "execution_count": 7,
   "metadata": {},
   "outputs": [
    {
     "data": {
      "text/html": [
       "<style>\n",
       ".output {\n",
       "    flex-direction:row;\n",
       "}\n",
       "</style>"
      ],
      "text/plain": [
       "<IPython.core.display.HTML object>"
      ]
     },
     "execution_count": 7,
     "metadata": {},
     "output_type": "execute_result"
    }
   ],
   "source": [
    "from IPython.display import display, HTML\n",
    "\n",
    "CSS = \"\"\"\n",
    ".output {\n",
    "    flex-direction:row;\n",
    "}\n",
    "\"\"\"\n",
    "HTML('<style>{}</style>'.format(CSS))\n"
   ]
  },
  {
   "cell_type": "code",
   "execution_count": 9,
   "metadata": {},
   "outputs": [
    {
     "data": {
      "text/html": [
       "<div>\n",
       "<style scoped>\n",
       "    .dataframe tbody tr th:only-of-type {\n",
       "        vertical-align: middle;\n",
       "    }\n",
       "\n",
       "    .dataframe tbody tr th {\n",
       "        vertical-align: top;\n",
       "    }\n",
       "\n",
       "    .dataframe thead th {\n",
       "        text-align: right;\n",
       "    }\n",
       "</style>\n",
       "<table border=\"1\" class=\"dataframe\">\n",
       "  <thead>\n",
       "    <tr style=\"text-align: right;\">\n",
       "      <th></th>\n",
       "      <th>-0.5</th>\n",
       "      <th>-1.0</th>\n",
       "      <th>-1.5</th>\n",
       "    </tr>\n",
       "  </thead>\n",
       "  <tbody>\n",
       "    <tr>\n",
       "      <th>2018.12.21</th>\n",
       "      <td>2620</td>\n",
       "      <td>2575</td>\n",
       "      <td>2545</td>\n",
       "    </tr>\n",
       "    <tr>\n",
       "      <th>2019.01.18</th>\n",
       "      <td>2570</td>\n",
       "      <td>2485</td>\n",
       "      <td>2430</td>\n",
       "    </tr>\n",
       "    <tr>\n",
       "      <th>2019.02.15</th>\n",
       "      <td>2525</td>\n",
       "      <td>2400</td>\n",
       "      <td>2320</td>\n",
       "    </tr>\n",
       "  </tbody>\n",
       "</table>\n",
       "</div>"
      ],
      "text/plain": [
       "            -0.5  -1.0  -1.5\n",
       "2018.12.21  2620  2575  2545\n",
       "2019.01.18  2570  2485  2430\n",
       "2019.02.15  2525  2400  2320"
      ]
     },
     "metadata": {},
     "output_type": "display_data"
    },
    {
     "data": {
      "text/html": [
       "<div>\n",
       "<style scoped>\n",
       "    .dataframe tbody tr th:only-of-type {\n",
       "        vertical-align: middle;\n",
       "    }\n",
       "\n",
       "    .dataframe tbody tr th {\n",
       "        vertical-align: top;\n",
       "    }\n",
       "\n",
       "    .dataframe thead th {\n",
       "        text-align: right;\n",
       "    }\n",
       "</style>\n",
       "<table border=\"1\" class=\"dataframe\">\n",
       "  <thead>\n",
       "    <tr style=\"text-align: right;\">\n",
       "      <th></th>\n",
       "      <th>-0.5</th>\n",
       "      <th>-1.0</th>\n",
       "      <th>-1.5</th>\n",
       "    </tr>\n",
       "  </thead>\n",
       "  <tbody>\n",
       "    <tr>\n",
       "      <th>2018.12.21</th>\n",
       "      <td>31.45</td>\n",
       "      <td>11.90</td>\n",
       "      <td>13.20</td>\n",
       "    </tr>\n",
       "    <tr>\n",
       "      <th>2019.01.18</th>\n",
       "      <td>34.70</td>\n",
       "      <td>19.95</td>\n",
       "      <td>14.00</td>\n",
       "    </tr>\n",
       "    <tr>\n",
       "      <th>2019.02.15</th>\n",
       "      <td>49.85</td>\n",
       "      <td>23.20</td>\n",
       "      <td>18.25</td>\n",
       "    </tr>\n",
       "  </tbody>\n",
       "</table>\n",
       "</div>"
      ],
      "text/plain": [
       "             -0.5   -1.0   -1.5\n",
       "2018.12.21  31.45  11.90  13.20\n",
       "2019.01.18  34.70  19.95  14.00\n",
       "2019.02.15  49.85  23.20  18.25"
      ]
     },
     "metadata": {},
     "output_type": "display_data"
    },
    {
     "data": {
      "text/html": [
       "<div>\n",
       "<style scoped>\n",
       "    .dataframe tbody tr th:only-of-type {\n",
       "        vertical-align: middle;\n",
       "    }\n",
       "\n",
       "    .dataframe tbody tr th {\n",
       "        vertical-align: top;\n",
       "    }\n",
       "\n",
       "    .dataframe thead th {\n",
       "        text-align: right;\n",
       "    }\n",
       "</style>\n",
       "<table border=\"1\" class=\"dataframe\">\n",
       "  <thead>\n",
       "    <tr style=\"text-align: right;\">\n",
       "      <th></th>\n",
       "      <th>-0.5</th>\n",
       "      <th>-1.0</th>\n",
       "      <th>-1.5</th>\n",
       "    </tr>\n",
       "  </thead>\n",
       "  <tbody>\n",
       "    <tr>\n",
       "      <th>2018.12.21</th>\n",
       "      <td>-1.0/-1.0</td>\n",
       "      <td>11.7/12.1</td>\n",
       "      <td>-1.0/-1.0</td>\n",
       "    </tr>\n",
       "    <tr>\n",
       "      <th>2019.01.18</th>\n",
       "      <td>34.4/35.0</td>\n",
       "      <td>19.7/20.2</td>\n",
       "      <td>13.8/14.2</td>\n",
       "    </tr>\n",
       "    <tr>\n",
       "      <th>2019.02.15</th>\n",
       "      <td>-1.0/-1.0</td>\n",
       "      <td>22.9/23.5</td>\n",
       "      <td>-1.0/-1.0</td>\n",
       "    </tr>\n",
       "  </tbody>\n",
       "</table>\n",
       "</div>"
      ],
      "text/plain": [
       "                 -0.5       -1.0       -1.5\n",
       "2018.12.21  -1.0/-1.0  11.7/12.1  -1.0/-1.0\n",
       "2019.01.18  34.4/35.0  19.7/20.2  13.8/14.2\n",
       "2019.02.15  -1.0/-1.0  22.9/23.5  -1.0/-1.0"
      ]
     },
     "metadata": {},
     "output_type": "display_data"
    }
   ],
   "source": [
    "_=[display(df) for df in [trd_choice.strike_grid(), trd_choice.premium_grid(), trd_choice.prices_grid()]]"
   ]
  },
  {
   "cell_type": "code",
   "execution_count": 10,
   "metadata": {},
   "outputs": [
    {
     "data": {
      "text/html": [
       "<style  type=\"text/css\" >\n",
       "</style>  \n",
       "<table id=\"T_e94f5efa_fd58_11e8_a360_542696cdec3f\" > \n",
       "<thead>    <tr> \n",
       "        <th class=\"blank level0\" ></th> \n",
       "        <th class=\"col_heading level0 col0\" >-0.5</th> \n",
       "        <th class=\"col_heading level0 col1\" >-1.0</th> \n",
       "        <th class=\"col_heading level0 col2\" >-1.5</th> \n",
       "    </tr></thead> \n",
       "<tbody>    <tr> \n",
       "        <th id=\"T_e94f5efa_fd58_11e8_a360_542696cdec3flevel0_row0\" class=\"row_heading level0 row0\" >2018.12.21</th> \n",
       "        <td id=\"T_e94f5efa_fd58_11e8_a360_542696cdec3frow0_col0\" class=\"data row0 col0\" >-1.74%</td> \n",
       "        <td id=\"T_e94f5efa_fd58_11e8_a360_542696cdec3frow0_col1\" class=\"data row0 col1\" >-3.43%</td> \n",
       "        <td id=\"T_e94f5efa_fd58_11e8_a360_542696cdec3frow0_col2\" class=\"data row0 col2\" >-4.56%</td> \n",
       "    </tr>    <tr> \n",
       "        <th id=\"T_e94f5efa_fd58_11e8_a360_542696cdec3flevel0_row1\" class=\"row_heading level0 row1\" >2019.01.18</th> \n",
       "        <td id=\"T_e94f5efa_fd58_11e8_a360_542696cdec3frow1_col0\" class=\"data row1 col0\" >-3.62%</td> \n",
       "        <td id=\"T_e94f5efa_fd58_11e8_a360_542696cdec3frow1_col1\" class=\"data row1 col1\" >-6.81%</td> \n",
       "        <td id=\"T_e94f5efa_fd58_11e8_a360_542696cdec3frow1_col2\" class=\"data row1 col2\" >-8.87%</td> \n",
       "    </tr>    <tr> \n",
       "        <th id=\"T_e94f5efa_fd58_11e8_a360_542696cdec3flevel0_row2\" class=\"row_heading level0 row2\" >2019.02.15</th> \n",
       "        <td id=\"T_e94f5efa_fd58_11e8_a360_542696cdec3frow2_col0\" class=\"data row2 col0\" >-5.31%</td> \n",
       "        <td id=\"T_e94f5efa_fd58_11e8_a360_542696cdec3frow2_col1\" class=\"data row2 col1\" >-9.99%</td> \n",
       "        <td id=\"T_e94f5efa_fd58_11e8_a360_542696cdec3frow2_col2\" class=\"data row2 col2\" >-12.99%</td> \n",
       "    </tr></tbody> \n",
       "</table> "
      ],
      "text/plain": [
       "<pandas.io.formats.style.Styler at 0x111d49668>"
      ]
     },
     "metadata": {},
     "output_type": "display_data"
    }
   ],
   "source": [
    "\n",
    "prct_decline = trd_choice.pct_otm_grid(last_price)\n",
    "format_dict = {x: '{:.2%}' for x in prct_decline.to_dict()}\n",
    "display(prct_decline.style.format(format_dict))"
   ]
  },
  {
   "cell_type": "code",
   "execution_count": 11,
   "metadata": {
    "scrolled": false
   },
   "outputs": [
    {
     "data": {
      "text/html": [
       "<style  type=\"text/css\" >\n",
       "</style>  \n",
       "<table id=\"T_e9e291de_fd58_11e8_890c_542696cdec3f\" > \n",
       "<thead>    <tr> \n",
       "        <th class=\"blank level0\" ></th> \n",
       "        <th class=\"col_heading level0 col0\" >-0.5</th> \n",
       "        <th class=\"col_heading level0 col1\" >-1.0</th> \n",
       "        <th class=\"col_heading level0 col2\" >-1.5</th> \n",
       "    </tr></thead> \n",
       "<tbody>    <tr> \n",
       "        <th id=\"T_e9e291de_fd58_11e8_890c_542696cdec3flevel0_row0\" class=\"row_heading level0 row0\" >2018.12.21</th> \n",
       "        <td id=\"T_e9e291de_fd58_11e8_890c_542696cdec3frow0_col0\" class=\"data row0 col0\" >$40,885</td> \n",
       "        <td id=\"T_e9e291de_fd58_11e8_890c_542696cdec3frow0_col1\" class=\"data row0 col1\" >$15,470</td> \n",
       "        <td id=\"T_e9e291de_fd58_11e8_890c_542696cdec3frow0_col2\" class=\"data row0 col2\" >$17,160</td> \n",
       "    </tr>    <tr> \n",
       "        <th id=\"T_e9e291de_fd58_11e8_890c_542696cdec3flevel0_row1\" class=\"row_heading level0 row1\" >2019.01.18</th> \n",
       "        <td id=\"T_e9e291de_fd58_11e8_890c_542696cdec3frow1_col0\" class=\"data row1 col0\" >$45,110</td> \n",
       "        <td id=\"T_e9e291de_fd58_11e8_890c_542696cdec3frow1_col1\" class=\"data row1 col1\" >$25,935</td> \n",
       "        <td id=\"T_e9e291de_fd58_11e8_890c_542696cdec3frow1_col2\" class=\"data row1 col2\" >$19,600</td> \n",
       "    </tr>    <tr> \n",
       "        <th id=\"T_e9e291de_fd58_11e8_890c_542696cdec3flevel0_row2\" class=\"row_heading level0 row2\" >2019.02.15</th> \n",
       "        <td id=\"T_e9e291de_fd58_11e8_890c_542696cdec3frow2_col0\" class=\"data row2 col0\" >$64,805</td> \n",
       "        <td id=\"T_e9e291de_fd58_11e8_890c_542696cdec3frow2_col1\" class=\"data row2 col1\" >$32,480</td> \n",
       "        <td id=\"T_e9e291de_fd58_11e8_890c_542696cdec3frow2_col2\" class=\"data row2 col2\" >$25,550</td> \n",
       "    </tr></tbody> \n",
       "</table> "
      ],
      "text/plain": [
       "<pandas.io.formats.style.Styler at 0xb20fdffd0>"
      ]
     },
     "metadata": {},
     "output_type": "display_data"
    },
    {
     "data": {
      "text/html": [
       "<style  type=\"text/css\" >\n",
       "</style>  \n",
       "<table id=\"T_e9e33800_fd58_11e8_8137_542696cdec3f\" > \n",
       "<thead>    <tr> \n",
       "        <th class=\"blank level0\" ></th> \n",
       "        <th class=\"col_heading level0 col0\" >-0.5</th> \n",
       "        <th class=\"col_heading level0 col1\" >-1.0</th> \n",
       "        <th class=\"col_heading level0 col2\" >-1.5</th> \n",
       "    </tr></thead> \n",
       "<tbody>    <tr> \n",
       "        <th id=\"T_e9e33800_fd58_11e8_8137_542696cdec3flevel0_row0\" class=\"row_heading level0 row0\" >2018.12.21</th> \n",
       "        <td id=\"T_e9e33800_fd58_11e8_8137_542696cdec3frow0_col0\" class=\"data row0 col0\" >$78,625</td> \n",
       "        <td id=\"T_e9e33800_fd58_11e8_8137_542696cdec3frow0_col1\" class=\"data row0 col1\" >$29,750</td> \n",
       "        <td id=\"T_e9e33800_fd58_11e8_8137_542696cdec3frow0_col2\" class=\"data row0 col2\" >$34,320</td> \n",
       "    </tr>    <tr> \n",
       "        <th id=\"T_e9e33800_fd58_11e8_8137_542696cdec3flevel0_row1\" class=\"row_heading level0 row1\" >2019.01.18</th> \n",
       "        <td id=\"T_e9e33800_fd58_11e8_8137_542696cdec3frow1_col0\" class=\"data row1 col0\" >$90,220</td> \n",
       "        <td id=\"T_e9e33800_fd58_11e8_8137_542696cdec3frow1_col1\" class=\"data row1 col1\" >$53,865</td> \n",
       "        <td id=\"T_e9e33800_fd58_11e8_8137_542696cdec3frow1_col2\" class=\"data row1 col2\" >$37,800</td> \n",
       "    </tr>    <tr> \n",
       "        <th id=\"T_e9e33800_fd58_11e8_8137_542696cdec3flevel0_row2\" class=\"row_heading level0 row2\" >2019.02.15</th> \n",
       "        <td id=\"T_e9e33800_fd58_11e8_8137_542696cdec3frow2_col0\" class=\"data row2 col0\" >$129,610</td> \n",
       "        <td id=\"T_e9e33800_fd58_11e8_8137_542696cdec3frow2_col1\" class=\"data row2 col1\" >$64,960</td> \n",
       "        <td id=\"T_e9e33800_fd58_11e8_8137_542696cdec3frow2_col2\" class=\"data row2 col2\" >$51,100</td> \n",
       "    </tr></tbody> \n",
       "</table> "
      ],
      "text/plain": [
       "<pandas.io.formats.style.Styler at 0x112201ba8>"
      ]
     },
     "metadata": {},
     "output_type": "display_data"
    }
   ],
   "source": [
    "capital_at_risk = float(trd_choice.account_value[0].value) + illiquid_equity\n",
    "premium_list = []\n",
    "premium_list =  [(trd_choice.premium_grid() * contractTable.round() * 100) \\\n",
    "                 for contractTable in trd_choice.option_lots(leverage, capital_at_risk)]\n",
    "\n",
    "_ = [display(df.style.format('${:,.0f}')) for df in premium_list]  "
   ]
  },
  {
   "cell_type": "code",
   "execution_count": 12,
   "metadata": {},
   "outputs": [
    {
     "data": {
      "text/html": [
       "<style  type=\"text/css\" >\n",
       "</style>  \n",
       "<table id=\"T_ea48f15e_fd58_11e8_a05e_542696cdec3f\" > \n",
       "<thead>    <tr> \n",
       "        <th class=\"blank level0\" ></th> \n",
       "        <th class=\"col_heading level0 col0\" >-0.5</th> \n",
       "        <th class=\"col_heading level0 col1\" >-1.0</th> \n",
       "        <th class=\"col_heading level0 col2\" >-1.5</th> \n",
       "    </tr></thead> \n",
       "<tbody>    <tr> \n",
       "        <th id=\"T_ea48f15e_fd58_11e8_a05e_542696cdec3flevel0_row0\" class=\"row_heading level0 row0\" >2018.12.21</th> \n",
       "        <td id=\"T_ea48f15e_fd58_11e8_a05e_542696cdec3frow0_col0\" class=\"data row0 col0\" >1.18%</td> \n",
       "        <td id=\"T_ea48f15e_fd58_11e8_a05e_542696cdec3frow0_col1\" class=\"data row0 col1\" >0.45%</td> \n",
       "        <td id=\"T_ea48f15e_fd58_11e8_a05e_542696cdec3frow0_col2\" class=\"data row0 col2\" >0.50%</td> \n",
       "    </tr>    <tr> \n",
       "        <th id=\"T_ea48f15e_fd58_11e8_a05e_542696cdec3flevel0_row1\" class=\"row_heading level0 row1\" >2019.01.18</th> \n",
       "        <td id=\"T_ea48f15e_fd58_11e8_a05e_542696cdec3frow1_col0\" class=\"data row1 col0\" >1.30%</td> \n",
       "        <td id=\"T_ea48f15e_fd58_11e8_a05e_542696cdec3frow1_col1\" class=\"data row1 col1\" >0.75%</td> \n",
       "        <td id=\"T_ea48f15e_fd58_11e8_a05e_542696cdec3frow1_col2\" class=\"data row1 col2\" >0.53%</td> \n",
       "    </tr>    <tr> \n",
       "        <th id=\"T_ea48f15e_fd58_11e8_a05e_542696cdec3flevel0_row2\" class=\"row_heading level0 row2\" >2019.02.15</th> \n",
       "        <td id=\"T_ea48f15e_fd58_11e8_a05e_542696cdec3frow2_col0\" class=\"data row2 col0\" >1.87%</td> \n",
       "        <td id=\"T_ea48f15e_fd58_11e8_a05e_542696cdec3frow2_col1\" class=\"data row2 col1\" >0.87%</td> \n",
       "        <td id=\"T_ea48f15e_fd58_11e8_a05e_542696cdec3frow2_col2\" class=\"data row2 col2\" >0.68%</td> \n",
       "    </tr></tbody> \n",
       "</table> "
      ],
      "text/plain": [
       "<pandas.io.formats.style.Styler at 0xb210f3b00>"
      ]
     },
     "metadata": {},
     "output_type": "display_data"
    },
    {
     "data": {
      "text/html": [
       "<style  type=\"text/css\" >\n",
       "</style>  \n",
       "<table id=\"T_ea49e514_fd58_11e8_a872_542696cdec3f\" > \n",
       "<thead>    <tr> \n",
       "        <th class=\"blank level0\" ></th> \n",
       "        <th class=\"col_heading level0 col0\" >-0.5</th> \n",
       "        <th class=\"col_heading level0 col1\" >-1.0</th> \n",
       "        <th class=\"col_heading level0 col2\" >-1.5</th> \n",
       "    </tr></thead> \n",
       "<tbody>    <tr> \n",
       "        <th id=\"T_ea49e514_fd58_11e8_a872_542696cdec3flevel0_row0\" class=\"row_heading level0 row0\" >2018.12.21</th> \n",
       "        <td id=\"T_ea49e514_fd58_11e8_a872_542696cdec3frow0_col0\" class=\"data row0 col0\" >2.36%</td> \n",
       "        <td id=\"T_ea49e514_fd58_11e8_a872_542696cdec3frow0_col1\" class=\"data row0 col1\" >0.89%</td> \n",
       "        <td id=\"T_ea49e514_fd58_11e8_a872_542696cdec3frow0_col2\" class=\"data row0 col2\" >0.99%</td> \n",
       "    </tr>    <tr> \n",
       "        <th id=\"T_ea49e514_fd58_11e8_a872_542696cdec3flevel0_row1\" class=\"row_heading level0 row1\" >2019.01.18</th> \n",
       "        <td id=\"T_ea49e514_fd58_11e8_a872_542696cdec3frow1_col0\" class=\"data row1 col0\" >2.60%</td> \n",
       "        <td id=\"T_ea49e514_fd58_11e8_a872_542696cdec3frow1_col1\" class=\"data row1 col1\" >1.50%</td> \n",
       "        <td id=\"T_ea49e514_fd58_11e8_a872_542696cdec3frow1_col2\" class=\"data row1 col2\" >1.05%</td> \n",
       "    </tr>    <tr> \n",
       "        <th id=\"T_ea49e514_fd58_11e8_a872_542696cdec3flevel0_row2\" class=\"row_heading level0 row2\" >2019.02.15</th> \n",
       "        <td id=\"T_ea49e514_fd58_11e8_a872_542696cdec3frow2_col0\" class=\"data row2 col0\" >3.74%</td> \n",
       "        <td id=\"T_ea49e514_fd58_11e8_a872_542696cdec3frow2_col1\" class=\"data row2 col1\" >1.74%</td> \n",
       "        <td id=\"T_ea49e514_fd58_11e8_a872_542696cdec3frow2_col2\" class=\"data row2 col2\" >1.37%</td> \n",
       "    </tr></tbody> \n",
       "</table> "
      ],
      "text/plain": [
       "<pandas.io.formats.style.Styler at 0xb210f3cc0>"
      ]
     },
     "metadata": {},
     "output_type": "display_data"
    }
   ],
   "source": [
    "premium_list_pct = []\n",
    "premium_list_pct = [(trd_choice.premium_grid() * lev) / last_price for lev in leverage]\n",
    "_ = [display(df.style.format('{:.2%}')) for df in premium_list_pct]  "
   ]
  },
  {
   "cell_type": "code",
   "execution_count": 13,
   "metadata": {},
   "outputs": [
    {
     "data": {
      "text/html": [
       "<style  type=\"text/css\" >\n",
       "</style>  \n",
       "<table id=\"T_eaa65d12_fd58_11e8_9be7_542696cdec3f\" > \n",
       "<thead>    <tr> \n",
       "        <th class=\"blank level0\" ></th> \n",
       "        <th class=\"col_heading level0 col0\" >-0.5</th> \n",
       "        <th class=\"col_heading level0 col1\" >-1.0</th> \n",
       "        <th class=\"col_heading level0 col2\" >-1.5</th> \n",
       "    </tr>    <tr> \n",
       "        <th class=\"index_name level0\" >Lev 1</th> \n",
       "        <th class=\"blank\" ></th> \n",
       "        <th class=\"blank\" ></th> \n",
       "        <th class=\"blank\" ></th> \n",
       "    </tr></thead> \n",
       "<tbody>    <tr> \n",
       "        <th id=\"T_eaa65d12_fd58_11e8_9be7_542696cdec3flevel0_row0\" class=\"row_heading level0 row0\" >2018.12.21</th> \n",
       "        <td id=\"T_eaa65d12_fd58_11e8_9be7_542696cdec3frow0_col0\" class=\"data row0 col0\" >13</td> \n",
       "        <td id=\"T_eaa65d12_fd58_11e8_9be7_542696cdec3frow0_col1\" class=\"data row0 col1\" >13</td> \n",
       "        <td id=\"T_eaa65d12_fd58_11e8_9be7_542696cdec3frow0_col2\" class=\"data row0 col2\" >13</td> \n",
       "    </tr>    <tr> \n",
       "        <th id=\"T_eaa65d12_fd58_11e8_9be7_542696cdec3flevel0_row1\" class=\"row_heading level0 row1\" >2019.01.18</th> \n",
       "        <td id=\"T_eaa65d12_fd58_11e8_9be7_542696cdec3frow1_col0\" class=\"data row1 col0\" >13</td> \n",
       "        <td id=\"T_eaa65d12_fd58_11e8_9be7_542696cdec3frow1_col1\" class=\"data row1 col1\" >13</td> \n",
       "        <td id=\"T_eaa65d12_fd58_11e8_9be7_542696cdec3frow1_col2\" class=\"data row1 col2\" >14</td> \n",
       "    </tr>    <tr> \n",
       "        <th id=\"T_eaa65d12_fd58_11e8_9be7_542696cdec3flevel0_row2\" class=\"row_heading level0 row2\" >2019.02.15</th> \n",
       "        <td id=\"T_eaa65d12_fd58_11e8_9be7_542696cdec3frow2_col0\" class=\"data row2 col0\" >13</td> \n",
       "        <td id=\"T_eaa65d12_fd58_11e8_9be7_542696cdec3frow2_col1\" class=\"data row2 col1\" >14</td> \n",
       "        <td id=\"T_eaa65d12_fd58_11e8_9be7_542696cdec3frow2_col2\" class=\"data row2 col2\" >14</td> \n",
       "    </tr></tbody> \n",
       "</table> "
      ],
      "text/plain": [
       "<pandas.io.formats.style.Styler at 0x112281710>"
      ]
     },
     "metadata": {},
     "output_type": "display_data"
    },
    {
     "data": {
      "text/html": [
       "<style  type=\"text/css\" >\n",
       "</style>  \n",
       "<table id=\"T_eaa7556e_fd58_11e8_a53e_542696cdec3f\" > \n",
       "<thead>    <tr> \n",
       "        <th class=\"blank level0\" ></th> \n",
       "        <th class=\"col_heading level0 col0\" >-0.5</th> \n",
       "        <th class=\"col_heading level0 col1\" >-1.0</th> \n",
       "        <th class=\"col_heading level0 col2\" >-1.5</th> \n",
       "    </tr>    <tr> \n",
       "        <th class=\"index_name level0\" >Lev 2</th> \n",
       "        <th class=\"blank\" ></th> \n",
       "        <th class=\"blank\" ></th> \n",
       "        <th class=\"blank\" ></th> \n",
       "    </tr></thead> \n",
       "<tbody>    <tr> \n",
       "        <th id=\"T_eaa7556e_fd58_11e8_a53e_542696cdec3flevel0_row0\" class=\"row_heading level0 row0\" >2018.12.21</th> \n",
       "        <td id=\"T_eaa7556e_fd58_11e8_a53e_542696cdec3frow0_col0\" class=\"data row0 col0\" >25</td> \n",
       "        <td id=\"T_eaa7556e_fd58_11e8_a53e_542696cdec3frow0_col1\" class=\"data row0 col1\" >25</td> \n",
       "        <td id=\"T_eaa7556e_fd58_11e8_a53e_542696cdec3frow0_col2\" class=\"data row0 col2\" >26</td> \n",
       "    </tr>    <tr> \n",
       "        <th id=\"T_eaa7556e_fd58_11e8_a53e_542696cdec3flevel0_row1\" class=\"row_heading level0 row1\" >2019.01.18</th> \n",
       "        <td id=\"T_eaa7556e_fd58_11e8_a53e_542696cdec3frow1_col0\" class=\"data row1 col0\" >26</td> \n",
       "        <td id=\"T_eaa7556e_fd58_11e8_a53e_542696cdec3frow1_col1\" class=\"data row1 col1\" >27</td> \n",
       "        <td id=\"T_eaa7556e_fd58_11e8_a53e_542696cdec3frow1_col2\" class=\"data row1 col2\" >27</td> \n",
       "    </tr>    <tr> \n",
       "        <th id=\"T_eaa7556e_fd58_11e8_a53e_542696cdec3flevel0_row2\" class=\"row_heading level0 row2\" >2019.02.15</th> \n",
       "        <td id=\"T_eaa7556e_fd58_11e8_a53e_542696cdec3frow2_col0\" class=\"data row2 col0\" >26</td> \n",
       "        <td id=\"T_eaa7556e_fd58_11e8_a53e_542696cdec3frow2_col1\" class=\"data row2 col1\" >28</td> \n",
       "        <td id=\"T_eaa7556e_fd58_11e8_a53e_542696cdec3frow2_col2\" class=\"data row2 col2\" >28</td> \n",
       "    </tr></tbody> \n",
       "</table> "
      ],
      "text/plain": [
       "<pandas.io.formats.style.Styler at 0x10c8af588>"
      ]
     },
     "metadata": {},
     "output_type": "display_data"
    }
   ],
   "source": [
    "\n",
    "_ = [display(contractTable.round().style.format('{:.0f}')) for \\\n",
    "     contractTable in trd_choice.option_lots(leverage, capital_at_risk)]\n",
    "    "
   ]
  },
  {
   "cell_type": "code",
   "execution_count": 14,
   "metadata": {},
   "outputs": [
    {
     "data": {
      "text/html": [
       "<style  type=\"text/css\" >\n",
       "</style>  \n",
       "<table id=\"T_eb0d7150_fd58_11e8_ba7b_542696cdec3f\" > \n",
       "<thead>    <tr> \n",
       "        <th class=\"blank level0\" ></th> \n",
       "        <th class=\"col_heading level0 col0\" >-0.5</th> \n",
       "        <th class=\"col_heading level0 col1\" >-1.0</th> \n",
       "        <th class=\"col_heading level0 col2\" >-1.5</th> \n",
       "    </tr></thead> \n",
       "<tbody>    <tr> \n",
       "        <th id=\"T_eb0d7150_fd58_11e8_ba7b_542696cdec3flevel0_row0\" class=\"row_heading level0 row0\" >2018.12.21</th> \n",
       "        <td id=\"T_eb0d7150_fd58_11e8_ba7b_542696cdec3frow0_col0\" class=\"data row0 col0\" >$673,767</td> \n",
       "        <td id=\"T_eb0d7150_fd58_11e8_ba7b_542696cdec3frow0_col1\" class=\"data row0 col1\" >$589,852</td> \n",
       "        <td id=\"T_eb0d7150_fd58_11e8_ba7b_542696cdec3frow0_col2\" class=\"data row0 col2\" >$552,542</td> \n",
       "    </tr>    <tr> \n",
       "        <th id=\"T_eb0d7150_fd58_11e8_ba7b_542696cdec3flevel0_row1\" class=\"row_heading level0 row1\" >2019.01.18</th> \n",
       "        <td id=\"T_eb0d7150_fd58_11e8_ba7b_542696cdec3frow1_col0\" class=\"data row1 col0\" >$612,992</td> \n",
       "        <td id=\"T_eb0d7150_fd58_11e8_ba7b_542696cdec3frow1_col1\" class=\"data row1 col1\" >$483,317</td> \n",
       "        <td id=\"T_eb0d7150_fd58_11e8_ba7b_542696cdec3frow1_col2\" class=\"data row1 col2\" >$435,165</td> \n",
       "    </tr>    <tr> \n",
       "        <th id=\"T_eb0d7150_fd58_11e8_ba7b_542696cdec3flevel0_row2\" class=\"row_heading level0 row2\" >2019.02.15</th> \n",
       "        <td id=\"T_eb0d7150_fd58_11e8_ba7b_542696cdec3frow2_col0\" class=\"data row2 col0\" >$574,187</td> \n",
       "        <td id=\"T_eb0d7150_fd58_11e8_ba7b_542696cdec3frow2_col1\" class=\"data row2 col1\" >$406,045</td> \n",
       "        <td id=\"T_eb0d7150_fd58_11e8_ba7b_542696cdec3frow2_col2\" class=\"data row2 col2\" >$350,350</td> \n",
       "    </tr></tbody> \n",
       "</table> "
      ],
      "text/plain": [
       "<pandas.io.formats.style.Styler at 0xb2110c978>"
      ]
     },
     "metadata": {},
     "output_type": "display_data"
    },
    {
     "data": {
      "text/html": [
       "<style  type=\"text/css\" >\n",
       "</style>  \n",
       "<table id=\"T_eb0e92f6_fd58_11e8_8137_542696cdec3f\" > \n",
       "<thead>    <tr> \n",
       "        <th class=\"blank level0\" ></th> \n",
       "        <th class=\"col_heading level0 col0\" >-0.5</th> \n",
       "        <th class=\"col_heading level0 col1\" >-1.0</th> \n",
       "        <th class=\"col_heading level0 col2\" >-1.5</th> \n",
       "    </tr></thead> \n",
       "<tbody>    <tr> \n",
       "        <th id=\"T_eb0e92f6_fd58_11e8_8137_542696cdec3flevel0_row0\" class=\"row_heading level0 row0\" >2018.12.21</th> \n",
       "        <td id=\"T_eb0e92f6_fd58_11e8_8137_542696cdec3frow0_col0\" class=\"data row0 col0\" >$1,295,705</td> \n",
       "        <td id=\"T_eb0e92f6_fd58_11e8_8137_542696cdec3frow0_col1\" class=\"data row0 col1\" >$1,134,330</td> \n",
       "        <td id=\"T_eb0e92f6_fd58_11e8_8137_542696cdec3frow0_col2\" class=\"data row0 col2\" >$1,105,083</td> \n",
       "    </tr>    <tr> \n",
       "        <th id=\"T_eb0e92f6_fd58_11e8_8137_542696cdec3flevel0_row1\" class=\"row_heading level0 row1\" >2019.01.18</th> \n",
       "        <td id=\"T_eb0e92f6_fd58_11e8_8137_542696cdec3frow1_col0\" class=\"data row1 col0\" >$1,225,983</td> \n",
       "        <td id=\"T_eb0e92f6_fd58_11e8_8137_542696cdec3frow1_col1\" class=\"data row1 col1\" >$1,003,811</td> \n",
       "        <td id=\"T_eb0e92f6_fd58_11e8_8137_542696cdec3frow1_col2\" class=\"data row1 col2\" >$839,246</td> \n",
       "    </tr>    <tr> \n",
       "        <th id=\"T_eb0e92f6_fd58_11e8_8137_542696cdec3flevel0_row2\" class=\"row_heading level0 row2\" >2019.02.15</th> \n",
       "        <td id=\"T_eb0e92f6_fd58_11e8_8137_542696cdec3frow2_col0\" class=\"data row2 col0\" >$1,148,373</td> \n",
       "        <td id=\"T_eb0e92f6_fd58_11e8_8137_542696cdec3frow2_col1\" class=\"data row2 col1\" >$812,090</td> \n",
       "        <td id=\"T_eb0e92f6_fd58_11e8_8137_542696cdec3frow2_col2\" class=\"data row2 col2\" >$700,700</td> \n",
       "    </tr></tbody> \n",
       "</table> "
      ],
      "text/plain": [
       "<pandas.io.formats.style.Styler at 0xb2110ca90>"
      ]
     },
     "metadata": {},
     "output_type": "display_data"
    }
   ],
   "source": [
    "margin_dlr = [trd_choice.margin(last_price) * df for df in trd_choice.option_lots(leverage, capital_at_risk)]\n",
    "_ = [display(df.style.format('${:,.0f}')) for df in margin_dlr]  "
   ]
  },
  {
   "cell_type": "code",
   "execution_count": 15,
   "metadata": {},
   "outputs": [
    {
     "data": {
      "text/html": [
       "<style  type=\"text/css\" >\n",
       "</style>  \n",
       "<table id=\"T_eb6f15f4_fd58_11e8_8996_542696cdec3f\" > \n",
       "<thead>    <tr> \n",
       "        <th class=\"blank level0\" ></th> \n",
       "        <th class=\"col_heading level0 col0\" >-0.5</th> \n",
       "        <th class=\"col_heading level0 col1\" >-1.0</th> \n",
       "        <th class=\"col_heading level0 col2\" >-1.5</th> \n",
       "    </tr>    <tr> \n",
       "        <th class=\"index_name level0\" >Lev 2</th> \n",
       "        <th class=\"blank\" ></th> \n",
       "        <th class=\"blank\" ></th> \n",
       "        <th class=\"blank\" ></th> \n",
       "    </tr></thead> \n",
       "<tbody>    <tr> \n",
       "        <th id=\"T_eb6f15f4_fd58_11e8_8996_542696cdec3flevel0_row0\" class=\"row_heading level0 row0\" >2018.12.21</th> \n",
       "        <td id=\"T_eb6f15f4_fd58_11e8_8996_542696cdec3frow0_col0\" class=\"data row0 col0\" >$1,295,705</td> \n",
       "        <td id=\"T_eb6f15f4_fd58_11e8_8996_542696cdec3frow0_col1\" class=\"data row0 col1\" >$1,134,330</td> \n",
       "        <td id=\"T_eb6f15f4_fd58_11e8_8996_542696cdec3frow0_col2\" class=\"data row0 col2\" >$1,105,083</td> \n",
       "    </tr>    <tr> \n",
       "        <th id=\"T_eb6f15f4_fd58_11e8_8996_542696cdec3flevel0_row1\" class=\"row_heading level0 row1\" >2019.01.18</th> \n",
       "        <td id=\"T_eb6f15f4_fd58_11e8_8996_542696cdec3frow1_col0\" class=\"data row1 col0\" >$1,225,983</td> \n",
       "        <td id=\"T_eb6f15f4_fd58_11e8_8996_542696cdec3frow1_col1\" class=\"data row1 col1\" >$1,003,811</td> \n",
       "        <td id=\"T_eb6f15f4_fd58_11e8_8996_542696cdec3frow1_col2\" class=\"data row1 col2\" >$839,246</td> \n",
       "    </tr>    <tr> \n",
       "        <th id=\"T_eb6f15f4_fd58_11e8_8996_542696cdec3flevel0_row2\" class=\"row_heading level0 row2\" >2019.02.15</th> \n",
       "        <td id=\"T_eb6f15f4_fd58_11e8_8996_542696cdec3frow2_col0\" class=\"data row2 col0\" >$1,148,373</td> \n",
       "        <td id=\"T_eb6f15f4_fd58_11e8_8996_542696cdec3frow2_col1\" class=\"data row2 col1\" >$812,090</td> \n",
       "        <td id=\"T_eb6f15f4_fd58_11e8_8996_542696cdec3frow2_col2\" class=\"data row2 col2\" >$700,700</td> \n",
       "    </tr></tbody> \n",
       "</table> "
      ],
      "text/plain": [
       "<pandas.io.formats.style.Styler at 0xb2110c5f8>"
      ]
     },
     "metadata": {},
     "output_type": "display_data"
    }
   ],
   "source": [
    "marge = trd_choice.margin(trd_choice.spot)\n",
    "lots = trd_choice.option_lots([2], capital_at_risk)\n",
    "margin = lots[0] * marge\n",
    "display(margin.style.format('${:,.0f}'))"
   ]
  },
  {
   "cell_type": "code",
   "execution_count": 16,
   "metadata": {},
   "outputs": [
    {
     "data": {
      "text/html": [
       "<style  type=\"text/css\" >\n",
       "</style>  \n",
       "<table id=\"T_ec1ba206_fd58_11e8_bbfa_542696cdec3f\" > \n",
       "<thead>    <tr> \n",
       "        <th class=\"blank level0\" ></th> \n",
       "        <th class=\"col_heading level0 col0\" >-0.5</th> \n",
       "        <th class=\"col_heading level0 col1\" >-1.0</th> \n",
       "        <th class=\"col_heading level0 col2\" >-1.5</th> \n",
       "    </tr>    <tr> \n",
       "        <th class=\"index_name level0\" >Lev 1</th> \n",
       "        <th class=\"blank\" ></th> \n",
       "        <th class=\"blank\" ></th> \n",
       "        <th class=\"blank\" ></th> \n",
       "    </tr></thead> \n",
       "<tbody>    <tr> \n",
       "        <th id=\"T_ec1ba206_fd58_11e8_bbfa_542696cdec3flevel0_row0\" class=\"row_heading level0 row0\" >2018.12.21</th> \n",
       "        <td id=\"T_ec1ba206_fd58_11e8_bbfa_542696cdec3frow0_col0\" class=\"data row0 col0\" >$3,406,000</td> \n",
       "        <td id=\"T_ec1ba206_fd58_11e8_bbfa_542696cdec3frow0_col1\" class=\"data row0 col1\" >$3,347,500</td> \n",
       "        <td id=\"T_ec1ba206_fd58_11e8_bbfa_542696cdec3frow0_col2\" class=\"data row0 col2\" >$3,308,500</td> \n",
       "    </tr>    <tr> \n",
       "        <th id=\"T_ec1ba206_fd58_11e8_bbfa_542696cdec3flevel0_row1\" class=\"row_heading level0 row1\" >2019.01.18</th> \n",
       "        <td id=\"T_ec1ba206_fd58_11e8_bbfa_542696cdec3frow1_col0\" class=\"data row1 col0\" >$3,341,000</td> \n",
       "        <td id=\"T_ec1ba206_fd58_11e8_bbfa_542696cdec3frow1_col1\" class=\"data row1 col1\" >$3,230,500</td> \n",
       "        <td id=\"T_ec1ba206_fd58_11e8_bbfa_542696cdec3frow1_col2\" class=\"data row1 col2\" >$3,402,000</td> \n",
       "    </tr>    <tr> \n",
       "        <th id=\"T_ec1ba206_fd58_11e8_bbfa_542696cdec3flevel0_row2\" class=\"row_heading level0 row2\" >2019.02.15</th> \n",
       "        <td id=\"T_ec1ba206_fd58_11e8_bbfa_542696cdec3frow2_col0\" class=\"data row2 col0\" >$3,282,500</td> \n",
       "        <td id=\"T_ec1ba206_fd58_11e8_bbfa_542696cdec3frow2_col1\" class=\"data row2 col1\" >$3,360,000</td> \n",
       "        <td id=\"T_ec1ba206_fd58_11e8_bbfa_542696cdec3frow2_col2\" class=\"data row2 col2\" >$3,248,000</td> \n",
       "    </tr></tbody> \n",
       "</table> "
      ],
      "text/plain": [
       "<pandas.io.formats.style.Styler at 0xb21173f60>"
      ]
     },
     "metadata": {},
     "output_type": "display_data"
    },
    {
     "data": {
      "text/html": [
       "<style  type=\"text/css\" >\n",
       "</style>  \n",
       "<table id=\"T_ec1c7cee_fd58_11e8_be8b_542696cdec3f\" > \n",
       "<thead>    <tr> \n",
       "        <th class=\"blank level0\" ></th> \n",
       "        <th class=\"col_heading level0 col0\" >-0.5</th> \n",
       "        <th class=\"col_heading level0 col1\" >-1.0</th> \n",
       "        <th class=\"col_heading level0 col2\" >-1.5</th> \n",
       "    </tr>    <tr> \n",
       "        <th class=\"index_name level0\" >Lev 2</th> \n",
       "        <th class=\"blank\" ></th> \n",
       "        <th class=\"blank\" ></th> \n",
       "        <th class=\"blank\" ></th> \n",
       "    </tr></thead> \n",
       "<tbody>    <tr> \n",
       "        <th id=\"T_ec1c7cee_fd58_11e8_be8b_542696cdec3flevel0_row0\" class=\"row_heading level0 row0\" >2018.12.21</th> \n",
       "        <td id=\"T_ec1c7cee_fd58_11e8_be8b_542696cdec3frow0_col0\" class=\"data row0 col0\" >$6,550,000</td> \n",
       "        <td id=\"T_ec1c7cee_fd58_11e8_be8b_542696cdec3frow0_col1\" class=\"data row0 col1\" >$6,437,500</td> \n",
       "        <td id=\"T_ec1c7cee_fd58_11e8_be8b_542696cdec3frow0_col2\" class=\"data row0 col2\" >$6,617,000</td> \n",
       "    </tr>    <tr> \n",
       "        <th id=\"T_ec1c7cee_fd58_11e8_be8b_542696cdec3flevel0_row1\" class=\"row_heading level0 row1\" >2019.01.18</th> \n",
       "        <td id=\"T_ec1c7cee_fd58_11e8_be8b_542696cdec3frow1_col0\" class=\"data row1 col0\" >$6,682,000</td> \n",
       "        <td id=\"T_ec1c7cee_fd58_11e8_be8b_542696cdec3frow1_col1\" class=\"data row1 col1\" >$6,709,500</td> \n",
       "        <td id=\"T_ec1c7cee_fd58_11e8_be8b_542696cdec3frow1_col2\" class=\"data row1 col2\" >$6,561,000</td> \n",
       "    </tr>    <tr> \n",
       "        <th id=\"T_ec1c7cee_fd58_11e8_be8b_542696cdec3flevel0_row2\" class=\"row_heading level0 row2\" >2019.02.15</th> \n",
       "        <td id=\"T_ec1c7cee_fd58_11e8_be8b_542696cdec3frow2_col0\" class=\"data row2 col0\" >$6,565,000</td> \n",
       "        <td id=\"T_ec1c7cee_fd58_11e8_be8b_542696cdec3frow2_col1\" class=\"data row2 col1\" >$6,720,000</td> \n",
       "        <td id=\"T_ec1c7cee_fd58_11e8_be8b_542696cdec3frow2_col2\" class=\"data row2 col2\" >$6,496,000</td> \n",
       "    </tr></tbody> \n",
       "</table> "
      ],
      "text/plain": [
       "<pandas.io.formats.style.Styler at 0xb2110c5f8>"
      ]
     },
     "metadata": {},
     "output_type": "display_data"
    }
   ],
   "source": [
    "notional_dlr=[df * trd_choice.strike_grid() * 100 for df in trd_choice.option_lots(leverage, capital_at_risk)]\n",
    "_ = [display(df.style.format('${:,.0f}')) for df in notional_dlr]  "
   ]
  },
  {
   "cell_type": "code",
   "execution_count": 17,
   "metadata": {},
   "outputs": [
    {
     "data": {
      "text/plain": [
       "3264093.1364"
      ]
     },
     "execution_count": 17,
     "metadata": {},
     "output_type": "execute_result"
    }
   ],
   "source": [
    "capital_at_risk"
   ]
  },
  {
   "cell_type": "code",
   "execution_count": 18,
   "metadata": {},
   "outputs": [
    {
     "data": {
      "text/plain": [
       "531500.0"
      ]
     },
     "execution_count": 18,
     "metadata": {},
     "output_type": "execute_result"
    }
   ],
   "source": [
    "illiquid_equity"
   ]
  },
  {
   "cell_type": "code",
   "execution_count": null,
   "metadata": {},
   "outputs": [],
   "source": []
  }
 ],
 "metadata": {
  "kernelspec": {
   "display_name": "Python 3",
   "language": "python",
   "name": "python3"
  },
  "language_info": {
   "codemirror_mode": {
    "name": "ipython",
    "version": 3
   },
   "file_extension": ".py",
   "mimetype": "text/x-python",
   "name": "python",
   "nbconvert_exporter": "python",
   "pygments_lexer": "ipython3",
   "version": "3.6.6"
  }
 },
 "nbformat": 4,
 "nbformat_minor": 2
}
