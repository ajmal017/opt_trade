{
 "cells": [
  {
   "cell_type": "markdown",
   "metadata": {},
   "source": [
    "daily_run estimates strikes and number of contracts for a put selling strategy on equity indices such as S&P 500. \n",
    "\n",
    "Algorithm is drawn from  JUREK, J. W. and STAFFORD, E. (2015), The Cost of Capital for Alternative Investments. The Journal of Finance, 70: 2185-2226. doi:10.1111/jofi.12269- \n",
    "\n",
    "Requires an open session of either IB Gateway or TWS from Interactive Brokers"
   ]
  },
  {
   "cell_type": "code",
   "execution_count": null,
   "metadata": {},
   "outputs": [
    {
     "data": {
      "text/plain": [
       "536500.0"
      ]
     },
     "execution_count": 1,
     "metadata": {},
     "output_type": "execute_result"
    }
   ],
   "source": [
    "from option_daily_prod import OptionMarket, SpxOptionAsset, RSL2OptionAsset\n",
    "from spx_data_update import UpdateSP500Data\n",
    "import numpy as np\n",
    "import pandas as pd\n",
    "import nest_asyncio\n",
    "from time import time\n",
    "import plistlib\n",
    "file_name = UpdateSP500Data.DATA_BASE_PATH / 'config.plist'\n",
    "f = open(str(file_name), 'rb')\n",
    "pl = plistlib.load(f)\n",
    "illiquid_dict = pl['illiquid_equity']\n",
    "illiquid_equity = sum(illiquid_dict.values()) * 0.5\n",
    "illiquid_equity"
   ]
  },
  {
   "cell_type": "code",
   "execution_count": 2,
   "metadata": {},
   "outputs": [
    {
     "name": "stdout",
     "output_type": "stream",
     "text": [
      "Warning: RSL2 Using Fixed Dividend yield\n"
     ]
    }
   ],
   "source": [
    "before = time()\n",
    "#nest_asyncio.apply()\n",
    "\n",
    "spx_trades = OptionMarket(SpxOptionAsset())\n",
    "rsl_trades = OptionMarket(RSL2OptionAsset())"
   ]
  },
  {
   "cell_type": "code",
   "execution_count": 3,
   "metadata": {},
   "outputs": [
    {
     "name": "stdout",
     "output_type": "stream",
     "text": [
      "elapsed: 23.5\n",
      "elapsed: 40.1\n",
      "2615.04\n",
      "21.71\n",
      "[AccountValue(account='U2463043', tag='NetLiquidationByCurrency', value='2737224.0729', currency='BASE', modelCode='')]\n"
     ]
    }
   ],
   "source": [
    "z_score = np.array([-0.5, -1, -1.5])\n",
    "leverage = np.array(range(1, 3, 1))\n",
    "num_expiries = 3\n",
    "\n",
    "after = time()\n",
    "spx = True\n",
    "if spx:\n",
    "    trd_choice = spx_trades.form_trade_choice(z_score, num_expiries, 'P')\n",
    "else:\n",
    "    trd_choice = rsl_trades.form_trade_choice(z_score, num_expiries, 'P')\n",
    "    \n",
    "last_price = trd_choice.spot\n",
    "after_2 = time()\n",
    "print('elapsed:', np.round(after - before, 1))\n",
    "print('elapsed:', np.round(after_2 - before, 1))\n",
    "print(last_price)\n",
    "print(trd_choice.sigma)\n",
    "print(trd_choice.account_value)"
   ]
  },
  {
   "cell_type": "code",
   "execution_count": 4,
   "metadata": {},
   "outputs": [
    {
     "data": {
      "text/html": [
       "<style>\n",
       ".output {\n",
       "    flex-direction:row;\n",
       "}\n",
       "</style>"
      ],
      "text/plain": [
       "<IPython.core.display.HTML object>"
      ]
     },
     "execution_count": 4,
     "metadata": {},
     "output_type": "execute_result"
    }
   ],
   "source": [
    "from IPython.display import display, HTML\n",
    "\n",
    "CSS = \"\"\"\n",
    ".output {\n",
    "    flex-direction:row;\n",
    "}\n",
    "\"\"\"\n",
    "HTML('<style>{}</style>'.format(CSS))\n"
   ]
  },
  {
   "cell_type": "code",
   "execution_count": 5,
   "metadata": {},
   "outputs": [
    {
     "data": {
      "text/html": [
       "<div>\n",
       "<style scoped>\n",
       "    .dataframe tbody tr th:only-of-type {\n",
       "        vertical-align: middle;\n",
       "    }\n",
       "\n",
       "    .dataframe tbody tr th {\n",
       "        vertical-align: top;\n",
       "    }\n",
       "\n",
       "    .dataframe thead th {\n",
       "        text-align: right;\n",
       "    }\n",
       "</style>\n",
       "<table border=\"1\" class=\"dataframe\">\n",
       "  <thead>\n",
       "    <tr style=\"text-align: right;\">\n",
       "      <th></th>\n",
       "      <th>-0.5</th>\n",
       "      <th>-1.0</th>\n",
       "      <th>-1.5</th>\n",
       "    </tr>\n",
       "  </thead>\n",
       "  <tbody>\n",
       "    <tr>\n",
       "      <th>2018.12.21</th>\n",
       "      <td>2575</td>\n",
       "      <td>2530</td>\n",
       "      <td>2500</td>\n",
       "    </tr>\n",
       "    <tr>\n",
       "      <th>2019.01.18</th>\n",
       "      <td>2540</td>\n",
       "      <td>2445</td>\n",
       "      <td>2390</td>\n",
       "    </tr>\n",
       "    <tr>\n",
       "      <th>2019.02.15</th>\n",
       "      <td>2500</td>\n",
       "      <td>2365</td>\n",
       "      <td>2285</td>\n",
       "    </tr>\n",
       "  </tbody>\n",
       "</table>\n",
       "</div>"
      ],
      "text/plain": [
       "            -0.5  -1.0  -1.5\n",
       "2018.12.21  2575  2530  2500\n",
       "2019.01.18  2540  2445  2390\n",
       "2019.02.15  2500  2365  2285"
      ]
     },
     "metadata": {},
     "output_type": "execute_result"
    },
    {
     "data": {
      "text/html": [
       "<div>\n",
       "<style scoped>\n",
       "    .dataframe tbody tr th:only-of-type {\n",
       "        vertical-align: middle;\n",
       "    }\n",
       "\n",
       "    .dataframe tbody tr th {\n",
       "        vertical-align: top;\n",
       "    }\n",
       "\n",
       "    .dataframe thead th {\n",
       "        text-align: right;\n",
       "    }\n",
       "</style>\n",
       "<table border=\"1\" class=\"dataframe\">\n",
       "  <thead>\n",
       "    <tr style=\"text-align: right;\">\n",
       "      <th></th>\n",
       "      <th>-0.5</th>\n",
       "      <th>-1.0</th>\n",
       "      <th>-1.5</th>\n",
       "    </tr>\n",
       "  </thead>\n",
       "  <tbody>\n",
       "    <tr>\n",
       "      <th>2018.12.21</th>\n",
       "      <td>15.20</td>\n",
       "      <td>6.95</td>\n",
       "      <td>4.2</td>\n",
       "    </tr>\n",
       "    <tr>\n",
       "      <th>2019.01.18</th>\n",
       "      <td>35.65</td>\n",
       "      <td>17.60</td>\n",
       "      <td>11.7</td>\n",
       "    </tr>\n",
       "    <tr>\n",
       "      <th>2019.02.15</th>\n",
       "      <td>45.85</td>\n",
       "      <td>22.20</td>\n",
       "      <td>14.4</td>\n",
       "    </tr>\n",
       "  </tbody>\n",
       "</table>\n",
       "</div>"
      ],
      "text/plain": [
       "             -0.5   -1.0  -1.5\n",
       "2018.12.21  15.20   6.95   4.2\n",
       "2019.01.18  35.65  17.60  11.7\n",
       "2019.02.15  45.85  22.20  14.4"
      ]
     },
     "metadata": {},
     "output_type": "execute_result"
    },
    {
     "data": {
      "text/html": [
       "<div>\n",
       "<style scoped>\n",
       "    .dataframe tbody tr th:only-of-type {\n",
       "        vertical-align: middle;\n",
       "    }\n",
       "\n",
       "    .dataframe tbody tr th {\n",
       "        vertical-align: top;\n",
       "    }\n",
       "\n",
       "    .dataframe thead th {\n",
       "        text-align: right;\n",
       "    }\n",
       "</style>\n",
       "<table border=\"1\" class=\"dataframe\">\n",
       "  <thead>\n",
       "    <tr style=\"text-align: right;\">\n",
       "      <th></th>\n",
       "      <th>-0.5</th>\n",
       "      <th>-1.0</th>\n",
       "      <th>-1.5</th>\n",
       "    </tr>\n",
       "  </thead>\n",
       "  <tbody>\n",
       "    <tr>\n",
       "      <th>2018.12.21</th>\n",
       "      <td>14.9/15.5</td>\n",
       "      <td>6.8/7.1</td>\n",
       "      <td>3.9/4.2</td>\n",
       "    </tr>\n",
       "    <tr>\n",
       "      <th>2019.01.18</th>\n",
       "      <td>35.3/36.0</td>\n",
       "      <td>17.4/17.8</td>\n",
       "      <td>11.5/11.9</td>\n",
       "    </tr>\n",
       "    <tr>\n",
       "      <th>2019.02.15</th>\n",
       "      <td>45.5/46.2</td>\n",
       "      <td>21.9/22.5</td>\n",
       "      <td>14.2/14.6</td>\n",
       "    </tr>\n",
       "  </tbody>\n",
       "</table>\n",
       "</div>"
      ],
      "text/plain": [
       "                 -0.5       -1.0       -1.5\n",
       "2018.12.21  14.9/15.5    6.8/7.1    3.9/4.2\n",
       "2019.01.18  35.3/36.0  17.4/17.8  11.5/11.9\n",
       "2019.02.15  45.5/46.2  21.9/22.5  14.2/14.6"
      ]
     },
     "metadata": {},
     "output_type": "execute_result"
    }
   ],
   "source": [
    "_=[display(df) for df in [trd_choice.strike_grid(), trd_choice.premium_grid(), trd_choice.prices_grid()]]"
   ]
  },
  {
   "cell_type": "code",
   "execution_count": 6,
   "metadata": {},
   "outputs": [
    {
     "data": {
      "text/html": [
       "<style  type=\"text/css\" >\n",
       "</style>  \n",
       "<table id=\"T_fb81ce7c_ffc5_11e8_ad54_32001a77f280\" > \n",
       "<thead>    <tr> \n",
       "        <th class=\"blank level0\" ></th> \n",
       "        <th class=\"col_heading level0 col0\" >-0.5</th> \n",
       "        <th class=\"col_heading level0 col1\" >-1.0</th> \n",
       "        <th class=\"col_heading level0 col2\" >-1.5</th> \n",
       "    </tr></thead> \n",
       "<tbody>    <tr> \n",
       "        <th id=\"T_fb81ce7c_ffc5_11e8_ad54_32001a77f280level0_row0\" class=\"row_heading level0 row0\" >2018.12.21</th> \n",
       "        <td id=\"T_fb81ce7c_ffc5_11e8_ad54_32001a77f280row0_col0\" class=\"data row0 col0\" >-1.53%</td> \n",
       "        <td id=\"T_fb81ce7c_ffc5_11e8_ad54_32001a77f280row0_col1\" class=\"data row0 col1\" >-3.25%</td> \n",
       "        <td id=\"T_fb81ce7c_ffc5_11e8_ad54_32001a77f280row0_col2\" class=\"data row0 col2\" >-4.40%</td> \n",
       "    </tr>    <tr> \n",
       "        <th id=\"T_fb81ce7c_ffc5_11e8_ad54_32001a77f280level0_row1\" class=\"row_heading level0 row1\" >2019.01.18</th> \n",
       "        <td id=\"T_fb81ce7c_ffc5_11e8_ad54_32001a77f280row1_col0\" class=\"data row1 col0\" >-2.87%</td> \n",
       "        <td id=\"T_fb81ce7c_ffc5_11e8_ad54_32001a77f280row1_col1\" class=\"data row1 col1\" >-6.50%</td> \n",
       "        <td id=\"T_fb81ce7c_ffc5_11e8_ad54_32001a77f280row1_col2\" class=\"data row1 col2\" >-8.61%</td> \n",
       "    </tr>    <tr> \n",
       "        <th id=\"T_fb81ce7c_ffc5_11e8_ad54_32001a77f280level0_row2\" class=\"row_heading level0 row2\" >2019.02.15</th> \n",
       "        <td id=\"T_fb81ce7c_ffc5_11e8_ad54_32001a77f280row2_col0\" class=\"data row2 col0\" >-4.40%</td> \n",
       "        <td id=\"T_fb81ce7c_ffc5_11e8_ad54_32001a77f280row2_col1\" class=\"data row2 col1\" >-9.56%</td> \n",
       "        <td id=\"T_fb81ce7c_ffc5_11e8_ad54_32001a77f280row2_col2\" class=\"data row2 col2\" >-12.62%</td> \n",
       "    </tr></tbody> \n",
       "</table> "
      ],
      "text/plain": [
       "<pandas.io.formats.style.Styler at 0x10fd03208>"
      ]
     },
     "metadata": {},
     "output_type": "execute_result"
    }
   ],
   "source": [
    "\n",
    "prct_decline = trd_choice.pct_otm_grid(last_price)\n",
    "format_dict = {x: '{:.2%}' for x in prct_decline.to_dict()}\n",
    "display(prct_decline.style.format(format_dict))"
   ]
  },
  {
   "cell_type": "code",
   "execution_count": 7,
   "metadata": {
    "scrolled": false
   },
   "outputs": [
    {
     "data": {
      "text/html": [
       "<style  type=\"text/css\" >\n",
       "</style>  \n",
       "<table id=\"T_02166018_ffc6_11e8_ad54_32001a77f280\" > \n",
       "<thead>    <tr> \n",
       "        <th class=\"blank level0\" ></th> \n",
       "        <th class=\"col_heading level0 col0\" >-0.5</th> \n",
       "        <th class=\"col_heading level0 col1\" >-1.0</th> \n",
       "        <th class=\"col_heading level0 col2\" >-1.5</th> \n",
       "    </tr></thead> \n",
       "<tbody>    <tr> \n",
       "        <th id=\"T_02166018_ffc6_11e8_ad54_32001a77f280level0_row0\" class=\"row_heading level0 row0\" >2018.12.21</th> \n",
       "        <td id=\"T_02166018_ffc6_11e8_ad54_32001a77f280row0_col0\" class=\"data row0 col0\" >$19,760</td> \n",
       "        <td id=\"T_02166018_ffc6_11e8_ad54_32001a77f280row0_col1\" class=\"data row0 col1\" >$9,035</td> \n",
       "        <td id=\"T_02166018_ffc6_11e8_ad54_32001a77f280row0_col2\" class=\"data row0 col2\" >$5,460</td> \n",
       "    </tr>    <tr> \n",
       "        <th id=\"T_02166018_ffc6_11e8_ad54_32001a77f280level0_row1\" class=\"row_heading level0 row1\" >2019.01.18</th> \n",
       "        <td id=\"T_02166018_ffc6_11e8_ad54_32001a77f280row1_col0\" class=\"data row1 col0\" >$46,345</td> \n",
       "        <td id=\"T_02166018_ffc6_11e8_ad54_32001a77f280row1_col1\" class=\"data row1 col1\" >$24,640</td> \n",
       "        <td id=\"T_02166018_ffc6_11e8_ad54_32001a77f280row1_col2\" class=\"data row1 col2\" >$16,380</td> \n",
       "    </tr>    <tr> \n",
       "        <th id=\"T_02166018_ffc6_11e8_ad54_32001a77f280level0_row2\" class=\"row_heading level0 row2\" >2019.02.15</th> \n",
       "        <td id=\"T_02166018_ffc6_11e8_ad54_32001a77f280row2_col0\" class=\"data row2 col0\" >$59,605</td> \n",
       "        <td id=\"T_02166018_ffc6_11e8_ad54_32001a77f280row2_col1\" class=\"data row2 col1\" >$31,080</td> \n",
       "        <td id=\"T_02166018_ffc6_11e8_ad54_32001a77f280row2_col2\" class=\"data row2 col2\" >$20,160</td> \n",
       "    </tr></tbody> \n",
       "</table> "
      ],
      "text/plain": [
       "<pandas.io.formats.style.Styler at 0xb24af0080>"
      ]
     },
     "metadata": {},
     "output_type": "execute_result"
    },
    {
     "data": {
      "text/html": [
       "<style  type=\"text/css\" >\n",
       "</style>  \n",
       "<table id=\"T_0216ec90_ffc6_11e8_ad54_32001a77f280\" > \n",
       "<thead>    <tr> \n",
       "        <th class=\"blank level0\" ></th> \n",
       "        <th class=\"col_heading level0 col0\" >-0.5</th> \n",
       "        <th class=\"col_heading level0 col1\" >-1.0</th> \n",
       "        <th class=\"col_heading level0 col2\" >-1.5</th> \n",
       "    </tr></thead> \n",
       "<tbody>    <tr> \n",
       "        <th id=\"T_0216ec90_ffc6_11e8_ad54_32001a77f280level0_row0\" class=\"row_heading level0 row0\" >2018.12.21</th> \n",
       "        <td id=\"T_0216ec90_ffc6_11e8_ad54_32001a77f280row0_col0\" class=\"data row0 col0\" >$39,520</td> \n",
       "        <td id=\"T_0216ec90_ffc6_11e8_ad54_32001a77f280row0_col1\" class=\"data row0 col1\" >$18,070</td> \n",
       "        <td id=\"T_0216ec90_ffc6_11e8_ad54_32001a77f280row0_col2\" class=\"data row0 col2\" >$10,920</td> \n",
       "    </tr>    <tr> \n",
       "        <th id=\"T_0216ec90_ffc6_11e8_ad54_32001a77f280level0_row1\" class=\"row_heading level0 row1\" >2019.01.18</th> \n",
       "        <td id=\"T_0216ec90_ffc6_11e8_ad54_32001a77f280row1_col0\" class=\"data row1 col0\" >$92,690</td> \n",
       "        <td id=\"T_0216ec90_ffc6_11e8_ad54_32001a77f280row1_col1\" class=\"data row1 col1\" >$47,520</td> \n",
       "        <td id=\"T_0216ec90_ffc6_11e8_ad54_32001a77f280row1_col2\" class=\"data row1 col2\" >$32,760</td> \n",
       "    </tr>    <tr> \n",
       "        <th id=\"T_0216ec90_ffc6_11e8_ad54_32001a77f280level0_row2\" class=\"row_heading level0 row2\" >2019.02.15</th> \n",
       "        <td id=\"T_0216ec90_ffc6_11e8_ad54_32001a77f280row2_col0\" class=\"data row2 col0\" >$123,795</td> \n",
       "        <td id=\"T_0216ec90_ffc6_11e8_ad54_32001a77f280row2_col1\" class=\"data row2 col1\" >$62,160</td> \n",
       "        <td id=\"T_0216ec90_ffc6_11e8_ad54_32001a77f280row2_col2\" class=\"data row2 col2\" >$41,760</td> \n",
       "    </tr></tbody> \n",
       "</table> "
      ],
      "text/plain": [
       "<pandas.io.formats.style.Styler at 0xb24af0c18>"
      ]
     },
     "metadata": {},
     "output_type": "execute_result"
    }
   ],
   "source": [
    "capital_at_risk = float(trd_choice.account_value[0].value) + illiquid_equity\n",
    "premium_list = []\n",
    "premium_list =  [(trd_choice.premium_grid() * contractTable.round() * 100) \\\n",
    "                 for contractTable in trd_choice.option_lots(leverage, capital_at_risk)]\n",
    "\n",
    "_ = [display(df.style.format('${:,.0f}')) for df in premium_list]  "
   ]
  },
  {
   "cell_type": "code",
   "execution_count": 8,
   "metadata": {},
   "outputs": [
    {
     "data": {
      "text/html": [
       "<style  type=\"text/css\" >\n",
       "</style>  \n",
       "<table id=\"T_062dd000_ffc6_11e8_ad54_32001a77f280\" > \n",
       "<thead>    <tr> \n",
       "        <th class=\"blank level0\" ></th> \n",
       "        <th class=\"col_heading level0 col0\" >-0.5</th> \n",
       "        <th class=\"col_heading level0 col1\" >-1.0</th> \n",
       "        <th class=\"col_heading level0 col2\" >-1.5</th> \n",
       "    </tr></thead> \n",
       "<tbody>    <tr> \n",
       "        <th id=\"T_062dd000_ffc6_11e8_ad54_32001a77f280level0_row0\" class=\"row_heading level0 row0\" >2018.12.21</th> \n",
       "        <td id=\"T_062dd000_ffc6_11e8_ad54_32001a77f280row0_col0\" class=\"data row0 col0\" >0.58%</td> \n",
       "        <td id=\"T_062dd000_ffc6_11e8_ad54_32001a77f280row0_col1\" class=\"data row0 col1\" >0.27%</td> \n",
       "        <td id=\"T_062dd000_ffc6_11e8_ad54_32001a77f280row0_col2\" class=\"data row0 col2\" >0.16%</td> \n",
       "    </tr>    <tr> \n",
       "        <th id=\"T_062dd000_ffc6_11e8_ad54_32001a77f280level0_row1\" class=\"row_heading level0 row1\" >2019.01.18</th> \n",
       "        <td id=\"T_062dd000_ffc6_11e8_ad54_32001a77f280row1_col0\" class=\"data row1 col0\" >1.36%</td> \n",
       "        <td id=\"T_062dd000_ffc6_11e8_ad54_32001a77f280row1_col1\" class=\"data row1 col1\" >0.67%</td> \n",
       "        <td id=\"T_062dd000_ffc6_11e8_ad54_32001a77f280row1_col2\" class=\"data row1 col2\" >0.45%</td> \n",
       "    </tr>    <tr> \n",
       "        <th id=\"T_062dd000_ffc6_11e8_ad54_32001a77f280level0_row2\" class=\"row_heading level0 row2\" >2019.02.15</th> \n",
       "        <td id=\"T_062dd000_ffc6_11e8_ad54_32001a77f280row2_col0\" class=\"data row2 col0\" >1.75%</td> \n",
       "        <td id=\"T_062dd000_ffc6_11e8_ad54_32001a77f280row2_col1\" class=\"data row2 col1\" >0.85%</td> \n",
       "        <td id=\"T_062dd000_ffc6_11e8_ad54_32001a77f280row2_col2\" class=\"data row2 col2\" >0.55%</td> \n",
       "    </tr></tbody> \n",
       "</table> "
      ],
      "text/plain": [
       "<pandas.io.formats.style.Styler at 0x10fd031d0>"
      ]
     },
     "metadata": {},
     "output_type": "execute_result"
    },
    {
     "data": {
      "text/html": [
       "<style  type=\"text/css\" >\n",
       "</style>  \n",
       "<table id=\"T_062eccc6_ffc6_11e8_ad54_32001a77f280\" > \n",
       "<thead>    <tr> \n",
       "        <th class=\"blank level0\" ></th> \n",
       "        <th class=\"col_heading level0 col0\" >-0.5</th> \n",
       "        <th class=\"col_heading level0 col1\" >-1.0</th> \n",
       "        <th class=\"col_heading level0 col2\" >-1.5</th> \n",
       "    </tr></thead> \n",
       "<tbody>    <tr> \n",
       "        <th id=\"T_062eccc6_ffc6_11e8_ad54_32001a77f280level0_row0\" class=\"row_heading level0 row0\" >2018.12.21</th> \n",
       "        <td id=\"T_062eccc6_ffc6_11e8_ad54_32001a77f280row0_col0\" class=\"data row0 col0\" >1.16%</td> \n",
       "        <td id=\"T_062eccc6_ffc6_11e8_ad54_32001a77f280row0_col1\" class=\"data row0 col1\" >0.53%</td> \n",
       "        <td id=\"T_062eccc6_ffc6_11e8_ad54_32001a77f280row0_col2\" class=\"data row0 col2\" >0.32%</td> \n",
       "    </tr>    <tr> \n",
       "        <th id=\"T_062eccc6_ffc6_11e8_ad54_32001a77f280level0_row1\" class=\"row_heading level0 row1\" >2019.01.18</th> \n",
       "        <td id=\"T_062eccc6_ffc6_11e8_ad54_32001a77f280row1_col0\" class=\"data row1 col0\" >2.73%</td> \n",
       "        <td id=\"T_062eccc6_ffc6_11e8_ad54_32001a77f280row1_col1\" class=\"data row1 col1\" >1.35%</td> \n",
       "        <td id=\"T_062eccc6_ffc6_11e8_ad54_32001a77f280row1_col2\" class=\"data row1 col2\" >0.89%</td> \n",
       "    </tr>    <tr> \n",
       "        <th id=\"T_062eccc6_ffc6_11e8_ad54_32001a77f280level0_row2\" class=\"row_heading level0 row2\" >2019.02.15</th> \n",
       "        <td id=\"T_062eccc6_ffc6_11e8_ad54_32001a77f280row2_col0\" class=\"data row2 col0\" >3.51%</td> \n",
       "        <td id=\"T_062eccc6_ffc6_11e8_ad54_32001a77f280row2_col1\" class=\"data row2 col1\" >1.70%</td> \n",
       "        <td id=\"T_062eccc6_ffc6_11e8_ad54_32001a77f280row2_col2\" class=\"data row2 col2\" >1.10%</td> \n",
       "    </tr></tbody> \n",
       "</table> "
      ],
      "text/plain": [
       "<pandas.io.formats.style.Styler at 0x10fd03128>"
      ]
     },
     "metadata": {},
     "output_type": "execute_result"
    }
   ],
   "source": [
    "premium_list_pct = []\n",
    "premium_list_pct = [(trd_choice.premium_grid() * lev) / last_price for lev in leverage]\n",
    "_ = [display(df.style.format('{:.2%}')) for df in premium_list_pct]  "
   ]
  },
  {
   "cell_type": "code",
   "execution_count": 9,
   "metadata": {},
   "outputs": [
    {
     "data": {
      "text/html": [
       "<style  type=\"text/css\" >\n",
       "</style>  \n",
       "<table id=\"T_08a32ad8_ffc6_11e8_ad54_32001a77f280\" > \n",
       "<thead>    <tr> \n",
       "        <th class=\"blank level0\" ></th> \n",
       "        <th class=\"col_heading level0 col0\" >-0.5</th> \n",
       "        <th class=\"col_heading level0 col1\" >-1.0</th> \n",
       "        <th class=\"col_heading level0 col2\" >-1.5</th> \n",
       "    </tr>    <tr> \n",
       "        <th class=\"index_name level0\" >Lev 1</th> \n",
       "        <th class=\"blank\" ></th> \n",
       "        <th class=\"blank\" ></th> \n",
       "        <th class=\"blank\" ></th> \n",
       "    </tr></thead> \n",
       "<tbody>    <tr> \n",
       "        <th id=\"T_08a32ad8_ffc6_11e8_ad54_32001a77f280level0_row0\" class=\"row_heading level0 row0\" >2018.12.21</th> \n",
       "        <td id=\"T_08a32ad8_ffc6_11e8_ad54_32001a77f280row0_col0\" class=\"data row0 col0\" >13</td> \n",
       "        <td id=\"T_08a32ad8_ffc6_11e8_ad54_32001a77f280row0_col1\" class=\"data row0 col1\" >13</td> \n",
       "        <td id=\"T_08a32ad8_ffc6_11e8_ad54_32001a77f280row0_col2\" class=\"data row0 col2\" >13</td> \n",
       "    </tr>    <tr> \n",
       "        <th id=\"T_08a32ad8_ffc6_11e8_ad54_32001a77f280level0_row1\" class=\"row_heading level0 row1\" >2019.01.18</th> \n",
       "        <td id=\"T_08a32ad8_ffc6_11e8_ad54_32001a77f280row1_col0\" class=\"data row1 col0\" >13</td> \n",
       "        <td id=\"T_08a32ad8_ffc6_11e8_ad54_32001a77f280row1_col1\" class=\"data row1 col1\" >14</td> \n",
       "        <td id=\"T_08a32ad8_ffc6_11e8_ad54_32001a77f280row1_col2\" class=\"data row1 col2\" >14</td> \n",
       "    </tr>    <tr> \n",
       "        <th id=\"T_08a32ad8_ffc6_11e8_ad54_32001a77f280level0_row2\" class=\"row_heading level0 row2\" >2019.02.15</th> \n",
       "        <td id=\"T_08a32ad8_ffc6_11e8_ad54_32001a77f280row2_col0\" class=\"data row2 col0\" >13</td> \n",
       "        <td id=\"T_08a32ad8_ffc6_11e8_ad54_32001a77f280row2_col1\" class=\"data row2 col1\" >14</td> \n",
       "        <td id=\"T_08a32ad8_ffc6_11e8_ad54_32001a77f280row2_col2\" class=\"data row2 col2\" >14</td> \n",
       "    </tr></tbody> \n",
       "</table> "
      ],
      "text/plain": [
       "<pandas.io.formats.style.Styler at 0x10e6af9b0>"
      ]
     },
     "metadata": {},
     "output_type": "execute_result"
    },
    {
     "data": {
      "text/html": [
       "<style  type=\"text/css\" >\n",
       "</style>  \n",
       "<table id=\"T_08a43892_ffc6_11e8_ad54_32001a77f280\" > \n",
       "<thead>    <tr> \n",
       "        <th class=\"blank level0\" ></th> \n",
       "        <th class=\"col_heading level0 col0\" >-0.5</th> \n",
       "        <th class=\"col_heading level0 col1\" >-1.0</th> \n",
       "        <th class=\"col_heading level0 col2\" >-1.5</th> \n",
       "    </tr>    <tr> \n",
       "        <th class=\"index_name level0\" >Lev 2</th> \n",
       "        <th class=\"blank\" ></th> \n",
       "        <th class=\"blank\" ></th> \n",
       "        <th class=\"blank\" ></th> \n",
       "    </tr></thead> \n",
       "<tbody>    <tr> \n",
       "        <th id=\"T_08a43892_ffc6_11e8_ad54_32001a77f280level0_row0\" class=\"row_heading level0 row0\" >2018.12.21</th> \n",
       "        <td id=\"T_08a43892_ffc6_11e8_ad54_32001a77f280row0_col0\" class=\"data row0 col0\" >26</td> \n",
       "        <td id=\"T_08a43892_ffc6_11e8_ad54_32001a77f280row0_col1\" class=\"data row0 col1\" >26</td> \n",
       "        <td id=\"T_08a43892_ffc6_11e8_ad54_32001a77f280row0_col2\" class=\"data row0 col2\" >26</td> \n",
       "    </tr>    <tr> \n",
       "        <th id=\"T_08a43892_ffc6_11e8_ad54_32001a77f280level0_row1\" class=\"row_heading level0 row1\" >2019.01.18</th> \n",
       "        <td id=\"T_08a43892_ffc6_11e8_ad54_32001a77f280row1_col0\" class=\"data row1 col0\" >26</td> \n",
       "        <td id=\"T_08a43892_ffc6_11e8_ad54_32001a77f280row1_col1\" class=\"data row1 col1\" >27</td> \n",
       "        <td id=\"T_08a43892_ffc6_11e8_ad54_32001a77f280row1_col2\" class=\"data row1 col2\" >28</td> \n",
       "    </tr>    <tr> \n",
       "        <th id=\"T_08a43892_ffc6_11e8_ad54_32001a77f280level0_row2\" class=\"row_heading level0 row2\" >2019.02.15</th> \n",
       "        <td id=\"T_08a43892_ffc6_11e8_ad54_32001a77f280row2_col0\" class=\"data row2 col0\" >27</td> \n",
       "        <td id=\"T_08a43892_ffc6_11e8_ad54_32001a77f280row2_col1\" class=\"data row2 col1\" >28</td> \n",
       "        <td id=\"T_08a43892_ffc6_11e8_ad54_32001a77f280row2_col2\" class=\"data row2 col2\" >29</td> \n",
       "    </tr></tbody> \n",
       "</table> "
      ],
      "text/plain": [
       "<pandas.io.formats.style.Styler at 0xb24af00f0>"
      ]
     },
     "metadata": {},
     "output_type": "execute_result"
    }
   ],
   "source": [
    "\n",
    "_ = [display(contractTable.round().style.format('{:.0f}')) for \\\n",
    "     contractTable in trd_choice.option_lots(leverage, capital_at_risk)]\n",
    "    "
   ]
  },
  {
   "cell_type": "code",
   "execution_count": 10,
   "metadata": {},
   "outputs": [
    {
     "data": {
      "text/html": [
       "<style  type=\"text/css\" >\n",
       "</style>  \n",
       "<table id=\"T_0a8fa4e8_ffc6_11e8_ad54_32001a77f280\" > \n",
       "<thead>    <tr> \n",
       "        <th class=\"blank level0\" ></th> \n",
       "        <th class=\"col_heading level0 col0\" >-0.5</th> \n",
       "        <th class=\"col_heading level0 col1\" >-1.0</th> \n",
       "        <th class=\"col_heading level0 col2\" >-1.5</th> \n",
       "    </tr></thead> \n",
       "<tbody>    <tr> \n",
       "        <th id=\"T_0a8fa4e8_ffc6_11e8_ad54_32001a77f280level0_row0\" class=\"row_heading level0 row0\" >2018.12.21</th> \n",
       "        <td id=\"T_0a8fa4e8_ffc6_11e8_ad54_32001a77f280row0_col0\" class=\"data row0 col0\" >$647,618</td> \n",
       "        <td id=\"T_0a8fa4e8_ffc6_11e8_ad54_32001a77f280row0_col1\" class=\"data row0 col1\" >$578,393</td> \n",
       "        <td id=\"T_0a8fa4e8_ffc6_11e8_ad54_32001a77f280row0_col2\" class=\"data row0 col2\" >$535,818</td> \n",
       "    </tr>    <tr> \n",
       "        <th id=\"T_0a8fa4e8_ffc6_11e8_ad54_32001a77f280level0_row1\" class=\"row_heading level0 row1\" >2019.01.18</th> \n",
       "        <td id=\"T_0a8fa4e8_ffc6_11e8_ad54_32001a77f280row1_col0\" class=\"data row1 col0\" >$628,703</td> \n",
       "        <td id=\"T_0a8fa4e8_ffc6_11e8_ad54_32001a77f280row1_col1\" class=\"data row1 col1\" >$518,795</td> \n",
       "        <td id=\"T_0a8fa4e8_ffc6_11e8_ad54_32001a77f280row1_col2\" class=\"data row1 col2\" >$433,535</td> \n",
       "    </tr>    <tr> \n",
       "        <th id=\"T_0a8fa4e8_ffc6_11e8_ad54_32001a77f280level0_row2\" class=\"row_heading level0 row2\" >2019.02.15</th> \n",
       "        <td id=\"T_0a8fa4e8_ffc6_11e8_ad54_32001a77f280row2_col0\" class=\"data row2 col0\" >$589,963</td> \n",
       "        <td id=\"T_0a8fa4e8_ffc6_11e8_ad54_32001a77f280row2_col1\" class=\"data row2 col1\" >$413,235</td> \n",
       "        <td id=\"T_0a8fa4e8_ffc6_11e8_ad54_32001a77f280row2_col2\" class=\"data row2 col2\" >$340,060</td> \n",
       "    </tr></tbody> \n",
       "</table> "
      ],
      "text/plain": [
       "<pandas.io.formats.style.Styler at 0x10fd03390>"
      ]
     },
     "metadata": {},
     "output_type": "execute_result"
    },
    {
     "data": {
      "text/html": [
       "<style  type=\"text/css\" >\n",
       "</style>  \n",
       "<table id=\"T_0a90f60e_ffc6_11e8_ad54_32001a77f280\" > \n",
       "<thead>    <tr> \n",
       "        <th class=\"blank level0\" ></th> \n",
       "        <th class=\"col_heading level0 col0\" >-0.5</th> \n",
       "        <th class=\"col_heading level0 col1\" >-1.0</th> \n",
       "        <th class=\"col_heading level0 col2\" >-1.5</th> \n",
       "    </tr></thead> \n",
       "<tbody>    <tr> \n",
       "        <th id=\"T_0a90f60e_ffc6_11e8_ad54_32001a77f280level0_row0\" class=\"row_heading level0 row0\" >2018.12.21</th> \n",
       "        <td id=\"T_0a90f60e_ffc6_11e8_ad54_32001a77f280row0_col0\" class=\"data row0 col0\" >$1,295,237</td> \n",
       "        <td id=\"T_0a90f60e_ffc6_11e8_ad54_32001a77f280row0_col1\" class=\"data row0 col1\" >$1,156,787</td> \n",
       "        <td id=\"T_0a90f60e_ffc6_11e8_ad54_32001a77f280row0_col2\" class=\"data row0 col2\" >$1,071,637</td> \n",
       "    </tr>    <tr> \n",
       "        <th id=\"T_0a90f60e_ffc6_11e8_ad54_32001a77f280level0_row1\" class=\"row_heading level0 row1\" >2019.01.18</th> \n",
       "        <td id=\"T_0a90f60e_ffc6_11e8_ad54_32001a77f280row1_col0\" class=\"data row1 col0\" >$1,257,407</td> \n",
       "        <td id=\"T_0a90f60e_ffc6_11e8_ad54_32001a77f280row1_col1\" class=\"data row1 col1\" >$1,000,534</td> \n",
       "        <td id=\"T_0a90f60e_ffc6_11e8_ad54_32001a77f280row1_col2\" class=\"data row1 col2\" >$867,070</td> \n",
       "    </tr>    <tr> \n",
       "        <th id=\"T_0a90f60e_ffc6_11e8_ad54_32001a77f280level0_row2\" class=\"row_heading level0 row2\" >2019.02.15</th> \n",
       "        <td id=\"T_0a90f60e_ffc6_11e8_ad54_32001a77f280row2_col0\" class=\"data row2 col0\" >$1,225,309</td> \n",
       "        <td id=\"T_0a90f60e_ffc6_11e8_ad54_32001a77f280row2_col1\" class=\"data row2 col1\" >$826,470</td> \n",
       "        <td id=\"T_0a90f60e_ffc6_11e8_ad54_32001a77f280row2_col2\" class=\"data row2 col2\" >$704,410</td> \n",
       "    </tr></tbody> \n",
       "</table> "
      ],
      "text/plain": [
       "<pandas.io.formats.style.Styler at 0x10fd031d0>"
      ]
     },
     "metadata": {},
     "output_type": "execute_result"
    }
   ],
   "source": [
    "margin_dlr = [trd_choice.margin(last_price) * df for df in trd_choice.option_lots(leverage, capital_at_risk)]\n",
    "_ = [display(df.style.format('${:,.0f}')) for df in margin_dlr]  "
   ]
  },
  {
   "cell_type": "code",
   "execution_count": 11,
   "metadata": {},
   "outputs": [
    {
     "data": {
      "text/html": [
       "<style  type=\"text/css\" >\n",
       "</style>  \n",
       "<table id=\"T_0cec4d0e_ffc6_11e8_ad54_32001a77f280\" > \n",
       "<thead>    <tr> \n",
       "        <th class=\"blank level0\" ></th> \n",
       "        <th class=\"col_heading level0 col0\" >-0.5</th> \n",
       "        <th class=\"col_heading level0 col1\" >-1.0</th> \n",
       "        <th class=\"col_heading level0 col2\" >-1.5</th> \n",
       "    </tr>    <tr> \n",
       "        <th class=\"index_name level0\" >Lev 2</th> \n",
       "        <th class=\"blank\" ></th> \n",
       "        <th class=\"blank\" ></th> \n",
       "        <th class=\"blank\" ></th> \n",
       "    </tr></thead> \n",
       "<tbody>    <tr> \n",
       "        <th id=\"T_0cec4d0e_ffc6_11e8_ad54_32001a77f280level0_row0\" class=\"row_heading level0 row0\" >2018.12.21</th> \n",
       "        <td id=\"T_0cec4d0e_ffc6_11e8_ad54_32001a77f280row0_col0\" class=\"data row0 col0\" >$1,295,237</td> \n",
       "        <td id=\"T_0cec4d0e_ffc6_11e8_ad54_32001a77f280row0_col1\" class=\"data row0 col1\" >$1,156,787</td> \n",
       "        <td id=\"T_0cec4d0e_ffc6_11e8_ad54_32001a77f280row0_col2\" class=\"data row0 col2\" >$1,071,637</td> \n",
       "    </tr>    <tr> \n",
       "        <th id=\"T_0cec4d0e_ffc6_11e8_ad54_32001a77f280level0_row1\" class=\"row_heading level0 row1\" >2019.01.18</th> \n",
       "        <td id=\"T_0cec4d0e_ffc6_11e8_ad54_32001a77f280row1_col0\" class=\"data row1 col0\" >$1,257,407</td> \n",
       "        <td id=\"T_0cec4d0e_ffc6_11e8_ad54_32001a77f280row1_col1\" class=\"data row1 col1\" >$1,000,534</td> \n",
       "        <td id=\"T_0cec4d0e_ffc6_11e8_ad54_32001a77f280row1_col2\" class=\"data row1 col2\" >$867,070</td> \n",
       "    </tr>    <tr> \n",
       "        <th id=\"T_0cec4d0e_ffc6_11e8_ad54_32001a77f280level0_row2\" class=\"row_heading level0 row2\" >2019.02.15</th> \n",
       "        <td id=\"T_0cec4d0e_ffc6_11e8_ad54_32001a77f280row2_col0\" class=\"data row2 col0\" >$1,225,309</td> \n",
       "        <td id=\"T_0cec4d0e_ffc6_11e8_ad54_32001a77f280row2_col1\" class=\"data row2 col1\" >$826,470</td> \n",
       "        <td id=\"T_0cec4d0e_ffc6_11e8_ad54_32001a77f280row2_col2\" class=\"data row2 col2\" >$704,410</td> \n",
       "    </tr></tbody> \n",
       "</table> "
      ],
      "text/plain": [
       "<pandas.io.formats.style.Styler at 0xb24bedb70>"
      ]
     },
     "metadata": {},
     "output_type": "execute_result"
    }
   ],
   "source": [
    "marge = trd_choice.margin(trd_choice.spot)\n",
    "lots = trd_choice.option_lots([2], capital_at_risk)\n",
    "margin = lots[0] * marge\n",
    "display(margin.style.format('${:,.0f}'))"
   ]
  },
  {
   "cell_type": "code",
   "execution_count": 12,
   "metadata": {},
   "outputs": [
    {
     "data": {
      "text/html": [
       "<style  type=\"text/css\" >\n",
       "</style>  \n",
       "<table id=\"T_0dc0c2dc_ffc6_11e8_ad54_32001a77f280\" > \n",
       "<thead>    <tr> \n",
       "        <th class=\"blank level0\" ></th> \n",
       "        <th class=\"col_heading level0 col0\" >-0.5</th> \n",
       "        <th class=\"col_heading level0 col1\" >-1.0</th> \n",
       "        <th class=\"col_heading level0 col2\" >-1.5</th> \n",
       "    </tr>    <tr> \n",
       "        <th class=\"index_name level0\" >Lev 1</th> \n",
       "        <th class=\"blank\" ></th> \n",
       "        <th class=\"blank\" ></th> \n",
       "        <th class=\"blank\" ></th> \n",
       "    </tr></thead> \n",
       "<tbody>    <tr> \n",
       "        <th id=\"T_0dc0c2dc_ffc6_11e8_ad54_32001a77f280level0_row0\" class=\"row_heading level0 row0\" >2018.12.21</th> \n",
       "        <td id=\"T_0dc0c2dc_ffc6_11e8_ad54_32001a77f280row0_col0\" class=\"data row0 col0\" >$3,347,500</td> \n",
       "        <td id=\"T_0dc0c2dc_ffc6_11e8_ad54_32001a77f280row0_col1\" class=\"data row0 col1\" >$3,289,000</td> \n",
       "        <td id=\"T_0dc0c2dc_ffc6_11e8_ad54_32001a77f280row0_col2\" class=\"data row0 col2\" >$3,250,000</td> \n",
       "    </tr>    <tr> \n",
       "        <th id=\"T_0dc0c2dc_ffc6_11e8_ad54_32001a77f280level0_row1\" class=\"row_heading level0 row1\" >2019.01.18</th> \n",
       "        <td id=\"T_0dc0c2dc_ffc6_11e8_ad54_32001a77f280row1_col0\" class=\"data row1 col0\" >$3,302,000</td> \n",
       "        <td id=\"T_0dc0c2dc_ffc6_11e8_ad54_32001a77f280row1_col1\" class=\"data row1 col1\" >$3,423,000</td> \n",
       "        <td id=\"T_0dc0c2dc_ffc6_11e8_ad54_32001a77f280row1_col2\" class=\"data row1 col2\" >$3,346,000</td> \n",
       "    </tr>    <tr> \n",
       "        <th id=\"T_0dc0c2dc_ffc6_11e8_ad54_32001a77f280level0_row2\" class=\"row_heading level0 row2\" >2019.02.15</th> \n",
       "        <td id=\"T_0dc0c2dc_ffc6_11e8_ad54_32001a77f280row2_col0\" class=\"data row2 col0\" >$3,250,000</td> \n",
       "        <td id=\"T_0dc0c2dc_ffc6_11e8_ad54_32001a77f280row2_col1\" class=\"data row2 col1\" >$3,311,000</td> \n",
       "        <td id=\"T_0dc0c2dc_ffc6_11e8_ad54_32001a77f280row2_col2\" class=\"data row2 col2\" >$3,199,000</td> \n",
       "    </tr></tbody> \n",
       "</table> "
      ],
      "text/plain": [
       "<pandas.io.formats.style.Styler at 0xb24bed9e8>"
      ]
     },
     "metadata": {},
     "output_type": "execute_result"
    },
    {
     "data": {
      "text/html": [
       "<style  type=\"text/css\" >\n",
       "</style>  \n",
       "<table id=\"T_0dc19c70_ffc6_11e8_ad54_32001a77f280\" > \n",
       "<thead>    <tr> \n",
       "        <th class=\"blank level0\" ></th> \n",
       "        <th class=\"col_heading level0 col0\" >-0.5</th> \n",
       "        <th class=\"col_heading level0 col1\" >-1.0</th> \n",
       "        <th class=\"col_heading level0 col2\" >-1.5</th> \n",
       "    </tr>    <tr> \n",
       "        <th class=\"index_name level0\" >Lev 2</th> \n",
       "        <th class=\"blank\" ></th> \n",
       "        <th class=\"blank\" ></th> \n",
       "        <th class=\"blank\" ></th> \n",
       "    </tr></thead> \n",
       "<tbody>    <tr> \n",
       "        <th id=\"T_0dc19c70_ffc6_11e8_ad54_32001a77f280level0_row0\" class=\"row_heading level0 row0\" >2018.12.21</th> \n",
       "        <td id=\"T_0dc19c70_ffc6_11e8_ad54_32001a77f280row0_col0\" class=\"data row0 col0\" >$6,695,000</td> \n",
       "        <td id=\"T_0dc19c70_ffc6_11e8_ad54_32001a77f280row0_col1\" class=\"data row0 col1\" >$6,578,000</td> \n",
       "        <td id=\"T_0dc19c70_ffc6_11e8_ad54_32001a77f280row0_col2\" class=\"data row0 col2\" >$6,500,000</td> \n",
       "    </tr>    <tr> \n",
       "        <th id=\"T_0dc19c70_ffc6_11e8_ad54_32001a77f280level0_row1\" class=\"row_heading level0 row1\" >2019.01.18</th> \n",
       "        <td id=\"T_0dc19c70_ffc6_11e8_ad54_32001a77f280row1_col0\" class=\"data row1 col0\" >$6,604,000</td> \n",
       "        <td id=\"T_0dc19c70_ffc6_11e8_ad54_32001a77f280row1_col1\" class=\"data row1 col1\" >$6,601,500</td> \n",
       "        <td id=\"T_0dc19c70_ffc6_11e8_ad54_32001a77f280row1_col2\" class=\"data row1 col2\" >$6,692,000</td> \n",
       "    </tr>    <tr> \n",
       "        <th id=\"T_0dc19c70_ffc6_11e8_ad54_32001a77f280level0_row2\" class=\"row_heading level0 row2\" >2019.02.15</th> \n",
       "        <td id=\"T_0dc19c70_ffc6_11e8_ad54_32001a77f280row2_col0\" class=\"data row2 col0\" >$6,750,000</td> \n",
       "        <td id=\"T_0dc19c70_ffc6_11e8_ad54_32001a77f280row2_col1\" class=\"data row2 col1\" >$6,622,000</td> \n",
       "        <td id=\"T_0dc19c70_ffc6_11e8_ad54_32001a77f280row2_col2\" class=\"data row2 col2\" >$6,626,500</td> \n",
       "    </tr></tbody> \n",
       "</table> "
      ],
      "text/plain": [
       "<pandas.io.formats.style.Styler at 0xb24beda90>"
      ]
     },
     "metadata": {},
     "output_type": "execute_result"
    }
   ],
   "source": [
    "notional_dlr=[df * trd_choice.strike_grid() * 100 for df in trd_choice.option_lots(leverage, capital_at_risk)]\n",
    "_ = [display(df.style.format('${:,.0f}')) for df in notional_dlr]  "
   ]
  },
  {
   "cell_type": "code",
   "execution_count": 13,
   "metadata": {},
   "outputs": [
    {
     "data": {
      "text/plain": [
       "3273724.0729"
      ]
     },
     "execution_count": 13,
     "metadata": {},
     "output_type": "execute_result"
    }
   ],
   "source": [
    "capital_at_risk"
   ]
  },
  {
   "cell_type": "code",
   "execution_count": 14,
   "metadata": {},
   "outputs": [
    {
     "data": {
      "text/plain": [
       "536500.0"
      ]
     },
     "execution_count": 14,
     "metadata": {},
     "output_type": "execute_result"
    }
   ],
   "source": [
    "illiquid_equity"
   ]
  },
  {
   "cell_type": "code",
   "execution_count": null,
   "metadata": {},
   "outputs": [],
   "source": []
  },
  {
   "cell_type": "code",
   "execution_count": null,
   "metadata": {},
   "outputs": [],
   "source": []
  }
 ],
 "metadata": {
  "kernelspec": {
   "display_name": "Python 3",
   "language": "python",
   "name": "python3"
  },
  "language_info": {
   "codemirror_mode": {
    "name": "ipython",
    "version": 3
   },
   "file_extension": ".py",
   "mimetype": "text/x-python",
   "name": "python",
   "nbconvert_exporter": "python",
   "pygments_lexer": "ipython3",
   "version": "3.7.0"
  }
 },
 "nbformat": 4,
 "nbformat_minor": 2
}
