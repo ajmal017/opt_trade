{
 "cells": [
  {
   "cell_type": "markdown",
   "metadata": {},
   "source": [
    "daily_run estimates strikes and number of contracts for a put selling strategy on equity indices such as S&P 500. \n",
    "\n",
    "Algorithm is drawn from  JUREK, J. W. and STAFFORD, E. (2015), The Cost of Capital for Alternative Investments. The Journal of Finance, 70: 2185-2226. doi:10.1111/jofi.12269- \n",
    "\n",
    "Requires an open session of either IB Gateway or TWS from Interactive Brokers"
   ]
  },
  {
   "cell_type": "code",
   "execution_count": 1,
   "metadata": {},
   "outputs": [
    {
     "data": {
      "text/plain": [
       "531500.0"
      ]
     },
     "execution_count": 1,
     "metadata": {},
     "output_type": "execute_result"
    }
   ],
   "source": [
    "from option_daily_prod import OptionMarket, SpxOptionAsset, RSL2OptionAsset\n",
    "from spx_data_update import UpdateSP500Data\n",
    "import numpy as np\n",
    "import pandas as pd\n",
    "import nest_asyncio\n",
    "from time import time\n",
    "import plistlib\n",
    "file_name = UpdateSP500Data.DATA_BASE_PATH / 'config.plist'\n",
    "f = open(str(file_name), 'rb')\n",
    "pl = plistlib.load(f)\n",
    "illiquid_dict = pl['illiquid_equity']\n",
    "illiquid_equity = sum(illiquid_dict.values()) * 0.5\n",
    "illiquid_equity"
   ]
  },
  {
   "cell_type": "code",
   "execution_count": 2,
   "metadata": {},
   "outputs": [
    {
     "name": "stdout",
     "output_type": "stream",
     "text": [
      "Warning: RSL2 Using Fixed Dividend yield\n"
     ]
    }
   ],
   "source": [
    "before = time()\n",
    "nest_asyncio.apply()\n",
    "\n",
    "spx_trades = OptionMarket(SpxOptionAsset())\n",
    "rsl_trades = OptionMarket(RSL2OptionAsset())"
   ]
  },
  {
   "cell_type": "code",
   "execution_count": 3,
   "metadata": {},
   "outputs": [
    {
     "name": "stdout",
     "output_type": "stream",
     "text": [
      "elapsed: 16.1\n",
      "elapsed: 40.3\n",
      "2656.09\n",
      "23.61\n",
      "[AccountValue(account='U2463043', tag='NetLiquidationByCurrency', value='2725005.8561', currency='BASE', modelCode='')]\n"
     ]
    }
   ],
   "source": [
    "z_score = np.array([-0.5, -1, -1.5])\n",
    "leverage = np.array(range(1, 3, 1))\n",
    "num_expiries = 3\n",
    "\n",
    "after = time()\n",
    "spx = True\n",
    "if spx:\n",
    "    trd_choice = spx_trades.form_trade_choice(z_score, num_expiries, 'P')\n",
    "else:\n",
    "    trd_choice = rsl_trades.form_trade_choice(z_score, num_expiries, 'P')\n",
    "    \n",
    "last_price = trd_choice.spot\n",
    "after_2 = time()\n",
    "print('elapsed:', np.round(after - before, 1))\n",
    "print('elapsed:', np.round(after_2 - before, 1))\n",
    "print(last_price)\n",
    "print(trd_choice.sigma)\n",
    "print(trd_choice.account_value)"
   ]
  },
  {
   "cell_type": "code",
   "execution_count": 4,
   "metadata": {},
   "outputs": [
    {
     "data": {
      "text/html": [
       "<style>\n",
       ".output {\n",
       "    flex-direction:row;\n",
       "}\n",
       "</style>"
      ],
      "text/plain": [
       "<IPython.core.display.HTML object>"
      ]
     },
     "execution_count": 4,
     "metadata": {},
     "output_type": "execute_result"
    }
   ],
   "source": [
    "from IPython.display import display, HTML\n",
    "\n",
    "CSS = \"\"\"\n",
    ".output {\n",
    "    flex-direction:row;\n",
    "}\n",
    "\"\"\"\n",
    "HTML('<style>{}</style>'.format(CSS))\n"
   ]
  },
  {
   "cell_type": "code",
   "execution_count": 5,
   "metadata": {},
   "outputs": [
    {
     "data": {
      "text/html": [
       "<div>\n",
       "<style scoped>\n",
       "    .dataframe tbody tr th:only-of-type {\n",
       "        vertical-align: middle;\n",
       "    }\n",
       "\n",
       "    .dataframe tbody tr th {\n",
       "        vertical-align: top;\n",
       "    }\n",
       "\n",
       "    .dataframe thead th {\n",
       "        text-align: right;\n",
       "    }\n",
       "</style>\n",
       "<table border=\"1\" class=\"dataframe\">\n",
       "  <thead>\n",
       "    <tr style=\"text-align: right;\">\n",
       "      <th></th>\n",
       "      <th>-0.5</th>\n",
       "      <th>-1.0</th>\n",
       "      <th>-1.5</th>\n",
       "    </tr>\n",
       "  </thead>\n",
       "  <tbody>\n",
       "    <tr>\n",
       "      <th>2018.12.21</th>\n",
       "      <td>2595</td>\n",
       "      <td>2555</td>\n",
       "      <td>2525</td>\n",
       "    </tr>\n",
       "    <tr>\n",
       "      <th>2019.01.18</th>\n",
       "      <td>2535</td>\n",
       "      <td>2450</td>\n",
       "      <td>2400</td>\n",
       "    </tr>\n",
       "    <tr>\n",
       "      <th>2019.02.15</th>\n",
       "      <td>2475</td>\n",
       "      <td>2355</td>\n",
       "      <td>2275</td>\n",
       "    </tr>\n",
       "  </tbody>\n",
       "</table>\n",
       "</div>"
      ],
      "text/plain": [
       "            -0.5  -1.0  -1.5\n",
       "2018.12.21  2595  2555  2525\n",
       "2019.01.18  2535  2450  2400\n",
       "2019.02.15  2475  2355  2275"
      ]
     },
     "metadata": {},
     "output_type": "display_data"
    },
    {
     "data": {
      "text/html": [
       "<div>\n",
       "<style scoped>\n",
       "    .dataframe tbody tr th:only-of-type {\n",
       "        vertical-align: middle;\n",
       "    }\n",
       "\n",
       "    .dataframe tbody tr th {\n",
       "        vertical-align: top;\n",
       "    }\n",
       "\n",
       "    .dataframe thead th {\n",
       "        text-align: right;\n",
       "    }\n",
       "</style>\n",
       "<table border=\"1\" class=\"dataframe\">\n",
       "  <thead>\n",
       "    <tr style=\"text-align: right;\">\n",
       "      <th></th>\n",
       "      <th>-0.5</th>\n",
       "      <th>-1.0</th>\n",
       "      <th>-1.5</th>\n",
       "    </tr>\n",
       "  </thead>\n",
       "  <tbody>\n",
       "    <tr>\n",
       "      <th>2018.12.21</th>\n",
       "      <td>17.05</td>\n",
       "      <td>11.50</td>\n",
       "      <td>8.7</td>\n",
       "    </tr>\n",
       "    <tr>\n",
       "      <th>2019.01.18</th>\n",
       "      <td>24.00</td>\n",
       "      <td>14.45</td>\n",
       "      <td>16.8</td>\n",
       "    </tr>\n",
       "    <tr>\n",
       "      <th>2019.02.15</th>\n",
       "      <td>29.65</td>\n",
       "      <td>17.10</td>\n",
       "      <td>16.4</td>\n",
       "    </tr>\n",
       "  </tbody>\n",
       "</table>\n",
       "</div>"
      ],
      "text/plain": [
       "             -0.5   -1.0  -1.5\n",
       "2018.12.21  17.05  11.50   8.7\n",
       "2019.01.18  24.00  14.45  16.8\n",
       "2019.02.15  29.65  17.10  16.4"
      ]
     },
     "metadata": {},
     "output_type": "display_data"
    },
    {
     "data": {
      "text/html": [
       "<div>\n",
       "<style scoped>\n",
       "    .dataframe tbody tr th:only-of-type {\n",
       "        vertical-align: middle;\n",
       "    }\n",
       "\n",
       "    .dataframe tbody tr th {\n",
       "        vertical-align: top;\n",
       "    }\n",
       "\n",
       "    .dataframe thead th {\n",
       "        text-align: right;\n",
       "    }\n",
       "</style>\n",
       "<table border=\"1\" class=\"dataframe\">\n",
       "  <thead>\n",
       "    <tr style=\"text-align: right;\">\n",
       "      <th></th>\n",
       "      <th>-0.5</th>\n",
       "      <th>-1.0</th>\n",
       "      <th>-1.5</th>\n",
       "    </tr>\n",
       "  </thead>\n",
       "  <tbody>\n",
       "    <tr>\n",
       "      <th>2018.12.21</th>\n",
       "      <td>-1.0/-1.0</td>\n",
       "      <td>-1.0/-1.0</td>\n",
       "      <td>-1.0/-1.0</td>\n",
       "    </tr>\n",
       "    <tr>\n",
       "      <th>2019.01.18</th>\n",
       "      <td>-1.0/-1.0</td>\n",
       "      <td>-1.0/-1.0</td>\n",
       "      <td>16.3/16.8</td>\n",
       "    </tr>\n",
       "    <tr>\n",
       "      <th>2019.02.15</th>\n",
       "      <td>-1.0/-1.0</td>\n",
       "      <td>-1.0/-1.0</td>\n",
       "      <td>16.1/16.7</td>\n",
       "    </tr>\n",
       "  </tbody>\n",
       "</table>\n",
       "</div>"
      ],
      "text/plain": [
       "                 -0.5       -1.0       -1.5\n",
       "2018.12.21  -1.0/-1.0  -1.0/-1.0  -1.0/-1.0\n",
       "2019.01.18  -1.0/-1.0  -1.0/-1.0  16.3/16.8\n",
       "2019.02.15  -1.0/-1.0  -1.0/-1.0  16.1/16.7"
      ]
     },
     "metadata": {},
     "output_type": "display_data"
    }
   ],
   "source": [
    "_=[display(df) for df in [trd_choice.strike_grid(), trd_choice.premium_grid(), trd_choice.prices_grid()]]"
   ]
  },
  {
   "cell_type": "code",
   "execution_count": null,
   "metadata": {},
   "outputs": [],
   "source": [
    "\n",
    "prct_decline = trd_choice.pct_otm_grid(last_price)\n",
    "format_dict = {x: '{:.2%}' for x in prct_decline.to_dict()}\n",
    "display(prct_decline.style.format(format_dict))"
   ]
  },
  {
   "cell_type": "code",
   "execution_count": null,
   "metadata": {
    "scrolled": false
   },
   "outputs": [],
   "source": [
    "capital_at_risk = float(trd_choice.account_value[0].value) + illiquid_equity\n",
    "premium_list = []\n",
    "premium_list =  [(trd_choice.premium_grid() * contractTable.round() * 100) \\\n",
    "                 for contractTable in trd_choice.option_lots(leverage, capital_at_risk)]\n",
    "\n",
    "_ = [display(df.style.format('${:,.0f}')) for df in premium_list]  "
   ]
  },
  {
   "cell_type": "code",
   "execution_count": null,
   "metadata": {},
   "outputs": [],
   "source": [
    "premium_list_pct = []\n",
    "premium_list_pct = [(trd_choice.premium_grid() * lev) / last_price for lev in leverage]\n",
    "_ = [display(df.style.format('{:.2%}')) for df in premium_list_pct]  "
   ]
  },
  {
   "cell_type": "code",
   "execution_count": null,
   "metadata": {},
   "outputs": [],
   "source": [
    "\n",
    "_ = [display(contractTable.round().style.format('{:.0f}')) for \\\n",
    "     contractTable in trd_choice.option_lots(leverage, capital_at_risk)]\n",
    "    "
   ]
  },
  {
   "cell_type": "code",
   "execution_count": null,
   "metadata": {},
   "outputs": [],
   "source": [
    "margin_dlr = [trd_choice.margin(last_price) * df for df in trd_choice.option_lots(leverage, capital_at_risk)]\n",
    "_ = [display(df.style.format('${:,.0f}')) for df in margin_dlr]  "
   ]
  },
  {
   "cell_type": "code",
   "execution_count": null,
   "metadata": {},
   "outputs": [],
   "source": [
    "marge = trd_choice.margin(trd_choice.spot)\n",
    "lots = trd_choice.option_lots([2], capital_at_risk)\n",
    "margin = lots[0] * marge\n",
    "display(margin.style.format('${:,.0f}'))"
   ]
  },
  {
   "cell_type": "code",
   "execution_count": null,
   "metadata": {},
   "outputs": [],
   "source": [
    "notional_dlr=[df * trd_choice.strike_grid() * 100 for df in trd_choice.option_lots(leverage, capital_at_risk)]\n",
    "_ = [display(df.style.format('${:,.0f}')) for df in notional_dlr]  "
   ]
  },
  {
   "cell_type": "code",
   "execution_count": null,
   "metadata": {},
   "outputs": [],
   "source": [
    "capital_at_risk"
   ]
  },
  {
   "cell_type": "code",
   "execution_count": null,
   "metadata": {},
   "outputs": [],
   "source": []
  }
 ],
 "metadata": {
  "kernelspec": {
   "display_name": "Python 3",
   "language": "python",
   "name": "python3"
  },
  "language_info": {
   "codemirror_mode": {
    "name": "ipython",
    "version": 3
   },
   "file_extension": ".py",
   "mimetype": "text/x-python",
   "name": "python",
   "nbconvert_exporter": "python",
   "pygments_lexer": "ipython3",
   "version": "3.6.6"
  }
 },
 "nbformat": 4,
 "nbformat_minor": 2
}
