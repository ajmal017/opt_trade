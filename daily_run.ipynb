{
 "cells": [
  {
   "cell_type": "markdown",
   "metadata": {},
   "source": [
    "daily_run estimates strikes, number of contracts for a put selling strategy on S&P 500 based on \"Cost of Capital for Alternatives\" - Data requires either an open session of IB Gateway or TWS from Inter-active brokers"
   ]
  },
  {
   "cell_type": "code",
   "execution_count": 1,
   "metadata": {},
   "outputs": [
    {
     "name": "stdout",
     "output_type": "stream",
     "text": [
      "Warning: RSL2 Using Fixed Dividend yield\n"
     ]
    }
   ],
   "source": [
    "from option_daily_prod import OptionMarket, SpxOptionAsset, RSL2OptionAsset\n",
    "import numpy as np\n",
    "import pandas as pd\n",
    "import nest_asyncio\n",
    "from time import time\n",
    "\n",
    "before = time()\n",
    "nest_asyncio.apply()\n",
    "\n",
    "spx_trades = OptionMarket(SpxOptionAsset())\n",
    "rsl_trades = OptionMarket(RSL2OptionAsset())"
   ]
  },
  {
   "cell_type": "code",
   "execution_count": 5,
   "metadata": {},
   "outputs": [
    {
     "name": "stdout",
     "output_type": "stream",
     "text": [
      "elapsed: 51.9\n",
      "elapsed: 75.0\n",
      "2632.56\n",
      "21.52\n",
      "[AccountValue(account='U2463043', tag='NetLiquidationByCurrency', value='2701789.6823', currency='BASE', modelCode='')]\n"
     ]
    }
   ],
   "source": [
    "z_score = np.array([-1, -1.5, -2])\n",
    "leverage = np.array(range(1, 4, 1))\n",
    "num_expiries = 3\n",
    "illiquid_equity = 500000\n",
    "after = time()\n",
    "spx = True\n",
    "if spx:\n",
    "    trd_choice = spx_trades.form_trade_choice(z_score, num_expiries, 'P')\n",
    "else:\n",
    "    trd_choice = rsl_trades.form_trade_choice(z_score, num_expiries, 'P')\n",
    "    \n",
    "last_price = trd_choice.spot\n",
    "after_2 = time()\n",
    "print('elapsed:', np.round(after - before, 1))\n",
    "print('elapsed:', np.round(after_2 - before, 1))\n",
    "print(last_price)\n",
    "print(trd_choice.sigma)\n",
    "print(trd_choice.account_value)"
   ]
  },
  {
   "cell_type": "code",
   "execution_count": 6,
   "metadata": {},
   "outputs": [
    {
     "data": {
      "text/html": [
       "<style>\n",
       ".output {\n",
       "    flex-direction:row;\n",
       "}\n",
       "</style>"
      ],
      "text/plain": [
       "<IPython.core.display.HTML object>"
      ]
     },
     "execution_count": 6,
     "metadata": {},
     "output_type": "execute_result"
    }
   ],
   "source": [
    "from IPython.display import display, HTML\n",
    "\n",
    "CSS = \"\"\"\n",
    ".output {\n",
    "    flex-direction:row;\n",
    "}\n",
    "\"\"\"\n",
    "HTML('<style>{}</style>'.format(CSS))\n"
   ]
  },
  {
   "cell_type": "code",
   "execution_count": 7,
   "metadata": {},
   "outputs": [
    {
     "data": {
      "text/html": [
       "<div>\n",
       "<style scoped>\n",
       "    .dataframe tbody tr th:only-of-type {\n",
       "        vertical-align: middle;\n",
       "    }\n",
       "\n",
       "    .dataframe tbody tr th {\n",
       "        vertical-align: top;\n",
       "    }\n",
       "\n",
       "    .dataframe thead th {\n",
       "        text-align: right;\n",
       "    }\n",
       "</style>\n",
       "<table border=\"1\" class=\"dataframe\">\n",
       "  <thead>\n",
       "    <tr style=\"text-align: right;\">\n",
       "      <th></th>\n",
       "      <th>-1.0</th>\n",
       "      <th>-1.5</th>\n",
       "      <th>-2.0</th>\n",
       "    </tr>\n",
       "  </thead>\n",
       "  <tbody>\n",
       "    <tr>\n",
       "      <th>2018.12.21</th>\n",
       "      <td>2490</td>\n",
       "      <td>2425</td>\n",
       "      <td>2380</td>\n",
       "    </tr>\n",
       "    <tr>\n",
       "      <th>2019.01.18</th>\n",
       "      <td>2420</td>\n",
       "      <td>2330</td>\n",
       "      <td>2265</td>\n",
       "    </tr>\n",
       "    <tr>\n",
       "      <th>2019.02.15</th>\n",
       "      <td>2355</td>\n",
       "      <td>2235</td>\n",
       "      <td>2150</td>\n",
       "    </tr>\n",
       "  </tbody>\n",
       "</table>\n",
       "</div>"
      ],
      "text/plain": [
       "            -1.0  -1.5  -2.0\n",
       "2018.12.21  2490  2425  2380\n",
       "2019.01.18  2420  2330  2265\n",
       "2019.02.15  2355  2235  2150"
      ]
     },
     "metadata": {},
     "output_type": "execute_result"
    },
    {
     "data": {
      "text/html": [
       "<div>\n",
       "<style scoped>\n",
       "    .dataframe tbody tr th:only-of-type {\n",
       "        vertical-align: middle;\n",
       "    }\n",
       "\n",
       "    .dataframe tbody tr th {\n",
       "        vertical-align: top;\n",
       "    }\n",
       "\n",
       "    .dataframe thead th {\n",
       "        text-align: right;\n",
       "    }\n",
       "</style>\n",
       "<table border=\"1\" class=\"dataframe\">\n",
       "  <thead>\n",
       "    <tr style=\"text-align: right;\">\n",
       "      <th></th>\n",
       "      <th>-1.0</th>\n",
       "      <th>-1.5</th>\n",
       "      <th>-2.0</th>\n",
       "    </tr>\n",
       "  </thead>\n",
       "  <tbody>\n",
       "    <tr>\n",
       "      <th>2018.12.21</th>\n",
       "      <td>12.35</td>\n",
       "      <td>7.00</td>\n",
       "      <td>4.85</td>\n",
       "    </tr>\n",
       "    <tr>\n",
       "      <th>2019.01.18</th>\n",
       "      <td>18.20</td>\n",
       "      <td>10.85</td>\n",
       "      <td>7.55</td>\n",
       "    </tr>\n",
       "    <tr>\n",
       "      <th>2019.02.15</th>\n",
       "      <td>22.85</td>\n",
       "      <td>13.25</td>\n",
       "      <td>9.00</td>\n",
       "    </tr>\n",
       "  </tbody>\n",
       "</table>\n",
       "</div>"
      ],
      "text/plain": [
       "             -1.0   -1.5  -2.0\n",
       "2018.12.21  12.35   7.00  4.85\n",
       "2019.01.18  18.20  10.85  7.55\n",
       "2019.02.15  22.85  13.25  9.00"
      ]
     },
     "metadata": {},
     "output_type": "execute_result"
    },
    {
     "data": {
      "text/html": [
       "<div>\n",
       "<style scoped>\n",
       "    .dataframe tbody tr th:only-of-type {\n",
       "        vertical-align: middle;\n",
       "    }\n",
       "\n",
       "    .dataframe tbody tr th {\n",
       "        vertical-align: top;\n",
       "    }\n",
       "\n",
       "    .dataframe thead th {\n",
       "        text-align: right;\n",
       "    }\n",
       "</style>\n",
       "<table border=\"1\" class=\"dataframe\">\n",
       "  <thead>\n",
       "    <tr style=\"text-align: right;\">\n",
       "      <th></th>\n",
       "      <th>-1.0</th>\n",
       "      <th>-1.5</th>\n",
       "      <th>-2.0</th>\n",
       "    </tr>\n",
       "  </thead>\n",
       "  <tbody>\n",
       "    <tr>\n",
       "      <th>2018.12.21</th>\n",
       "      <td>12.0/12.7</td>\n",
       "      <td>6.7/7.3</td>\n",
       "      <td>4.6/5.1</td>\n",
       "    </tr>\n",
       "    <tr>\n",
       "      <th>2019.01.18</th>\n",
       "      <td>17.8/18.6</td>\n",
       "      <td>10.6/11.1</td>\n",
       "      <td>7.3/7.8</td>\n",
       "    </tr>\n",
       "    <tr>\n",
       "      <th>2019.02.15</th>\n",
       "      <td>22.5/23.2</td>\n",
       "      <td>13.0/13.5</td>\n",
       "      <td>8.8/9.2</td>\n",
       "    </tr>\n",
       "  </tbody>\n",
       "</table>\n",
       "</div>"
      ],
      "text/plain": [
       "                 -1.0       -1.5     -2.0\n",
       "2018.12.21  12.0/12.7    6.7/7.3  4.6/5.1\n",
       "2019.01.18  17.8/18.6  10.6/11.1  7.3/7.8\n",
       "2019.02.15  22.5/23.2  13.0/13.5  8.8/9.2"
      ]
     },
     "metadata": {},
     "output_type": "execute_result"
    }
   ],
   "source": [
    "_=[display(df) for df in [trd_choice.strike_grid(), trd_choice.premium_grid(), trd_choice.prices_grid()]]"
   ]
  },
  {
   "cell_type": "code",
   "execution_count": 8,
   "metadata": {},
   "outputs": [
    {
     "data": {
      "text/html": [
       "<style  type=\"text/css\" >\n",
       "</style>  \n",
       "<table id=\"T_301e139c_f180_11e8_8cae_685b35921c60\" > \n",
       "<thead>    <tr> \n",
       "        <th class=\"blank level0\" ></th> \n",
       "        <th class=\"col_heading level0 col0\" >-1.0</th> \n",
       "        <th class=\"col_heading level0 col1\" >-1.5</th> \n",
       "        <th class=\"col_heading level0 col2\" >-2.0</th> \n",
       "    </tr></thead> \n",
       "<tbody>    <tr> \n",
       "        <th id=\"T_301e139c_f180_11e8_8cae_685b35921c60level0_row0\" class=\"row_heading level0 row0\" >2018.12.21</th> \n",
       "        <td id=\"T_301e139c_f180_11e8_8cae_685b35921c60row0_col0\" class=\"data row0 col0\" >-5.42%</td> \n",
       "        <td id=\"T_301e139c_f180_11e8_8cae_685b35921c60row0_col1\" class=\"data row0 col1\" >-7.88%</td> \n",
       "        <td id=\"T_301e139c_f180_11e8_8cae_685b35921c60row0_col2\" class=\"data row0 col2\" >-9.59%</td> \n",
       "    </tr>    <tr> \n",
       "        <th id=\"T_301e139c_f180_11e8_8cae_685b35921c60level0_row1\" class=\"row_heading level0 row1\" >2019.01.18</th> \n",
       "        <td id=\"T_301e139c_f180_11e8_8cae_685b35921c60row1_col0\" class=\"data row1 col0\" >-8.07%</td> \n",
       "        <td id=\"T_301e139c_f180_11e8_8cae_685b35921c60row1_col1\" class=\"data row1 col1\" >-11.49%</td> \n",
       "        <td id=\"T_301e139c_f180_11e8_8cae_685b35921c60row1_col2\" class=\"data row1 col2\" >-13.96%</td> \n",
       "    </tr>    <tr> \n",
       "        <th id=\"T_301e139c_f180_11e8_8cae_685b35921c60level0_row2\" class=\"row_heading level0 row2\" >2019.02.15</th> \n",
       "        <td id=\"T_301e139c_f180_11e8_8cae_685b35921c60row2_col0\" class=\"data row2 col0\" >-10.54%</td> \n",
       "        <td id=\"T_301e139c_f180_11e8_8cae_685b35921c60row2_col1\" class=\"data row2 col1\" >-15.10%</td> \n",
       "        <td id=\"T_301e139c_f180_11e8_8cae_685b35921c60row2_col2\" class=\"data row2 col2\" >-18.33%</td> \n",
       "    </tr></tbody> \n",
       "</table> "
      ],
      "text/plain": [
       "<pandas.io.formats.style.Styler at 0x118b1b908>"
      ]
     },
     "metadata": {},
     "output_type": "execute_result"
    }
   ],
   "source": [
    "\n",
    "prct_decline = trd_choice.pct_otm_grid(last_price)\n",
    "format_dict = {x: '{:.2%}' for x in prct_decline.to_dict()}\n",
    "display(prct_decline.style.format(format_dict))"
   ]
  },
  {
   "cell_type": "code",
   "execution_count": 9,
   "metadata": {
    "scrolled": false
   },
   "outputs": [
    {
     "data": {
      "text/html": [
       "<style  type=\"text/css\" >\n",
       "</style>  \n",
       "<table id=\"T_31df3954_f180_11e8_8cae_685b35921c60\" > \n",
       "<thead>    <tr> \n",
       "        <th class=\"blank level0\" ></th> \n",
       "        <th class=\"col_heading level0 col0\" >-1.0</th> \n",
       "        <th class=\"col_heading level0 col1\" >-1.5</th> \n",
       "        <th class=\"col_heading level0 col2\" >-2.0</th> \n",
       "    </tr></thead> \n",
       "<tbody>    <tr> \n",
       "        <th id=\"T_31df3954_f180_11e8_8cae_685b35921c60level0_row0\" class=\"row_heading level0 row0\" >2018.12.21</th> \n",
       "        <td id=\"T_31df3954_f180_11e8_8cae_685b35921c60row0_col0\" class=\"data row0 col0\" >$16,055</td> \n",
       "        <td id=\"T_31df3954_f180_11e8_8cae_685b35921c60row0_col1\" class=\"data row0 col1\" >$9,100</td> \n",
       "        <td id=\"T_31df3954_f180_11e8_8cae_685b35921c60row0_col2\" class=\"data row0 col2\" >$6,790</td> \n",
       "    </tr>    <tr> \n",
       "        <th id=\"T_31df3954_f180_11e8_8cae_685b35921c60level0_row1\" class=\"row_heading level0 row1\" >2019.01.18</th> \n",
       "        <td id=\"T_31df3954_f180_11e8_8cae_685b35921c60row1_col0\" class=\"data row1 col0\" >$23,660</td> \n",
       "        <td id=\"T_31df3954_f180_11e8_8cae_685b35921c60row1_col1\" class=\"data row1 col1\" >$15,190</td> \n",
       "        <td id=\"T_31df3954_f180_11e8_8cae_685b35921c60row1_col2\" class=\"data row1 col2\" >$10,570</td> \n",
       "    </tr>    <tr> \n",
       "        <th id=\"T_31df3954_f180_11e8_8cae_685b35921c60level0_row2\" class=\"row_heading level0 row2\" >2019.02.15</th> \n",
       "        <td id=\"T_31df3954_f180_11e8_8cae_685b35921c60row2_col0\" class=\"data row2 col0\" >$31,990</td> \n",
       "        <td id=\"T_31df3954_f180_11e8_8cae_685b35921c60row2_col1\" class=\"data row2 col1\" >$18,550</td> \n",
       "        <td id=\"T_31df3954_f180_11e8_8cae_685b35921c60row2_col2\" class=\"data row2 col2\" >$13,500</td> \n",
       "    </tr></tbody> \n",
       "</table> "
      ],
      "text/plain": [
       "<pandas.io.formats.style.Styler at 0xb1a8ddf98>"
      ]
     },
     "metadata": {},
     "output_type": "execute_result"
    },
    {
     "data": {
      "text/html": [
       "<style  type=\"text/css\" >\n",
       "</style>  \n",
       "<table id=\"T_31df8a12_f180_11e8_8cae_685b35921c60\" > \n",
       "<thead>    <tr> \n",
       "        <th class=\"blank level0\" ></th> \n",
       "        <th class=\"col_heading level0 col0\" >-1.0</th> \n",
       "        <th class=\"col_heading level0 col1\" >-1.5</th> \n",
       "        <th class=\"col_heading level0 col2\" >-2.0</th> \n",
       "    </tr></thead> \n",
       "<tbody>    <tr> \n",
       "        <th id=\"T_31df8a12_f180_11e8_8cae_685b35921c60level0_row0\" class=\"row_heading level0 row0\" >2018.12.21</th> \n",
       "        <td id=\"T_31df8a12_f180_11e8_8cae_685b35921c60row0_col0\" class=\"data row0 col0\" >$32,110</td> \n",
       "        <td id=\"T_31df8a12_f180_11e8_8cae_685b35921c60row0_col1\" class=\"data row0 col1\" >$18,900</td> \n",
       "        <td id=\"T_31df8a12_f180_11e8_8cae_685b35921c60row0_col2\" class=\"data row0 col2\" >$13,095</td> \n",
       "    </tr>    <tr> \n",
       "        <th id=\"T_31df8a12_f180_11e8_8cae_685b35921c60level0_row1\" class=\"row_heading level0 row1\" >2019.01.18</th> \n",
       "        <td id=\"T_31df8a12_f180_11e8_8cae_685b35921c60row1_col0\" class=\"data row1 col0\" >$49,140</td> \n",
       "        <td id=\"T_31df8a12_f180_11e8_8cae_685b35921c60row1_col1\" class=\"data row1 col1\" >$30,380</td> \n",
       "        <td id=\"T_31df8a12_f180_11e8_8cae_685b35921c60row1_col2\" class=\"data row1 col2\" >$21,140</td> \n",
       "    </tr>    <tr> \n",
       "        <th id=\"T_31df8a12_f180_11e8_8cae_685b35921c60level0_row2\" class=\"row_heading level0 row2\" >2019.02.15</th> \n",
       "        <td id=\"T_31df8a12_f180_11e8_8cae_685b35921c60row2_col0\" class=\"data row2 col0\" >$63,980</td> \n",
       "        <td id=\"T_31df8a12_f180_11e8_8cae_685b35921c60row2_col1\" class=\"data row2 col1\" >$38,425</td> \n",
       "        <td id=\"T_31df8a12_f180_11e8_8cae_685b35921c60row2_col2\" class=\"data row2 col2\" >$27,000</td> \n",
       "    </tr></tbody> \n",
       "</table> "
      ],
      "text/plain": [
       "<pandas.io.formats.style.Styler at 0xb1a8dd6d8>"
      ]
     },
     "metadata": {},
     "output_type": "execute_result"
    },
    {
     "data": {
      "text/html": [
       "<style  type=\"text/css\" >\n",
       "</style>  \n",
       "<table id=\"T_31dfd828_f180_11e8_8cae_685b35921c60\" > \n",
       "<thead>    <tr> \n",
       "        <th class=\"blank level0\" ></th> \n",
       "        <th class=\"col_heading level0 col0\" >-1.0</th> \n",
       "        <th class=\"col_heading level0 col1\" >-1.5</th> \n",
       "        <th class=\"col_heading level0 col2\" >-2.0</th> \n",
       "    </tr></thead> \n",
       "<tbody>    <tr> \n",
       "        <th id=\"T_31dfd828_f180_11e8_8cae_685b35921c60level0_row0\" class=\"row_heading level0 row0\" >2018.12.21</th> \n",
       "        <td id=\"T_31dfd828_f180_11e8_8cae_685b35921c60row0_col0\" class=\"data row0 col0\" >$48,165</td> \n",
       "        <td id=\"T_31dfd828_f180_11e8_8cae_685b35921c60row0_col1\" class=\"data row0 col1\" >$28,000</td> \n",
       "        <td id=\"T_31dfd828_f180_11e8_8cae_685b35921c60row0_col2\" class=\"data row0 col2\" >$19,885</td> \n",
       "    </tr>    <tr> \n",
       "        <th id=\"T_31dfd828_f180_11e8_8cae_685b35921c60level0_row1\" class=\"row_heading level0 row1\" >2019.01.18</th> \n",
       "        <td id=\"T_31dfd828_f180_11e8_8cae_685b35921c60row1_col0\" class=\"data row1 col0\" >$72,800</td> \n",
       "        <td id=\"T_31dfd828_f180_11e8_8cae_685b35921c60row1_col1\" class=\"data row1 col1\" >$45,570</td> \n",
       "        <td id=\"T_31dfd828_f180_11e8_8cae_685b35921c60row1_col2\" class=\"data row1 col2\" >$32,465</td> \n",
       "    </tr>    <tr> \n",
       "        <th id=\"T_31dfd828_f180_11e8_8cae_685b35921c60level0_row2\" class=\"row_heading level0 row2\" >2019.02.15</th> \n",
       "        <td id=\"T_31dfd828_f180_11e8_8cae_685b35921c60row2_col0\" class=\"data row2 col0\" >$93,685</td> \n",
       "        <td id=\"T_31dfd828_f180_11e8_8cae_685b35921c60row2_col1\" class=\"data row2 col1\" >$56,975</td> \n",
       "        <td id=\"T_31dfd828_f180_11e8_8cae_685b35921c60row2_col2\" class=\"data row2 col2\" >$40,500</td> \n",
       "    </tr></tbody> \n",
       "</table> "
      ],
      "text/plain": [
       "<pandas.io.formats.style.Styler at 0xb1a8dd2e8>"
      ]
     },
     "metadata": {},
     "output_type": "execute_result"
    }
   ],
   "source": [
    "capital_at_risk = float(trd_choice.account_value[0].value) + illiquid_equity\n",
    "premium_list = []\n",
    "premium_list =  [(trd_choice.premium_grid() * contractTable.round() * 100) \\\n",
    "                 for contractTable in trd_choice.option_lots(leverage, capital_at_risk)]\n",
    "\n",
    "_ = [display(df.style.format('${:,.0f}')) for df in premium_list]  "
   ]
  },
  {
   "cell_type": "code",
   "execution_count": 10,
   "metadata": {},
   "outputs": [
    {
     "data": {
      "text/html": [
       "<style  type=\"text/css\" >\n",
       "</style>  \n",
       "<table id=\"T_32754d0e_f180_11e8_8cae_685b35921c60\" > \n",
       "<thead>    <tr> \n",
       "        <th class=\"blank level0\" ></th> \n",
       "        <th class=\"col_heading level0 col0\" >-1.0</th> \n",
       "        <th class=\"col_heading level0 col1\" >-1.5</th> \n",
       "        <th class=\"col_heading level0 col2\" >-2.0</th> \n",
       "    </tr></thead> \n",
       "<tbody>    <tr> \n",
       "        <th id=\"T_32754d0e_f180_11e8_8cae_685b35921c60level0_row0\" class=\"row_heading level0 row0\" >2018.12.21</th> \n",
       "        <td id=\"T_32754d0e_f180_11e8_8cae_685b35921c60row0_col0\" class=\"data row0 col0\" >0.47%</td> \n",
       "        <td id=\"T_32754d0e_f180_11e8_8cae_685b35921c60row0_col1\" class=\"data row0 col1\" >0.27%</td> \n",
       "        <td id=\"T_32754d0e_f180_11e8_8cae_685b35921c60row0_col2\" class=\"data row0 col2\" >0.18%</td> \n",
       "    </tr>    <tr> \n",
       "        <th id=\"T_32754d0e_f180_11e8_8cae_685b35921c60level0_row1\" class=\"row_heading level0 row1\" >2019.01.18</th> \n",
       "        <td id=\"T_32754d0e_f180_11e8_8cae_685b35921c60row1_col0\" class=\"data row1 col0\" >0.69%</td> \n",
       "        <td id=\"T_32754d0e_f180_11e8_8cae_685b35921c60row1_col1\" class=\"data row1 col1\" >0.41%</td> \n",
       "        <td id=\"T_32754d0e_f180_11e8_8cae_685b35921c60row1_col2\" class=\"data row1 col2\" >0.29%</td> \n",
       "    </tr>    <tr> \n",
       "        <th id=\"T_32754d0e_f180_11e8_8cae_685b35921c60level0_row2\" class=\"row_heading level0 row2\" >2019.02.15</th> \n",
       "        <td id=\"T_32754d0e_f180_11e8_8cae_685b35921c60row2_col0\" class=\"data row2 col0\" >0.87%</td> \n",
       "        <td id=\"T_32754d0e_f180_11e8_8cae_685b35921c60row2_col1\" class=\"data row2 col1\" >0.50%</td> \n",
       "        <td id=\"T_32754d0e_f180_11e8_8cae_685b35921c60row2_col2\" class=\"data row2 col2\" >0.34%</td> \n",
       "    </tr></tbody> \n",
       "</table> "
      ],
      "text/plain": [
       "<pandas.io.formats.style.Styler at 0xb1a8dd7b8>"
      ]
     },
     "metadata": {},
     "output_type": "execute_result"
    },
    {
     "data": {
      "text/html": [
       "<style  type=\"text/css\" >\n",
       "</style>  \n",
       "<table id=\"T_3275c536_f180_11e8_8cae_685b35921c60\" > \n",
       "<thead>    <tr> \n",
       "        <th class=\"blank level0\" ></th> \n",
       "        <th class=\"col_heading level0 col0\" >-1.0</th> \n",
       "        <th class=\"col_heading level0 col1\" >-1.5</th> \n",
       "        <th class=\"col_heading level0 col2\" >-2.0</th> \n",
       "    </tr></thead> \n",
       "<tbody>    <tr> \n",
       "        <th id=\"T_3275c536_f180_11e8_8cae_685b35921c60level0_row0\" class=\"row_heading level0 row0\" >2018.12.21</th> \n",
       "        <td id=\"T_3275c536_f180_11e8_8cae_685b35921c60row0_col0\" class=\"data row0 col0\" >0.94%</td> \n",
       "        <td id=\"T_3275c536_f180_11e8_8cae_685b35921c60row0_col1\" class=\"data row0 col1\" >0.53%</td> \n",
       "        <td id=\"T_3275c536_f180_11e8_8cae_685b35921c60row0_col2\" class=\"data row0 col2\" >0.37%</td> \n",
       "    </tr>    <tr> \n",
       "        <th id=\"T_3275c536_f180_11e8_8cae_685b35921c60level0_row1\" class=\"row_heading level0 row1\" >2019.01.18</th> \n",
       "        <td id=\"T_3275c536_f180_11e8_8cae_685b35921c60row1_col0\" class=\"data row1 col0\" >1.38%</td> \n",
       "        <td id=\"T_3275c536_f180_11e8_8cae_685b35921c60row1_col1\" class=\"data row1 col1\" >0.82%</td> \n",
       "        <td id=\"T_3275c536_f180_11e8_8cae_685b35921c60row1_col2\" class=\"data row1 col2\" >0.57%</td> \n",
       "    </tr>    <tr> \n",
       "        <th id=\"T_3275c536_f180_11e8_8cae_685b35921c60level0_row2\" class=\"row_heading level0 row2\" >2019.02.15</th> \n",
       "        <td id=\"T_3275c536_f180_11e8_8cae_685b35921c60row2_col0\" class=\"data row2 col0\" >1.74%</td> \n",
       "        <td id=\"T_3275c536_f180_11e8_8cae_685b35921c60row2_col1\" class=\"data row2 col1\" >1.01%</td> \n",
       "        <td id=\"T_3275c536_f180_11e8_8cae_685b35921c60row2_col2\" class=\"data row2 col2\" >0.68%</td> \n",
       "    </tr></tbody> \n",
       "</table> "
      ],
      "text/plain": [
       "<pandas.io.formats.style.Styler at 0xb1a8dd908>"
      ]
     },
     "metadata": {},
     "output_type": "execute_result"
    },
    {
     "data": {
      "text/html": [
       "<style  type=\"text/css\" >\n",
       "</style>  \n",
       "<table id=\"T_32763462_f180_11e8_8cae_685b35921c60\" > \n",
       "<thead>    <tr> \n",
       "        <th class=\"blank level0\" ></th> \n",
       "        <th class=\"col_heading level0 col0\" >-1.0</th> \n",
       "        <th class=\"col_heading level0 col1\" >-1.5</th> \n",
       "        <th class=\"col_heading level0 col2\" >-2.0</th> \n",
       "    </tr></thead> \n",
       "<tbody>    <tr> \n",
       "        <th id=\"T_32763462_f180_11e8_8cae_685b35921c60level0_row0\" class=\"row_heading level0 row0\" >2018.12.21</th> \n",
       "        <td id=\"T_32763462_f180_11e8_8cae_685b35921c60row0_col0\" class=\"data row0 col0\" >1.41%</td> \n",
       "        <td id=\"T_32763462_f180_11e8_8cae_685b35921c60row0_col1\" class=\"data row0 col1\" >0.80%</td> \n",
       "        <td id=\"T_32763462_f180_11e8_8cae_685b35921c60row0_col2\" class=\"data row0 col2\" >0.55%</td> \n",
       "    </tr>    <tr> \n",
       "        <th id=\"T_32763462_f180_11e8_8cae_685b35921c60level0_row1\" class=\"row_heading level0 row1\" >2019.01.18</th> \n",
       "        <td id=\"T_32763462_f180_11e8_8cae_685b35921c60row1_col0\" class=\"data row1 col0\" >2.07%</td> \n",
       "        <td id=\"T_32763462_f180_11e8_8cae_685b35921c60row1_col1\" class=\"data row1 col1\" >1.24%</td> \n",
       "        <td id=\"T_32763462_f180_11e8_8cae_685b35921c60row1_col2\" class=\"data row1 col2\" >0.86%</td> \n",
       "    </tr>    <tr> \n",
       "        <th id=\"T_32763462_f180_11e8_8cae_685b35921c60level0_row2\" class=\"row_heading level0 row2\" >2019.02.15</th> \n",
       "        <td id=\"T_32763462_f180_11e8_8cae_685b35921c60row2_col0\" class=\"data row2 col0\" >2.60%</td> \n",
       "        <td id=\"T_32763462_f180_11e8_8cae_685b35921c60row2_col1\" class=\"data row2 col1\" >1.51%</td> \n",
       "        <td id=\"T_32763462_f180_11e8_8cae_685b35921c60row2_col2\" class=\"data row2 col2\" >1.03%</td> \n",
       "    </tr></tbody> \n",
       "</table> "
      ],
      "text/plain": [
       "<pandas.io.formats.style.Styler at 0xb1a8dd198>"
      ]
     },
     "metadata": {},
     "output_type": "execute_result"
    }
   ],
   "source": [
    "premium_list_pct = []\n",
    "premium_list_pct = [(trd_choice.premium_grid() * lev) / last_price for lev in leverage]\n",
    "_ = [display(df.style.format('{:.2%}')) for df in premium_list_pct]  "
   ]
  },
  {
   "cell_type": "code",
   "execution_count": 11,
   "metadata": {},
   "outputs": [
    {
     "data": {
      "text/html": [
       "<style  type=\"text/css\" >\n",
       "</style>  \n",
       "<table id=\"T_32d929d2_f180_11e8_8cae_685b35921c60\" > \n",
       "<thead>    <tr> \n",
       "        <th class=\"blank level0\" ></th> \n",
       "        <th class=\"col_heading level0 col0\" >-1.0</th> \n",
       "        <th class=\"col_heading level0 col1\" >-1.5</th> \n",
       "        <th class=\"col_heading level0 col2\" >-2.0</th> \n",
       "    </tr>    <tr> \n",
       "        <th class=\"index_name level0\" >Lev 1</th> \n",
       "        <th class=\"blank\" ></th> \n",
       "        <th class=\"blank\" ></th> \n",
       "        <th class=\"blank\" ></th> \n",
       "    </tr></thead> \n",
       "<tbody>    <tr> \n",
       "        <th id=\"T_32d929d2_f180_11e8_8cae_685b35921c60level0_row0\" class=\"row_heading level0 row0\" >2018.12.21</th> \n",
       "        <td id=\"T_32d929d2_f180_11e8_8cae_685b35921c60row0_col0\" class=\"data row0 col0\" >13</td> \n",
       "        <td id=\"T_32d929d2_f180_11e8_8cae_685b35921c60row0_col1\" class=\"data row0 col1\" >13</td> \n",
       "        <td id=\"T_32d929d2_f180_11e8_8cae_685b35921c60row0_col2\" class=\"data row0 col2\" >14</td> \n",
       "    </tr>    <tr> \n",
       "        <th id=\"T_32d929d2_f180_11e8_8cae_685b35921c60level0_row1\" class=\"row_heading level0 row1\" >2019.01.18</th> \n",
       "        <td id=\"T_32d929d2_f180_11e8_8cae_685b35921c60row1_col0\" class=\"data row1 col0\" >13</td> \n",
       "        <td id=\"T_32d929d2_f180_11e8_8cae_685b35921c60row1_col1\" class=\"data row1 col1\" >14</td> \n",
       "        <td id=\"T_32d929d2_f180_11e8_8cae_685b35921c60row1_col2\" class=\"data row1 col2\" >14</td> \n",
       "    </tr>    <tr> \n",
       "        <th id=\"T_32d929d2_f180_11e8_8cae_685b35921c60level0_row2\" class=\"row_heading level0 row2\" >2019.02.15</th> \n",
       "        <td id=\"T_32d929d2_f180_11e8_8cae_685b35921c60row2_col0\" class=\"data row2 col0\" >14</td> \n",
       "        <td id=\"T_32d929d2_f180_11e8_8cae_685b35921c60row2_col1\" class=\"data row2 col1\" >14</td> \n",
       "        <td id=\"T_32d929d2_f180_11e8_8cae_685b35921c60row2_col2\" class=\"data row2 col2\" >15</td> \n",
       "    </tr></tbody> \n",
       "</table> "
      ],
      "text/plain": [
       "<pandas.io.formats.style.Styler at 0xb1a510a90>"
      ]
     },
     "metadata": {},
     "output_type": "execute_result"
    },
    {
     "data": {
      "text/html": [
       "<style  type=\"text/css\" >\n",
       "</style>  \n",
       "<table id=\"T_32d9e232_f180_11e8_8cae_685b35921c60\" > \n",
       "<thead>    <tr> \n",
       "        <th class=\"blank level0\" ></th> \n",
       "        <th class=\"col_heading level0 col0\" >-1.0</th> \n",
       "        <th class=\"col_heading level0 col1\" >-1.5</th> \n",
       "        <th class=\"col_heading level0 col2\" >-2.0</th> \n",
       "    </tr>    <tr> \n",
       "        <th class=\"index_name level0\" >Lev 2</th> \n",
       "        <th class=\"blank\" ></th> \n",
       "        <th class=\"blank\" ></th> \n",
       "        <th class=\"blank\" ></th> \n",
       "    </tr></thead> \n",
       "<tbody>    <tr> \n",
       "        <th id=\"T_32d9e232_f180_11e8_8cae_685b35921c60level0_row0\" class=\"row_heading level0 row0\" >2018.12.21</th> \n",
       "        <td id=\"T_32d9e232_f180_11e8_8cae_685b35921c60row0_col0\" class=\"data row0 col0\" >26</td> \n",
       "        <td id=\"T_32d9e232_f180_11e8_8cae_685b35921c60row0_col1\" class=\"data row0 col1\" >27</td> \n",
       "        <td id=\"T_32d9e232_f180_11e8_8cae_685b35921c60row0_col2\" class=\"data row0 col2\" >27</td> \n",
       "    </tr>    <tr> \n",
       "        <th id=\"T_32d9e232_f180_11e8_8cae_685b35921c60level0_row1\" class=\"row_heading level0 row1\" >2019.01.18</th> \n",
       "        <td id=\"T_32d9e232_f180_11e8_8cae_685b35921c60row1_col0\" class=\"data row1 col0\" >27</td> \n",
       "        <td id=\"T_32d9e232_f180_11e8_8cae_685b35921c60row1_col1\" class=\"data row1 col1\" >28</td> \n",
       "        <td id=\"T_32d9e232_f180_11e8_8cae_685b35921c60row1_col2\" class=\"data row1 col2\" >28</td> \n",
       "    </tr>    <tr> \n",
       "        <th id=\"T_32d9e232_f180_11e8_8cae_685b35921c60level0_row2\" class=\"row_heading level0 row2\" >2019.02.15</th> \n",
       "        <td id=\"T_32d9e232_f180_11e8_8cae_685b35921c60row2_col0\" class=\"data row2 col0\" >28</td> \n",
       "        <td id=\"T_32d9e232_f180_11e8_8cae_685b35921c60row2_col1\" class=\"data row2 col1\" >29</td> \n",
       "        <td id=\"T_32d9e232_f180_11e8_8cae_685b35921c60row2_col2\" class=\"data row2 col2\" >30</td> \n",
       "    </tr></tbody> \n",
       "</table> "
      ],
      "text/plain": [
       "<pandas.io.formats.style.Styler at 0xb1a8ce5f8>"
      ]
     },
     "metadata": {},
     "output_type": "execute_result"
    },
    {
     "data": {
      "text/html": [
       "<style  type=\"text/css\" >\n",
       "</style>  \n",
       "<table id=\"T_32da8a48_f180_11e8_8cae_685b35921c60\" > \n",
       "<thead>    <tr> \n",
       "        <th class=\"blank level0\" ></th> \n",
       "        <th class=\"col_heading level0 col0\" >-1.0</th> \n",
       "        <th class=\"col_heading level0 col1\" >-1.5</th> \n",
       "        <th class=\"col_heading level0 col2\" >-2.0</th> \n",
       "    </tr>    <tr> \n",
       "        <th class=\"index_name level0\" >Lev 3</th> \n",
       "        <th class=\"blank\" ></th> \n",
       "        <th class=\"blank\" ></th> \n",
       "        <th class=\"blank\" ></th> \n",
       "    </tr></thead> \n",
       "<tbody>    <tr> \n",
       "        <th id=\"T_32da8a48_f180_11e8_8cae_685b35921c60level0_row0\" class=\"row_heading level0 row0\" >2018.12.21</th> \n",
       "        <td id=\"T_32da8a48_f180_11e8_8cae_685b35921c60row0_col0\" class=\"data row0 col0\" >39</td> \n",
       "        <td id=\"T_32da8a48_f180_11e8_8cae_685b35921c60row0_col1\" class=\"data row0 col1\" >40</td> \n",
       "        <td id=\"T_32da8a48_f180_11e8_8cae_685b35921c60row0_col2\" class=\"data row0 col2\" >41</td> \n",
       "    </tr>    <tr> \n",
       "        <th id=\"T_32da8a48_f180_11e8_8cae_685b35921c60level0_row1\" class=\"row_heading level0 row1\" >2019.01.18</th> \n",
       "        <td id=\"T_32da8a48_f180_11e8_8cae_685b35921c60row1_col0\" class=\"data row1 col0\" >40</td> \n",
       "        <td id=\"T_32da8a48_f180_11e8_8cae_685b35921c60row1_col1\" class=\"data row1 col1\" >42</td> \n",
       "        <td id=\"T_32da8a48_f180_11e8_8cae_685b35921c60row1_col2\" class=\"data row1 col2\" >43</td> \n",
       "    </tr>    <tr> \n",
       "        <th id=\"T_32da8a48_f180_11e8_8cae_685b35921c60level0_row2\" class=\"row_heading level0 row2\" >2019.02.15</th> \n",
       "        <td id=\"T_32da8a48_f180_11e8_8cae_685b35921c60row2_col0\" class=\"data row2 col0\" >41</td> \n",
       "        <td id=\"T_32da8a48_f180_11e8_8cae_685b35921c60row2_col1\" class=\"data row2 col1\" >43</td> \n",
       "        <td id=\"T_32da8a48_f180_11e8_8cae_685b35921c60row2_col2\" class=\"data row2 col2\" >45</td> \n",
       "    </tr></tbody> \n",
       "</table> "
      ],
      "text/plain": [
       "<pandas.io.formats.style.Styler at 0xb1a8cecc0>"
      ]
     },
     "metadata": {},
     "output_type": "execute_result"
    }
   ],
   "source": [
    "\n",
    "_ = [display(contractTable.round().style.format('{:.0f}')) for \\\n",
    "     contractTable in trd_choice.option_lots(leverage, capital_at_risk)]\n",
    "    "
   ]
  },
  {
   "cell_type": "code",
   "execution_count": 12,
   "metadata": {},
   "outputs": [
    {
     "data": {
      "text/html": [
       "<style  type=\"text/css\" >\n",
       "</style>  \n",
       "<table id=\"T_3331ed06_f180_11e8_8cae_685b35921c60\" > \n",
       "<thead>    <tr> \n",
       "        <th class=\"blank level0\" ></th> \n",
       "        <th class=\"col_heading level0 col0\" >-1.0</th> \n",
       "        <th class=\"col_heading level0 col1\" >-1.5</th> \n",
       "        <th class=\"col_heading level0 col2\" >-2.0</th> \n",
       "    </tr></thead> \n",
       "<tbody>    <tr> \n",
       "        <th id=\"T_3331ed06_f180_11e8_8cae_685b35921c60level0_row0\" class=\"row_heading level0 row0\" >2018.12.21</th> \n",
       "        <td id=\"T_3331ed06_f180_11e8_8cae_685b35921c60row0_col0\" class=\"data row0 col0\" >$515,193</td> \n",
       "        <td id=\"T_3331ed06_f180_11e8_8cae_685b35921c60row0_col1\" class=\"data row0 col1\" >$423,738</td> \n",
       "        <td id=\"T_3331ed06_f180_11e8_8cae_685b35921c60row0_col2\" class=\"data row0 col2\" >$390,323</td> \n",
       "    </tr>    <tr> \n",
       "        <th id=\"T_3331ed06_f180_11e8_8cae_685b35921c60level0_row1\" class=\"row_heading level0 row1\" >2019.01.18</th> \n",
       "        <td id=\"T_3331ed06_f180_11e8_8cae_685b35921c60row1_col0\" class=\"data row1 col0\" >$431,798</td> \n",
       "        <td id=\"T_3331ed06_f180_11e8_8cae_685b35921c60row1_col1\" class=\"data row1 col1\" >$341,390</td> \n",
       "        <td id=\"T_3331ed06_f180_11e8_8cae_685b35921c60row1_col2\" class=\"data row1 col2\" >$327,670</td> \n",
       "    </tr>    <tr> \n",
       "        <th id=\"T_3331ed06_f180_11e8_8cae_685b35921c60level0_row2\" class=\"row_heading level0 row2\" >2019.02.15</th> \n",
       "        <td id=\"T_3331ed06_f180_11e8_8cae_685b35921c60row2_col0\" class=\"data row2 col0\" >$380,523</td> \n",
       "        <td id=\"T_3331ed06_f180_11e8_8cae_685b35921c60row2_col1\" class=\"data row2 col1\" >$331,450</td> \n",
       "        <td id=\"T_3331ed06_f180_11e8_8cae_685b35921c60row2_col2\" class=\"data row2 col2\" >$336,000</td> \n",
       "    </tr></tbody> \n",
       "</table> "
      ],
      "text/plain": [
       "<pandas.io.formats.style.Styler at 0xb1a8ce3c8>"
      ]
     },
     "metadata": {},
     "output_type": "execute_result"
    },
    {
     "data": {
      "text/html": [
       "<style  type=\"text/css\" >\n",
       "</style>  \n",
       "<table id=\"T_33324b02_f180_11e8_8cae_685b35921c60\" > \n",
       "<thead>    <tr> \n",
       "        <th class=\"blank level0\" ></th> \n",
       "        <th class=\"col_heading level0 col0\" >-1.0</th> \n",
       "        <th class=\"col_heading level0 col1\" >-1.5</th> \n",
       "        <th class=\"col_heading level0 col2\" >-2.0</th> \n",
       "    </tr></thead> \n",
       "<tbody>    <tr> \n",
       "        <th id=\"T_33324b02_f180_11e8_8cae_685b35921c60level0_row0\" class=\"row_heading level0 row0\" >2018.12.21</th> \n",
       "        <td id=\"T_33324b02_f180_11e8_8cae_685b35921c60row0_col0\" class=\"data row0 col0\" >$1,030,385</td> \n",
       "        <td id=\"T_33324b02_f180_11e8_8cae_685b35921c60row0_col1\" class=\"data row0 col1\" >$880,070</td> \n",
       "        <td id=\"T_33324b02_f180_11e8_8cae_685b35921c60row0_col2\" class=\"data row0 col2\" >$752,765</td> \n",
       "    </tr>    <tr> \n",
       "        <th id=\"T_33324b02_f180_11e8_8cae_685b35921c60level0_row1\" class=\"row_heading level0 row1\" >2019.01.18</th> \n",
       "        <td id=\"T_33324b02_f180_11e8_8cae_685b35921c60row1_col0\" class=\"data row1 col0\" >$896,810</td> \n",
       "        <td id=\"T_33324b02_f180_11e8_8cae_685b35921c60row1_col1\" class=\"data row1 col1\" >$682,780</td> \n",
       "        <td id=\"T_33324b02_f180_11e8_8cae_685b35921c60row1_col2\" class=\"data row1 col2\" >$655,340</td> \n",
       "    </tr>    <tr> \n",
       "        <th id=\"T_33324b02_f180_11e8_8cae_685b35921c60level0_row2\" class=\"row_heading level0 row2\" >2019.02.15</th> \n",
       "        <td id=\"T_33324b02_f180_11e8_8cae_685b35921c60row2_col0\" class=\"data row2 col0\" >$761,046</td> \n",
       "        <td id=\"T_33324b02_f180_11e8_8cae_685b35921c60row2_col1\" class=\"data row2 col1\" >$686,575</td> \n",
       "        <td id=\"T_33324b02_f180_11e8_8cae_685b35921c60row2_col2\" class=\"data row2 col2\" >$672,000</td> \n",
       "    </tr></tbody> \n",
       "</table> "
      ],
      "text/plain": [
       "<pandas.io.formats.style.Styler at 0xb1a8cee80>"
      ]
     },
     "metadata": {},
     "output_type": "execute_result"
    },
    {
     "data": {
      "text/html": [
       "<style  type=\"text/css\" >\n",
       "</style>  \n",
       "<table id=\"T_3332b574_f180_11e8_8cae_685b35921c60\" > \n",
       "<thead>    <tr> \n",
       "        <th class=\"blank level0\" ></th> \n",
       "        <th class=\"col_heading level0 col0\" >-1.0</th> \n",
       "        <th class=\"col_heading level0 col1\" >-1.5</th> \n",
       "        <th class=\"col_heading level0 col2\" >-2.0</th> \n",
       "    </tr></thead> \n",
       "<tbody>    <tr> \n",
       "        <th id=\"T_3332b574_f180_11e8_8cae_685b35921c60level0_row0\" class=\"row_heading level0 row0\" >2018.12.21</th> \n",
       "        <td id=\"T_3332b574_f180_11e8_8cae_685b35921c60row0_col0\" class=\"data row0 col0\" >$1,545,578</td> \n",
       "        <td id=\"T_3332b574_f180_11e8_8cae_685b35921c60row0_col1\" class=\"data row0 col1\" >$1,303,808</td> \n",
       "        <td id=\"T_3332b574_f180_11e8_8cae_685b35921c60row0_col2\" class=\"data row0 col2\" >$1,143,088</td> \n",
       "    </tr>    <tr> \n",
       "        <th id=\"T_3332b574_f180_11e8_8cae_685b35921c60level0_row1\" class=\"row_heading level0 row1\" >2019.01.18</th> \n",
       "        <td id=\"T_3332b574_f180_11e8_8cae_685b35921c60row1_col0\" class=\"data row1 col0\" >$1,328,608</td> \n",
       "        <td id=\"T_3332b574_f180_11e8_8cae_685b35921c60row1_col1\" class=\"data row1 col1\" >$1,024,170</td> \n",
       "        <td id=\"T_3332b574_f180_11e8_8cae_685b35921c60row1_col2\" class=\"data row1 col2\" >$1,006,415</td> \n",
       "    </tr>    <tr> \n",
       "        <th id=\"T_3332b574_f180_11e8_8cae_685b35921c60level0_row2\" class=\"row_heading level0 row2\" >2019.02.15</th> \n",
       "        <td id=\"T_3332b574_f180_11e8_8cae_685b35921c60row2_col0\" class=\"data row2 col0\" >$1,114,388</td> \n",
       "        <td id=\"T_3332b574_f180_11e8_8cae_685b35921c60row2_col1\" class=\"data row2 col1\" >$1,018,025</td> \n",
       "        <td id=\"T_3332b574_f180_11e8_8cae_685b35921c60row2_col2\" class=\"data row2 col2\" >$1,008,000</td> \n",
       "    </tr></tbody> \n",
       "</table> "
      ],
      "text/plain": [
       "<pandas.io.formats.style.Styler at 0xb1a8ce240>"
      ]
     },
     "metadata": {},
     "output_type": "execute_result"
    }
   ],
   "source": [
    "margin_dlr = [trd_choice.margin(last_price) * df for df in trd_choice.option_lots(leverage, capital_at_risk)]\n",
    "_ = [display(df.style.format('${:,.0f}')) for df in margin_dlr]  "
   ]
  },
  {
   "cell_type": "code",
   "execution_count": 13,
   "metadata": {},
   "outputs": [
    {
     "data": {
      "text/html": [
       "<style  type=\"text/css\" >\n",
       "</style>  \n",
       "<table id=\"T_33854a32_f180_11e8_8cae_685b35921c60\" > \n",
       "<thead>    <tr> \n",
       "        <th class=\"blank level0\" ></th> \n",
       "        <th class=\"col_heading level0 col0\" >-1.0</th> \n",
       "        <th class=\"col_heading level0 col1\" >-1.5</th> \n",
       "        <th class=\"col_heading level0 col2\" >-2.0</th> \n",
       "    </tr></thead> \n",
       "<tbody>    <tr> \n",
       "        <th id=\"T_33854a32_f180_11e8_8cae_685b35921c60level0_row0\" class=\"row_heading level0 row0\" >2018.12.21</th> \n",
       "        <td id=\"T_33854a32_f180_11e8_8cae_685b35921c60row0_col0\" class=\"data row0 col0\" >$154,235</td> \n",
       "        <td id=\"T_33854a32_f180_11e8_8cae_685b35921c60row0_col1\" class=\"data row0 col1\" >$147,200</td> \n",
       "        <td id=\"T_33854a32_f180_11e8_8cae_685b35921c60row0_col2\" class=\"data row0 col2\" >$142,485</td> \n",
       "    </tr>    <tr> \n",
       "        <th id=\"T_33854a32_f180_11e8_8cae_685b35921c60level0_row1\" class=\"row_heading level0 row1\" >2019.01.18</th> \n",
       "        <td id=\"T_33854a32_f180_11e8_8cae_685b35921c60row1_col0\" class=\"data row1 col0\" >$147,820</td> \n",
       "        <td id=\"T_33854a32_f180_11e8_8cae_685b35921c60row1_col1\" class=\"data row1 col1\" >$138,085</td> \n",
       "        <td id=\"T_33854a32_f180_11e8_8cae_685b35921c60row1_col2\" class=\"data row1 col2\" >$131,255</td> \n",
       "    </tr>    <tr> \n",
       "        <th id=\"T_33854a32_f180_11e8_8cae_685b35921c60level0_row2\" class=\"row_heading level0 row2\" >2019.02.15</th> \n",
       "        <td id=\"T_33854a32_f180_11e8_8cae_685b35921c60row2_col0\" class=\"data row2 col0\" >$141,785</td> \n",
       "        <td id=\"T_33854a32_f180_11e8_8cae_685b35921c60row2_col1\" class=\"data row2 col1\" >$128,825</td> \n",
       "        <td id=\"T_33854a32_f180_11e8_8cae_685b35921c60row2_col2\" class=\"data row2 col2\" >$119,900</td> \n",
       "    </tr></tbody> \n",
       "</table> "
      ],
      "text/plain": [
       "<pandas.io.formats.style.Styler at 0xb1a8d2438>"
      ]
     },
     "metadata": {},
     "output_type": "execute_result"
    }
   ],
   "source": [
    "marge = trd_choice.margin(1200)\n",
    "display(marge.style.format('${:,.0f}'))"
   ]
  },
  {
   "cell_type": "code",
   "execution_count": 14,
   "metadata": {},
   "outputs": [
    {
     "data": {
      "text/html": [
       "<style  type=\"text/css\" >\n",
       "</style>  \n",
       "<table id=\"T_33d216fa_f180_11e8_8cae_685b35921c60\" > \n",
       "<thead>    <tr> \n",
       "        <th class=\"blank level0\" ></th> \n",
       "        <th class=\"col_heading level0 col0\" >-1.0</th> \n",
       "        <th class=\"col_heading level0 col1\" >-1.5</th> \n",
       "        <th class=\"col_heading level0 col2\" >-2.0</th> \n",
       "    </tr>    <tr> \n",
       "        <th class=\"index_name level0\" >Lev 1</th> \n",
       "        <th class=\"blank\" ></th> \n",
       "        <th class=\"blank\" ></th> \n",
       "        <th class=\"blank\" ></th> \n",
       "    </tr></thead> \n",
       "<tbody>    <tr> \n",
       "        <th id=\"T_33d216fa_f180_11e8_8cae_685b35921c60level0_row0\" class=\"row_heading level0 row0\" >2018.12.21</th> \n",
       "        <td id=\"T_33d216fa_f180_11e8_8cae_685b35921c60row0_col0\" class=\"data row0 col0\" >$3,237,000</td> \n",
       "        <td id=\"T_33d216fa_f180_11e8_8cae_685b35921c60row0_col1\" class=\"data row0 col1\" >$3,152,500</td> \n",
       "        <td id=\"T_33d216fa_f180_11e8_8cae_685b35921c60row0_col2\" class=\"data row0 col2\" >$3,332,000</td> \n",
       "    </tr>    <tr> \n",
       "        <th id=\"T_33d216fa_f180_11e8_8cae_685b35921c60level0_row1\" class=\"row_heading level0 row1\" >2019.01.18</th> \n",
       "        <td id=\"T_33d216fa_f180_11e8_8cae_685b35921c60row1_col0\" class=\"data row1 col0\" >$3,146,000</td> \n",
       "        <td id=\"T_33d216fa_f180_11e8_8cae_685b35921c60row1_col1\" class=\"data row1 col1\" >$3,262,000</td> \n",
       "        <td id=\"T_33d216fa_f180_11e8_8cae_685b35921c60row1_col2\" class=\"data row1 col2\" >$3,171,000</td> \n",
       "    </tr>    <tr> \n",
       "        <th id=\"T_33d216fa_f180_11e8_8cae_685b35921c60level0_row2\" class=\"row_heading level0 row2\" >2019.02.15</th> \n",
       "        <td id=\"T_33d216fa_f180_11e8_8cae_685b35921c60row2_col0\" class=\"data row2 col0\" >$3,297,000</td> \n",
       "        <td id=\"T_33d216fa_f180_11e8_8cae_685b35921c60row2_col1\" class=\"data row2 col1\" >$3,129,000</td> \n",
       "        <td id=\"T_33d216fa_f180_11e8_8cae_685b35921c60row2_col2\" class=\"data row2 col2\" >$3,225,000</td> \n",
       "    </tr></tbody> \n",
       "</table> "
      ],
      "text/plain": [
       "<pandas.io.formats.style.Styler at 0xb1a8cee10>"
      ]
     },
     "metadata": {},
     "output_type": "execute_result"
    },
    {
     "data": {
      "text/html": [
       "<style  type=\"text/css\" >\n",
       "</style>  \n",
       "<table id=\"T_33d28aae_f180_11e8_8cae_685b35921c60\" > \n",
       "<thead>    <tr> \n",
       "        <th class=\"blank level0\" ></th> \n",
       "        <th class=\"col_heading level0 col0\" >-1.0</th> \n",
       "        <th class=\"col_heading level0 col1\" >-1.5</th> \n",
       "        <th class=\"col_heading level0 col2\" >-2.0</th> \n",
       "    </tr>    <tr> \n",
       "        <th class=\"index_name level0\" >Lev 2</th> \n",
       "        <th class=\"blank\" ></th> \n",
       "        <th class=\"blank\" ></th> \n",
       "        <th class=\"blank\" ></th> \n",
       "    </tr></thead> \n",
       "<tbody>    <tr> \n",
       "        <th id=\"T_33d28aae_f180_11e8_8cae_685b35921c60level0_row0\" class=\"row_heading level0 row0\" >2018.12.21</th> \n",
       "        <td id=\"T_33d28aae_f180_11e8_8cae_685b35921c60row0_col0\" class=\"data row0 col0\" >$6,474,000</td> \n",
       "        <td id=\"T_33d28aae_f180_11e8_8cae_685b35921c60row0_col1\" class=\"data row0 col1\" >$6,547,500</td> \n",
       "        <td id=\"T_33d28aae_f180_11e8_8cae_685b35921c60row0_col2\" class=\"data row0 col2\" >$6,426,000</td> \n",
       "    </tr>    <tr> \n",
       "        <th id=\"T_33d28aae_f180_11e8_8cae_685b35921c60level0_row1\" class=\"row_heading level0 row1\" >2019.01.18</th> \n",
       "        <td id=\"T_33d28aae_f180_11e8_8cae_685b35921c60row1_col0\" class=\"data row1 col0\" >$6,534,000</td> \n",
       "        <td id=\"T_33d28aae_f180_11e8_8cae_685b35921c60row1_col1\" class=\"data row1 col1\" >$6,524,000</td> \n",
       "        <td id=\"T_33d28aae_f180_11e8_8cae_685b35921c60row1_col2\" class=\"data row1 col2\" >$6,342,000</td> \n",
       "    </tr>    <tr> \n",
       "        <th id=\"T_33d28aae_f180_11e8_8cae_685b35921c60level0_row2\" class=\"row_heading level0 row2\" >2019.02.15</th> \n",
       "        <td id=\"T_33d28aae_f180_11e8_8cae_685b35921c60row2_col0\" class=\"data row2 col0\" >$6,594,000</td> \n",
       "        <td id=\"T_33d28aae_f180_11e8_8cae_685b35921c60row2_col1\" class=\"data row2 col1\" >$6,481,500</td> \n",
       "        <td id=\"T_33d28aae_f180_11e8_8cae_685b35921c60row2_col2\" class=\"data row2 col2\" >$6,450,000</td> \n",
       "    </tr></tbody> \n",
       "</table> "
      ],
      "text/plain": [
       "<pandas.io.formats.style.Styler at 0xb1a8ce0f0>"
      ]
     },
     "metadata": {},
     "output_type": "execute_result"
    },
    {
     "data": {
      "text/html": [
       "<style  type=\"text/css\" >\n",
       "</style>  \n",
       "<table id=\"T_33d2f566_f180_11e8_8cae_685b35921c60\" > \n",
       "<thead>    <tr> \n",
       "        <th class=\"blank level0\" ></th> \n",
       "        <th class=\"col_heading level0 col0\" >-1.0</th> \n",
       "        <th class=\"col_heading level0 col1\" >-1.5</th> \n",
       "        <th class=\"col_heading level0 col2\" >-2.0</th> \n",
       "    </tr>    <tr> \n",
       "        <th class=\"index_name level0\" >Lev 3</th> \n",
       "        <th class=\"blank\" ></th> \n",
       "        <th class=\"blank\" ></th> \n",
       "        <th class=\"blank\" ></th> \n",
       "    </tr></thead> \n",
       "<tbody>    <tr> \n",
       "        <th id=\"T_33d2f566_f180_11e8_8cae_685b35921c60level0_row0\" class=\"row_heading level0 row0\" >2018.12.21</th> \n",
       "        <td id=\"T_33d2f566_f180_11e8_8cae_685b35921c60row0_col0\" class=\"data row0 col0\" >$9,711,000</td> \n",
       "        <td id=\"T_33d2f566_f180_11e8_8cae_685b35921c60row0_col1\" class=\"data row0 col1\" >$9,700,000</td> \n",
       "        <td id=\"T_33d2f566_f180_11e8_8cae_685b35921c60row0_col2\" class=\"data row0 col2\" >$9,758,000</td> \n",
       "    </tr>    <tr> \n",
       "        <th id=\"T_33d2f566_f180_11e8_8cae_685b35921c60level0_row1\" class=\"row_heading level0 row1\" >2019.01.18</th> \n",
       "        <td id=\"T_33d2f566_f180_11e8_8cae_685b35921c60row1_col0\" class=\"data row1 col0\" >$9,680,000</td> \n",
       "        <td id=\"T_33d2f566_f180_11e8_8cae_685b35921c60row1_col1\" class=\"data row1 col1\" >$9,786,000</td> \n",
       "        <td id=\"T_33d2f566_f180_11e8_8cae_685b35921c60row1_col2\" class=\"data row1 col2\" >$9,739,500</td> \n",
       "    </tr>    <tr> \n",
       "        <th id=\"T_33d2f566_f180_11e8_8cae_685b35921c60level0_row2\" class=\"row_heading level0 row2\" >2019.02.15</th> \n",
       "        <td id=\"T_33d2f566_f180_11e8_8cae_685b35921c60row2_col0\" class=\"data row2 col0\" >$9,655,500</td> \n",
       "        <td id=\"T_33d2f566_f180_11e8_8cae_685b35921c60row2_col1\" class=\"data row2 col1\" >$9,610,500</td> \n",
       "        <td id=\"T_33d2f566_f180_11e8_8cae_685b35921c60row2_col2\" class=\"data row2 col2\" >$9,675,000</td> \n",
       "    </tr></tbody> \n",
       "</table> "
      ],
      "text/plain": [
       "<pandas.io.formats.style.Styler at 0xb1a8cecc0>"
      ]
     },
     "metadata": {},
     "output_type": "execute_result"
    }
   ],
   "source": [
    "notional_dlr=[df * trd_choice.strike_grid() * 100 for df in trd_choice.option_lots(leverage, capital_at_risk)]\n",
    "_ = [display(df.style.format('${:,.0f}')) for df in notional_dlr]  "
   ]
  }
 ],
 "metadata": {
  "kernelspec": {
   "display_name": "Python 3",
   "language": "python",
   "name": "python3"
  },
  "language_info": {
   "codemirror_mode": {
    "name": "ipython",
    "version": 3
   },
   "file_extension": ".py",
   "mimetype": "text/x-python",
   "name": "python",
   "nbconvert_exporter": "python",
   "pygments_lexer": "ipython3",
   "version": "3.7.0"
  }
 },
 "nbformat": 4,
 "nbformat_minor": 2
}
