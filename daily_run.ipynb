{
 "cells": [
  {
   "cell_type": "markdown",
   "metadata": {},
   "source": [
    "daily_run estimates strikes and number of contracts for a put selling strategy on equity indices such as S&P 500. \n",
    "\n",
    "Algorithm is drawn from  JUREK, J. W. and STAFFORD, E. (2015), The Cost of Capital for Alternative Investments. The Journal of Finance, 70: 2185-2226. doi:10.1111/jofi.12269- \n",
    "\n",
    "Requires an open session of either IB Gateway or TWS from Interactive Brokers"
   ]
  },
  {
   "cell_type": "code",
   "execution_count": 1,
   "metadata": {},
   "outputs": [
    {
     "data": {
      "text/plain": [
       "531500.0"
      ]
     },
     "execution_count": 1,
     "metadata": {},
     "output_type": "execute_result"
    }
   ],
   "source": [
    "from option_daily_prod import OptionMarket, SpxOptionAsset, RSL2OptionAsset\n",
    "from spx_data_update import UpdateSP500Data\n",
    "import numpy as np\n",
    "import pandas as pd\n",
    "import nest_asyncio\n",
    "from time import time\n",
    "import plistlib\n",
    "file_name = UpdateSP500Data.DATA_BASE_PATH / 'config.plist'\n",
    "f = open(str(file_name), 'rb')\n",
    "pl = plistlib.load(f)\n",
    "illiquid_dict = pl['illiquid_equity']\n",
    "illiquid_equity = sum(illiquid_dict.values()) * 0.5\n",
    "illiquid_equity"
   ]
  },
  {
   "cell_type": "code",
   "execution_count": 2,
   "metadata": {},
   "outputs": [
    {
     "name": "stdout",
     "output_type": "stream",
     "text": [
      "Warning: RSL2 Using Fixed Dividend yield\n"
     ]
    }
   ],
   "source": [
    "before = time()\n",
    "nest_asyncio.apply()\n",
    "\n",
    "spx_trades = OptionMarket(SpxOptionAsset())\n",
    "rsl_trades = OptionMarket(RSL2OptionAsset())"
   ]
  },
  {
   "cell_type": "code",
   "execution_count": 12,
   "metadata": {},
   "outputs": [
    {
     "name": "stdout",
     "output_type": "stream",
     "text": [
      "elapsed: 268.8\n",
      "elapsed: 280.8\n",
      "2733.14\n",
      "19.31\n",
      "[AccountValue(account='U2463043', tag='NetLiquidationByCurrency', value='2768922.6227', currency='BASE', modelCode='')]\n"
     ]
    }
   ],
   "source": [
    "z_score = np.array([-0.5, -1, -1.5])\n",
    "leverage = np.array(range(1, 3, 1))\n",
    "num_expiries = 3\n",
    "\n",
    "after = time()\n",
    "spx = True\n",
    "if spx:\n",
    "    trd_choice = spx_trades.form_trade_choice(z_score, num_expiries, 'P')\n",
    "else:\n",
    "    trd_choice = rsl_trades.form_trade_choice(z_score, num_expiries, 'P')\n",
    "    \n",
    "last_price = trd_choice.spot\n",
    "after_2 = time()\n",
    "print('elapsed:', np.round(after - before, 1))\n",
    "print('elapsed:', np.round(after_2 - before, 1))\n",
    "print(last_price)\n",
    "print(trd_choice.sigma)\n",
    "print(trd_choice.account_value)"
   ]
  },
  {
   "cell_type": "code",
   "execution_count": 13,
   "metadata": {},
   "outputs": [
    {
     "data": {
      "text/html": [
       "<style>\n",
       ".output {\n",
       "    flex-direction:row;\n",
       "}\n",
       "</style>"
      ],
      "text/plain": [
       "<IPython.core.display.HTML object>"
      ]
     },
     "execution_count": 13,
     "metadata": {},
     "output_type": "execute_result"
    }
   ],
   "source": [
    "from IPython.display import display, HTML\n",
    "\n",
    "CSS = \"\"\"\n",
    ".output {\n",
    "    flex-direction:row;\n",
    "}\n",
    "\"\"\"\n",
    "HTML('<style>{}</style>'.format(CSS))\n"
   ]
  },
  {
   "cell_type": "code",
   "execution_count": 14,
   "metadata": {},
   "outputs": [
    {
     "data": {
      "text/html": [
       "<div>\n",
       "<style scoped>\n",
       "    .dataframe tbody tr th:only-of-type {\n",
       "        vertical-align: middle;\n",
       "    }\n",
       "\n",
       "    .dataframe tbody tr th {\n",
       "        vertical-align: top;\n",
       "    }\n",
       "\n",
       "    .dataframe thead th {\n",
       "        text-align: right;\n",
       "    }\n",
       "</style>\n",
       "<table border=\"1\" class=\"dataframe\">\n",
       "  <thead>\n",
       "    <tr style=\"text-align: right;\">\n",
       "      <th></th>\n",
       "      <th>-0.5</th>\n",
       "      <th>-1.0</th>\n",
       "      <th>-1.5</th>\n",
       "    </tr>\n",
       "  </thead>\n",
       "  <tbody>\n",
       "    <tr>\n",
       "      <th>2018.12.21</th>\n",
       "      <td>2675</td>\n",
       "      <td>2640</td>\n",
       "      <td>2620</td>\n",
       "    </tr>\n",
       "    <tr>\n",
       "      <th>2019.01.18</th>\n",
       "      <td>2620</td>\n",
       "      <td>2555</td>\n",
       "      <td>2505</td>\n",
       "    </tr>\n",
       "    <tr>\n",
       "      <th>2019.02.15</th>\n",
       "      <td>2565</td>\n",
       "      <td>2470</td>\n",
       "      <td>2400</td>\n",
       "    </tr>\n",
       "  </tbody>\n",
       "</table>\n",
       "</div>"
      ],
      "text/plain": [
       "            -0.5  -1.0  -1.5\n",
       "2018.12.21  2675  2640  2620\n",
       "2019.01.18  2620  2555  2505\n",
       "2019.02.15  2565  2470  2400"
      ]
     },
     "metadata": {},
     "output_type": "display_data"
    },
    {
     "data": {
      "text/html": [
       "<div>\n",
       "<style scoped>\n",
       "    .dataframe tbody tr th:only-of-type {\n",
       "        vertical-align: middle;\n",
       "    }\n",
       "\n",
       "    .dataframe tbody tr th {\n",
       "        vertical-align: top;\n",
       "    }\n",
       "\n",
       "    .dataframe thead th {\n",
       "        text-align: right;\n",
       "    }\n",
       "</style>\n",
       "<table border=\"1\" class=\"dataframe\">\n",
       "  <thead>\n",
       "    <tr style=\"text-align: right;\">\n",
       "      <th></th>\n",
       "      <th>-0.5</th>\n",
       "      <th>-1.0</th>\n",
       "      <th>-1.5</th>\n",
       "    </tr>\n",
       "  </thead>\n",
       "  <tbody>\n",
       "    <tr>\n",
       "      <th>2018.12.21</th>\n",
       "      <td>23.75</td>\n",
       "      <td>16.80</td>\n",
       "      <td>13.85</td>\n",
       "    </tr>\n",
       "    <tr>\n",
       "      <th>2019.01.18</th>\n",
       "      <td>29.90</td>\n",
       "      <td>20.05</td>\n",
       "      <td>14.85</td>\n",
       "    </tr>\n",
       "    <tr>\n",
       "      <th>2019.02.15</th>\n",
       "      <td>35.40</td>\n",
       "      <td>22.50</td>\n",
       "      <td>16.15</td>\n",
       "    </tr>\n",
       "  </tbody>\n",
       "</table>\n",
       "</div>"
      ],
      "text/plain": [
       "             -0.5   -1.0   -1.5\n",
       "2018.12.21  23.75  16.80  13.85\n",
       "2019.01.18  29.90  20.05  14.85\n",
       "2019.02.15  35.40  22.50  16.15"
      ]
     },
     "metadata": {},
     "output_type": "display_data"
    },
    {
     "data": {
      "text/html": [
       "<div>\n",
       "<style scoped>\n",
       "    .dataframe tbody tr th:only-of-type {\n",
       "        vertical-align: middle;\n",
       "    }\n",
       "\n",
       "    .dataframe tbody tr th {\n",
       "        vertical-align: top;\n",
       "    }\n",
       "\n",
       "    .dataframe thead th {\n",
       "        text-align: right;\n",
       "    }\n",
       "</style>\n",
       "<table border=\"1\" class=\"dataframe\">\n",
       "  <thead>\n",
       "    <tr style=\"text-align: right;\">\n",
       "      <th></th>\n",
       "      <th>-0.5</th>\n",
       "      <th>-1.0</th>\n",
       "      <th>-1.5</th>\n",
       "    </tr>\n",
       "  </thead>\n",
       "  <tbody>\n",
       "    <tr>\n",
       "      <th>2018.12.21</th>\n",
       "      <td>23.2/24.3</td>\n",
       "      <td>16.3/17.3</td>\n",
       "      <td>13.5/14.2</td>\n",
       "    </tr>\n",
       "    <tr>\n",
       "      <th>2019.01.18</th>\n",
       "      <td>29.5/30.3</td>\n",
       "      <td>19.6/20.5</td>\n",
       "      <td>14.4/15.3</td>\n",
       "    </tr>\n",
       "    <tr>\n",
       "      <th>2019.02.15</th>\n",
       "      <td>35.0/35.8</td>\n",
       "      <td>22.0/23.0</td>\n",
       "      <td>15.9/16.4</td>\n",
       "    </tr>\n",
       "  </tbody>\n",
       "</table>\n",
       "</div>"
      ],
      "text/plain": [
       "                 -0.5       -1.0       -1.5\n",
       "2018.12.21  23.2/24.3  16.3/17.3  13.5/14.2\n",
       "2019.01.18  29.5/30.3  19.6/20.5  14.4/15.3\n",
       "2019.02.15  35.0/35.8  22.0/23.0  15.9/16.4"
      ]
     },
     "metadata": {},
     "output_type": "display_data"
    }
   ],
   "source": [
    "_=[display(df) for df in [trd_choice.strike_grid(), trd_choice.premium_grid(), trd_choice.prices_grid()]]"
   ]
  },
  {
   "cell_type": "code",
   "execution_count": 15,
   "metadata": {},
   "outputs": [
    {
     "data": {
      "text/html": [
       "<style  type=\"text/css\" >\n",
       "</style>  \n",
       "<table id=\"T_445e606a_f7ec_11e8_8bba_685b35921c60\" > \n",
       "<thead>    <tr> \n",
       "        <th class=\"blank level0\" ></th> \n",
       "        <th class=\"col_heading level0 col0\" >-0.5</th> \n",
       "        <th class=\"col_heading level0 col1\" >-1.0</th> \n",
       "        <th class=\"col_heading level0 col2\" >-1.5</th> \n",
       "    </tr></thead> \n",
       "<tbody>    <tr> \n",
       "        <th id=\"T_445e606a_f7ec_11e8_8bba_685b35921c60level0_row0\" class=\"row_heading level0 row0\" >2018.12.21</th> \n",
       "        <td id=\"T_445e606a_f7ec_11e8_8bba_685b35921c60row0_col0\" class=\"data row0 col0\" >-2.13%</td> \n",
       "        <td id=\"T_445e606a_f7ec_11e8_8bba_685b35921c60row0_col1\" class=\"data row0 col1\" >-3.41%</td> \n",
       "        <td id=\"T_445e606a_f7ec_11e8_8bba_685b35921c60row0_col2\" class=\"data row0 col2\" >-4.14%</td> \n",
       "    </tr>    <tr> \n",
       "        <th id=\"T_445e606a_f7ec_11e8_8bba_685b35921c60level0_row1\" class=\"row_heading level0 row1\" >2019.01.18</th> \n",
       "        <td id=\"T_445e606a_f7ec_11e8_8bba_685b35921c60row1_col0\" class=\"data row1 col0\" >-4.14%</td> \n",
       "        <td id=\"T_445e606a_f7ec_11e8_8bba_685b35921c60row1_col1\" class=\"data row1 col1\" >-6.52%</td> \n",
       "        <td id=\"T_445e606a_f7ec_11e8_8bba_685b35921c60row1_col2\" class=\"data row1 col2\" >-8.35%</td> \n",
       "    </tr>    <tr> \n",
       "        <th id=\"T_445e606a_f7ec_11e8_8bba_685b35921c60level0_row2\" class=\"row_heading level0 row2\" >2019.02.15</th> \n",
       "        <td id=\"T_445e606a_f7ec_11e8_8bba_685b35921c60row2_col0\" class=\"data row2 col0\" >-6.15%</td> \n",
       "        <td id=\"T_445e606a_f7ec_11e8_8bba_685b35921c60row2_col1\" class=\"data row2 col1\" >-9.63%</td> \n",
       "        <td id=\"T_445e606a_f7ec_11e8_8bba_685b35921c60row2_col2\" class=\"data row2 col2\" >-12.19%</td> \n",
       "    </tr></tbody> \n",
       "</table> "
      ],
      "text/plain": [
       "<pandas.io.formats.style.Styler at 0x11e2c8c88>"
      ]
     },
     "metadata": {},
     "output_type": "display_data"
    }
   ],
   "source": [
    "\n",
    "prct_decline = trd_choice.pct_otm_grid(last_price)\n",
    "format_dict = {x: '{:.2%}' for x in prct_decline.to_dict()}\n",
    "display(prct_decline.style.format(format_dict))"
   ]
  },
  {
   "cell_type": "code",
   "execution_count": 16,
   "metadata": {
    "scrolled": false
   },
   "outputs": [
    {
     "data": {
      "text/html": [
       "<style  type=\"text/css\" >\n",
       "</style>  \n",
       "<table id=\"T_4470fd56_f7ec_11e8_8bba_685b35921c60\" > \n",
       "<thead>    <tr> \n",
       "        <th class=\"blank level0\" ></th> \n",
       "        <th class=\"col_heading level0 col0\" >-0.5</th> \n",
       "        <th class=\"col_heading level0 col1\" >-1.0</th> \n",
       "        <th class=\"col_heading level0 col2\" >-1.5</th> \n",
       "    </tr></thead> \n",
       "<tbody>    <tr> \n",
       "        <th id=\"T_4470fd56_f7ec_11e8_8bba_685b35921c60level0_row0\" class=\"row_heading level0 row0\" >2018.12.21</th> \n",
       "        <td id=\"T_4470fd56_f7ec_11e8_8bba_685b35921c60row0_col0\" class=\"data row0 col0\" >$28,500</td> \n",
       "        <td id=\"T_4470fd56_f7ec_11e8_8bba_685b35921c60row0_col1\" class=\"data row0 col1\" >$21,840</td> \n",
       "        <td id=\"T_4470fd56_f7ec_11e8_8bba_685b35921c60row0_col2\" class=\"data row0 col2\" >$18,005</td> \n",
       "    </tr>    <tr> \n",
       "        <th id=\"T_4470fd56_f7ec_11e8_8bba_685b35921c60level0_row1\" class=\"row_heading level0 row1\" >2019.01.18</th> \n",
       "        <td id=\"T_4470fd56_f7ec_11e8_8bba_685b35921c60row1_col0\" class=\"data row1 col0\" >$38,870</td> \n",
       "        <td id=\"T_4470fd56_f7ec_11e8_8bba_685b35921c60row1_col1\" class=\"data row1 col1\" >$26,065</td> \n",
       "        <td id=\"T_4470fd56_f7ec_11e8_8bba_685b35921c60row1_col2\" class=\"data row1 col2\" >$19,305</td> \n",
       "    </tr>    <tr> \n",
       "        <th id=\"T_4470fd56_f7ec_11e8_8bba_685b35921c60level0_row2\" class=\"row_heading level0 row2\" >2019.02.15</th> \n",
       "        <td id=\"T_4470fd56_f7ec_11e8_8bba_685b35921c60row2_col0\" class=\"data row2 col0\" >$46,020</td> \n",
       "        <td id=\"T_4470fd56_f7ec_11e8_8bba_685b35921c60row2_col1\" class=\"data row2 col1\" >$31,500</td> \n",
       "        <td id=\"T_4470fd56_f7ec_11e8_8bba_685b35921c60row2_col2\" class=\"data row2 col2\" >$22,610</td> \n",
       "    </tr></tbody> \n",
       "</table> "
      ],
      "text/plain": [
       "<pandas.io.formats.style.Styler at 0xb1fb864a8>"
      ]
     },
     "metadata": {},
     "output_type": "display_data"
    },
    {
     "data": {
      "text/html": [
       "<style  type=\"text/css\" >\n",
       "</style>  \n",
       "<table id=\"T_44717560_f7ec_11e8_8bba_685b35921c60\" > \n",
       "<thead>    <tr> \n",
       "        <th class=\"blank level0\" ></th> \n",
       "        <th class=\"col_heading level0 col0\" >-0.5</th> \n",
       "        <th class=\"col_heading level0 col1\" >-1.0</th> \n",
       "        <th class=\"col_heading level0 col2\" >-1.5</th> \n",
       "    </tr></thead> \n",
       "<tbody>    <tr> \n",
       "        <th id=\"T_44717560_f7ec_11e8_8bba_685b35921c60level0_row0\" class=\"row_heading level0 row0\" >2018.12.21</th> \n",
       "        <td id=\"T_44717560_f7ec_11e8_8bba_685b35921c60row0_col0\" class=\"data row0 col0\" >$59,375</td> \n",
       "        <td id=\"T_44717560_f7ec_11e8_8bba_685b35921c60row0_col1\" class=\"data row0 col1\" >$42,000</td> \n",
       "        <td id=\"T_44717560_f7ec_11e8_8bba_685b35921c60row0_col2\" class=\"data row0 col2\" >$34,625</td> \n",
       "    </tr>    <tr> \n",
       "        <th id=\"T_44717560_f7ec_11e8_8bba_685b35921c60level0_row1\" class=\"row_heading level0 row1\" >2019.01.18</th> \n",
       "        <td id=\"T_44717560_f7ec_11e8_8bba_685b35921c60row1_col0\" class=\"data row1 col0\" >$77,740</td> \n",
       "        <td id=\"T_44717560_f7ec_11e8_8bba_685b35921c60row1_col1\" class=\"data row1 col1\" >$52,130</td> \n",
       "        <td id=\"T_44717560_f7ec_11e8_8bba_685b35921c60row1_col2\" class=\"data row1 col2\" >$40,095</td> \n",
       "    </tr>    <tr> \n",
       "        <th id=\"T_44717560_f7ec_11e8_8bba_685b35921c60level0_row2\" class=\"row_heading level0 row2\" >2019.02.15</th> \n",
       "        <td id=\"T_44717560_f7ec_11e8_8bba_685b35921c60row2_col0\" class=\"data row2 col0\" >$92,040</td> \n",
       "        <td id=\"T_44717560_f7ec_11e8_8bba_685b35921c60row2_col1\" class=\"data row2 col1\" >$60,750</td> \n",
       "        <td id=\"T_44717560_f7ec_11e8_8bba_685b35921c60row2_col2\" class=\"data row2 col2\" >$45,220</td> \n",
       "    </tr></tbody> \n",
       "</table> "
      ],
      "text/plain": [
       "<pandas.io.formats.style.Styler at 0xb1fb865c0>"
      ]
     },
     "metadata": {},
     "output_type": "display_data"
    }
   ],
   "source": [
    "capital_at_risk = float(trd_choice.account_value[0].value) + illiquid_equity\n",
    "premium_list = []\n",
    "premium_list =  [(trd_choice.premium_grid() * contractTable.round() * 100) \\\n",
    "                 for contractTable in trd_choice.option_lots(leverage, capital_at_risk)]\n",
    "\n",
    "_ = [display(df.style.format('${:,.0f}')) for df in premium_list]  "
   ]
  },
  {
   "cell_type": "code",
   "execution_count": 17,
   "metadata": {},
   "outputs": [
    {
     "data": {
      "text/html": [
       "<style  type=\"text/css\" >\n",
       "</style>  \n",
       "<table id=\"T_44c35aec_f7ec_11e8_8bba_685b35921c60\" > \n",
       "<thead>    <tr> \n",
       "        <th class=\"blank level0\" ></th> \n",
       "        <th class=\"col_heading level0 col0\" >-0.5</th> \n",
       "        <th class=\"col_heading level0 col1\" >-1.0</th> \n",
       "        <th class=\"col_heading level0 col2\" >-1.5</th> \n",
       "    </tr></thead> \n",
       "<tbody>    <tr> \n",
       "        <th id=\"T_44c35aec_f7ec_11e8_8bba_685b35921c60level0_row0\" class=\"row_heading level0 row0\" >2018.12.21</th> \n",
       "        <td id=\"T_44c35aec_f7ec_11e8_8bba_685b35921c60row0_col0\" class=\"data row0 col0\" >0.87%</td> \n",
       "        <td id=\"T_44c35aec_f7ec_11e8_8bba_685b35921c60row0_col1\" class=\"data row0 col1\" >0.61%</td> \n",
       "        <td id=\"T_44c35aec_f7ec_11e8_8bba_685b35921c60row0_col2\" class=\"data row0 col2\" >0.51%</td> \n",
       "    </tr>    <tr> \n",
       "        <th id=\"T_44c35aec_f7ec_11e8_8bba_685b35921c60level0_row1\" class=\"row_heading level0 row1\" >2019.01.18</th> \n",
       "        <td id=\"T_44c35aec_f7ec_11e8_8bba_685b35921c60row1_col0\" class=\"data row1 col0\" >1.09%</td> \n",
       "        <td id=\"T_44c35aec_f7ec_11e8_8bba_685b35921c60row1_col1\" class=\"data row1 col1\" >0.73%</td> \n",
       "        <td id=\"T_44c35aec_f7ec_11e8_8bba_685b35921c60row1_col2\" class=\"data row1 col2\" >0.54%</td> \n",
       "    </tr>    <tr> \n",
       "        <th id=\"T_44c35aec_f7ec_11e8_8bba_685b35921c60level0_row2\" class=\"row_heading level0 row2\" >2019.02.15</th> \n",
       "        <td id=\"T_44c35aec_f7ec_11e8_8bba_685b35921c60row2_col0\" class=\"data row2 col0\" >1.30%</td> \n",
       "        <td id=\"T_44c35aec_f7ec_11e8_8bba_685b35921c60row2_col1\" class=\"data row2 col1\" >0.82%</td> \n",
       "        <td id=\"T_44c35aec_f7ec_11e8_8bba_685b35921c60row2_col2\" class=\"data row2 col2\" >0.59%</td> \n",
       "    </tr></tbody> \n",
       "</table> "
      ],
      "text/plain": [
       "<pandas.io.formats.style.Styler at 0xb1fb7fba8>"
      ]
     },
     "metadata": {},
     "output_type": "display_data"
    },
    {
     "data": {
      "text/html": [
       "<style  type=\"text/css\" >\n",
       "</style>  \n",
       "<table id=\"T_44c3e098_f7ec_11e8_8bba_685b35921c60\" > \n",
       "<thead>    <tr> \n",
       "        <th class=\"blank level0\" ></th> \n",
       "        <th class=\"col_heading level0 col0\" >-0.5</th> \n",
       "        <th class=\"col_heading level0 col1\" >-1.0</th> \n",
       "        <th class=\"col_heading level0 col2\" >-1.5</th> \n",
       "    </tr></thead> \n",
       "<tbody>    <tr> \n",
       "        <th id=\"T_44c3e098_f7ec_11e8_8bba_685b35921c60level0_row0\" class=\"row_heading level0 row0\" >2018.12.21</th> \n",
       "        <td id=\"T_44c3e098_f7ec_11e8_8bba_685b35921c60row0_col0\" class=\"data row0 col0\" >1.74%</td> \n",
       "        <td id=\"T_44c3e098_f7ec_11e8_8bba_685b35921c60row0_col1\" class=\"data row0 col1\" >1.23%</td> \n",
       "        <td id=\"T_44c3e098_f7ec_11e8_8bba_685b35921c60row0_col2\" class=\"data row0 col2\" >1.01%</td> \n",
       "    </tr>    <tr> \n",
       "        <th id=\"T_44c3e098_f7ec_11e8_8bba_685b35921c60level0_row1\" class=\"row_heading level0 row1\" >2019.01.18</th> \n",
       "        <td id=\"T_44c3e098_f7ec_11e8_8bba_685b35921c60row1_col0\" class=\"data row1 col0\" >2.19%</td> \n",
       "        <td id=\"T_44c3e098_f7ec_11e8_8bba_685b35921c60row1_col1\" class=\"data row1 col1\" >1.47%</td> \n",
       "        <td id=\"T_44c3e098_f7ec_11e8_8bba_685b35921c60row1_col2\" class=\"data row1 col2\" >1.09%</td> \n",
       "    </tr>    <tr> \n",
       "        <th id=\"T_44c3e098_f7ec_11e8_8bba_685b35921c60level0_row2\" class=\"row_heading level0 row2\" >2019.02.15</th> \n",
       "        <td id=\"T_44c3e098_f7ec_11e8_8bba_685b35921c60row2_col0\" class=\"data row2 col0\" >2.59%</td> \n",
       "        <td id=\"T_44c3e098_f7ec_11e8_8bba_685b35921c60row2_col1\" class=\"data row2 col1\" >1.65%</td> \n",
       "        <td id=\"T_44c3e098_f7ec_11e8_8bba_685b35921c60row2_col2\" class=\"data row2 col2\" >1.18%</td> \n",
       "    </tr></tbody> \n",
       "</table> "
      ],
      "text/plain": [
       "<pandas.io.formats.style.Styler at 0xb1fb861d0>"
      ]
     },
     "metadata": {},
     "output_type": "display_data"
    }
   ],
   "source": [
    "premium_list_pct = []\n",
    "premium_list_pct = [(trd_choice.premium_grid() * lev) / last_price for lev in leverage]\n",
    "_ = [display(df.style.format('{:.2%}')) for df in premium_list_pct]  "
   ]
  },
  {
   "cell_type": "code",
   "execution_count": 18,
   "metadata": {},
   "outputs": [
    {
     "data": {
      "text/html": [
       "<style  type=\"text/css\" >\n",
       "</style>  \n",
       "<table id=\"T_45248c18_f7ec_11e8_8bba_685b35921c60\" > \n",
       "<thead>    <tr> \n",
       "        <th class=\"blank level0\" ></th> \n",
       "        <th class=\"col_heading level0 col0\" >-0.5</th> \n",
       "        <th class=\"col_heading level0 col1\" >-1.0</th> \n",
       "        <th class=\"col_heading level0 col2\" >-1.5</th> \n",
       "    </tr>    <tr> \n",
       "        <th class=\"index_name level0\" >Lev 1</th> \n",
       "        <th class=\"blank\" ></th> \n",
       "        <th class=\"blank\" ></th> \n",
       "        <th class=\"blank\" ></th> \n",
       "    </tr></thead> \n",
       "<tbody>    <tr> \n",
       "        <th id=\"T_45248c18_f7ec_11e8_8bba_685b35921c60level0_row0\" class=\"row_heading level0 row0\" >2018.12.21</th> \n",
       "        <td id=\"T_45248c18_f7ec_11e8_8bba_685b35921c60row0_col0\" class=\"data row0 col0\" >12</td> \n",
       "        <td id=\"T_45248c18_f7ec_11e8_8bba_685b35921c60row0_col1\" class=\"data row0 col1\" >13</td> \n",
       "        <td id=\"T_45248c18_f7ec_11e8_8bba_685b35921c60row0_col2\" class=\"data row0 col2\" >13</td> \n",
       "    </tr>    <tr> \n",
       "        <th id=\"T_45248c18_f7ec_11e8_8bba_685b35921c60level0_row1\" class=\"row_heading level0 row1\" >2019.01.18</th> \n",
       "        <td id=\"T_45248c18_f7ec_11e8_8bba_685b35921c60row1_col0\" class=\"data row1 col0\" >13</td> \n",
       "        <td id=\"T_45248c18_f7ec_11e8_8bba_685b35921c60row1_col1\" class=\"data row1 col1\" >13</td> \n",
       "        <td id=\"T_45248c18_f7ec_11e8_8bba_685b35921c60row1_col2\" class=\"data row1 col2\" >13</td> \n",
       "    </tr>    <tr> \n",
       "        <th id=\"T_45248c18_f7ec_11e8_8bba_685b35921c60level0_row2\" class=\"row_heading level0 row2\" >2019.02.15</th> \n",
       "        <td id=\"T_45248c18_f7ec_11e8_8bba_685b35921c60row2_col0\" class=\"data row2 col0\" >13</td> \n",
       "        <td id=\"T_45248c18_f7ec_11e8_8bba_685b35921c60row2_col1\" class=\"data row2 col1\" >14</td> \n",
       "        <td id=\"T_45248c18_f7ec_11e8_8bba_685b35921c60row2_col2\" class=\"data row2 col2\" >14</td> \n",
       "    </tr></tbody> \n",
       "</table> "
      ],
      "text/plain": [
       "<pandas.io.formats.style.Styler at 0xb1fb7fb38>"
      ]
     },
     "metadata": {},
     "output_type": "display_data"
    },
    {
     "data": {
      "text/html": [
       "<style  type=\"text/css\" >\n",
       "</style>  \n",
       "<table id=\"T_4525330c_f7ec_11e8_8bba_685b35921c60\" > \n",
       "<thead>    <tr> \n",
       "        <th class=\"blank level0\" ></th> \n",
       "        <th class=\"col_heading level0 col0\" >-0.5</th> \n",
       "        <th class=\"col_heading level0 col1\" >-1.0</th> \n",
       "        <th class=\"col_heading level0 col2\" >-1.5</th> \n",
       "    </tr>    <tr> \n",
       "        <th class=\"index_name level0\" >Lev 2</th> \n",
       "        <th class=\"blank\" ></th> \n",
       "        <th class=\"blank\" ></th> \n",
       "        <th class=\"blank\" ></th> \n",
       "    </tr></thead> \n",
       "<tbody>    <tr> \n",
       "        <th id=\"T_4525330c_f7ec_11e8_8bba_685b35921c60level0_row0\" class=\"row_heading level0 row0\" >2018.12.21</th> \n",
       "        <td id=\"T_4525330c_f7ec_11e8_8bba_685b35921c60row0_col0\" class=\"data row0 col0\" >25</td> \n",
       "        <td id=\"T_4525330c_f7ec_11e8_8bba_685b35921c60row0_col1\" class=\"data row0 col1\" >25</td> \n",
       "        <td id=\"T_4525330c_f7ec_11e8_8bba_685b35921c60row0_col2\" class=\"data row0 col2\" >25</td> \n",
       "    </tr>    <tr> \n",
       "        <th id=\"T_4525330c_f7ec_11e8_8bba_685b35921c60level0_row1\" class=\"row_heading level0 row1\" >2019.01.18</th> \n",
       "        <td id=\"T_4525330c_f7ec_11e8_8bba_685b35921c60row1_col0\" class=\"data row1 col0\" >26</td> \n",
       "        <td id=\"T_4525330c_f7ec_11e8_8bba_685b35921c60row1_col1\" class=\"data row1 col1\" >26</td> \n",
       "        <td id=\"T_4525330c_f7ec_11e8_8bba_685b35921c60row1_col2\" class=\"data row1 col2\" >27</td> \n",
       "    </tr>    <tr> \n",
       "        <th id=\"T_4525330c_f7ec_11e8_8bba_685b35921c60level0_row2\" class=\"row_heading level0 row2\" >2019.02.15</th> \n",
       "        <td id=\"T_4525330c_f7ec_11e8_8bba_685b35921c60row2_col0\" class=\"data row2 col0\" >26</td> \n",
       "        <td id=\"T_4525330c_f7ec_11e8_8bba_685b35921c60row2_col1\" class=\"data row2 col1\" >27</td> \n",
       "        <td id=\"T_4525330c_f7ec_11e8_8bba_685b35921c60row2_col2\" class=\"data row2 col2\" >28</td> \n",
       "    </tr></tbody> \n",
       "</table> "
      ],
      "text/plain": [
       "<pandas.io.formats.style.Styler at 0xb1fc1c1d0>"
      ]
     },
     "metadata": {},
     "output_type": "display_data"
    }
   ],
   "source": [
    "\n",
    "_ = [display(contractTable.round().style.format('{:.0f}')) for \\\n",
    "     contractTable in trd_choice.option_lots(leverage, capital_at_risk)]\n",
    "    "
   ]
  },
  {
   "cell_type": "code",
   "execution_count": 19,
   "metadata": {},
   "outputs": [
    {
     "data": {
      "text/html": [
       "<style  type=\"text/css\" >\n",
       "</style>  \n",
       "<table id=\"T_456b7e5c_f7ec_11e8_8bba_685b35921c60\" > \n",
       "<thead>    <tr> \n",
       "        <th class=\"blank level0\" ></th> \n",
       "        <th class=\"col_heading level0 col0\" >-0.5</th> \n",
       "        <th class=\"col_heading level0 col1\" >-1.0</th> \n",
       "        <th class=\"col_heading level0 col2\" >-1.5</th> \n",
       "    </tr></thead> \n",
       "<tbody>    <tr> \n",
       "        <th id=\"T_456b7e5c_f7ec_11e8_8bba_685b35921c60level0_row0\" class=\"row_heading level0 row0\" >2018.12.21</th> \n",
       "        <td id=\"T_456b7e5c_f7ec_11e8_8bba_685b35921c60row0_col0\" class=\"data row0 col0\" >$614,686</td> \n",
       "        <td id=\"T_456b7e5c_f7ec_11e8_8bba_685b35921c60row0_col1\" class=\"data row0 col1\" >$611,374</td> \n",
       "        <td id=\"T_456b7e5c_f7ec_11e8_8bba_685b35921c60row0_col2\" class=\"data row0 col2\" >$581,539</td> \n",
       "    </tr>    <tr> \n",
       "        <th id=\"T_456b7e5c_f7ec_11e8_8bba_685b35921c60level0_row1\" class=\"row_heading level0 row1\" >2019.01.18</th> \n",
       "        <td id=\"T_456b7e5c_f7ec_11e8_8bba_685b35921c60row1_col0\" class=\"data row1 col0\" >$602,404</td> \n",
       "        <td id=\"T_456b7e5c_f7ec_11e8_8bba_685b35921c60row1_col1\" class=\"data row1 col1\" >$505,099</td> \n",
       "        <td id=\"T_456b7e5c_f7ec_11e8_8bba_685b35921c60row1_col2\" class=\"data row1 col2\" >$433,339</td> \n",
       "    </tr>    <tr> \n",
       "        <th id=\"T_456b7e5c_f7ec_11e8_8bba_685b35921c60level0_row2\" class=\"row_heading level0 row2\" >2019.02.15</th> \n",
       "        <td id=\"T_456b7e5c_f7ec_11e8_8bba_685b35921c60row2_col0\" class=\"data row2 col0\" >$538,054</td> \n",
       "        <td id=\"T_456b7e5c_f7ec_11e8_8bba_685b35921c60row2_col1\" class=\"data row2 col1\" >$428,383</td> \n",
       "        <td id=\"T_456b7e5c_f7ec_11e8_8bba_685b35921c60row2_col2\" class=\"data row2 col2\" >$358,610</td> \n",
       "    </tr></tbody> \n",
       "</table> "
      ],
      "text/plain": [
       "<pandas.io.formats.style.Styler at 0xb1fc1c358>"
      ]
     },
     "metadata": {},
     "output_type": "display_data"
    },
    {
     "data": {
      "text/html": [
       "<style  type=\"text/css\" >\n",
       "</style>  \n",
       "<table id=\"T_456bd104_f7ec_11e8_8bba_685b35921c60\" > \n",
       "<thead>    <tr> \n",
       "        <th class=\"blank level0\" ></th> \n",
       "        <th class=\"col_heading level0 col0\" >-0.5</th> \n",
       "        <th class=\"col_heading level0 col1\" >-1.0</th> \n",
       "        <th class=\"col_heading level0 col2\" >-1.5</th> \n",
       "    </tr></thead> \n",
       "<tbody>    <tr> \n",
       "        <th id=\"T_456bd104_f7ec_11e8_8bba_685b35921c60level0_row0\" class=\"row_heading level0 row0\" >2018.12.21</th> \n",
       "        <td id=\"T_456bd104_f7ec_11e8_8bba_685b35921c60row0_col0\" class=\"data row0 col0\" >$1,280,595</td> \n",
       "        <td id=\"T_456bd104_f7ec_11e8_8bba_685b35921c60row0_col1\" class=\"data row0 col1\" >$1,175,720</td> \n",
       "        <td id=\"T_456bd104_f7ec_11e8_8bba_685b35921c60row0_col2\" class=\"data row0 col2\" >$1,118,345</td> \n",
       "    </tr>    <tr> \n",
       "        <th id=\"T_456bd104_f7ec_11e8_8bba_685b35921c60level0_row1\" class=\"row_heading level0 row1\" >2019.01.18</th> \n",
       "        <td id=\"T_456bd104_f7ec_11e8_8bba_685b35921c60row1_col0\" class=\"data row1 col0\" >$1,204,809</td> \n",
       "        <td id=\"T_456bd104_f7ec_11e8_8bba_685b35921c60row1_col1\" class=\"data row1 col1\" >$1,010,199</td> \n",
       "        <td id=\"T_456bd104_f7ec_11e8_8bba_685b35921c60row1_col2\" class=\"data row1 col2\" >$900,013</td> \n",
       "    </tr>    <tr> \n",
       "        <th id=\"T_456bd104_f7ec_11e8_8bba_685b35921c60level0_row2\" class=\"row_heading level0 row2\" >2019.02.15</th> \n",
       "        <td id=\"T_456bd104_f7ec_11e8_8bba_685b35921c60row2_col0\" class=\"data row2 col0\" >$1,076,109</td> \n",
       "        <td id=\"T_456bd104_f7ec_11e8_8bba_685b35921c60row2_col1\" class=\"data row2 col1\" >$826,168</td> \n",
       "        <td id=\"T_456bd104_f7ec_11e8_8bba_685b35921c60row2_col2\" class=\"data row2 col2\" >$717,220</td> \n",
       "    </tr></tbody> \n",
       "</table> "
      ],
      "text/plain": [
       "<pandas.io.formats.style.Styler at 0xb1f6b8160>"
      ]
     },
     "metadata": {},
     "output_type": "display_data"
    }
   ],
   "source": [
    "margin_dlr = [trd_choice.margin(last_price) * df for df in trd_choice.option_lots(leverage, capital_at_risk)]\n",
    "_ = [display(df.style.format('${:,.0f}')) for df in margin_dlr]  "
   ]
  },
  {
   "cell_type": "code",
   "execution_count": 20,
   "metadata": {},
   "outputs": [
    {
     "data": {
      "text/html": [
       "<style  type=\"text/css\" >\n",
       "</style>  \n",
       "<table id=\"T_45cc0c0e_f7ec_11e8_8bba_685b35921c60\" > \n",
       "<thead>    <tr> \n",
       "        <th class=\"blank level0\" ></th> \n",
       "        <th class=\"col_heading level0 col0\" >-0.5</th> \n",
       "        <th class=\"col_heading level0 col1\" >-1.0</th> \n",
       "        <th class=\"col_heading level0 col2\" >-1.5</th> \n",
       "    </tr>    <tr> \n",
       "        <th class=\"index_name level0\" >Lev 2</th> \n",
       "        <th class=\"blank\" ></th> \n",
       "        <th class=\"blank\" ></th> \n",
       "        <th class=\"blank\" ></th> \n",
       "    </tr></thead> \n",
       "<tbody>    <tr> \n",
       "        <th id=\"T_45cc0c0e_f7ec_11e8_8bba_685b35921c60level0_row0\" class=\"row_heading level0 row0\" >2018.12.21</th> \n",
       "        <td id=\"T_45cc0c0e_f7ec_11e8_8bba_685b35921c60row0_col0\" class=\"data row0 col0\" >$1,280,595</td> \n",
       "        <td id=\"T_45cc0c0e_f7ec_11e8_8bba_685b35921c60row0_col1\" class=\"data row0 col1\" >$1,175,720</td> \n",
       "        <td id=\"T_45cc0c0e_f7ec_11e8_8bba_685b35921c60row0_col2\" class=\"data row0 col2\" >$1,118,345</td> \n",
       "    </tr>    <tr> \n",
       "        <th id=\"T_45cc0c0e_f7ec_11e8_8bba_685b35921c60level0_row1\" class=\"row_heading level0 row1\" >2019.01.18</th> \n",
       "        <td id=\"T_45cc0c0e_f7ec_11e8_8bba_685b35921c60row1_col0\" class=\"data row1 col0\" >$1,204,809</td> \n",
       "        <td id=\"T_45cc0c0e_f7ec_11e8_8bba_685b35921c60row1_col1\" class=\"data row1 col1\" >$1,010,199</td> \n",
       "        <td id=\"T_45cc0c0e_f7ec_11e8_8bba_685b35921c60row1_col2\" class=\"data row1 col2\" >$900,013</td> \n",
       "    </tr>    <tr> \n",
       "        <th id=\"T_45cc0c0e_f7ec_11e8_8bba_685b35921c60level0_row2\" class=\"row_heading level0 row2\" >2019.02.15</th> \n",
       "        <td id=\"T_45cc0c0e_f7ec_11e8_8bba_685b35921c60row2_col0\" class=\"data row2 col0\" >$1,076,109</td> \n",
       "        <td id=\"T_45cc0c0e_f7ec_11e8_8bba_685b35921c60row2_col1\" class=\"data row2 col1\" >$826,168</td> \n",
       "        <td id=\"T_45cc0c0e_f7ec_11e8_8bba_685b35921c60row2_col2\" class=\"data row2 col2\" >$717,220</td> \n",
       "    </tr></tbody> \n",
       "</table> "
      ],
      "text/plain": [
       "<pandas.io.formats.style.Styler at 0xb1fbd5160>"
      ]
     },
     "metadata": {},
     "output_type": "display_data"
    }
   ],
   "source": [
    "marge = trd_choice.margin(trd_choice.spot)\n",
    "lots = trd_choice.option_lots([2], capital_at_risk)\n",
    "margin = lots[0] * marge\n",
    "display(margin.style.format('${:,.0f}'))"
   ]
  },
  {
   "cell_type": "code",
   "execution_count": 21,
   "metadata": {},
   "outputs": [
    {
     "data": {
      "text/html": [
       "<style  type=\"text/css\" >\n",
       "</style>  \n",
       "<table id=\"T_4627e3bc_f7ec_11e8_8bba_685b35921c60\" > \n",
       "<thead>    <tr> \n",
       "        <th class=\"blank level0\" ></th> \n",
       "        <th class=\"col_heading level0 col0\" >-0.5</th> \n",
       "        <th class=\"col_heading level0 col1\" >-1.0</th> \n",
       "        <th class=\"col_heading level0 col2\" >-1.5</th> \n",
       "    </tr>    <tr> \n",
       "        <th class=\"index_name level0\" >Lev 1</th> \n",
       "        <th class=\"blank\" ></th> \n",
       "        <th class=\"blank\" ></th> \n",
       "        <th class=\"blank\" ></th> \n",
       "    </tr></thead> \n",
       "<tbody>    <tr> \n",
       "        <th id=\"T_4627e3bc_f7ec_11e8_8bba_685b35921c60level0_row0\" class=\"row_heading level0 row0\" >2018.12.21</th> \n",
       "        <td id=\"T_4627e3bc_f7ec_11e8_8bba_685b35921c60row0_col0\" class=\"data row0 col0\" >$3,210,000</td> \n",
       "        <td id=\"T_4627e3bc_f7ec_11e8_8bba_685b35921c60row0_col1\" class=\"data row0 col1\" >$3,432,000</td> \n",
       "        <td id=\"T_4627e3bc_f7ec_11e8_8bba_685b35921c60row0_col2\" class=\"data row0 col2\" >$3,406,000</td> \n",
       "    </tr>    <tr> \n",
       "        <th id=\"T_4627e3bc_f7ec_11e8_8bba_685b35921c60level0_row1\" class=\"row_heading level0 row1\" >2019.01.18</th> \n",
       "        <td id=\"T_4627e3bc_f7ec_11e8_8bba_685b35921c60row1_col0\" class=\"data row1 col0\" >$3,406,000</td> \n",
       "        <td id=\"T_4627e3bc_f7ec_11e8_8bba_685b35921c60row1_col1\" class=\"data row1 col1\" >$3,321,500</td> \n",
       "        <td id=\"T_4627e3bc_f7ec_11e8_8bba_685b35921c60row1_col2\" class=\"data row1 col2\" >$3,256,500</td> \n",
       "    </tr>    <tr> \n",
       "        <th id=\"T_4627e3bc_f7ec_11e8_8bba_685b35921c60level0_row2\" class=\"row_heading level0 row2\" >2019.02.15</th> \n",
       "        <td id=\"T_4627e3bc_f7ec_11e8_8bba_685b35921c60row2_col0\" class=\"data row2 col0\" >$3,334,500</td> \n",
       "        <td id=\"T_4627e3bc_f7ec_11e8_8bba_685b35921c60row2_col1\" class=\"data row2 col1\" >$3,458,000</td> \n",
       "        <td id=\"T_4627e3bc_f7ec_11e8_8bba_685b35921c60row2_col2\" class=\"data row2 col2\" >$3,360,000</td> \n",
       "    </tr></tbody> \n",
       "</table> "
      ],
      "text/plain": [
       "<pandas.io.formats.style.Styler at 0xb1fbd5550>"
      ]
     },
     "metadata": {},
     "output_type": "display_data"
    },
    {
     "data": {
      "text/html": [
       "<style  type=\"text/css\" >\n",
       "</style>  \n",
       "<table id=\"T_46284bae_f7ec_11e8_8bba_685b35921c60\" > \n",
       "<thead>    <tr> \n",
       "        <th class=\"blank level0\" ></th> \n",
       "        <th class=\"col_heading level0 col0\" >-0.5</th> \n",
       "        <th class=\"col_heading level0 col1\" >-1.0</th> \n",
       "        <th class=\"col_heading level0 col2\" >-1.5</th> \n",
       "    </tr>    <tr> \n",
       "        <th class=\"index_name level0\" >Lev 2</th> \n",
       "        <th class=\"blank\" ></th> \n",
       "        <th class=\"blank\" ></th> \n",
       "        <th class=\"blank\" ></th> \n",
       "    </tr></thead> \n",
       "<tbody>    <tr> \n",
       "        <th id=\"T_46284bae_f7ec_11e8_8bba_685b35921c60level0_row0\" class=\"row_heading level0 row0\" >2018.12.21</th> \n",
       "        <td id=\"T_46284bae_f7ec_11e8_8bba_685b35921c60row0_col0\" class=\"data row0 col0\" >$6,687,500</td> \n",
       "        <td id=\"T_46284bae_f7ec_11e8_8bba_685b35921c60row0_col1\" class=\"data row0 col1\" >$6,600,000</td> \n",
       "        <td id=\"T_46284bae_f7ec_11e8_8bba_685b35921c60row0_col2\" class=\"data row0 col2\" >$6,550,000</td> \n",
       "    </tr>    <tr> \n",
       "        <th id=\"T_46284bae_f7ec_11e8_8bba_685b35921c60level0_row1\" class=\"row_heading level0 row1\" >2019.01.18</th> \n",
       "        <td id=\"T_46284bae_f7ec_11e8_8bba_685b35921c60row1_col0\" class=\"data row1 col0\" >$6,812,000</td> \n",
       "        <td id=\"T_46284bae_f7ec_11e8_8bba_685b35921c60row1_col1\" class=\"data row1 col1\" >$6,643,000</td> \n",
       "        <td id=\"T_46284bae_f7ec_11e8_8bba_685b35921c60row1_col2\" class=\"data row1 col2\" >$6,763,500</td> \n",
       "    </tr>    <tr> \n",
       "        <th id=\"T_46284bae_f7ec_11e8_8bba_685b35921c60level0_row2\" class=\"row_heading level0 row2\" >2019.02.15</th> \n",
       "        <td id=\"T_46284bae_f7ec_11e8_8bba_685b35921c60row2_col0\" class=\"data row2 col0\" >$6,669,000</td> \n",
       "        <td id=\"T_46284bae_f7ec_11e8_8bba_685b35921c60row2_col1\" class=\"data row2 col1\" >$6,669,000</td> \n",
       "        <td id=\"T_46284bae_f7ec_11e8_8bba_685b35921c60row2_col2\" class=\"data row2 col2\" >$6,720,000</td> \n",
       "    </tr></tbody> \n",
       "</table> "
      ],
      "text/plain": [
       "<pandas.io.formats.style.Styler at 0x1096817b8>"
      ]
     },
     "metadata": {},
     "output_type": "display_data"
    }
   ],
   "source": [
    "notional_dlr=[df * trd_choice.strike_grid() * 100 for df in trd_choice.option_lots(leverage, capital_at_risk)]\n",
    "_ = [display(df.style.format('${:,.0f}')) for df in notional_dlr]  "
   ]
  },
  {
   "cell_type": "code",
   "execution_count": null,
   "metadata": {},
   "outputs": [],
   "source": [
    "capital_at_risk"
   ]
  },
  {
   "cell_type": "code",
   "execution_count": null,
   "metadata": {},
   "outputs": [],
   "source": []
  }
 ],
 "metadata": {
  "kernelspec": {
   "display_name": "Python 3",
   "language": "python",
   "name": "python3"
  },
  "language_info": {
   "codemirror_mode": {
    "name": "ipython",
    "version": 3
   },
   "file_extension": ".py",
   "mimetype": "text/x-python",
   "name": "python",
   "nbconvert_exporter": "python",
   "pygments_lexer": "ipython3",
   "version": "3.7.0"
  }
 },
 "nbformat": 4,
 "nbformat_minor": 2
}
